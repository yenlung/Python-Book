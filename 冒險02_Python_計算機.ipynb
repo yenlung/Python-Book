{
  "cells": [
    {
      "cell_type": "markdown",
      "metadata": {
        "id": "view-in-github",
        "colab_type": "text"
      },
      "source": [
        "<a href=\"https://colab.research.google.com/github/yenlung/Python-Book/blob/master/%E5%86%92%E9%9A%AA02_Python_%E8%A8%88%E7%AE%97%E6%A9%9F.ipynb\" target=\"_parent\"><img src=\"https://colab.research.google.com/assets/colab-badge.svg\" alt=\"Open In Colab\"/></a>"
      ]
    },
    {
      "cell_type": "markdown",
      "metadata": {
        "id": "fJPmPCPe2xbk"
      },
      "source": [
        "在 Colab (或 Jupyter Notebook) 下, 我們要執行一個指令, 就是用 `shift-enter`。當然在 Colab 中按儲存格前面 `play` 的按鍵執行也是可以的。\n",
        "\n",
        "現在我們先把 Colab 當計算機使用, 首先, 來算個最簡單的。"
      ]
    },
    {
      "cell_type": "code",
      "execution_count": 1,
      "metadata": {
        "id": "Vb-NAZEA2xbn",
        "outputId": "e1c0c0e8-ac24-40ca-fb82-c91c4df4d1b3",
        "colab": {
          "base_uri": "https://localhost:8080/"
        }
      },
      "outputs": [
        {
          "output_type": "execute_result",
          "data": {
            "text/plain": [
              "25"
            ]
          },
          "metadata": {},
          "execution_count": 1
        }
      ],
      "source": [
        "1 + 3*8"
      ]
    },
    {
      "cell_type": "markdown",
      "metadata": {
        "id": "L_OSFI0x2xbp"
      },
      "source": [
        "我對 Python 最不滿的次方, 比如 $2^3$ 是這樣打:\n",
        "\n",
        "```python\n",
        "2**3\n",
        "```"
      ]
    },
    {
      "cell_type": "code",
      "execution_count": 2,
      "metadata": {
        "id": "y3doB3z62xbp",
        "outputId": "da999e51-84eb-42f7-f239-abe60e836bee",
        "colab": {
          "base_uri": "https://localhost:8080/"
        }
      },
      "outputs": [
        {
          "output_type": "execute_result",
          "data": {
            "text/plain": [
              "8"
            ]
          },
          "metadata": {},
          "execution_count": 2
        }
      ],
      "source": [
        "2**3"
      ]
    },
    {
      "cell_type": "markdown",
      "metadata": {
        "id": "q89D0cV52xbp"
      },
      "source": [
        "除法在 Python 3 變成「正確」的。"
      ]
    },
    {
      "cell_type": "code",
      "execution_count": 3,
      "metadata": {
        "id": "pLmNXbCk2xbq",
        "outputId": "54b14a3e-db45-490e-dce2-13364dad205f",
        "colab": {
          "base_uri": "https://localhost:8080/"
        }
      },
      "outputs": [
        {
          "output_type": "execute_result",
          "data": {
            "text/plain": [
              "2.3333333333333335"
            ]
          },
          "metadata": {},
          "execution_count": 3
        }
      ],
      "source": [
        "7/3"
      ]
    },
    {
      "cell_type": "markdown",
      "metadata": {
        "id": "S9DiG_od2xbq"
      },
      "source": [
        "以前「正常」程式語言的整數除法。"
      ]
    },
    {
      "cell_type": "code",
      "execution_count": 4,
      "metadata": {
        "id": "ZyI8my8a2xbq",
        "outputId": "efd735ad-78d6-44a8-d738-b0d1c0088733",
        "colab": {
          "base_uri": "https://localhost:8080/"
        }
      },
      "outputs": [
        {
          "output_type": "execute_result",
          "data": {
            "text/plain": [
              "2"
            ]
          },
          "metadata": {},
          "execution_count": 4
        }
      ],
      "source": [
        "7//3"
      ]
    },
    {
      "cell_type": "markdown",
      "metadata": {
        "id": "AU4bbaQu2xbq"
      },
      "source": [
        "餘數是用 `%`。"
      ]
    },
    {
      "cell_type": "code",
      "execution_count": 5,
      "metadata": {
        "id": "i1J3XxiV2xbr",
        "outputId": "3dcc28da-d032-4745-842e-bc02e628c6f5",
        "colab": {
          "base_uri": "https://localhost:8080/"
        }
      },
      "outputs": [
        {
          "output_type": "execute_result",
          "data": {
            "text/plain": [
              "1"
            ]
          },
          "metadata": {},
          "execution_count": 5
        }
      ],
      "source": [
        "7 % 2"
      ]
    },
    {
      "cell_type": "markdown",
      "metadata": {
        "id": "eD7R3U_t2xbr"
      },
      "source": [
        "複雜的計算可以用括號, 記得程式語言永遠是小括號。"
      ]
    },
    {
      "cell_type": "code",
      "execution_count": 6,
      "metadata": {
        "id": "-V0xOv352xbr",
        "outputId": "9301f9a5-28fd-4b08-869e-bbc867ca4f31",
        "colab": {
          "base_uri": "https://localhost:8080/"
        }
      },
      "outputs": [
        {
          "output_type": "execute_result",
          "data": {
            "text/plain": [
              "12.96"
            ]
          },
          "metadata": {},
          "execution_count": 6
        }
      ],
      "source": [
        "(1+(2+3/5))**2"
      ]
    },
    {
      "cell_type": "markdown",
      "metadata": {
        "id": "tBsPw7DB2xbr"
      },
      "source": [
        "寫程式的好處, 就是我們可以自由的訂義變數, 把我們想要記得的數字記起來!"
      ]
    },
    {
      "cell_type": "code",
      "execution_count": 7,
      "metadata": {
        "id": "SnFAKOzp2xbr"
      },
      "outputs": [],
      "source": [
        "a = (22+35)*5 / 20"
      ]
    },
    {
      "cell_type": "markdown",
      "metadata": {
        "id": "UIhkjHTh2xbs"
      },
      "source": [
        "要看某個變數目前的內容, 直接打變數名稱。"
      ]
    },
    {
      "cell_type": "code",
      "execution_count": 8,
      "metadata": {
        "id": "qillnn6h2xbs",
        "outputId": "c4a33421-23ca-4b7f-8b65-e41b84e71551",
        "colab": {
          "base_uri": "https://localhost:8080/"
        }
      },
      "outputs": [
        {
          "output_type": "execute_result",
          "data": {
            "text/plain": [
              "14.25"
            ]
          },
          "metadata": {},
          "execution_count": 8
        }
      ],
      "source": [
        "a"
      ]
    },
    {
      "cell_type": "markdown",
      "metadata": {
        "id": "p42ApYPZ2xbs"
      },
      "source": [
        "當然可以繼續運算。"
      ]
    },
    {
      "cell_type": "code",
      "execution_count": 9,
      "metadata": {
        "id": "P79k6NIp2xbs",
        "outputId": "7d026552-3d84-4bad-d12e-5842a0448c38",
        "colab": {
          "base_uri": "https://localhost:8080/"
        }
      },
      "outputs": [
        {
          "output_type": "execute_result",
          "data": {
            "text/plain": [
              "101.25"
            ]
          },
          "metadata": {},
          "execution_count": 9
        }
      ],
      "source": [
        "a +  87"
      ]
    },
    {
      "cell_type": "markdown",
      "metadata": {
        "id": "8yqqKFPU2xbs"
      },
      "source": [
        "比較特别的是, Python 整數可以有「無限長度」。我們來打個很長很長的整數..."
      ]
    },
    {
      "cell_type": "code",
      "execution_count": 10,
      "metadata": {
        "id": "69-6LK8d2xbs"
      },
      "outputs": [],
      "source": [
        "b = 987897896765675745634242323134364754765467478686989989890090909097543123455687776896876789678567565646564534342424234"
      ]
    },
    {
      "cell_type": "markdown",
      "metadata": {
        "id": "K9u2kNM72xbt"
      },
      "source": [
        "看一下 b 變數的內容。"
      ]
    },
    {
      "cell_type": "code",
      "execution_count": 11,
      "metadata": {
        "id": "oQM0Lh3X2xbt",
        "outputId": "55695023-82d0-4294-a1e4-63a159449396",
        "colab": {
          "base_uri": "https://localhost:8080/"
        }
      },
      "outputs": [
        {
          "output_type": "execute_result",
          "data": {
            "text/plain": [
              "987897896765675745634242323134364754765467478686989989890090909097543123455687776896876789678567565646564534342424234"
            ]
          },
          "metadata": {},
          "execution_count": 11
        }
      ],
      "source": [
        "b"
      ]
    },
    {
      "cell_type": "code",
      "execution_count": 12,
      "metadata": {
        "id": "lsFqqiXe2xbt",
        "outputId": "ac9ff955-cbd4-4403-be8f-2c88643466e8",
        "colab": {
          "base_uri": "https://localhost:8080/"
        }
      },
      "outputs": [
        {
          "output_type": "execute_result",
          "data": {
            "text/plain": [
              "987897896765675745634242323134364754765467478686989989890090909097543123455687776896876789678567565646564534342424235"
            ]
          },
          "metadata": {},
          "execution_count": 12
        }
      ],
      "source": [
        "b + 1"
      ]
    }
  ],
  "metadata": {
    "anaconda-cloud": {},
    "kernelspec": {
      "display_name": "Python 3",
      "language": "python",
      "name": "python3"
    },
    "language_info": {
      "codemirror_mode": {
        "name": "ipython",
        "version": 3
      },
      "file_extension": ".py",
      "mimetype": "text/x-python",
      "name": "python",
      "nbconvert_exporter": "python",
      "pygments_lexer": "ipython3",
      "version": "3.7.3"
    },
    "colab": {
      "provenance": [],
      "include_colab_link": true
    }
  },
  "nbformat": 4,
  "nbformat_minor": 0
}
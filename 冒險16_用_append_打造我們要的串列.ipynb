{
  "cells": [
    {
      "cell_type": "markdown",
      "metadata": {
        "id": "view-in-github",
        "colab_type": "text"
      },
      "source": [
        "<a href=\"https://colab.research.google.com/github/yenlung/Python-Book/blob/master/%E5%86%92%E9%9A%AA16_%E7%94%A8_append_%E6%89%93%E9%80%A0%E6%88%91%E5%80%91%E8%A6%81%E7%9A%84%E4%B8%B2%E5%88%97.ipynb\" target=\"_parent\"><img src=\"https://colab.research.google.com/assets/colab-badge.svg\" alt=\"Open In Colab\"/></a>"
      ]
    },
    {
      "cell_type": "code",
      "source": [
        "%matplotlib inline\n",
        "\n",
        "import numpy as np\n",
        "import pandas as pd\n",
        "import matplotlib.pyplot as plt"
      ],
      "metadata": {
        "id": "XwGxDRM2MYiY"
      },
      "execution_count": null,
      "outputs": []
    },
    {
      "cell_type": "markdown",
      "metadata": {
        "id": "iCH0V2geMPdl"
      },
      "source": [
        "![String and List 的二三事](https://github.com/yenlung/Python-Book/blob/master/images/string_and_list.png?raw=1)"
      ]
    },
    {
      "cell_type": "markdown",
      "metadata": {
        "id": "4K2M-OR1MPdm"
      },
      "source": [
        "### 問題\n",
        "\n",
        "假設你要去瑞士玩, 朋友請你帶三個東西, 你查到瑞士法郎的價格是\n",
        "\n",
        "    [3000, 2500, 100]\n",
        "\n",
        "Google 一下, 發現今天滙率為\n",
        "\n",
        "    1法郎 = 31.4862596台幣\n",
        "    \n",
        "試著把這三個物品的價格換成台幣, 再存起來。"
      ]
    },
    {
      "cell_type": "code",
      "execution_count": null,
      "metadata": {
        "id": "oInDRwT3MPdm",
        "outputId": "2bb585d6-c866-4725-9c36-a4f56552545a"
      },
      "outputs": [
        {
          "name": "stdout",
          "output_type": "stream",
          "text": [
            "[94458.7788, 78715.649, 3148.62596]\n"
          ]
        }
      ],
      "source": [
        "price = [3000, 2500, 100]\n",
        "\n",
        "c = 31.4862596\n",
        "\n",
        "price_tw = []\n",
        "\n",
        "for p in price:\n",
        "    ptw = p*c\n",
        "    price_tw.append(ptw)\n",
        "    \n",
        "print(price_tw)"
      ]
    },
    {
      "cell_type": "markdown",
      "metadata": {
        "id": "qGqWWQBEMPdn"
      },
      "source": [
        "![append](https://github.com/yenlung/Python-Book/blob/master/images/append.png?raw=1)"
      ]
    },
    {
      "cell_type": "markdown",
      "metadata": {
        "id": "TxM2xYdtMPdn"
      },
      "source": [
        "### 字串分割技巧\n",
        "\n",
        "Python 的字串處理能力是有名的強, 比方說我們現在有一筆 CSV 形式的字串, 要分割可以用\n",
        "\n",
        "    .split\n",
        "    \n",
        "來做。"
      ]
    },
    {
      "cell_type": "code",
      "execution_count": null,
      "metadata": {
        "id": "36jrFotLMPdn"
      },
      "outputs": [],
      "source": [
        "st = \"23,68,99\""
      ]
    },
    {
      "cell_type": "code",
      "execution_count": null,
      "metadata": {
        "id": "nFmWaIPjMPdn",
        "outputId": "f03ef2ad-f286-4158-b6da-6cdacb52b85e"
      },
      "outputs": [
        {
          "data": {
            "text/plain": [
              "['23', '68', '99']"
            ]
          },
          "execution_count": 2,
          "metadata": {},
          "output_type": "execute_result"
        }
      ],
      "source": [
        "st.split(',')"
      ]
    },
    {
      "cell_type": "markdown",
      "metadata": {
        "id": "veuHWtOgMPdn"
      },
      "source": [
        "### 問題\n",
        "\n",
        "這樣子的確把\n",
        "\n",
        "    st = \"23,68,99\"\n",
        "    \n",
        "三筆資料切開, 但我們希望把這三筆資料轉成整數, 再存到一個串列之中。"
      ]
    },
    {
      "cell_type": "code",
      "execution_count": null,
      "metadata": {
        "id": "e0hOxDfGMPdn"
      },
      "outputs": [],
      "source": [
        "st = \"23,68,99\"\n",
        "spam = st.split(',')\n",
        "egg = []\n",
        "\n",
        "for x in spam:\n",
        "    k = int(x)\n",
        "    egg.append(k)"
      ]
    },
    {
      "cell_type": "code",
      "execution_count": null,
      "metadata": {
        "id": "XtKjjkb7MPdn",
        "outputId": "21ec1cfb-7b29-4345-a1f6-7e631609c0a3"
      },
      "outputs": [
        {
          "data": {
            "text/plain": [
              "[23, 68, 99]"
            ]
          },
          "execution_count": 4,
          "metadata": {},
          "output_type": "execute_result"
        }
      ],
      "source": [
        "egg"
      ]
    },
    {
      "cell_type": "markdown",
      "metadata": {
        "id": "v8xsf3cWMPdo"
      },
      "source": [
        "當然, 如果對程式熟悉, 我們也可能很多變數不設就直接用。"
      ]
    },
    {
      "cell_type": "code",
      "execution_count": null,
      "metadata": {
        "id": "yS-hNPEFMPdo"
      },
      "outputs": [],
      "source": [
        "ham = []\n",
        "\n",
        "for x in st.split(','):\n",
        "    ham.append(int(x))"
      ]
    },
    {
      "cell_type": "code",
      "execution_count": null,
      "metadata": {
        "id": "1u1IKK-QMPdo",
        "outputId": "5bc809e6-2222-4677-9355-a4cb747f1f75"
      },
      "outputs": [
        {
          "data": {
            "text/plain": [
              "[23, 68, 99]"
            ]
          },
          "execution_count": 6,
          "metadata": {},
          "output_type": "execute_result"
        }
      ],
      "source": [
        "ham"
      ]
    },
    {
      "cell_type": "markdown",
      "metadata": {
        "id": "VWCAvhAXMPdo"
      },
      "source": [
        "### 問題\n",
        "\n",
        "既然我們換成數字了, 不如來試著求 [23, 68, 99] 之和。"
      ]
    },
    {
      "cell_type": "code",
      "execution_count": null,
      "metadata": {
        "id": "kDvDzdiUMPdo",
        "outputId": "6b040bbf-6a24-4984-f39c-2d822e608712"
      },
      "outputs": [
        {
          "name": "stdout",
          "output_type": "stream",
          "text": [
            "總和為 190\n"
          ]
        }
      ],
      "source": [
        "s = 0 \n",
        "\n",
        "for k in egg:\n",
        "    s = s + k\n",
        "\n",
        "print('總和為', s)"
      ]
    },
    {
      "cell_type": "markdown",
      "metadata": {
        "id": "EtxqSTKqMPdo"
      },
      "source": [
        "### 【小技巧】\n",
        "\n",
        "其實求一個串列中所有數字的和, Python 有快速指令..."
      ]
    },
    {
      "cell_type": "code",
      "execution_count": null,
      "metadata": {
        "id": "_hsMyzsmMPdo",
        "outputId": "8e2ad18a-67e3-42a1-b5bf-0d9207689b53"
      },
      "outputs": [
        {
          "data": {
            "text/plain": [
              "190"
            ]
          },
          "execution_count": 8,
          "metadata": {},
          "output_type": "execute_result"
        }
      ],
      "source": [
        "sum(egg)"
      ]
    },
    {
      "cell_type": "markdown",
      "metadata": {
        "id": "gYaC2h3jMPdo"
      },
      "source": [
        "### 【小技巧】\n",
        "\n",
        "不論要看一個串列, 還是一個字串的長度, 我們都可以用 `len` 指令。"
      ]
    },
    {
      "cell_type": "code",
      "execution_count": null,
      "metadata": {
        "id": "JRosvCArMPdo",
        "outputId": "0795c19c-4fad-4dab-869b-941159022da5"
      },
      "outputs": [
        {
          "data": {
            "text/plain": [
              "3"
            ]
          },
          "execution_count": 9,
          "metadata": {},
          "output_type": "execute_result"
        }
      ],
      "source": [
        "len(egg)"
      ]
    },
    {
      "cell_type": "markdown",
      "metadata": {
        "id": "EjjB--vmMPdo"
      },
      "source": [
        "### 問題\n",
        "\n",
        "把一個串列倒過來列。比如說我們有個串列是:\n",
        "\n",
        "['A', 'B', 'C', 'D']\n",
        "\n",
        "我們希望得到\n",
        "\n",
        "['D', 'C', 'B', 'A']"
      ]
    },
    {
      "cell_type": "markdown",
      "metadata": {
        "id": "fjDjwwgJMPdo"
      },
      "source": [
        "![反過來的串列取法](https://github.com/yenlung/Python-Book/blob/master/images/reverse.png?raw=1)"
      ]
    },
    {
      "cell_type": "code",
      "execution_count": null,
      "metadata": {
        "id": "S6dPrtMIMPdo"
      },
      "outputs": [],
      "source": [
        "mylist = list('ABCD')"
      ]
    },
    {
      "cell_type": "code",
      "execution_count": null,
      "metadata": {
        "id": "LMkMy7xlMPdp",
        "outputId": "4b5f2bbf-0da6-45b8-8e66-ae595d90a2e5"
      },
      "outputs": [
        {
          "data": {
            "text/plain": [
              "['A', 'B', 'C', 'D']"
            ]
          },
          "execution_count": 15,
          "metadata": {},
          "output_type": "execute_result"
        }
      ],
      "source": [
        "mylist"
      ]
    },
    {
      "cell_type": "markdown",
      "metadata": {
        "id": "feSzQ1HeMPdp"
      },
      "source": [
        "想好策略, 就是由索引 -1, -2, ..., -n 取出 `mylist` 裡的元素, 一一放入新的 `newlist`。"
      ]
    },
    {
      "cell_type": "code",
      "execution_count": null,
      "metadata": {
        "id": "O81TJHgQMPdp"
      },
      "outputs": [],
      "source": [
        "n = len(mylist)\n",
        "newlist = []\n",
        "\n",
        "# 需要產生 1, 2, 3, ..., n 的 list -> range(1, n+1)\n",
        "\n",
        "for i in range(1, n+1):\n",
        "    newlist.append(mylist[-i])"
      ]
    },
    {
      "cell_type": "code",
      "execution_count": null,
      "metadata": {
        "id": "fXUy4xTaMPdp",
        "outputId": "1f6142f3-4642-4936-a92a-c938458d943d"
      },
      "outputs": [
        {
          "data": {
            "text/plain": [
              "['D', 'C', 'B', 'A']"
            ]
          },
          "execution_count": 17,
          "metadata": {},
          "output_type": "execute_result"
        }
      ],
      "source": [
        "newlist"
      ]
    },
    {
      "cell_type": "markdown",
      "metadata": {
        "id": "bYKGASLoMPdp"
      },
      "source": [
        "成功了! \n",
        "\n",
        "有時我們看到一個問題, 不要馬上開始寫程式, 先想想中間的邏輯, 然後想想我們的策略, 再把程式寫出來!\n",
        "\n",
        "接著我們來挑戰很類似的問題, 這字把字串倒過來!"
      ]
    },
    {
      "cell_type": "markdown",
      "metadata": {
        "id": "-JzV1MeVMPdp"
      },
      "source": [
        "### 問題\n",
        "\n",
        "給定一個字串, 我們要把字串倒過來!\n",
        "\n",
        "比如說原本有個字串是\n",
        "\n",
        "'ABCD'\n",
        "\n",
        "要變成\n",
        "\n",
        "'DCBA'"
      ]
    },
    {
      "cell_type": "code",
      "execution_count": null,
      "metadata": {
        "id": "1TokF8CxMPdp"
      },
      "outputs": [],
      "source": [
        "mystr = 'ABCD'\n",
        "\n",
        "n = len(mystr)\n",
        "newstr = ''\n",
        "\n",
        "for i in range(1, n+1):\n",
        "    newstr = newstr + mystr[-i]"
      ]
    },
    {
      "cell_type": "code",
      "execution_count": null,
      "metadata": {
        "id": "tuIGF7lfMPdp",
        "outputId": "37e9ce49-2f47-4f4a-9617-c809645a1dc5"
      },
      "outputs": [
        {
          "data": {
            "text/plain": [
              "'DCBA'"
            ]
          },
          "execution_count": 19,
          "metadata": {},
          "output_type": "execute_result"
        }
      ],
      "source": [
        "newstr"
      ]
    },
    {
      "cell_type": "markdown",
      "metadata": {
        "id": "ruPVl19cMPdp"
      },
      "source": [
        "所以整個架構基本上是一樣的。"
      ]
    },
    {
      "cell_type": "markdown",
      "metadata": {
        "id": "hDxsbAl7MPdp"
      },
      "source": [
        "### 【小技巧】\n",
        "\n",
        "在 Python 中, 要把一個串列或字串倒過來, 其實不用這麼麻煩..."
      ]
    },
    {
      "cell_type": "code",
      "execution_count": null,
      "metadata": {
        "id": "_fT9HUuDMPdp",
        "outputId": "8af751c2-6bc7-4d85-e028-58daf59f9d13"
      },
      "outputs": [
        {
          "data": {
            "text/plain": [
              "['D', 'C', 'B', 'A']"
            ]
          },
          "execution_count": 20,
          "metadata": {},
          "output_type": "execute_result"
        }
      ],
      "source": [
        "mylist[::-1]"
      ]
    },
    {
      "cell_type": "code",
      "execution_count": null,
      "metadata": {
        "id": "_AaI2HugMPdp",
        "outputId": "d71756a3-62d7-48f6-ee5d-694ba799d335"
      },
      "outputs": [
        {
          "data": {
            "text/plain": [
              "'DCBA'"
            ]
          },
          "execution_count": 21,
          "metadata": {},
          "output_type": "execute_result"
        }
      ],
      "source": [
        "mystr[::-1]"
      ]
    },
    {
      "cell_type": "markdown",
      "metadata": {
        "id": "FMIzfWXSMPdp"
      },
      "source": [
        "![練腦袋](https://github.com/yenlung/Python-Book/blob/master/images/comic01.png?raw=1)"
      ]
    },
    {
      "cell_type": "markdown",
      "metadata": {
        "id": "bj8XIU21MPdp"
      },
      "source": [
        "![函式的寫法](https://github.com/yenlung/Python-Book/blob/master/images/function.png?raw=1)"
      ]
    },
    {
      "cell_type": "markdown",
      "metadata": {
        "id": "GvWWWx4OMPdp"
      },
      "source": [
        "我們現在要進入 Python 基礎篇最後一個、也是相當重要的主題, 就是函式的寫法。"
      ]
    },
    {
      "cell_type": "markdown",
      "metadata": {
        "id": "TNFNHFIEMPdp"
      },
      "source": [
        "![函式結構](https://github.com/yenlung/Python-Book/blob/master/images/function_str.png?raw=1)"
      ]
    },
    {
      "cell_type": "markdown",
      "metadata": {
        "id": "Qg_-9z2tMPdq"
      },
      "source": [
        "假設我們要做一個簡單的函數, 輸入 $x$, 輸出 $x^2$。"
      ]
    },
    {
      "cell_type": "code",
      "execution_count": null,
      "metadata": {
        "id": "Uhs-VFV7MPdu"
      },
      "outputs": [],
      "source": [
        "def square(x):\n",
        "    return x**2"
      ]
    },
    {
      "cell_type": "code",
      "execution_count": null,
      "metadata": {
        "id": "DK-43VNxMPdu",
        "outputId": "b990896a-0782-4b4b-91e1-a6ad4e0b6ebc"
      },
      "outputs": [
        {
          "data": {
            "text/plain": [
              "9"
            ]
          },
          "execution_count": 24,
          "metadata": {},
          "output_type": "execute_result"
        }
      ],
      "source": [
        "square(3)"
      ]
    },
    {
      "cell_type": "markdown",
      "metadata": {
        "id": "0J7n0rRtMPdu"
      },
      "source": [
        "寫成函式的好處是可以一直重覆使用! 剛開始大家的疑問可能是 `return` 是什麼意思, 我們再用另一個幾乎一樣的函式來說明。"
      ]
    },
    {
      "cell_type": "code",
      "execution_count": null,
      "metadata": {
        "id": "tDEO6sZiMPdu"
      },
      "outputs": [],
      "source": [
        "def 平方(x):\n",
        "    print(x**2)"
      ]
    },
    {
      "cell_type": "code",
      "execution_count": null,
      "metadata": {
        "id": "yO5kNh9aMPdu",
        "outputId": "349147aa-444a-4dbf-d7b7-bdc9e2f567b5"
      },
      "outputs": [
        {
          "name": "stdout",
          "output_type": "stream",
          "text": [
            "9\n"
          ]
        }
      ],
      "source": [
        "平方(3)"
      ]
    },
    {
      "cell_type": "markdown",
      "metadata": {
        "id": "a_UJ3r2vMPdu"
      },
      "source": [
        "耶, 這看起來一模一樣! 有什麼差別呢? 答案是有 `return` 函式會回傳一個值回來, 沒有的話, 函式不會回傳任何東西。我們看個例子就更明白。"
      ]
    },
    {
      "cell_type": "code",
      "execution_count": null,
      "metadata": {
        "id": "JFHodGlBMPdu",
        "outputId": "8425ace7-d35f-4d3c-8d67-0d4d89fd0c0e"
      },
      "outputs": [
        {
          "name": "stdout",
          "output_type": "stream",
          "text": [
            "7569\n"
          ]
        }
      ],
      "source": [
        "a = square(87)\n",
        "b = 平方(87)"
      ]
    },
    {
      "cell_type": "markdown",
      "metadata": {
        "id": "G4n6QsrrMPdu"
      },
      "source": [
        "看來 a 和 b 應該是一樣?"
      ]
    },
    {
      "cell_type": "code",
      "execution_count": null,
      "metadata": {
        "id": "4_aigwv4MPdu",
        "outputId": "f2535812-ccf2-4da8-c821-a92c9e7e8809"
      },
      "outputs": [
        {
          "data": {
            "text/plain": [
              "7569"
            ]
          },
          "execution_count": 29,
          "metadata": {},
          "output_type": "execute_result"
        }
      ],
      "source": [
        "a"
      ]
    },
    {
      "cell_type": "code",
      "execution_count": null,
      "metadata": {
        "id": "-TJtrewGMPdu"
      },
      "outputs": [],
      "source": [
        "b"
      ]
    },
    {
      "cell_type": "markdown",
      "metadata": {
        "id": "HrNg539mMPdv"
      },
      "source": [
        "結果是 a 真的會變成 87 的平方, 但 b 沒有任何值! 因為 \"平方\" 這個函數沒有任何值..."
      ]
    },
    {
      "cell_type": "markdown",
      "metadata": {
        "id": "WASReUCIMPdv"
      },
      "source": [
        "接著我們用新學會的反轉字串 (串列), 做成一個函數。"
      ]
    },
    {
      "cell_type": "code",
      "execution_count": null,
      "metadata": {
        "id": "MReW4mVJMPdv"
      },
      "outputs": [],
      "source": [
        "def reverse(s):\n",
        "    return s[::-1]"
      ]
    },
    {
      "cell_type": "code",
      "execution_count": null,
      "metadata": {
        "id": "4yJukWUDMPdv",
        "outputId": "98a20827-b46d-43fa-bb77-29d54acee5ad"
      },
      "outputs": [
        {
          "data": {
            "text/plain": [
              "'elppa'"
            ]
          },
          "execution_count": 32,
          "metadata": {},
          "output_type": "execute_result"
        }
      ],
      "source": [
        "reverse('apple')"
      ]
    },
    {
      "cell_type": "code",
      "execution_count": null,
      "metadata": {
        "id": "9ltpft1aMPdv",
        "outputId": "6d12e3f9-ef23-4794-850a-df4ef58278aa"
      },
      "outputs": [
        {
          "data": {
            "text/plain": [
              "['d', 'c', 'b', 'a']"
            ]
          },
          "execution_count": 33,
          "metadata": {},
          "output_type": "execute_result"
        }
      ],
      "source": [
        "reverse(['a', 'b', 'c', 'd'])"
      ]
    },
    {
      "cell_type": "markdown",
      "metadata": {
        "id": "-bNDUj-eMPdv"
      },
      "source": [
        "很神奇的是, 這個函數不管是對串列或是對字串都是一體適用的!"
      ]
    },
    {
      "cell_type": "markdown",
      "metadata": {
        "id": "vTtjamxfMPdv"
      },
      "source": [
        "接著我們想做一個猜數字遊戲, 並且把它設計成一個函數。為了這個, 我們介紹從 `random` 套件庫來的 `randint` 指令。"
      ]
    },
    {
      "cell_type": "markdown",
      "metadata": {
        "id": "Auebap48MPdv"
      },
      "source": [
        "![randint](https://github.com/yenlung/Python-Book/blob/master/images/randint.png?raw=1)"
      ]
    },
    {
      "cell_type": "markdown",
      "metadata": {
        "id": "cxkMioV6MPdv"
      },
      "source": [
        "### 問題: 猜數字遊戲\n",
        "\n",
        "電腦從 1-100 之間「想」一個數字。玩家開始猜電腦的數字, 電腦回饋「太大」或「太小」, 直到猜對為止。"
      ]
    },
    {
      "cell_type": "code",
      "execution_count": null,
      "metadata": {
        "id": "r50eP7r7MPdv"
      },
      "outputs": [],
      "source": [
        "from random import randint"
      ]
    },
    {
      "cell_type": "code",
      "execution_count": null,
      "metadata": {
        "id": "8VAayqkFMPdv"
      },
      "outputs": [],
      "source": [
        "def game():\n",
        "    ans = randint(1, 100)\n",
        "    guess = -1\n",
        "\n",
        "    while guess != ans:\n",
        "        guess = int(input(\"請輸入一個數字: \"))\n",
        "\n",
        "        if guess>ans:\n",
        "            print(\"太大了!\")\n",
        "        elif guess<ans:\n",
        "            print(\"太小了!\")\n",
        "        else:\n",
        "            print(\"太神了!\")"
      ]
    },
    {
      "cell_type": "code",
      "execution_count": null,
      "metadata": {
        "id": "dC6tOFd9MPdv",
        "outputId": "c96f85f9-18e3-4a91-d7ea-6ce5af2f185c"
      },
      "outputs": [
        {
          "name": "stdout",
          "output_type": "stream",
          "text": [
            "請輸入一個數字: 50\n",
            "太大了!\n",
            "請輸入一個數字: 30\n",
            "太大了!\n",
            "請輸入一個數字: 15\n",
            "太小了!\n",
            "請輸入一個數字: 20\n",
            "太小了!\n",
            "請輸入一個數字: 25\n",
            "太大了!\n",
            "請輸入一個數字: 23\n",
            "太小了!\n",
            "請輸入一個數字: 24\n",
            "太神了!\n"
          ]
        }
      ],
      "source": [
        "game()"
      ]
    },
    {
      "cell_type": "markdown",
      "metadata": {
        "id": "wh7TNSFKMPdv"
      },
      "source": [
        "現在我們想要玩了一盤之後, 能問要不要再玩一次。這時可以發現, 我們把遊戲寫成一個函數就很方便!"
      ]
    },
    {
      "cell_type": "code",
      "execution_count": null,
      "metadata": {
        "id": "w6vkLQA4MPdv",
        "outputId": "ba027dc0-fd39-44f7-e083-ef72e637e5c1"
      },
      "outputs": [
        {
          "name": "stdout",
          "output_type": "stream",
          "text": [
            "請輸入一個數字: 80\n",
            "太大了!\n",
            "請輸入一個數字: 40\n",
            "太大了!\n",
            "請輸入一個數字: 20\n",
            "太大了!\n",
            "請輸入一個數字: 10\n",
            "太大了!\n",
            "請輸入一個數字: 5\n",
            "太小了!\n",
            "請輸入一個數字: 7\n",
            "太神了!\n",
            "ヽ(∀ﾟ )人(ﾟ∀ﾟ)人( ﾟ∀)人(∀ﾟ )ﾉ\n",
            "再玩一次?yes\n",
            "請輸入一個數字: 50\n",
            "太小了!\n",
            "請輸入一個數字: 70\n",
            "太小了!\n",
            "請輸入一個數字: 80\n",
            "太小了!\n",
            "請輸入一個數字: 90\n",
            "太小了!\n",
            "請輸入一個數字: 99\n",
            "太小了!\n",
            "請輸入一個數字: 100\n",
            "太神了!\n",
            "ヽ(∀ﾟ )人(ﾟ∀ﾟ)人( ﾟ∀)人(∀ﾟ )ﾉ\n",
            "再玩一次?no\n"
          ]
        }
      ],
      "source": [
        "play = True\n",
        "\n",
        "while play:\n",
        "    game()\n",
        "    print(\"ヽ(∀ﾟ )人(ﾟ∀ﾟ)人( ﾟ∀)人(∀ﾟ )ﾉ\")\n",
        "    again = input(\"再玩一次?\")\n",
        "    if again == 'no':\n",
        "        play = False"
      ]
    },
    {
      "cell_type": "markdown",
      "metadata": {
        "id": "AsJYb_NfMPdv"
      },
      "source": [
        "我們現在準備存成一個 Python 檔案。Python 檔一般以 `.py` 結尾, 要執行在終端機 (Anaconda Prompt) 打入\n",
        "\n",
        "    python 檔名.py\n",
        "    \n",
        "就可以!"
      ]
    },
    {
      "cell_type": "markdown",
      "metadata": {
        "id": "X7zgcPImMPdv"
      },
      "source": [
        "![Python 檔案](https://github.com/yenlung/Python-Book/blob/master/images/python_file.png?raw=1)"
      ]
    },
    {
      "cell_type": "markdown",
      "metadata": {
        "id": "r8I5xqCmMPdw"
      },
      "source": [
        "看了一下, 我們這次需要存的輸入格有 35, 36, 39 三行。可以用魔術指令 `%save` 來儲存。"
      ]
    },
    {
      "cell_type": "code",
      "execution_count": null,
      "metadata": {
        "id": "mOMJUoJxMPdw",
        "outputId": "7a29b7fc-90d3-4ccb-f3f0-aaa36a9ce776"
      },
      "outputs": [
        {
          "name": "stdout",
          "output_type": "stream",
          "text": [
            "The following commands were written to file `guessing_game.py`:\n",
            "from random import randint\n",
            "def game():\n",
            "    ans = randint(1, 100)\n",
            "    guess = -1\n",
            "\n",
            "    while guess != ans:\n",
            "        guess = int(input(\"請輸入一個數字: \"))\n",
            "\n",
            "        if guess>ans:\n",
            "            print(\"太大了!\")\n",
            "        elif guess<ans:\n",
            "            print(\"太小了!\")\n",
            "        else:\n",
            "            print(\"太神了!\")\n",
            "play = True\n",
            "\n",
            "while play:\n",
            "    game()\n",
            "    print(\"ヽ(∀ﾟ )人(ﾟ∀ﾟ)人( ﾟ∀)人(∀ﾟ )ﾉ\")\n",
            "    again = input(\"再玩一次?\")\n",
            "    if again == 'no':\n",
            "        play = False\n"
          ]
        }
      ],
      "source": [
        "%save \"guessing_game.py\" 35-36 39"
      ]
    },
    {
      "cell_type": "markdown",
      "metadata": {
        "id": "2CB1wk1KMPdw"
      },
      "source": [
        "於是我們就可以在終端機 (或 Windows 下的 Anaconda Prompt), 確定是在這個 `guessing_game.py' 這個資料夾下, 打入\n",
        "\n",
        "    python guessing_game.py\n",
        "    \n",
        "就可以執行了!\n",
        "\n",
        "![在終端機執行猜數字遊戲](https://github.com/yenlung/Python-Book/blob/master/images/game_terminal.png?raw=1)"
      ]
    }
  ],
  "metadata": {
    "kernelspec": {
      "display_name": "Python 3",
      "language": "python",
      "name": "python3"
    },
    "language_info": {
      "codemirror_mode": {
        "name": "ipython",
        "version": 3
      },
      "file_extension": ".py",
      "mimetype": "text/x-python",
      "name": "python",
      "nbconvert_exporter": "python",
      "pygments_lexer": "ipython3",
      "version": "3.7.3"
    },
    "colab": {
      "provenance": [],
      "include_colab_link": true
    }
  },
  "nbformat": 4,
  "nbformat_minor": 0
}
{
  "cells": [
    {
      "cell_type": "markdown",
      "metadata": {
        "id": "view-in-github",
        "colab_type": "text"
      },
      "source": [
        "<a href=\"https://colab.research.google.com/github/yenlung/Python-Book/blob/master/%E5%86%92%E9%9A%AA08_%E9%87%8D%E8%A6%81%E7%9A%84%E5%AD%97%E5%85%B8%E8%B3%87%E6%96%99%E5%9E%8B%E6%85%8B.ipynb\" target=\"_parent\"><img src=\"https://colab.research.google.com/assets/colab-badge.svg\" alt=\"Open In Colab\"/></a>"
      ]
    },
    {
      "cell_type": "code",
      "execution_count": 1,
      "metadata": {
        "id": "stm7fBcy8RQN"
      },
      "outputs": [],
      "source": [
        "%matplotlib inline\n",
        "\n",
        "import numpy as np\n",
        "import pandas as pd\n",
        "import matplotlib.pyplot"
      ]
    },
    {
      "cell_type": "markdown",
      "metadata": {
        "id": "w8NWENon8RQO"
      },
      "source": [
        "再來還有一個資料型態是「字典」。"
      ]
    },
    {
      "cell_type": "code",
      "execution_count": 2,
      "metadata": {
        "id": "gDonWHt88RQP"
      },
      "outputs": [],
      "source": [
        "my_dict = {'spam':'午餐肉', 'egg':'雞蛋', 'ham':'火腿'}"
      ]
    },
    {
      "cell_type": "markdown",
      "metadata": {
        "id": "XfFnMCMI8RQP"
      },
      "source": [
        "查詢 (記得 Python 的 index 都是中括號)。"
      ]
    },
    {
      "cell_type": "code",
      "execution_count": 3,
      "metadata": {
        "id": "6G-ZHLIh8RQP",
        "outputId": "aadfc025-5e26-412d-fc0c-5f0b301b0581",
        "colab": {
          "base_uri": "https://localhost:8080/",
          "height": 35
        }
      },
      "outputs": [
        {
          "output_type": "execute_result",
          "data": {
            "text/plain": [
              "'火腿'"
            ],
            "application/vnd.google.colaboratory.intrinsic+json": {
              "type": "string"
            }
          },
          "metadata": {},
          "execution_count": 3
        }
      ],
      "source": [
        "my_dict['ham']"
      ]
    },
    {
      "cell_type": "markdown",
      "metadata": {
        "id": "0hK0z_lS8RQQ"
      },
      "source": [
        "新增一筆記錄。"
      ]
    },
    {
      "cell_type": "code",
      "execution_count": 4,
      "metadata": {
        "id": "BF5N1K4W8RQQ"
      },
      "outputs": [],
      "source": [
        "my_dict['apple'] = '蘋果'"
      ]
    },
    {
      "cell_type": "code",
      "execution_count": 5,
      "metadata": {
        "scrolled": true,
        "id": "YuwRVJRV8RQQ",
        "outputId": "616c252b-3e9c-427b-c90d-8515a9e30e65",
        "colab": {
          "base_uri": "https://localhost:8080/"
        }
      },
      "outputs": [
        {
          "output_type": "execute_result",
          "data": {
            "text/plain": [
              "{'spam': '午餐肉', 'egg': '雞蛋', 'ham': '火腿', 'apple': '蘋果'}"
            ]
          },
          "metadata": {},
          "execution_count": 5
        }
      ],
      "source": [
        "my_dict"
      ]
    },
    {
      "cell_type": "code",
      "execution_count": 6,
      "metadata": {
        "id": "rfcea62f8RQQ"
      },
      "outputs": [],
      "source": [
        "del my_dict['ham']"
      ]
    },
    {
      "cell_type": "code",
      "execution_count": 7,
      "metadata": {
        "id": "wweqeBIb8RQQ",
        "outputId": "a275d089-0bda-4b44-bafb-da8a238583fa",
        "colab": {
          "base_uri": "https://localhost:8080/"
        }
      },
      "outputs": [
        {
          "output_type": "execute_result",
          "data": {
            "text/plain": [
              "{'spam': '午餐肉', 'egg': '雞蛋', 'apple': '蘋果'}"
            ]
          },
          "metadata": {},
          "execution_count": 7
        }
      ],
      "source": [
        "my_dict"
      ]
    },
    {
      "cell_type": "code",
      "execution_count": 8,
      "metadata": {
        "id": "RztCEkIM8RQQ",
        "outputId": "39422fe2-4b83-40b9-9e27-67eaba6e47ff",
        "colab": {
          "base_uri": "https://localhost:8080/"
        }
      },
      "outputs": [
        {
          "output_type": "execute_result",
          "data": {
            "text/plain": [
              "dict_keys(['spam', 'egg', 'apple'])"
            ]
          },
          "metadata": {},
          "execution_count": 8
        }
      ],
      "source": [
        "my_dict.keys()"
      ]
    },
    {
      "cell_type": "code",
      "execution_count": 9,
      "metadata": {
        "id": "XQaXygpp8RQQ",
        "outputId": "3ab93391-a409-482c-9e41-fe37cacac37b",
        "colab": {
          "base_uri": "https://localhost:8080/"
        }
      },
      "outputs": [
        {
          "output_type": "execute_result",
          "data": {
            "text/plain": [
              "dict_values(['午餐肉', '雞蛋', '蘋果'])"
            ]
          },
          "metadata": {},
          "execution_count": 9
        }
      ],
      "source": [
        "my_dict.values()"
      ]
    }
  ],
  "metadata": {
    "kernelspec": {
      "display_name": "Python 3",
      "language": "python",
      "name": "python3"
    },
    "language_info": {
      "codemirror_mode": {
        "name": "ipython",
        "version": 3
      },
      "file_extension": ".py",
      "mimetype": "text/x-python",
      "name": "python",
      "nbconvert_exporter": "python",
      "pygments_lexer": "ipython3",
      "version": "3.7.3"
    },
    "colab": {
      "provenance": [],
      "include_colab_link": true
    }
  },
  "nbformat": 4,
  "nbformat_minor": 0
}
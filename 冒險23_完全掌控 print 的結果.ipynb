{
  "cells": [
    {
      "cell_type": "markdown",
      "metadata": {
        "id": "view-in-github",
        "colab_type": "text"
      },
      "source": [
        "<a href=\"https://colab.research.google.com/github/yenlung/Python-Book/blob/master/%E5%86%92%E9%9A%AA23_%E5%AE%8C%E5%85%A8%E6%8E%8C%E6%8E%A7%20print%20%E7%9A%84%E7%B5%90%E6%9E%9C.ipynb\" target=\"_parent\"><img src=\"https://colab.research.google.com/assets/colab-badge.svg\" alt=\"Open In Colab\"/></a>"
      ]
    },
    {
      "cell_type": "code",
      "execution_count": null,
      "metadata": {
        "id": "PUOc0zAQBoN3"
      },
      "outputs": [],
      "source": [
        "%matplotlib inline\n",
        "\n",
        "import numpy as np\n",
        "import matplotlib.pyplot as plt"
      ]
    },
    {
      "cell_type": "code",
      "execution_count": null,
      "metadata": {
        "id": "D73I8WvxBoN4",
        "outputId": "94ac1c68-1969-48bc-addc-4c5e2af8d679"
      },
      "outputs": [
        {
          "name": "stdout",
          "output_type": "stream",
          "text": [
            "正確答案:9487\n"
          ]
        }
      ],
      "source": [
        "egg = \"正確答案:\"\n",
        "ham = 9487\n",
        "\n",
        "print(egg + str(ham))"
      ]
    },
    {
      "cell_type": "code",
      "execution_count": null,
      "metadata": {
        "id": "aQhsYSN0BoN4",
        "outputId": "a49131f6-9062-4588-b88f-7d3de0e91b70"
      },
      "outputs": [
        {
          "name": "stdout",
          "output_type": "stream",
          "text": [
            "正確答案: 9487\n"
          ]
        }
      ],
      "source": [
        "print(egg, ham)"
      ]
    },
    {
      "cell_type": "markdown",
      "metadata": {
        "id": "Qej0E6_KBoN4"
      },
      "source": [
        "### `print` 不換行可以嗎?\n",
        "\n",
        "我們想印出一堆數字 (或文字)..."
      ]
    },
    {
      "cell_type": "code",
      "execution_count": null,
      "metadata": {
        "id": "HQuf9jlBBoN5",
        "outputId": "9d08fe1d-a4b2-4e97-dca9-8cf56be07e59"
      },
      "outputs": [
        {
          "name": "stdout",
          "output_type": "stream",
          "text": [
            "0\n",
            "1\n",
            "2\n",
            "3\n",
            "4\n",
            "5\n",
            "6\n",
            "7\n",
            "8\n",
            "9\n"
          ]
        }
      ],
      "source": [
        "for i in range(10):\n",
        "    print(i)"
      ]
    },
    {
      "cell_type": "markdown",
      "metadata": {
        "id": "qjXxgd7ZBoN5"
      },
      "source": [
        "這拖太長了, 可以不要換行嗎? 我們想到可愛的逗號..."
      ]
    },
    {
      "cell_type": "code",
      "execution_count": null,
      "metadata": {
        "id": "mPBa9MyCBoN5",
        "outputId": "5f2c7c64-1257-4467-bb4f-01775e972e54"
      },
      "outputs": [
        {
          "name": "stdout",
          "output_type": "stream",
          "text": [
            "0\n",
            "1\n",
            "2\n",
            "3\n",
            "4\n",
            "5\n",
            "6\n",
            "7\n",
            "8\n",
            "9\n"
          ]
        }
      ],
      "source": [
        "for i in range(10):\n",
        "    print(i,)"
      ]
    },
    {
      "cell_type": "markdown",
      "metadata": {
        "id": "HjtwT2uKBoN5"
      },
      "source": [
        "這是在搞笑嗎?\n",
        "\n",
        "原來, Python 印出來的字串要「某個方式接續」是這樣做..."
      ]
    },
    {
      "cell_type": "code",
      "execution_count": null,
      "metadata": {
        "id": "PqjS5g3fBoN5",
        "outputId": "f89239fe-e561-46a2-fd97-8a3e4e942a56"
      },
      "outputs": [
        {
          "name": "stdout",
          "output_type": "stream",
          "text": [
            "0, 1, 2, 3, 4, 5, 6, 7, 8, 9, "
          ]
        }
      ],
      "source": [
        "for i in range(10):\n",
        "    print(i, end=', ')"
      ]
    },
    {
      "cell_type": "markdown",
      "metadata": {
        "id": "M1VT2y2SBoN5"
      },
      "source": [
        "這時果然被抓包, 說 9 的後面好像不該有逗點。對, 這都要例外處理。\n",
        "\n",
        "雖然不是我們的重點, 不過為了老師的威信 (?), 所以還是介紹其中一種方式。"
      ]
    },
    {
      "cell_type": "code",
      "execution_count": null,
      "metadata": {
        "id": "DX6VvAfzBoN5"
      },
      "outputs": [],
      "source": [
        "egg = [\"寫成式\", \"算數學\", \"練英文\"]"
      ]
    },
    {
      "cell_type": "code",
      "execution_count": null,
      "metadata": {
        "id": "1P9_qST9BoN5",
        "outputId": "e9908b2f-de47-4950-e3ea-e5f2a2f1ab90"
      },
      "outputs": [
        {
          "data": {
            "text/plain": [
              "'寫成式, 算數學, 練英文'"
            ]
          },
          "execution_count": 8,
          "metadata": {},
          "output_type": "execute_result"
        }
      ],
      "source": [
        "\", \".join(egg)"
      ]
    },
    {
      "cell_type": "code",
      "execution_count": null,
      "metadata": {
        "id": "oItAgztnBoN6",
        "outputId": "d6f96f73-47ce-495f-8ef0-7dc7625b65e1"
      },
      "outputs": [
        {
          "name": "stdout",
          "output_type": "stream",
          "text": [
            "寫成式, 算數學, 練英文\n"
          ]
        }
      ],
      "source": [
        "print(\", \".join(egg))"
      ]
    },
    {
      "cell_type": "code",
      "execution_count": null,
      "metadata": {
        "id": "mzg1lcynBoN6",
        "outputId": "ab300295-3b72-43d5-fbbf-b9a952409c01"
      },
      "outputs": [
        {
          "name": "stdout",
          "output_type": "stream",
          "text": [
            "0, 1, 2, 3, 4, 5, 6, 7, 8, 9\n"
          ]
        }
      ],
      "source": [
        "print(', '.join(map(str, range(10))))"
      ]
    },
    {
      "cell_type": "markdown",
      "metadata": {
        "id": "j5cPsHDjBoN6"
      },
      "source": [
        "附註: 這要「背」還有點難。不過理解在做什麼, 就自己也會寫出看來很可怕的東西。"
      ]
    },
    {
      "cell_type": "markdown",
      "metadata": {
        "id": "9v8JwzQDBoN6"
      },
      "source": [
        "### 格式化的三種方式\n",
        "\n",
        "之前我們要控制一堆字串印出來, 就是要用 \"+\" 合在一起..."
      ]
    },
    {
      "cell_type": "code",
      "execution_count": null,
      "metadata": {
        "id": "NwGY6p4ZBoN6"
      },
      "outputs": [],
      "source": [
        "name = \"炎龍\"\n",
        "age = 25"
      ]
    },
    {
      "cell_type": "code",
      "execution_count": null,
      "metadata": {
        "id": "TeMBR13bBoN6",
        "outputId": "e1eb9eea-536c-4fec-99b5-032f5b69080e"
      },
      "outputs": [
        {
          "name": "stdout",
          "output_type": "stream",
          "text": [
            "你好, 我是炎龍, 今年 25 歲。\n"
          ]
        }
      ],
      "source": [
        "print(\"你好, 我是\" + name + \", 今年 \" + str(25) + \" 歲。\")"
      ]
    },
    {
      "cell_type": "markdown",
      "metadata": {
        "id": "bjmnqFSLBoN6"
      },
      "source": [
        "這實在有夠難打的, 所以 Python 提供了格式化字串的方法, 而且有三種!"
      ]
    },
    {
      "cell_type": "markdown",
      "metadata": {
        "id": "-hMD53Q7BoN6"
      },
      "source": [
        "### 方法 1: 最老派的方式\n",
        "\n",
        "在要印出字串的地方打上 `%s`, 要印出整數的地方打上 `%d`, 要印出浮點數打上 `%f`..."
      ]
    },
    {
      "cell_type": "code",
      "execution_count": null,
      "metadata": {
        "id": "yZqRe9gGBoN6",
        "outputId": "b5366d0f-ef9c-4b0b-c21e-ab1ae8e38573"
      },
      "outputs": [
        {
          "name": "stdout",
          "output_type": "stream",
          "text": [
            "你好, 我是炎龍, 今年 25 歲。\n"
          ]
        }
      ],
      "source": [
        "message = \"你好, 我是%s, 今年 %d 歲。\" % (name, age)\n",
        "print(message)"
      ]
    },
    {
      "cell_type": "markdown",
      "metadata": {
        "id": "mkmU1PWiBoN6"
      },
      "source": [
        "哦, 好像不錯耶! 不過要記得 `%s` 啦, `%d` 啦, `%f` 等等是什麼意思好像有點討厭。"
      ]
    },
    {
      "cell_type": "markdown",
      "metadata": {
        "id": "po0J9cdiBoN6"
      },
      "source": [
        "### 方法 2: `format`\n",
        "\n",
        "直接在要填入東西的地方, 放上 `{}`, 不用說這是字串啦、數字啦還是什麼的。"
      ]
    },
    {
      "cell_type": "code",
      "execution_count": null,
      "metadata": {
        "id": "VpwO6kZiBoN6"
      },
      "outputs": [],
      "source": [
        "message = \"你好, 我是{}, 今年 {} 歲。\".format(name, age)"
      ]
    },
    {
      "cell_type": "code",
      "execution_count": null,
      "metadata": {
        "id": "ngqg1za5BoN6",
        "outputId": "d2004af1-e351-4f0d-9ec5-022955bf9aec"
      },
      "outputs": [
        {
          "name": "stdout",
          "output_type": "stream",
          "text": [
            "你好, 我是炎龍, 今年 25 歲。\n"
          ]
        }
      ],
      "source": [
        "print(message)"
      ]
    },
    {
      "cell_type": "code",
      "execution_count": null,
      "metadata": {
        "id": "BDdkAH8NBoN6"
      },
      "outputs": [],
      "source": [
        "message = \"你好, 我是{0}, 今年 {1} 歲, 真的 {1} 歲!\".format(name, age)"
      ]
    },
    {
      "cell_type": "code",
      "execution_count": null,
      "metadata": {
        "id": "X9iHmisXBoN6",
        "outputId": "b1ca31cf-d460-4c1c-bccf-67533d03dfd9"
      },
      "outputs": [
        {
          "name": "stdout",
          "output_type": "stream",
          "text": [
            "你好, 我是炎龍, 今年 25 歲, 真的 25 歲!\n"
          ]
        }
      ],
      "source": [
        "print(message)"
      ]
    },
    {
      "cell_type": "markdown",
      "metadata": {
        "id": "ytKw_g1yBoN6"
      },
      "source": [
        "這好像更好一點, 不過有更方便的嗎?"
      ]
    },
    {
      "cell_type": "markdown",
      "metadata": {
        "id": "cNOe9qmJBoN6"
      },
      "source": [
        "### 方法 3: 全新的 `f-string`\n",
        "\n",
        "`f-string` 是 Python 3.6 才有的方法。直接填入要什麼就有什麼..."
      ]
    },
    {
      "cell_type": "code",
      "execution_count": null,
      "metadata": {
        "id": "K8QhhLPABoN6"
      },
      "outputs": [],
      "source": [
        "message = f\"你好, 我是{name}, 今年 {age} 歲。\""
      ]
    },
    {
      "cell_type": "code",
      "execution_count": null,
      "metadata": {
        "id": "gB4tF5Y0BoN6",
        "outputId": "b1697845-c889-459a-bcf9-29c9a1b8bc5c"
      },
      "outputs": [
        {
          "name": "stdout",
          "output_type": "stream",
          "text": [
            "你好, 我是炎龍, 今年 25 歲。\n"
          ]
        }
      ],
      "source": [
        "print(message)"
      ]
    },
    {
      "cell_type": "markdown",
      "metadata": {
        "id": "1YIeblHeBoN6"
      },
      "source": [
        "### 更完整的控制 (浮點數篇)\n",
        "\n",
        "我們 Google 一下, 發現 1 美元合台幣 30.0327357 元。"
      ]
    },
    {
      "cell_type": "code",
      "execution_count": null,
      "metadata": {
        "id": "e4--0uE7BoN7"
      },
      "outputs": [],
      "source": [
        "c = 30.0327357"
      ]
    },
    {
      "cell_type": "code",
      "execution_count": null,
      "metadata": {
        "id": "DlS-ppxlBoN7",
        "outputId": "2ba2892e-a5fd-4a62-bce8-06f879908b5e"
      },
      "outputs": [
        {
          "name": "stdout",
          "output_type": "stream",
          "text": [
            "1 美元合台幣 30.0327357 元。\n"
          ]
        }
      ],
      "source": [
        "print(f\"1 美元合台幣 {c} 元。\")"
      ]
    },
    {
      "cell_type": "markdown",
      "metadata": {
        "id": "g6N1Y1cDBoN7"
      },
      "source": [
        "更炫的事是, 我們可以控制只印出小數點後 2 位。這時的 `f` (浮點數) 又出現了。"
      ]
    },
    {
      "cell_type": "code",
      "execution_count": null,
      "metadata": {
        "id": "drdSMTlmBoN7",
        "outputId": "75cb269a-6cf8-4bbd-b97e-e2601567200c"
      },
      "outputs": [
        {
          "name": "stdout",
          "output_type": "stream",
          "text": [
            "1 美元合台幣 30.03 元。\n"
          ]
        }
      ],
      "source": [
        "print(f\"1 美元合台幣 {c:.2f} 元。\")"
      ]
    },
    {
      "cell_type": "markdown",
      "metadata": {
        "id": "Ruki4bcCBoN7"
      },
      "source": [
        "注意還自動四捨五入! 再來我們看看以下這個例子。"
      ]
    },
    {
      "cell_type": "code",
      "execution_count": null,
      "metadata": {
        "id": "RJWJEThZBoN7",
        "outputId": "1903b6d8-0e9b-4923-9f15-2898a06a4c08"
      },
      "outputs": [
        {
          "name": "stdout",
          "output_type": "stream",
          "text": [
            "1 美元合台幣      30.03 元。\n"
          ]
        }
      ],
      "source": [
        "print(f\"1 美元合台幣 {c:10.2f} 元。\")"
      ]
    },
    {
      "cell_type": "markdown",
      "metadata": {
        "id": "SsBolAAQBoN7"
      },
      "source": [
        "看出來發生什麼事了嗎?\n",
        "\n",
        "![number formating](https://github.com/yenlung/Python-Book/blob/master/images/number_formating.png?raw=1)"
      ]
    },
    {
      "cell_type": "markdown",
      "metadata": {
        "id": "nsmqf5KLBoN7"
      },
      "source": [
        "### 更完整的控制 (對齊補滿篇)\n",
        "\n",
        "我們其實還可以控制靠左靠右的對齊..."
      ]
    },
    {
      "cell_type": "code",
      "execution_count": null,
      "metadata": {
        "id": "GCtejFPOBoN7",
        "outputId": "2a625f63-4269-42ea-d76b-40c8fd401d30"
      },
      "outputs": [
        {
          "name": "stdout",
          "output_type": "stream",
          "text": [
            "        *■\n"
          ]
        }
      ],
      "source": [
        "star = \"*\"\n",
        "print(f\"{star:>9s}■\")"
      ]
    },
    {
      "cell_type": "markdown",
      "metadata": {
        "id": "o15T5JCxBoN7"
      },
      "source": [
        "靠左。"
      ]
    },
    {
      "cell_type": "code",
      "execution_count": null,
      "metadata": {
        "id": "Ko0eOfj2BoN7",
        "outputId": "41a8fcc0-6695-4537-88f1-e55b90738376"
      },
      "outputs": [
        {
          "name": "stdout",
          "output_type": "stream",
          "text": [
            "*        ■\n"
          ]
        }
      ],
      "source": [
        "star = \"*\"\n",
        "print(f\"{star:<9s}■\")"
      ]
    },
    {
      "cell_type": "markdown",
      "metadata": {
        "id": "An23j7dEBoN8"
      },
      "source": [
        "置中。"
      ]
    },
    {
      "cell_type": "code",
      "execution_count": null,
      "metadata": {
        "scrolled": true,
        "id": "WjpjGGM3BoN8",
        "outputId": "cbbc6356-8450-4f73-fa3d-bc2b9a38e92d"
      },
      "outputs": [
        {
          "name": "stdout",
          "output_type": "stream",
          "text": [
            "    *    ■\n"
          ]
        }
      ],
      "source": [
        "star = \"*\"\n",
        "print(f\"{star:^9s}■\")"
      ]
    },
    {
      "cell_type": "markdown",
      "metadata": {
        "id": "NnYmEZD7BoN8"
      },
      "source": [
        "還可以用指定符號填滿空格。"
      ]
    },
    {
      "cell_type": "code",
      "execution_count": null,
      "metadata": {
        "id": "GXBOj21BBoN8",
        "outputId": "a53b0c76-01a1-4b19-d708-40880a3d56b8"
      },
      "outputs": [
        {
          "name": "stdout",
          "output_type": "stream",
          "text": [
            "........*■\n"
          ]
        }
      ],
      "source": [
        "star = \"*\"\n",
        "print(f\"{star:.>9s}■\")"
      ]
    },
    {
      "cell_type": "markdown",
      "metadata": {
        "id": "rACCWqyvBoN8"
      },
      "source": [
        "常見的應用是數字前要補 0。"
      ]
    },
    {
      "cell_type": "code",
      "execution_count": null,
      "metadata": {
        "id": "xnELLdyLBoN8",
        "outputId": "d8981797-2e9d-4518-f582-665bb7158af5"
      },
      "outputs": [
        {
          "name": "stdout",
          "output_type": "stream",
          "text": [
            "日期是03月08日。\n"
          ]
        }
      ],
      "source": [
        "m = 3\n",
        "d = 8\n",
        "\n",
        "print(f\"日期是{m:0>2d}月{d:0>2d}日。\")"
      ]
    },
    {
      "cell_type": "markdown",
      "metadata": {
        "id": "0PRPYwGTBoN8"
      },
      "source": [
        "其實字串本來就有個內建的方法。"
      ]
    },
    {
      "cell_type": "code",
      "execution_count": null,
      "metadata": {
        "id": "AYJAyufeBoN8",
        "outputId": "b32909fe-0e46-4030-99bc-da120507018b"
      },
      "outputs": [
        {
          "data": {
            "text/plain": [
              "'03'"
            ]
          },
          "execution_count": 29,
          "metadata": {},
          "output_type": "execute_result"
        }
      ],
      "source": [
        "str(m).zfill(2)"
      ]
    },
    {
      "cell_type": "markdown",
      "metadata": {
        "id": "AB-x9pk9BoN8"
      },
      "source": [
        "利用置中的耍寶小應用。"
      ]
    },
    {
      "cell_type": "code",
      "execution_count": null,
      "metadata": {
        "id": "T6asy9aJBoN8"
      },
      "outputs": [],
      "source": [
        "face = \"(๑• . •๑)\""
      ]
    },
    {
      "cell_type": "code",
      "execution_count": null,
      "metadata": {
        "id": "aNjgRpsWBoN8",
        "outputId": "92fb9454-f84d-44d8-b6f2-6c316f63573b"
      },
      "outputs": [
        {
          "data": {
            "text/plain": [
              "9"
            ]
          },
          "execution_count": 31,
          "metadata": {},
          "output_type": "execute_result"
        }
      ],
      "source": [
        "len(face)"
      ]
    },
    {
      "cell_type": "code",
      "execution_count": null,
      "metadata": {
        "id": "b1vVkO0FBoN8",
        "outputId": "77aca678-adc9-4902-9e27-53e1381cde8b"
      },
      "outputs": [
        {
          "name": "stdout",
          "output_type": "stream",
          "text": [
            "                  (๑• . •๑)                  \n",
            "             (๑• . •๑)(๑• . •๑)              \n",
            "         (๑• . •๑)(๑• . •๑)(๑• . •๑)         \n",
            "    (๑• . •๑)(๑• . •๑)(๑• . •๑)(๑• . •๑)     \n"
          ]
        }
      ],
      "source": [
        "for i in range(1, 5):\n",
        "    faces = face * i\n",
        "    print(f\"{faces:^45s}\")"
      ]
    },
    {
      "cell_type": "code",
      "execution_count": null,
      "metadata": {
        "id": "lUhO-fj8BoN8",
        "outputId": "9836fffd-4483-40c0-9981-b38480870382"
      },
      "outputs": [
        {
          "name": "stdout",
          "output_type": "stream",
          "text": [
            "      *      \n",
            "     ***     \n",
            "    *****    \n",
            "   *******   \n",
            "  *********  \n",
            " *********** \n",
            "*************\n"
          ]
        }
      ],
      "source": [
        "for i in range(1, 14, 2):\n",
        "    stars = \"*\" * i\n",
        "    print(f'{stars:^13s}')"
      ]
    },
    {
      "cell_type": "markdown",
      "metadata": {
        "id": "w1SSUq3lBoN8"
      },
      "source": [
        "![文青機器人](https://github.com/yenlung/Python-Book/blob/master/images/poem.png?raw=1)\n",
        "\n",
        "我們讓 Python 寫首詩吧。\n",
        "\n",
        "去收集一些你覺得容易在詩裡出現的字眼, 做成一個串列。接著, 你可以亂數決定幾句的詩, 比如說 2-7 句。同時也可以亂數決定每句各用多少詞, 再隨機選取你選的字..."
      ]
    },
    {
      "cell_type": "code",
      "execution_count": null,
      "metadata": {
        "id": "hRFGJGx4BoN8"
      },
      "outputs": [],
      "source": [
        "st = '''\n",
        "我\n",
        "我的\n",
        "眼睛\n",
        "妳\n",
        "妳的\n",
        "心\n",
        "溫柔\n",
        "日子\n",
        "雨\n",
        "風\n",
        "天空\n",
        "雲\n",
        "等待\n",
        "哭泣\n",
        "戀愛\n",
        "相遇\n",
        "分離\n",
        "忘記\n",
        "心醉\n",
        "驀然\n",
        "吹過\n",
        "思念\n",
        "靈魂\n",
        "停止\n",
        "'''"
      ]
    },
    {
      "cell_type": "code",
      "execution_count": null,
      "metadata": {
        "id": "Uv1umqMFBoN8"
      },
      "outputs": [],
      "source": [
        "words = st.split('\\n')"
      ]
    },
    {
      "cell_type": "code",
      "execution_count": null,
      "metadata": {
        "id": "XE38JtD_BoN8",
        "outputId": "fbcd7bc5-2fb5-47eb-bc6f-49472da7352c"
      },
      "outputs": [
        {
          "data": {
            "text/plain": [
              "['',\n",
              " '我',\n",
              " '我的',\n",
              " '眼睛',\n",
              " '妳',\n",
              " '妳的',\n",
              " '心',\n",
              " '溫柔',\n",
              " '日子',\n",
              " '雨',\n",
              " '風',\n",
              " '天空',\n",
              " '雲',\n",
              " '等待',\n",
              " '哭泣',\n",
              " '戀愛',\n",
              " '相遇',\n",
              " '分離',\n",
              " '忘記',\n",
              " '心醉',\n",
              " '驀然',\n",
              " '吹過',\n",
              " '思念',\n",
              " '靈魂',\n",
              " '停止',\n",
              " '']"
            ]
          },
          "execution_count": 36,
          "metadata": {},
          "output_type": "execute_result"
        }
      ],
      "source": [
        "words"
      ]
    },
    {
      "cell_type": "code",
      "execution_count": null,
      "metadata": {
        "id": "OSuzAdrvBoN8"
      },
      "outputs": [],
      "source": [
        "from random import randint, choices, sample"
      ]
    },
    {
      "cell_type": "code",
      "execution_count": null,
      "metadata": {
        "id": "4YFXo_a4BoN8",
        "outputId": "667b0701-93aa-46a8-f352-92410266b976"
      },
      "outputs": [
        {
          "name": "stdout",
          "output_type": "stream",
          "text": [
            "妳的 我\n",
            "哭泣 日子\n",
            "忘記 妳的\n",
            "忘記 我\n",
            "溫柔 戀愛 我\n"
          ]
        }
      ],
      "source": [
        "n = randint(2, 7) # 決定有幾句\n",
        "\n",
        "for i in range(n):\n",
        "    m = randint(2, 5) # 決定每句的長度\n",
        "    sentence = sample(words, m)\n",
        "    print(\" \".join(sentence))"
      ]
    },
    {
      "cell_type": "markdown",
      "metadata": {
        "id": "6KkOS0hIBoN9"
      },
      "source": [
        "然後我們改成函數。"
      ]
    },
    {
      "cell_type": "code",
      "execution_count": null,
      "metadata": {
        "id": "Rm-lRJs3BoN9"
      },
      "outputs": [],
      "source": [
        "def poem():\n",
        "    n = randint(2, 7) # 決定有幾句\n",
        "\n",
        "    for i in range(n):\n",
        "        m = randint(2, 5) # 決定每句的長度\n",
        "        sentence = sample(words, m)\n",
        "        print(\" \".join(sentence))"
      ]
    },
    {
      "cell_type": "code",
      "execution_count": null,
      "metadata": {
        "id": "4CdpfxIRBoN9",
        "outputId": "1947fa49-3cc6-4065-e5f7-d133115b037b"
      },
      "outputs": [
        {
          "name": "stdout",
          "output_type": "stream",
          "text": [
            "驀然 吹過\n",
            "日子 眼睛\n",
            "戀愛 妳的\n",
            "相遇 妳的 吹過 等待 我的\n",
            "溫柔 我的 等待 妳的\n"
          ]
        }
      ],
      "source": [
        "poem()"
      ]
    },
    {
      "cell_type": "markdown",
      "metadata": {
        "id": "tQ9POF34BoN9"
      },
      "source": [
        "於是我們就可以一直寫詩..."
      ]
    },
    {
      "cell_type": "code",
      "execution_count": null,
      "metadata": {
        "id": "HhCz91xABoN9",
        "outputId": "32aaad41-6908-4e48-a8fe-0af903d909ea"
      },
      "outputs": [
        {
          "name": "stdout",
          "output_type": "stream",
          "text": [
            "等待 思念 妳\n",
            "靈魂 心醉  溫柔 相遇\n",
            "溫柔 靈魂 哭泣 分離\n",
            "思念 哭泣 天空\n"
          ]
        }
      ],
      "source": [
        "poem()"
      ]
    },
    {
      "cell_type": "code",
      "execution_count": null,
      "metadata": {
        "id": "qSdFCgIeBoN9",
        "outputId": "56ec091d-798b-4edb-dc36-6a65048ccc94"
      },
      "outputs": [
        {
          "name": "stdout",
          "output_type": "stream",
          "text": [
            "靈魂 等待 忘記 眼睛 風\n",
            "溫柔 妳\n",
            "哭泣  我\n",
            "心 忘記 溫柔 天空\n",
            "妳 溫柔 日子 雨 \n",
            "日子 眼睛 停止 我 妳\n"
          ]
        }
      ],
      "source": [
        "poem()"
      ]
    },
    {
      "cell_type": "markdown",
      "metadata": {
        "id": "9pGty0TZBoN9"
      },
      "source": [
        "用之前學的存檔起來!"
      ]
    },
    {
      "cell_type": "code",
      "execution_count": null,
      "metadata": {
        "id": "NPRtouoEBoN9",
        "outputId": "9d373f2b-db1c-4d1a-cfc6-59a8beaa98c1"
      },
      "outputs": [
        {
          "name": "stdout",
          "output_type": "stream",
          "text": [
            "File `poem.py` exists. Overwrite (y/[N])?  y\n",
            "'62 59-60 66-67' was not found in history, as a file, url, nor in the user namespace.\n"
          ]
        }
      ],
      "source": [
        "%save \"poem.py\" 62 59-60 66-67"
      ]
    },
    {
      "cell_type": "markdown",
      "metadata": {
        "id": "WuHmos1DBoN9"
      },
      "source": [
        "於是, 在終端機中, 我們就可以與詩相遇...\n",
        "\n",
        "![在終端機中寫首詩](https://github.com/yenlung/Python-Book/blob/master/images/run_poem.png?raw=1)"
      ]
    }
  ],
  "metadata": {
    "kernelspec": {
      "display_name": "Python 3",
      "language": "python",
      "name": "python3"
    },
    "language_info": {
      "codemirror_mode": {
        "name": "ipython",
        "version": 3
      },
      "file_extension": ".py",
      "mimetype": "text/x-python",
      "name": "python",
      "nbconvert_exporter": "python",
      "pygments_lexer": "ipython3",
      "version": "3.7.3"
    },
    "colab": {
      "provenance": [],
      "include_colab_link": true
    }
  },
  "nbformat": 4,
  "nbformat_minor": 0
}
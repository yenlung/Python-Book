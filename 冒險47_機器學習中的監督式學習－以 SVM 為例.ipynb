{
  "cells": [
    {
      "cell_type": "markdown",
      "metadata": {
        "id": "view-in-github",
        "colab_type": "text"
      },
      "source": [
        "<a href=\"https://colab.research.google.com/github/yenlung/Python-Book/blob/master/%E5%86%92%E9%9A%AA47_%E6%A9%9F%E5%99%A8%E5%AD%B8%E7%BF%92%E4%B8%AD%E7%9A%84%E7%9B%A3%E7%9D%A3%E5%BC%8F%E5%AD%B8%E7%BF%92%EF%BC%8D%E4%BB%A5%20SVM%20%E7%82%BA%E4%BE%8B.ipynb\" target=\"_parent\"><img src=\"https://colab.research.google.com/assets/colab-badge.svg\" alt=\"Open In Colab\"/></a>"
      ]
    },
    {
      "cell_type": "code",
      "execution_count": null,
      "metadata": {
        "id": "8enZv43dHLKr"
      },
      "outputs": [],
      "source": [
        "%matplotlib inline\n",
        "\n",
        "import numpy as np\n",
        "import matplotlib.pyplot as plt"
      ]
    },
    {
      "cell_type": "markdown",
      "metadata": {
        "id": "UVZuTdY6HLKs"
      },
      "source": [
        "簡單的製造一份資料，有四個點和兩個類別。"
      ]
    },
    {
      "cell_type": "code",
      "execution_count": null,
      "metadata": {
        "id": "PP-TTcIQHLKs"
      },
      "outputs": [],
      "source": [
        "X = np.array([[-3, 2], [-6, 5], [3, -4], [2, -8]])\n",
        "Y = np.array([1, 1, 2, 2])"
      ]
    },
    {
      "cell_type": "markdown",
      "metadata": {
        "id": "YyFR6YF1HLKs"
      },
      "source": [
        "畫出來看一下。"
      ]
    },
    {
      "cell_type": "code",
      "execution_count": null,
      "metadata": {
        "id": "Gc0SLmxIHLKs",
        "outputId": "8e01b88f-0165-4798-f4b6-1b2f55b7186f"
      },
      "outputs": [
        {
          "data": {
            "text/plain": [
              "<matplotlib.collections.PathCollection at 0x7ff5802bcc50>"
            ]
          },
          "execution_count": 3,
          "metadata": {},
          "output_type": "execute_result"
        },
        {
          "data": {
            "image/png": "[encoded data removed]",
            "text/plain": [
              "<Figure size 432x288 with 1 Axes>"
            ]
          },
          "metadata": {
            "needs_background": "light"
          },
          "output_type": "display_data"
        }
      ],
      "source": [
        "plt.scatter(x = X[:, 0], y = X[:, 1], c = Y, cmap = 'Paired')"
      ]
    },
    {
      "cell_type": "markdown",
      "metadata": {
        "id": "2ODj35nBHLKt"
      },
      "source": [
        "我們用「函數學習三部曲」來做分類。"
      ]
    },
    {
      "cell_type": "markdown",
      "metadata": {
        "id": "suCym1sTHLKt"
      },
      "source": [
        "### step 1. 打造一個函數學習機"
      ]
    },
    {
      "cell_type": "code",
      "execution_count": null,
      "metadata": {
        "id": "tEjruB8JHLKt"
      },
      "outputs": [],
      "source": [
        "from sklearn.svm import SVC\n",
        "\n",
        "clf = SVC(gamma = 'auto')"
      ]
    },
    {
      "cell_type": "markdown",
      "metadata": {
        "id": "E3Xj1oP0HLKt"
      },
      "source": [
        "### step 2. 訓練"
      ]
    },
    {
      "cell_type": "code",
      "execution_count": null,
      "metadata": {
        "id": "kv4wvUg-HLKt",
        "outputId": "1c0d7d5b-ef4b-4990-82c9-9ef23ccbe749"
      },
      "outputs": [
        {
          "data": {
            "text/plain": [
              "SVC(C=1.0, cache_size=200, class_weight=None, coef0=0.0,\n",
              "    decision_function_shape='ovr', degree=3, gamma='auto', kernel='rbf',\n",
              "    max_iter=-1, probability=False, random_state=None, shrinking=True,\n",
              "    tol=0.001, verbose=False)"
            ]
          },
          "execution_count": 6,
          "metadata": {},
          "output_type": "execute_result"
        }
      ],
      "source": [
        "clf.fit(X, Y)"
      ]
    },
    {
      "cell_type": "markdown",
      "metadata": {
        "id": "WwXNPr4GHLKt"
      },
      "source": [
        "### step 3. 預測"
      ]
    },
    {
      "cell_type": "code",
      "execution_count": null,
      "metadata": {
        "id": "lx1DwsNJHLKt"
      },
      "outputs": [],
      "source": [
        "Y_pred = clf.predict(X)"
      ]
    },
    {
      "cell_type": "markdown",
      "metadata": {
        "id": "Ph_MBDFCHLKt"
      },
      "source": [
        "來看「答題狀況」。"
      ]
    },
    {
      "cell_type": "code",
      "execution_count": null,
      "metadata": {
        "id": "b0rk3sO9HLKu",
        "outputId": "c09af165-2329-4451-b07c-dc704c3a676e"
      },
      "outputs": [
        {
          "name": "stdout",
          "output_type": "stream",
          "text": [
            "[ True  True  True  True]\n"
          ]
        }
      ],
      "source": [
        "print(Y_pred == Y)"
      ]
    },
    {
      "cell_type": "markdown",
      "metadata": {
        "id": "bLgKwvKIHLKu"
      },
      "source": [
        "隨便丟幾組數據進去，看看模型是不是真的可以預測未知情況。"
      ]
    },
    {
      "cell_type": "code",
      "execution_count": null,
      "metadata": {
        "id": "C-Nj14K4HLKu",
        "outputId": "3c746313-2265-4423-a0e5-5717a863ff8b"
      },
      "outputs": [
        {
          "name": "stdout",
          "output_type": "stream",
          "text": [
            "[1]\n"
          ]
        }
      ],
      "source": [
        "print(clf.predict([[5.4, 8.7]]))"
      ]
    },
    {
      "cell_type": "code",
      "execution_count": null,
      "metadata": {
        "id": "Hkh0_bVUHLKu",
        "outputId": "3240419b-0842-4358-fd51-b121f46f099e"
      },
      "outputs": [
        {
          "name": "stdout",
          "output_type": "stream",
          "text": [
            "[2]\n"
          ]
        }
      ],
      "source": [
        "print(clf.predict([[1, -10]]))"
      ]
    }
  ],
  "metadata": {
    "kernelspec": {
      "display_name": "Python 3",
      "language": "python",
      "name": "python3"
    },
    "language_info": {
      "codemirror_mode": {
        "name": "ipython",
        "version": 3
      },
      "file_extension": ".py",
      "mimetype": "text/x-python",
      "name": "python",
      "nbconvert_exporter": "python",
      "pygments_lexer": "ipython3",
      "version": "3.7.3"
    },
    "colab": {
      "provenance": [],
      "include_colab_link": true
    }
  },
  "nbformat": 4,
  "nbformat_minor": 0
}
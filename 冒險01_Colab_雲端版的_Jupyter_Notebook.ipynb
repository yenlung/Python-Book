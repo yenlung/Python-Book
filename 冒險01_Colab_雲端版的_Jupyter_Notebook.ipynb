{
  "cells": [
    {
      "cell_type": "markdown",
      "metadata": {
        "id": "view-in-github",
        "colab_type": "text"
      },
      "source": [
        "<a href=\"https://colab.research.google.com/github/yenlung/Python-Book/blob/master/%E5%86%92%E9%9A%AA01_Colab_%E9%9B%B2%E7%AB%AF%E7%89%88%E7%9A%84_Jupyter_Notebook.ipynb\" target=\"_parent\"><img src=\"https://colab.research.google.com/assets/colab-badge.svg\" alt=\"Open In Colab\"/></a>"
      ]
    },
    {
      "cell_type": "markdown",
      "metadata": {
        "id": "18ZNoYkz-PKq"
      },
      "source": [
        "### Google Colab\n",
        "\n",
        "使用 Google 的 Colab, 你可以不用在自己的電腦上安裝 Anaconda。唯一要注意的是未來要存取檔案時有些小技巧, 詳情請見書裡的說明。新版的書我們會以使用 Google Colab 為主。"
      ]
    },
    {
      "cell_type": "markdown",
      "metadata": {
        "id": "Pd595y6N-PKo"
      },
      "source": [
        "到\n",
        "\n",
        "[Anaconda 個人版專區](https://www.anaconda.com/products/individual)\n",
        "\n",
        "找到 `Download` 的按鈕, 會去下載 Python 3 的版本, 並安裝在自己的電腦中。"
      ]
    },
    {
      "cell_type": "markdown",
      "metadata": {
        "id": "ZPL62iei-PKq"
      },
      "source": [
        "![test](https://github.com/yenlung/Python-Book/blob/master/images/T_python_install.png?raw=1)"
      ]
    },
    {
      "cell_type": "markdown",
      "metadata": {
        "id": "GLY3Qvos-PKq"
      },
      "source": [
        "![Jupyter Notebook 執行](https://github.com/yenlung/Python-Book/blob/master/images/jupyter_notebook.png?raw=1)"
      ]
    },
    {
      "cell_type": "markdown",
      "metadata": {
        "id": "bROf1YsK-PKq"
      },
      "source": [
        "![Jupyter Notebook](https://github.com/yenlung/Python-Book/blob/master/images/T_jupyter_notebook.png?raw=1)"
      ]
    },
    {
      "cell_type": "markdown",
      "metadata": {
        "id": "5S8m15qs-PKq"
      },
      "source": [
        "Jupyter Notebook 是 Python 的前端界面, 讓 Python 更好用、互動性更強! Jupyter 前身叫做 IPython, 但是現代的 Jupyter 不只可以用 Python, 也可以支援其他程式語言, 所以改名叫 Jupyter。名稱的由來是\n",
        "\n",
        "* Julia-Python-R 三種開放式的程式語言混合\n",
        "* 發音就是「木星」 (Jupiter), 取伽利略當時觀察木星衛星, 筆記完全開放那種精神。"
      ]
    }
  ],
  "metadata": {
    "anaconda-cloud": {},
    "kernelspec": {
      "display_name": "Python 3",
      "language": "python",
      "name": "python3"
    },
    "language_info": {
      "codemirror_mode": {
        "name": "ipython",
        "version": 3
      },
      "file_extension": ".py",
      "mimetype": "text/x-python",
      "name": "python",
      "nbconvert_exporter": "python",
      "pygments_lexer": "ipython3",
      "version": "3.7.3"
    },
    "colab": {
      "provenance": [],
      "include_colab_link": true
    }
  },
  "nbformat": 4,
  "nbformat_minor": 0
}
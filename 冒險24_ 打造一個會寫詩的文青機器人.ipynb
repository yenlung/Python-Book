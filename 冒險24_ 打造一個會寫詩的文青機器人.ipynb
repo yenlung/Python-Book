{
  "cells": [
    {
      "cell_type": "markdown",
      "metadata": {
        "id": "view-in-github",
        "colab_type": "text"
      },
      "source": [
        "<a href=\"https://colab.research.google.com/github/yenlung/Python-Book/blob/master/%E5%86%92%E9%9A%AA24_%20%E6%89%93%E9%80%A0%E4%B8%80%E5%80%8B%E6%9C%83%E5%AF%AB%E8%A9%A9%E7%9A%84%E6%96%87%E9%9D%92%E6%A9%9F%E5%99%A8%E4%BA%BA.ipynb\" target=\"_parent\"><img src=\"https://colab.research.google.com/assets/colab-badge.svg\" alt=\"Open In Colab\"/></a>"
      ]
    },
    {
      "cell_type": "code",
      "execution_count": null,
      "metadata": {
        "id": "nddlIRAvRFzt"
      },
      "outputs": [],
      "source": [
        "%matplotlib inline\n",
        "\n",
        "import numpy as np\n",
        "import pandas as pd\n",
        "import matplotlib.pyplot as plt"
      ]
    },
    {
      "cell_type": "markdown",
      "metadata": {
        "id": "0u_TlAuQRFzu"
      },
      "source": [
        "![文青機器人](https://github.com/yenlung/Python-Book/blob/master/images/poem.png?raw=1)\n",
        "\n",
        "我們讓 Python 寫首詩吧。\n",
        "\n",
        "去收集一些你覺得容易在詩裡出現的字眼, 做成一個串列。接著, 你可以亂數決定幾句的詩, 比如說 2-7 句。同時也可以亂數決定每句各用多少詞, 再隨機選取你選的字..."
      ]
    },
    {
      "cell_type": "code",
      "execution_count": null,
      "metadata": {
        "id": "ewOuBmqURFzv"
      },
      "outputs": [],
      "source": [
        "rawdata = '''我\n",
        "我的\n",
        "眼睛\n",
        "妳\n",
        "妳的\n",
        "心\n",
        "溫柔\n",
        "日子\n",
        "雨\n",
        "風\n",
        "天空\n",
        "雲\n",
        "等待\n",
        "哭泣\n",
        "戀愛\n",
        "相遇\n",
        "分離\n",
        "忘記\n",
        "心醉\n",
        "驀然\n",
        "吹過\n",
        "思念\n",
        "靈魂\n",
        "停止'''"
      ]
    },
    {
      "cell_type": "code",
      "execution_count": null,
      "metadata": {
        "id": "i3FOLTM4RFzv"
      },
      "outputs": [],
      "source": [
        "words = rawdata.split('\\n')"
      ]
    },
    {
      "cell_type": "code",
      "execution_count": null,
      "metadata": {
        "id": "KB3_cYr7RFzv",
        "outputId": "9f6e5094-5f18-4262-f810-0b448eff127c"
      },
      "outputs": [
        {
          "data": {
            "text/plain": [
              "['我',\n",
              " '我的',\n",
              " '眼睛',\n",
              " '妳',\n",
              " '妳的',\n",
              " '心',\n",
              " '溫柔',\n",
              " '日子',\n",
              " '雨',\n",
              " '風',\n",
              " '天空',\n",
              " '雲',\n",
              " '等待',\n",
              " '哭泣',\n",
              " '戀愛',\n",
              " '相遇',\n",
              " '分離',\n",
              " '忘記',\n",
              " '心醉',\n",
              " '驀然',\n",
              " '吹過',\n",
              " '思念',\n",
              " '靈魂',\n",
              " '停止']"
            ]
          },
          "execution_count": 4,
          "metadata": {},
          "output_type": "execute_result"
        }
      ],
      "source": [
        "words"
      ]
    },
    {
      "cell_type": "code",
      "execution_count": null,
      "metadata": {
        "id": "5JJiREFcRFzv",
        "outputId": "49ab2c88-7c5e-4ce0-8906-f8509615a3ae"
      },
      "outputs": [
        {
          "data": {
            "text/plain": [
              "array(['妳的', '靈魂', '我', '日子', '戀愛'], dtype='<U2')"
            ]
          },
          "execution_count": 5,
          "metadata": {},
          "output_type": "execute_result"
        }
      ],
      "source": [
        "np.random.choice(words, 5, replace=False)"
      ]
    },
    {
      "cell_type": "markdown",
      "metadata": {
        "id": "YeMFKE2qRFzw"
      },
      "source": [
        "可以合起來。"
      ]
    },
    {
      "cell_type": "code",
      "execution_count": null,
      "metadata": {
        "id": "6UZnRdpFRFzw",
        "outputId": "4cae4665-c35c-42f9-bb8f-c404baaaed59"
      },
      "outputs": [
        {
          "data": {
            "text/plain": [
              "'分離 停止 吹過 哭泣 心'"
            ]
          },
          "execution_count": 6,
          "metadata": {},
          "output_type": "execute_result"
        }
      ],
      "source": [
        "' '.join(np.random.choice(words, 5, replace=False))"
      ]
    },
    {
      "cell_type": "code",
      "execution_count": null,
      "metadata": {
        "id": "uGGmYR11RFzw",
        "outputId": "6262f997-edca-4ccb-ab78-847ea7d95e4c"
      },
      "outputs": [
        {
          "name": "stdout",
          "output_type": "stream",
          "text": [
            "分離\n",
            "日子 風 吹過 雲 心\n",
            "分離\n",
            "心 停止 妳的 思念 戀愛\n",
            "哭泣 驀然 吹過 相遇\n"
          ]
        }
      ],
      "source": [
        "n = np.random.randint(2, 8) # 2-8句, 決定有幾句\n",
        "\n",
        "for i in range(n):\n",
        "    m = np.random.randint(1, 6) # 決定每句的長度\n",
        "    sentence = np.random.choice(words, m, replace=False)\n",
        "    print(\" \".join(sentence))"
      ]
    },
    {
      "cell_type": "markdown",
      "metadata": {
        "id": "HuLfONmlRFzw"
      },
      "source": [
        "然後我們改成函數。"
      ]
    },
    {
      "cell_type": "code",
      "execution_count": null,
      "metadata": {
        "id": "cC4IqbZDRFzw"
      },
      "outputs": [],
      "source": [
        "def poem():\n",
        "    n = np.random.randint(2, 8) # 2-8句, 決定有幾句\n",
        "\n",
        "    for i in range(n):\n",
        "        m = np.random.randint(1, 6) # 決定每句的長度\n",
        "        sentence = np.random.choice(words, m, replace=False)\n",
        "        print(\" \".join(sentence))"
      ]
    },
    {
      "cell_type": "code",
      "execution_count": null,
      "metadata": {
        "id": "zonKr90xRFzw",
        "outputId": "1888619b-defb-4c57-873a-a35c25419dbc"
      },
      "outputs": [
        {
          "name": "stdout",
          "output_type": "stream",
          "text": [
            "妳\n",
            "我的 吹過\n"
          ]
        }
      ],
      "source": [
        "poem()"
      ]
    },
    {
      "cell_type": "code",
      "execution_count": null,
      "metadata": {
        "id": "gNp6WrPHRFzw",
        "outputId": "5c15a555-6164-4929-8c52-74bca984738f"
      },
      "outputs": [
        {
          "name": "stdout",
          "output_type": "stream",
          "text": [
            "哭泣 相遇 風\n",
            "忘記 天空 我的 心醉\n",
            "心醉 哭泣 日子\n",
            "天空 分離 溫柔\n",
            "驀然 日子 天空 心 雨\n",
            "吹過 靈魂 日子 雲\n",
            "風 雲\n"
          ]
        }
      ],
      "source": [
        "poem()"
      ]
    },
    {
      "cell_type": "code",
      "execution_count": null,
      "metadata": {
        "scrolled": true,
        "id": "q58ZOXu_RFzw",
        "outputId": "3e6a1650-f63e-4fe1-9a31-e6a4e55e9bac"
      },
      "outputs": [
        {
          "name": "stdout",
          "output_type": "stream",
          "text": [
            "我的 思念\n",
            "思念 眼睛 等待 雲 天空\n",
            "戀愛 妳的 思念\n",
            "思念\n"
          ]
        }
      ],
      "source": [
        "poem()"
      ]
    },
    {
      "cell_type": "code",
      "execution_count": null,
      "metadata": {
        "id": "9sNXzGGnRFzw",
        "outputId": "4d01ad80-d100-431b-fae3-62c168bc7972"
      },
      "outputs": [
        {
          "name": "stdout",
          "output_type": "stream",
          "text": [
            "心 天空 相遇\n",
            "心醉 思念 我 雨\n"
          ]
        }
      ],
      "source": [
        "poem()"
      ]
    },
    {
      "cell_type": "markdown",
      "metadata": {
        "id": "ObezbLl9RFzx"
      },
      "source": [
        "用之前學的存檔起來!"
      ]
    },
    {
      "cell_type": "code",
      "execution_count": null,
      "metadata": {
        "id": "ERoU7TsWRFzx",
        "outputId": "2c0bd53e-8522-4c49-ff8f-b1da4495fb78"
      },
      "outputs": [
        {
          "name": "stdout",
          "output_type": "stream",
          "text": [
            "The following commands were written to file `poem.py`:\n",
            "import numpy as np\n",
            "import matplotlib.pyplot as plt\n",
            "rawdata = '''我\n",
            "我的\n",
            "眼睛\n",
            "妳\n",
            "妳的\n",
            "心\n",
            "溫柔\n",
            "日子\n",
            "雨\n",
            "風\n",
            "天空\n",
            "雲\n",
            "等待\n",
            "哭泣\n",
            "戀愛\n",
            "相遇\n",
            "分離\n",
            "忘記\n",
            "心醉\n",
            "驀然\n",
            "吹過\n",
            "思念\n",
            "靈魂\n",
            "停止'''\n",
            "words = rawdata.split('\\n')\n",
            "def poem():\n",
            "    n = np.random.randint(2, 8) # 2-8句, 決定有幾句\n",
            "\n",
            "    for i in range(n):\n",
            "        m = np.random.randint(1, 6) # 決定每句的長度\n",
            "        sentence = np.random.choice(words, m, replace=False)\n",
            "        print(\" \".join(sentence))\n",
            "poem()\n"
          ]
        }
      ],
      "source": [
        "%save \"poem.py\" 1 2-3 8-9"
      ]
    },
    {
      "cell_type": "markdown",
      "metadata": {
        "id": "MiT1xHX2RFzx"
      },
      "source": [
        "於是, 在終端機中, 我們就可以與詩相遇...\n",
        "\n",
        "![在終端機中寫首詩](https://github.com/yenlung/Python-Book/blob/master/images/run_poem.png?raw=1)"
      ]
    },
    {
      "cell_type": "code",
      "execution_count": null,
      "metadata": {
        "id": "MiZp1aimRFzx"
      },
      "outputs": [],
      "source": []
    }
  ],
  "metadata": {
    "kernelspec": {
      "display_name": "Python 3",
      "language": "python",
      "name": "python3"
    },
    "language_info": {
      "codemirror_mode": {
        "name": "ipython",
        "version": 3
      },
      "file_extension": ".py",
      "mimetype": "text/x-python",
      "name": "python",
      "nbconvert_exporter": "python",
      "pygments_lexer": "ipython3",
      "version": "3.7.3"
    },
    "colab": {
      "provenance": [],
      "include_colab_link": true
    }
  },
  "nbformat": 4,
  "nbformat_minor": 0
}
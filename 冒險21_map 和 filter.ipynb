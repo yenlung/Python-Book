{
  "cells": [
    {
      "cell_type": "markdown",
      "metadata": {
        "id": "view-in-github",
        "colab_type": "text"
      },
      "source": [
        "<a href=\"https://colab.research.google.com/github/yenlung/Python-Book/blob/master/%E5%86%92%E9%9A%AA21_map%20%E5%92%8C%20filter.ipynb\" target=\"_parent\"><img src=\"https://colab.research.google.com/assets/colab-badge.svg\" alt=\"Open In Colab\"/></a>"
      ]
    },
    {
      "cell_type": "code",
      "execution_count": null,
      "metadata": {
        "id": "Ct4gQSP_QPtP"
      },
      "outputs": [],
      "source": [
        "%matplotlib inline\n",
        "\n",
        "import numpy as np\n",
        "import pandas as pd\n",
        "import matplotlib.pyplot as plt"
      ]
    },
    {
      "cell_type": "markdown",
      "metadata": {
        "id": "DYlTysX2QPtQ"
      },
      "source": [
        "## `map` 篇\n",
        "\n",
        "還記得之前我們要把一個串列裡的法郎, 一次全換算成台幣, 需要用迴圈一個個做嗎? 現在我們學會函式的寫法, 可以先寫一個「匯率換算」的程式, 然後用 `map` 一次把串列中所有的錢換算好!"
      ]
    },
    {
      "cell_type": "markdown",
      "metadata": {
        "id": "fxEB5kaKQPtQ"
      },
      "source": [
        "### 問題\n",
        "\n",
        "這次我們到了澳洲, 又是要買三件物品, 價格分別是\n",
        "\n",
        "    200, 450, 35\n",
        "    \n",
        "澳幣。我們又 Google 了一下, 發現 1 澳幣合台幣 20.5408283 元, 於是我們寫個函數來換算一下。"
      ]
    },
    {
      "cell_type": "code",
      "execution_count": null,
      "metadata": {
        "id": "LH1E-_9pQPtR"
      },
      "outputs": [],
      "source": [
        "c = 20.5408283\n",
        "\n",
        "def aud2twd(m):\n",
        "    return c*m"
      ]
    },
    {
      "cell_type": "markdown",
      "metadata": {
        "id": "xpxRFqZdQPtR"
      },
      "source": [
        "我們來試用一下, 假設我們想知道 100 澳幣合台幣多少。"
      ]
    },
    {
      "cell_type": "code",
      "execution_count": null,
      "metadata": {
        "id": "bECRIF5OQPtR",
        "outputId": "7b144f70-faaa-443a-c39d-60556169ef89"
      },
      "outputs": [
        {
          "data": {
            "text/plain": [
              "2054.0828300000003"
            ]
          },
          "execution_count": 3,
          "metadata": {},
          "output_type": "execute_result"
        }
      ],
      "source": [
        "aud2twd(100)"
      ]
    },
    {
      "cell_type": "markdown",
      "metadata": {
        "id": "J_7elgG1QPtR"
      },
      "source": [
        "現在來換算我們三個物品合台幣多少。"
      ]
    },
    {
      "cell_type": "code",
      "execution_count": null,
      "metadata": {
        "id": "DV7HHQvHQPtR"
      },
      "outputs": [],
      "source": [
        "price = [200, 450, 35]"
      ]
    },
    {
      "cell_type": "markdown",
      "metadata": {
        "id": "2bsGvIRwQPtR"
      },
      "source": [
        "![map 使用方式](https://github.com/yenlung/Python-Book/blob/master/images/map.png?raw=1)"
      ]
    },
    {
      "cell_type": "code",
      "execution_count": null,
      "metadata": {
        "id": "ucd7f9deQPtR",
        "outputId": "787ccc90-45ea-4aea-d526-1fa67b69266c"
      },
      "outputs": [
        {
          "data": {
            "text/plain": [
              "<map at 0x7ff5b8f0ba20>"
            ]
          },
          "execution_count": 5,
          "metadata": {},
          "output_type": "execute_result"
        }
      ],
      "source": [
        "map(aud2twd, price)"
      ]
    },
    {
      "cell_type": "markdown",
      "metadata": {
        "id": "2chxqWEnQPtR"
      },
      "source": [
        "耶? 這什麼意思? 原來我們真的要「看到」, 需要把這個 `map` 用串列表現出來。"
      ]
    },
    {
      "cell_type": "code",
      "execution_count": null,
      "metadata": {
        "id": "yYTxpCS1QPtS",
        "outputId": "130f50be-3ed7-42d9-ab4e-485e76bbab28"
      },
      "outputs": [
        {
          "data": {
            "text/plain": [
              "[4108.165660000001, 9243.372735, 718.9289905]"
            ]
          },
          "execution_count": 6,
          "metadata": {},
          "output_type": "execute_result"
        }
      ],
      "source": [
        "list(map(aud2twd, price))"
      ]
    },
    {
      "cell_type": "markdown",
      "metadata": {
        "id": "3ReglO6ZQPtS"
      },
      "source": [
        "## `lambda`: 臨時要使用的函數\n",
        "\n",
        "`map` 看來挺方便的, 不過還是有一個問題, 需要特別去定義一個函數。這麼簡單的函數, 難道不能臨時定義一個嗎? 答案是肯定的, `lambda` 就是為臨時要用的函數而生。定義方式非常簡單:\n",
        "\n",
        "![lambda 的使用](https://github.com/yenlung/Python-Book/blob/master/images/lambda.png?raw=1)\n",
        "\n",
        "\n"
      ]
    },
    {
      "cell_type": "code",
      "execution_count": null,
      "metadata": {
        "id": "z-F0lMNSQPtS",
        "outputId": "16eb403f-c876-4d39-80be-b4bc091a323f"
      },
      "outputs": [
        {
          "data": {
            "text/plain": [
              "[4108.165660000001, 9243.372735, 718.9289905]"
            ]
          },
          "execution_count": 7,
          "metadata": {},
          "output_type": "execute_result"
        }
      ],
      "source": [
        "list(map(lambda x:c*x, price))"
      ]
    },
    {
      "cell_type": "code",
      "execution_count": null,
      "metadata": {
        "id": "GVMmxfD0QPtS"
      },
      "outputs": [],
      "source": [
        "egg = lambda x:c*x"
      ]
    },
    {
      "cell_type": "code",
      "execution_count": null,
      "metadata": {
        "id": "5PCTF3UuQPtS",
        "outputId": "d7c48d51-69e7-4ee7-8549-30027345fcca"
      },
      "outputs": [
        {
          "data": {
            "text/plain": [
              "2054.0828300000003"
            ]
          },
          "execution_count": 9,
          "metadata": {},
          "output_type": "execute_result"
        }
      ],
      "source": [
        "egg(100)"
      ]
    },
    {
      "cell_type": "markdown",
      "metadata": {
        "id": "JAqGy9l5QPtS"
      },
      "source": [
        "果然一次成功!"
      ]
    },
    {
      "cell_type": "markdown",
      "metadata": {
        "id": "xiBJxSx7QPtS"
      },
      "source": [
        "## `filter` 篇\n",
        "\n",
        "現在我們來討論 `filter`。要使用 `filter`, 我們需要定義一個輸出為布林值 (Ture/Flase) 的函數。然後用 filter 過濾, 如果一個串列中符合這個要求 (True) 的就留下來, 否則就去掉。\n",
        "\n",
        "![filter](https://github.com/yenlung/Python-Book/blob/master/images/filter.png?raw=1)"
      ]
    },
    {
      "cell_type": "markdown",
      "metadata": {
        "id": "wo8SYI7iQPtS"
      },
      "source": [
        "### 問題\n",
        "\n",
        "在一個 1-20 的串列中, 我們想找出其中為偶數的數字。"
      ]
    },
    {
      "cell_type": "code",
      "execution_count": null,
      "metadata": {
        "id": "JT4fUB9QQPtS"
      },
      "outputs": [],
      "source": [
        "def isEven(n):\n",
        "    return n%2 == 0"
      ]
    },
    {
      "cell_type": "markdown",
      "metadata": {
        "id": "NwrZBh7tQPtS"
      },
      "source": [
        "這樣可以檢查是不是偶數, 我們來試試!"
      ]
    },
    {
      "cell_type": "code",
      "execution_count": null,
      "metadata": {
        "id": "JJjmSlRIQPtS",
        "outputId": "e80c010f-b393-4ed1-e50b-3c19e39cec6a"
      },
      "outputs": [
        {
          "data": {
            "text/plain": [
              "True"
            ]
          },
          "execution_count": 11,
          "metadata": {},
          "output_type": "execute_result"
        }
      ],
      "source": [
        "isEven(94)"
      ]
    },
    {
      "cell_type": "code",
      "execution_count": null,
      "metadata": {
        "id": "JXvOXJmCQPtT",
        "outputId": "fce2d65c-1163-48d6-a35f-b4a086be1ad6"
      },
      "outputs": [
        {
          "data": {
            "text/plain": [
              "False"
            ]
          },
          "execution_count": 12,
          "metadata": {},
          "output_type": "execute_result"
        }
      ],
      "source": [
        "isEven(87)"
      ]
    },
    {
      "cell_type": "markdown",
      "metadata": {
        "id": "lzjOMnHVQPtT"
      },
      "source": [
        "濾出偶數!"
      ]
    },
    {
      "cell_type": "code",
      "execution_count": null,
      "metadata": {
        "id": "3UK8Zgc9QPtT"
      },
      "outputs": [],
      "source": [
        "egg = list(range(1, 21))"
      ]
    },
    {
      "cell_type": "code",
      "execution_count": null,
      "metadata": {
        "id": "PKI7dITQQPtT",
        "outputId": "32121f18-9c5d-4368-c8a9-83820555511e"
      },
      "outputs": [
        {
          "data": {
            "text/plain": [
              "[1, 2, 3, 4, 5, 6, 7, 8, 9, 10, 11, 12, 13, 14, 15, 16, 17, 18, 19, 20]"
            ]
          },
          "execution_count": 14,
          "metadata": {},
          "output_type": "execute_result"
        }
      ],
      "source": [
        "egg"
      ]
    },
    {
      "cell_type": "code",
      "execution_count": null,
      "metadata": {
        "id": "BSFm30dbQPtT",
        "outputId": "190cb571-85c0-41b0-f4f6-aa830d2619ed"
      },
      "outputs": [
        {
          "data": {
            "text/plain": [
              "[2, 4, 6, 8, 10, 12, 14, 16, 18, 20]"
            ]
          },
          "execution_count": 15,
          "metadata": {},
          "output_type": "execute_result"
        }
      ],
      "source": [
        "list(filter(isEven, egg))"
      ]
    },
    {
      "cell_type": "markdown",
      "metadata": {
        "id": "Oq_WZTCOQPtT"
      },
      "source": [
        "果然成功了!\n",
        "\n",
        "我們可能用 `lambda` 做這件事嗎?"
      ]
    },
    {
      "cell_type": "code",
      "execution_count": null,
      "metadata": {
        "id": "DnudEJ3aQPtT",
        "outputId": "5f5303bf-9827-4327-f058-07a0342ab682"
      },
      "outputs": [
        {
          "data": {
            "text/plain": [
              "[2, 4, 6, 8, 10, 12, 14, 16, 18, 20]"
            ]
          },
          "execution_count": 17,
          "metadata": {},
          "output_type": "execute_result"
        }
      ],
      "source": [
        "list(filter(lambda x:x%2==0, egg))"
      ]
    },
    {
      "cell_type": "markdown",
      "metadata": {
        "id": "GS8PeClaQPtT"
      },
      "source": [
        "一樣可以!! 當然還可以更快速的:"
      ]
    },
    {
      "cell_type": "code",
      "execution_count": null,
      "metadata": {
        "id": "3MeM5aFrQPtT",
        "outputId": "105473b0-4104-42f0-80ba-e8d94c93c29c"
      },
      "outputs": [
        {
          "data": {
            "text/plain": [
              "[2, 4, 6, 8, 10, 12, 14, 16, 18, 20]"
            ]
          },
          "execution_count": 18,
          "metadata": {},
          "output_type": "execute_result"
        }
      ],
      "source": [
        "[k for k in egg if k%2==0]"
      ]
    }
  ],
  "metadata": {
    "kernelspec": {
      "display_name": "Python 3",
      "language": "python",
      "name": "python3"
    },
    "language_info": {
      "codemirror_mode": {
        "name": "ipython",
        "version": 3
      },
      "file_extension": ".py",
      "mimetype": "text/x-python",
      "name": "python",
      "nbconvert_exporter": "python",
      "pygments_lexer": "ipython3",
      "version": "3.7.3"
    },
    "colab": {
      "provenance": [],
      "include_colab_link": true
    }
  },
  "nbformat": 4,
  "nbformat_minor": 0
}
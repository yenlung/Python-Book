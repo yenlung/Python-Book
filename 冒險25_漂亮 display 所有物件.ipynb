{
  "cells": [
    {
      "cell_type": "markdown",
      "metadata": {
        "id": "view-in-github",
        "colab_type": "text"
      },
      "source": [
        "<a href=\"https://colab.research.google.com/github/yenlung/Python-Book/blob/master/%E5%86%92%E9%9A%AA25_%E6%BC%82%E4%BA%AE%20display%20%E6%89%80%E6%9C%89%E7%89%A9%E4%BB%B6.ipynb\" target=\"_parent\"><img src=\"https://colab.research.google.com/assets/colab-badge.svg\" alt=\"Open In Colab\"/></a>"
      ]
    },
    {
      "cell_type": "markdown",
      "metadata": {
        "id": "n2mQS7aXCPh3"
      },
      "source": [
        "![display](https://github.com/yenlung/Python-Book/blob/master/images/T_display.png?raw=1)"
      ]
    },
    {
      "cell_type": "code",
      "execution_count": null,
      "metadata": {
        "id": "6kXKQt8zCPh4"
      },
      "outputs": [],
      "source": [
        "%matplotlib inline\n",
        "\n",
        "import numpy as np\n",
        "import matplotlib.pyplot as plt"
      ]
    },
    {
      "cell_type": "markdown",
      "metadata": {
        "id": "9qufXjuOCPh4"
      },
      "source": [
        "在 Jupyter Notebook 中, 我們可以顯示各種東西..."
      ]
    },
    {
      "cell_type": "code",
      "execution_count": null,
      "metadata": {
        "id": "Ubqwr-PBCPh4"
      },
      "outputs": [],
      "source": [
        "from IPython.display import display"
      ]
    },
    {
      "cell_type": "code",
      "execution_count": null,
      "metadata": {
        "scrolled": true,
        "id": "5XTwQx9wCPh5",
        "outputId": "5dab7f70-de08-49ac-b16c-df150a354e42"
      },
      "outputs": [
        {
          "data": {
            "text/plain": [
              "'瑞斯尼克4P教育理論'"
            ]
          },
          "metadata": {},
          "output_type": "display_data"
        }
      ],
      "source": [
        "ham = \"瑞斯尼克4P教育理論\"\n",
        "display(ham)"
      ]
    },
    {
      "cell_type": "code",
      "execution_count": null,
      "metadata": {
        "id": "Qse4SbAKCPh5",
        "outputId": "c5ff216e-31b6-4edc-b582-89d0cfb5c6ac"
      },
      "outputs": [
        {
          "data": {
            "text/plain": [
              "['專案', '熱情', '社群', '玩心']"
            ]
          },
          "metadata": {},
          "output_type": "display_data"
        }
      ],
      "source": [
        "egg = ['專案', '熱情', '社群', '玩心']\n",
        "display(egg)"
      ]
    },
    {
      "cell_type": "code",
      "execution_count": null,
      "metadata": {
        "id": "kwFmjf70CPh5"
      },
      "outputs": [],
      "source": [
        "from IPython.display import HTML, Markdown, Image, YouTubeVideo"
      ]
    },
    {
      "cell_type": "markdown",
      "metadata": {
        "id": "FhKf8YA7CPh5"
      },
      "source": [
        "### 先來 `Markdown`"
      ]
    },
    {
      "cell_type": "code",
      "execution_count": null,
      "metadata": {
        "id": "oHdkjen_CPh5"
      },
      "outputs": [],
      "source": [
        "egg = r\"## 你好!\""
      ]
    },
    {
      "cell_type": "markdown",
      "metadata": {
        "id": "NhxB-SLTCPh5"
      },
      "source": [
        "用 `Markdown` 包起來。"
      ]
    },
    {
      "cell_type": "code",
      "execution_count": null,
      "metadata": {
        "id": "NeBHk2GuCPh6"
      },
      "outputs": [],
      "source": [
        "pancake = Markdown(egg)"
      ]
    },
    {
      "cell_type": "markdown",
      "metadata": {
        "id": "0hkHaDduCPh6"
      },
      "source": [
        "再 display 顯示出來!"
      ]
    },
    {
      "cell_type": "code",
      "execution_count": null,
      "metadata": {
        "id": "r6FnEhphCPh6",
        "outputId": "5dd228dd-714d-4dcb-d9a1-e33d9b568851"
      },
      "outputs": [
        {
          "data": {
            "text/markdown": [
              "## 你好!"
            ],
            "text/plain": [
              "<IPython.core.display.Markdown object>"
            ]
          },
          "metadata": {},
          "output_type": "display_data"
        }
      ],
      "source": [
        "display(pancake)"
      ]
    },
    {
      "cell_type": "markdown",
      "metadata": {
        "id": "jlZjB8SsCPh6"
      },
      "source": [
        "這和直接在 Jupyter Notebook 筆記的 `Markdown` 有什麼不同? 答案是現在可以放在程式中..."
      ]
    },
    {
      "cell_type": "code",
      "execution_count": null,
      "metadata": {
        "id": "z1mOzAhdCPh6",
        "outputId": "e935d74a-46d6-4814-e616-05d2395be687"
      },
      "outputs": [
        {
          "name": "stdout",
          "output_type": "stream",
          "text": [
            "請問 1 加 1 等於多少? \n"
          ]
        },
        {
          "data": {
            "text/markdown": [
              "## 太神了！你真是天才！"
            ],
            "text/plain": [
              "<IPython.core.display.Markdown object>"
            ]
          },
          "metadata": {},
          "output_type": "display_data"
        }
      ],
      "source": [
        "ans = input(\"請問 1 加 1 等於多少? \")\n",
        "display(Markdown(r\"## 太神了！你真是天才！\"))"
      ]
    },
    {
      "cell_type": "markdown",
      "metadata": {
        "id": "kFNe1VUbCPh6"
      },
      "source": [
        "數學符號也是可以的!"
      ]
    },
    {
      "cell_type": "code",
      "execution_count": null,
      "metadata": {
        "id": "Js_8K-WfCPh6",
        "outputId": "148bd47b-26b3-44b7-aa55-fe958b363d06"
      },
      "outputs": [
        {
          "data": {
            "text/markdown": [
              "請把下列這個多項式\n",
              "\n",
              "## $$f(x) = x^2 - 1$$\n",
              "\n",
              "做因式分解。\n"
            ],
            "text/plain": [
              "<IPython.core.display.Markdown object>"
            ]
          },
          "metadata": {},
          "output_type": "display_data"
        },
        {
          "name": "stdout",
          "output_type": "stream",
          "text": [
            "\n"
          ]
        },
        {
          "data": {
            "text/markdown": [
              "答案是: $(x-1)(x+1)$"
            ],
            "text/plain": [
              "<IPython.core.display.Markdown object>"
            ]
          },
          "metadata": {},
          "output_type": "display_data"
        }
      ],
      "source": [
        "egg = r'''請把下列這個多項式\n",
        "\n",
        "## $$f(x) = x^2 - 1$$\n",
        "\n",
        "做因式分解。\n",
        "'''\n",
        "\n",
        "problem = Markdown(egg)\n",
        "display(problem)\n",
        "\n",
        "useless = input()\n",
        "\n",
        "ans = Markdown(r'答案是: $(x-1)(x+1)$')\n",
        "display(ans)"
      ]
    },
    {
      "cell_type": "markdown",
      "metadata": {
        "id": "16htJre2CPh6"
      },
      "source": [
        "### 圖片"
      ]
    },
    {
      "cell_type": "code",
      "execution_count": null,
      "metadata": {
        "id": "eDij0-OzCPh6",
        "outputId": "d6294252-c286-40c8-8bb1-beef2d97cdb1"
      },
      "outputs": [
        {
          "data": {
            "image/png": "[encoded data removed]",
            "text/plain": [
              "<IPython.core.display.Image object>"
            ]
          },
          "metadata": {},
          "output_type": "display_data"
        }
      ],
      "source": [
        "girl = Image('images/girl.png')\n",
        "display(girl)"
      ]
    },
    {
      "cell_type": "markdown",
      "metadata": {
        "id": "t_fWXPdzCPh6"
      },
      "source": [
        "### YouTube 影片"
      ]
    },
    {
      "cell_type": "code",
      "execution_count": null,
      "metadata": {
        "id": "OjPpSM-MCPh6",
        "outputId": "ef487063-50e5-417a-ea07-92bbb55c81a2"
      },
      "outputs": [
        {
          "data": {
            "image/jpeg": "[encoded data removed]",
            "text/html": [
              "\n",
              "        <iframe\n",
              "            width=\"400\"\n",
              "            height=\"300\"\n",
              "            src=\"https://www.youtube.com/embed/8h2dMBMGjWQ\"\n",
              "            frameborder=\"0\"\n",
              "            allowfullscreen\n",
              "        ></iframe>\n",
              "        "
            ],
            "text/plain": [
              "<IPython.lib.display.YouTubeVideo at 0x7fef694af2e8>"
            ]
          },
          "metadata": {},
          "output_type": "display_data"
        }
      ],
      "source": [
        "yenlung = YouTubeVideo('8h2dMBMGjWQ')\n",
        "display(yenlung)"
      ]
    },
    {
      "cell_type": "markdown",
      "metadata": {
        "id": "1mWpTX7ECPh6"
      },
      "source": [
        "### HTML\n",
        "\n",
        "HTML 是寫網頁的程式語言, 想學可以參考\n",
        "\n",
        "[W3Schools HTML 教學](https://www.w3schools.com/html/default.asp)"
      ]
    },
    {
      "cell_type": "code",
      "execution_count": null,
      "metadata": {
        "id": "mDfAogYUCPh6",
        "outputId": "32815eca-bd22-48e1-ddd8-0525ee6a0d74"
      },
      "outputs": [
        {
          "data": {
            "text/html": [
              "<h2>你好!</h2>"
            ],
            "text/plain": [
              "<IPython.core.display.HTML object>"
            ]
          },
          "metadata": {},
          "output_type": "display_data"
        }
      ],
      "source": [
        "egg = r\"<h2>你好!</h2>\"\n",
        "pancake = HTML(egg)\n",
        "display(pancake)"
      ]
    },
    {
      "cell_type": "markdown",
      "metadata": {
        "id": "HPsuSxa9CPh7"
      },
      "source": [
        "那看起來比 `Markdown` 麻煩一些耶! 用 HTML 到底是有什好處? 原來 HTML 自由度更高, 可以做的變化更多!"
      ]
    },
    {
      "cell_type": "code",
      "execution_count": null,
      "metadata": {
        "id": "UJVbnJR2CPh7"
      },
      "outputs": [],
      "source": [
        "egg = r'<h2 style=\"color:red;\">你好!</h2>'"
      ]
    },
    {
      "cell_type": "code",
      "execution_count": null,
      "metadata": {
        "id": "QhgQ9-hECPh7",
        "outputId": "0a283f27-9678-4d88-c9fa-72f63634eec2"
      },
      "outputs": [
        {
          "data": {
            "text/html": [
              "<h2 style=\"color:red;\">你好!</h2>"
            ],
            "text/plain": [
              "<IPython.core.display.HTML object>"
            ]
          },
          "metadata": {},
          "output_type": "display_data"
        }
      ],
      "source": [
        "display(HTML(egg))"
      ]
    },
    {
      "cell_type": "code",
      "execution_count": null,
      "metadata": {
        "id": "KNNt_oomCPh7"
      },
      "outputs": [],
      "source": [
        "egg = r'上了這門課, <s>就會和我一樣厲害</s>'"
      ]
    },
    {
      "cell_type": "code",
      "execution_count": null,
      "metadata": {
        "id": "5qY2Da2FCPh7",
        "outputId": "2e53d4d6-790d-4ebd-ffcd-7063ce64e644"
      },
      "outputs": [
        {
          "data": {
            "text/html": [
              "上了這門課, <s>就會和我一樣厲害</s>"
            ],
            "text/plain": [
              "<IPython.core.display.HTML object>"
            ]
          },
          "metadata": {},
          "output_type": "display_data"
        }
      ],
      "source": [
        "display(HTML(egg))"
      ]
    },
    {
      "cell_type": "code",
      "execution_count": null,
      "metadata": {
        "id": "jmp2eJ2lCPh7"
      },
      "outputs": [],
      "source": [
        "from time import sleep\n",
        "from IPython.display import clear_output"
      ]
    },
    {
      "cell_type": "code",
      "execution_count": null,
      "metadata": {
        "id": "RHJQv5uICPh7",
        "outputId": "287c21cd-f245-4749-8838-9973fa3676d5"
      },
      "outputs": [
        {
          "data": {
            "text/html": [
              "&nbsp&nbsp&nbsp&nbsp&nbsp&nbsp&nbsp&nbsp&nbsp&nbsp&nbsp&nbsp&nbsp&nbsp&nbsp&nbsp&nbsp&nbsp&nbsp&nbsp&nbsp&nbsp&nbsp&nbsp&nbsp&nbsp&nbsp&nbsp&nbsp&nbsp&nbsp&nbsp&nbsp&nbsp&nbsp&nbsp&nbsp&nbsp&nbsp<img src=\"images/girl.png\" style=\"display:inline;\"/>"
            ],
            "text/plain": [
              "<IPython.core.display.HTML object>"
            ]
          },
          "metadata": {},
          "output_type": "display_data"
        }
      ],
      "source": [
        "sp = r'&nbsp'\n",
        "girl = r'<img src=\"images/girl.png\" style=\"display:inline;\"/>'\n",
        "for i in range(1, 40):\n",
        "    egg = sp*i + girl\n",
        "    clear_output()\n",
        "    display(HTML(egg))\n",
        "    sleep(0.5)"
      ]
    }
  ],
  "metadata": {
    "kernelspec": {
      "display_name": "Python 3",
      "language": "python",
      "name": "python3"
    },
    "language_info": {
      "codemirror_mode": {
        "name": "ipython",
        "version": 3
      },
      "file_extension": ".py",
      "mimetype": "text/x-python",
      "name": "python",
      "nbconvert_exporter": "python",
      "pygments_lexer": "ipython3",
      "version": "3.7.3"
    },
    "colab": {
      "provenance": [],
      "include_colab_link": true
    }
  },
  "nbformat": 4,
  "nbformat_minor": 0
}
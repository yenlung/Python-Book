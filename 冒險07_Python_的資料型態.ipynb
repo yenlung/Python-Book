{
  "cells": [
    {
      "cell_type": "markdown",
      "metadata": {
        "id": "view-in-github",
        "colab_type": "text"
      },
      "source": [
        "<a href=\"https://colab.research.google.com/github/yenlung/Python-Book/blob/master/%E5%86%92%E9%9A%AA07_Python_%E7%9A%84%E8%B3%87%E6%96%99%E5%9E%8B%E6%85%8B.ipynb\" target=\"_parent\"><img src=\"https://colab.research.google.com/assets/colab-badge.svg\" alt=\"Open In Colab\"/></a>"
      ]
    },
    {
      "cell_type": "code",
      "execution_count": 1,
      "metadata": {
        "id": "hkNhW2K47wZs"
      },
      "outputs": [],
      "source": [
        "%matplotlib inline\n",
        "\n",
        "import numpy as np\n",
        "import pandas as pd\n",
        "import matplotlib.pyplot as plt"
      ]
    },
    {
      "cell_type": "markdown",
      "metadata": {
        "id": "QXEm03_g7wZt"
      },
      "source": [
        "我們設幾個變數。"
      ]
    },
    {
      "cell_type": "code",
      "execution_count": 2,
      "metadata": {
        "id": "ZNaC7xXC7wZu"
      },
      "outputs": [],
      "source": [
        "spam = 73\n",
        "egg = \"你好\"\n",
        "ham = [9, 4, 8, 7]"
      ]
    },
    {
      "cell_type": "markdown",
      "metadata": {
        "id": "T1oiU3H-7wZu"
      },
      "source": [
        "在 Colab 中, 想看某個變數目前的內容, 直接打出變數名稱, 再按 `shift-enter` 就可以了!"
      ]
    },
    {
      "cell_type": "code",
      "execution_count": 3,
      "metadata": {
        "id": "-87cW4Nw7wZu",
        "outputId": "65b25ee9-7b66-4671-e021-af507152624a",
        "colab": {
          "base_uri": "https://localhost:8080/",
          "height": 35
        }
      },
      "outputs": [
        {
          "output_type": "execute_result",
          "data": {
            "text/plain": [
              "'你好'"
            ],
            "application/vnd.google.colaboratory.intrinsic+json": {
              "type": "string"
            }
          },
          "metadata": {},
          "execution_count": 3
        }
      ],
      "source": [
        "egg"
      ]
    },
    {
      "cell_type": "markdown",
      "metadata": {
        "id": "TOOcomew7wZv"
      },
      "source": [
        "我們來看看像 egg 這個字串變數有沒有乘法。"
      ]
    },
    {
      "cell_type": "code",
      "execution_count": 4,
      "metadata": {
        "id": "3SDhkk1l7wZv",
        "outputId": "6c4536ae-b9c3-4013-b258-cdf59b5e1f6a",
        "colab": {
          "base_uri": "https://localhost:8080/",
          "height": 35
        }
      },
      "outputs": [
        {
          "output_type": "execute_result",
          "data": {
            "text/plain": [
              "'你好你好你好'"
            ],
            "application/vnd.google.colaboratory.intrinsic+json": {
              "type": "string"
            }
          },
          "metadata": {},
          "execution_count": 4
        }
      ],
      "source": [
        "egg * 3"
      ]
    },
    {
      "cell_type": "markdown",
      "metadata": {
        "id": "4QZPW5jf7wZv"
      },
      "source": [
        "其實就是重覆三次, 那串列 `ham` 是不是也很類似?"
      ]
    },
    {
      "cell_type": "code",
      "execution_count": 5,
      "metadata": {
        "id": "_SdT9q4q7wZv",
        "outputId": "56c80e42-49b1-4273-dbac-fefe723ae831",
        "colab": {
          "base_uri": "https://localhost:8080/"
        }
      },
      "outputs": [
        {
          "output_type": "execute_result",
          "data": {
            "text/plain": [
              "[9, 4, 8, 7, 9, 4, 8, 7, 9, 4, 8, 7]"
            ]
          },
          "metadata": {},
          "execution_count": 5
        }
      ],
      "source": [
        "ham * 3"
      ]
    },
    {
      "cell_type": "markdown",
      "metadata": {
        "id": "uAlAkeUS7wZv"
      },
      "source": [
        "那 egg 可以加上數字嗎?"
      ]
    },
    {
      "cell_type": "code",
      "execution_count": 6,
      "metadata": {
        "id": "GMVEDjhc7wZv",
        "outputId": "cde1cddd-da35-42bf-b4fa-abc28b044378",
        "colab": {
          "base_uri": "https://localhost:8080/",
          "height": 173
        }
      },
      "outputs": [
        {
          "output_type": "error",
          "ename": "TypeError",
          "evalue": "ignored",
          "traceback": [
            "\u001b[0;31m---------------------------------------------------------------------------\u001b[0m",
            "\u001b[0;31mTypeError\u001b[0m                                 Traceback (most recent call last)",
            "\u001b[0;32m<ipython-input-6-64cb583c2999>\u001b[0m in \u001b[0;36m<module>\u001b[0;34m\u001b[0m\n\u001b[0;32m----> 1\u001b[0;31m \u001b[0megg\u001b[0m \u001b[0;34m+\u001b[0m \u001b[0;36m87\u001b[0m\u001b[0;34m\u001b[0m\u001b[0;34m\u001b[0m\u001b[0m\n\u001b[0m",
            "\u001b[0;31mTypeError\u001b[0m: can only concatenate str (not \"int\") to str"
          ]
        }
      ],
      "source": [
        "egg + 87"
      ]
    },
    {
      "cell_type": "markdown",
      "metadata": {
        "id": "LcKILcnT7wZv"
      },
      "source": [
        "我們發現不可以! 這種不同類型不能相加。但如果後面是字串就可以加, 這是我們以後常常會用到的小技巧。"
      ]
    },
    {
      "cell_type": "code",
      "execution_count": 7,
      "metadata": {
        "id": "jrxS4YQM7wZv",
        "outputId": "22fa996f-2a37-46e3-c804-727ac53a25ec",
        "colab": {
          "base_uri": "https://localhost:8080/",
          "height": 35
        }
      },
      "outputs": [
        {
          "output_type": "execute_result",
          "data": {
            "text/plain": [
              "'你好87'"
            ],
            "application/vnd.google.colaboratory.intrinsic+json": {
              "type": "string"
            }
          },
          "metadata": {},
          "execution_count": 7
        }
      ],
      "source": [
        "egg + \"87\""
      ]
    }
  ],
  "metadata": {
    "anaconda-cloud": {},
    "kernelspec": {
      "display_name": "Python 3",
      "language": "python",
      "name": "python3"
    },
    "language_info": {
      "codemirror_mode": {
        "name": "ipython",
        "version": 3
      },
      "file_extension": ".py",
      "mimetype": "text/x-python",
      "name": "python",
      "nbconvert_exporter": "python",
      "pygments_lexer": "ipython3",
      "version": "3.7.3"
    },
    "colab": {
      "provenance": [],
      "include_colab_link": true
    }
  },
  "nbformat": 4,
  "nbformat_minor": 0
}
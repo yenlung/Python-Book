{
  "cells": [
    {
      "cell_type": "markdown",
      "metadata": {
        "id": "view-in-github",
        "colab_type": "text"
      },
      "source": [
        "<a href=\"https://colab.research.google.com/github/yenlung/Python-Book/blob/master/%E5%86%92%E9%9A%AA19_%E5%BC%95%E5%85%A5%E5%A5%97%E4%BB%B6%EF%BC%8C%E5%AF%AB%E5%80%8B%E7%8C%9C%E6%95%B8%E5%AD%97%E9%81%8A%E6%88%B2.ipynb\" target=\"_parent\"><img src=\"https://colab.research.google.com/assets/colab-badge.svg\" alt=\"Open In Colab\"/></a>"
      ]
    },
    {
      "cell_type": "code",
      "execution_count": null,
      "metadata": {
        "id": "xJN_S4G8NfRt"
      },
      "outputs": [],
      "source": [
        "%matplotlib inline\n",
        "\n",
        "import numpy as np\n",
        "import pandas as pd\n",
        "import matplotlib.pyplot as plt"
      ]
    },
    {
      "cell_type": "markdown",
      "metadata": {
        "id": "s7zuycFeNfRu"
      },
      "source": [
        "接著我們想做一個猜數字遊戲, 並且把它設計成一個函數。為了這個, 我們介紹從 `random` 套件庫來的 `randint` 指令。"
      ]
    },
    {
      "cell_type": "markdown",
      "metadata": {
        "id": "fj7RRgFyNfRu"
      },
      "source": [
        "![randint](https://github.com/yenlung/Python-Book/blob/master/images/randint.png?raw=1)"
      ]
    },
    {
      "cell_type": "markdown",
      "metadata": {
        "id": "z2JuyPyDNfRu"
      },
      "source": [
        "### 問題: 猜數字遊戲\n",
        "\n",
        "電腦從 1-100 之間「想」一個數字。玩家開始猜電腦的數字, 電腦回饋「太大」或「太小」, 直到猜對為止。"
      ]
    },
    {
      "cell_type": "code",
      "execution_count": null,
      "metadata": {
        "id": "Cu5uXNIaNfRu"
      },
      "outputs": [],
      "source": [
        "from random import randint"
      ]
    },
    {
      "cell_type": "code",
      "execution_count": null,
      "metadata": {
        "id": "5TZ7YPcyNfRu",
        "outputId": "1ea36b84-439a-4754-94cc-bc3f86b57700"
      },
      "outputs": [
        {
          "name": "stdout",
          "output_type": "stream",
          "text": [
            "2 3 3 3 2 3 4 2 2 5 "
          ]
        }
      ],
      "source": [
        "for i in range(10):\n",
        "    print(randint(1, 5), end=' ')"
      ]
    },
    {
      "cell_type": "code",
      "execution_count": null,
      "metadata": {
        "id": "e4YOlVZ3NfRv"
      },
      "outputs": [],
      "source": [
        "def game():\n",
        "    ans = randint(1, 100)\n",
        "    guess = -1\n",
        "\n",
        "    while guess != ans:\n",
        "        guess = int(input(\"請輸入一個數字: \"))\n",
        "\n",
        "        if guess>ans:\n",
        "            print(\"太大了!\")\n",
        "        elif guess<ans:\n",
        "            print(\"太小了!\")\n",
        "        else:\n",
        "            print(\"太神了!\")"
      ]
    },
    {
      "cell_type": "code",
      "execution_count": null,
      "metadata": {
        "id": "lIy7W5vtNfRv",
        "outputId": "ea626cae-4f01-41c0-bbf2-b287477c900d"
      },
      "outputs": [
        {
          "name": "stdout",
          "output_type": "stream",
          "text": [
            "請輸入一個數字: 50\n",
            "太大了!\n",
            "請輸入一個數字: 25\n",
            "太小了!\n",
            "請輸入一個數字: 30\n",
            "太小了!\n",
            "請輸入一個數字: 40\n",
            "太小了!\n",
            "請輸入一個數字: 45\n",
            "太小了!\n",
            "請輸入一個數字: 47\n",
            "太小了!\n",
            "請輸入一個數字: 48\n",
            "太神了!\n"
          ]
        }
      ],
      "source": [
        "game()"
      ]
    },
    {
      "cell_type": "markdown",
      "metadata": {
        "id": "Y6pxJQVkNfRv"
      },
      "source": [
        "現在我們想要玩了一盤之後, 能問要不要再玩一次。這時可以發現, 我們把遊戲寫成一個函數就很方便!"
      ]
    },
    {
      "cell_type": "code",
      "execution_count": null,
      "metadata": {
        "id": "5fqUQkv1NfRv",
        "outputId": "84f7a35b-6961-447e-d2bd-c9660845bec8"
      },
      "outputs": [
        {
          "name": "stdout",
          "output_type": "stream",
          "text": [
            "請輸入一個數字: 50\n",
            "太小了!\n",
            "請輸入一個數字: 75\n",
            "太大了!\n",
            "請輸入一個數字: 60\n",
            "太小了!\n",
            "請輸入一個數字: 65\n",
            "太小了!\n",
            "請輸入一個數字: 70\n",
            "太大了!\n",
            "請輸入一個數字: 67\n",
            "太小了!\n",
            "請輸入一個數字: 68\n",
            "太小了!\n",
            "請輸入一個數字: 69\n",
            "太神了!\n",
            "ヽ(∀ﾟ )人(ﾟ∀ﾟ)人( ﾟ∀)人(∀ﾟ )ﾉ\n",
            "再玩一次?no\n"
          ]
        }
      ],
      "source": [
        "play = True\n",
        "\n",
        "while play:\n",
        "    game()\n",
        "    print(\"ヽ(∀ﾟ )人(ﾟ∀ﾟ)人( ﾟ∀)人(∀ﾟ )ﾉ\")\n",
        "    again = input(\"再玩一次?\")\n",
        "    if again == 'no':\n",
        "        play = False"
      ]
    },
    {
      "cell_type": "markdown",
      "metadata": {
        "id": "bBfySv2jNfRv"
      },
      "source": [
        "我們現在準備存成一個 Python 檔案。Python 檔一般以 `.py` 結尾, 要執行在終端機 (Anaconda Prompt) 打入\n",
        "\n",
        "    python 檔名.py\n",
        "    \n",
        "就可以!"
      ]
    },
    {
      "cell_type": "markdown",
      "metadata": {
        "id": "3OeR1UkONfRv"
      },
      "source": [
        "![Python 檔案](https://github.com/yenlung/Python-Book/blob/master/images/python_file.png?raw=1)"
      ]
    },
    {
      "cell_type": "markdown",
      "metadata": {
        "id": "xEHchJNFNfRv"
      },
      "source": [
        "看了一下, 我們這次需要存的輸入格有 35, 36, 39 三行。可以用魔術指令 `%save` 來儲存。"
      ]
    },
    {
      "cell_type": "code",
      "execution_count": null,
      "metadata": {
        "id": "K7jSgI84NfRv",
        "outputId": "98c3f357-25c1-4232-af90-e04d597bc21f"
      },
      "outputs": [
        {
          "name": "stdout",
          "output_type": "stream",
          "text": [
            "The following commands were written to file `guessing_game.py`:\n",
            "from random import randint\n",
            "def game():\n",
            "    ans = randint(1, 100)\n",
            "    guess = -1\n",
            "\n",
            "    while guess != ans:\n",
            "        guess = int(input(\"請輸入一個數字: \"))\n",
            "\n",
            "        if guess>ans:\n",
            "            print(\"太大了!\")\n",
            "        elif guess<ans:\n",
            "            print(\"太小了!\")\n",
            "        else:\n",
            "            print(\"太神了!\")\n",
            "play = True\n",
            "\n",
            "while play:\n",
            "    game()\n",
            "    print(\"ヽ(∀ﾟ )人(ﾟ∀ﾟ)人( ﾟ∀)人(∀ﾟ )ﾉ\")\n",
            "    again = input(\"再玩一次?\")\n",
            "    if again == 'no':\n",
            "        play = False\n"
          ]
        }
      ],
      "source": [
        "%save \"guessing_game.py\" 2 4 6"
      ]
    },
    {
      "cell_type": "markdown",
      "metadata": {
        "id": "rHevU__qNfRw"
      },
      "source": [
        "於是我們就可以在終端機 (或 Windows 下的 Anaconda Prompt), 確定是在這個 `guessing_game.py' 這個資料夾下, 打入\n",
        "\n",
        "    python guessing_game.py\n",
        "    \n",
        "就可以執行了!\n",
        "\n",
        "![在終端機執行猜數字遊戲](https://github.com/yenlung/Python-Book/blob/master/images/game_terminal.png?raw=1)"
      ]
    }
  ],
  "metadata": {
    "kernelspec": {
      "display_name": "Python 3",
      "language": "python",
      "name": "python3"
    },
    "language_info": {
      "codemirror_mode": {
        "name": "ipython",
        "version": 3
      },
      "file_extension": ".py",
      "mimetype": "text/x-python",
      "name": "python",
      "nbconvert_exporter": "python",
      "pygments_lexer": "ipython3",
      "version": "3.7.3"
    },
    "colab": {
      "provenance": [],
      "include_colab_link": true
    }
  },
  "nbformat": 4,
  "nbformat_minor": 0
}
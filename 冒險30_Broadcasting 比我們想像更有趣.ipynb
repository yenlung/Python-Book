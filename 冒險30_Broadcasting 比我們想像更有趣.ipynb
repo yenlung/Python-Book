{
  "cells": [
    {
      "cell_type": "markdown",
      "metadata": {
        "id": "view-in-github",
        "colab_type": "text"
      },
      "source": [
        "<a href=\"https://colab.research.google.com/github/yenlung/Python-Book/blob/master/%E5%86%92%E9%9A%AA30_Broadcasting%20%E6%AF%94%E6%88%91%E5%80%91%E6%83%B3%E5%83%8F%E6%9B%B4%E6%9C%89%E8%B6%A3.ipynb\" target=\"_parent\"><img src=\"https://colab.research.google.com/assets/colab-badge.svg\" alt=\"Open In Colab\"/></a>"
      ]
    },
    {
      "cell_type": "code",
      "execution_count": null,
      "metadata": {
        "id": "6wbgNugfSEGn"
      },
      "outputs": [],
      "source": [
        "%matplotlib inline\n",
        "\n",
        "import numpy as np\n",
        "import pandas as pd\n",
        "import matplotlib.pyplot as plt"
      ]
    },
    {
      "cell_type": "markdown",
      "metadata": {
        "id": "K0wyiWW-SEGn"
      },
      "source": [
        "我們之前「一次調分」神技，其實是用了 Broadcasting 廣播的功能！\n",
        "\n",
        "現在來複習一下，狀況弄簡單一點。有一位同學的成績是這樣：平時成績85分、期中考70分、期末考80分。"
      ]
    },
    {
      "cell_type": "code",
      "execution_count": null,
      "metadata": {
        "id": "xvID5GppSEGo"
      },
      "outputs": [],
      "source": [
        "grades = np.array([85, 70, 80])"
      ]
    },
    {
      "cell_type": "markdown",
      "metadata": {
        "id": "Yq_EFE0dSEGo"
      },
      "source": [
        "如果平時、期中、期末的成績都要乘以 1.1倍。那就讓1.1「廣播」到每一個分數，然後相乘。"
      ]
    },
    {
      "cell_type": "code",
      "execution_count": null,
      "metadata": {
        "id": "qvjZI65nSEGo",
        "outputId": "5c3464f3-d04d-469c-a26f-0c903d2e413a"
      },
      "outputs": [
        {
          "data": {
            "text/plain": [
              "array([93.5, 77. , 88. ])"
            ]
          },
          "execution_count": 3,
          "metadata": {},
          "output_type": "execute_result"
        }
      ],
      "source": [
        "grades * 1.1"
      ]
    },
    {
      "cell_type": "markdown",
      "metadata": {
        "id": "Ay2mMMjpSEGp"
      },
      "source": [
        "我們想幫這位同學算學期成績，但學期成績滿分就是100分，如果直接將上面三個分數加起來就超過了。\n",
        "\n",
        "所以學期成績通常有一個加權方式，像是平時成績佔20%、期中考佔35%、期末考佔45%。"
      ]
    },
    {
      "cell_type": "code",
      "execution_count": null,
      "metadata": {
        "id": "C9py9OF8SEGp"
      },
      "outputs": [],
      "source": [
        "weights = np.array([0.2, 0.35, 0.45])"
      ]
    },
    {
      "cell_type": "markdown",
      "metadata": {
        "id": "MJwhFB6GSEGp"
      },
      "source": [
        "平時、期中、期末加權成績。"
      ]
    },
    {
      "cell_type": "code",
      "execution_count": null,
      "metadata": {
        "id": "RvKv-yIeSEGp"
      },
      "outputs": [],
      "source": [
        "wgrades = grades * weights"
      ]
    },
    {
      "cell_type": "code",
      "execution_count": null,
      "metadata": {
        "id": "cDOhUI-4SEGp",
        "outputId": "e8e6b034-4daf-4360-b461-b93ed8deaefd"
      },
      "outputs": [
        {
          "data": {
            "text/plain": [
              "array([17. , 24.5, 36. ])"
            ]
          },
          "execution_count": 6,
          "metadata": {},
          "output_type": "execute_result"
        }
      ],
      "source": [
        "wgrades"
      ]
    },
    {
      "cell_type": "markdown",
      "metadata": {
        "id": "u_TkI3nJSEGp"
      },
      "source": [
        "把每項成績加起來，得到最後的學期成績。"
      ]
    },
    {
      "cell_type": "code",
      "execution_count": null,
      "metadata": {
        "id": "KYmTFM0GSEGp",
        "outputId": "49611e35-1e2a-4743-9b8f-8bcd9e75fcd9"
      },
      "outputs": [
        {
          "data": {
            "text/plain": [
              "77.5"
            ]
          },
          "execution_count": 7,
          "metadata": {},
          "output_type": "execute_result"
        }
      ],
      "source": [
        "wgrades.sum()"
      ]
    },
    {
      "cell_type": "markdown",
      "metadata": {
        "id": "P9nMkF2rSEGp"
      },
      "source": [
        "更快的方法——內積。"
      ]
    },
    {
      "cell_type": "code",
      "execution_count": null,
      "metadata": {
        "id": "O8yCbX5ZSEGp",
        "outputId": "4b108998-e31a-40e2-bc1c-b9debd4b0abc"
      },
      "outputs": [
        {
          "data": {
            "text/plain": [
              "77.5"
            ]
          },
          "execution_count": 9,
          "metadata": {},
          "output_type": "execute_result"
        }
      ],
      "source": [
        "np.dot(grades, weights)"
      ]
    },
    {
      "cell_type": "code",
      "execution_count": null,
      "metadata": {
        "id": "u2UtnEisSEGp",
        "outputId": "b9911e77-5cf4-4a81-d4f8-7dba1628091c"
      },
      "outputs": [
        {
          "data": {
            "text/plain": [
              "77.5"
            ]
          },
          "execution_count": 10,
          "metadata": {},
          "output_type": "execute_result"
        }
      ],
      "source": [
        "grades @ weights"
      ]
    },
    {
      "cell_type": "markdown",
      "metadata": {
        "id": "6Ou2_XfsSEGp"
      },
      "source": [
        "同時算三位同學的學期成績。"
      ]
    },
    {
      "cell_type": "code",
      "execution_count": null,
      "metadata": {
        "id": "vEraL7HQSEGp"
      },
      "outputs": [],
      "source": [
        "grades = np.array([[85, 70, 80],\n",
        "                 [12, 88, 77],\n",
        "                 [85, 91, 33]])"
      ]
    },
    {
      "cell_type": "code",
      "execution_count": null,
      "metadata": {
        "id": "pfYaaWU2SEGq"
      },
      "outputs": [],
      "source": [
        "weights = np.array([0.2, 0.35, 0.45])"
      ]
    },
    {
      "cell_type": "code",
      "execution_count": null,
      "metadata": {
        "id": "Vlk6jkVhSEGq",
        "outputId": "10511995-d6a3-43a5-df96-08460c658642"
      },
      "outputs": [
        {
          "data": {
            "text/plain": [
              "array([77.5 , 67.85, 63.7 ])"
            ]
          },
          "execution_count": 13,
          "metadata": {},
          "output_type": "execute_result"
        }
      ],
      "source": [
        "grades @ weights"
      ]
    },
    {
      "cell_type": "markdown",
      "metadata": {
        "id": "mcH2_5MASEGq"
      },
      "source": [
        "array 的不同形狀。"
      ]
    },
    {
      "cell_type": "markdown",
      "metadata": {
        "id": "h5LCGoNFSEGq"
      },
      "source": [
        "一維向量"
      ]
    },
    {
      "cell_type": "code",
      "execution_count": null,
      "metadata": {
        "id": "PpCCOM06SEGq",
        "outputId": "82215283-1e0e-4659-92ee-d39f60a73538"
      },
      "outputs": [
        {
          "data": {
            "text/plain": [
              "array([0, 1, 2])"
            ]
          },
          "execution_count": 14,
          "metadata": {},
          "output_type": "execute_result"
        }
      ],
      "source": [
        "np.array([0, 1, 2])"
      ]
    },
    {
      "cell_type": "markdown",
      "metadata": {
        "id": "VFPY_LUlSEGq"
      },
      "source": [
        "二維矩陣"
      ]
    },
    {
      "cell_type": "code",
      "execution_count": null,
      "metadata": {
        "id": "GpHAGgAKSEGq",
        "outputId": "1645e78c-b951-4d13-ec28-73f222c2d29d"
      },
      "outputs": [
        {
          "data": {
            "text/plain": [
              "array([[0, 0, 0],\n",
              "       [1, 1, 1],\n",
              "       [2, 2, 2]])"
            ]
          },
          "execution_count": 15,
          "metadata": {},
          "output_type": "execute_result"
        }
      ],
      "source": [
        "np.array([[0, 0, 0],\n",
        "        [1, 1, 1],\n",
        "        [2, 2, 2]])"
      ]
    },
    {
      "cell_type": "markdown",
      "metadata": {
        "id": "6Zo67orlSEGq"
      },
      "source": [
        "三維 array"
      ]
    },
    {
      "cell_type": "code",
      "execution_count": null,
      "metadata": {
        "id": "X-N_nmtlSEGq",
        "outputId": "ddbe24ca-6676-4e75-cfe9-132a0bba2963"
      },
      "outputs": [
        {
          "data": {
            "text/plain": [
              "array([[[0, 0, 0],\n",
              "        [1, 1, 1],\n",
              "        [2, 2, 2]],\n",
              "\n",
              "       [[3, 3, 3],\n",
              "        [4, 4, 4],\n",
              "        [5, 5, 5]]])"
            ]
          },
          "execution_count": 16,
          "metadata": {},
          "output_type": "execute_result"
        }
      ],
      "source": [
        "np.array([[[0, 0, 0],\n",
        "        [1, 1, 1],\n",
        "        [2, 2, 2]],\n",
        "        [[3, 3, 3],\n",
        "        [4, 4, 4],\n",
        "        [5, 5, 5]]])"
      ]
    }
  ],
  "metadata": {
    "kernelspec": {
      "display_name": "Python 3",
      "language": "python",
      "name": "python3"
    },
    "language_info": {
      "codemirror_mode": {
        "name": "ipython",
        "version": 3
      },
      "file_extension": ".py",
      "mimetype": "text/x-python",
      "name": "python",
      "nbconvert_exporter": "python",
      "pygments_lexer": "ipython3",
      "version": "3.7.4"
    },
    "colab": {
      "provenance": [],
      "include_colab_link": true
    }
  },
  "nbformat": 4,
  "nbformat_minor": 0
}
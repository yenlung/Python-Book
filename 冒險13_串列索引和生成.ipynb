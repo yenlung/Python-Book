{
  "cells": [
    {
      "cell_type": "markdown",
      "metadata": {
        "id": "view-in-github",
        "colab_type": "text"
      },
      "source": [
        "<a href=\"https://colab.research.google.com/github/yenlung/Python-Book/blob/master/%E5%86%92%E9%9A%AA13_%E4%B8%B2%E5%88%97%E7%B4%A2%E5%BC%95%E5%92%8C%E7%94%9F%E6%88%90.ipynb\" target=\"_parent\"><img src=\"https://colab.research.google.com/assets/colab-badge.svg\" alt=\"Open In Colab\"/></a>"
      ]
    },
    {
      "cell_type": "code",
      "execution_count": 1,
      "metadata": {
        "id": "cV05z0miBffS"
      },
      "outputs": [],
      "source": [
        "%matplotlib inline\n",
        "\n",
        "import numpy as np\n",
        "import pandas as pd\n",
        "import matplotlib.pyplot"
      ]
    },
    {
      "cell_type": "markdown",
      "metadata": {
        "id": "jQ47PVfNBffS"
      },
      "source": [
        "![串列的生成](https://github.com/yenlung/Python-Book/blob/master/images/T_range.png?raw=1)"
      ]
    },
    {
      "cell_type": "markdown",
      "metadata": {
        "id": "eLmscMd-BffT"
      },
      "source": [
        "不久之後, 你會發現串列在 Python 中可以說是非常重要的資料型態。於是有很多「快速生串列」的方法。這之中 `range` 是最常用來快速生成串列的指令。"
      ]
    },
    {
      "cell_type": "code",
      "execution_count": 2,
      "metadata": {
        "id": "7NCqrP4NBffT",
        "outputId": "8e2a1e32-6c9e-4bf7-ba04-8d46654c003f",
        "colab": {
          "base_uri": "https://localhost:8080/"
        }
      },
      "outputs": [
        {
          "output_type": "execute_result",
          "data": {
            "text/plain": [
              "range(0, 10)"
            ]
          },
          "metadata": {},
          "execution_count": 2
        }
      ],
      "source": [
        "range(10)"
      ]
    },
    {
      "cell_type": "markdown",
      "metadata": {
        "id": "0cFg_9CNBffU"
      },
      "source": [
        "加上 list 指令更清楚。"
      ]
    },
    {
      "cell_type": "code",
      "execution_count": 3,
      "metadata": {
        "id": "lX0VIKB9BffU",
        "outputId": "348c72e3-15fd-4206-e060-127eb03dcacf",
        "colab": {
          "base_uri": "https://localhost:8080/"
        }
      },
      "outputs": [
        {
          "output_type": "execute_result",
          "data": {
            "text/plain": [
              "[0, 1, 2, 3, 4, 5, 6, 7, 8, 9]"
            ]
          },
          "metadata": {},
          "execution_count": 3
        }
      ],
      "source": [
        "list(range(10))"
      ]
    },
    {
      "cell_type": "markdown",
      "metadata": {
        "id": "2Xww13vpBffU"
      },
      "source": [
        "也可放到一個變數當中。"
      ]
    },
    {
      "cell_type": "code",
      "execution_count": 4,
      "metadata": {
        "id": "bBdP1XvBBffU"
      },
      "outputs": [],
      "source": [
        "egg = list(range(10))"
      ]
    },
    {
      "cell_type": "code",
      "execution_count": 5,
      "metadata": {
        "id": "KzBwBBODBffU",
        "outputId": "564825df-56cc-405a-83c7-f8153f857f17",
        "colab": {
          "base_uri": "https://localhost:8080/"
        }
      },
      "outputs": [
        {
          "output_type": "execute_result",
          "data": {
            "text/plain": [
              "[0, 1, 2, 3, 4, 5, 6, 7, 8, 9]"
            ]
          },
          "metadata": {},
          "execution_count": 5
        }
      ],
      "source": [
        "egg"
      ]
    },
    {
      "cell_type": "markdown",
      "metadata": {
        "id": "6OwjPK0CBffU"
      },
      "source": [
        "    range(n, m)\n",
        "    \n",
        "會產成一串的數字 x, 這些數字符合\n",
        "\n",
        "$$n \\leq x < m$$"
      ]
    },
    {
      "cell_type": "code",
      "execution_count": 6,
      "metadata": {
        "id": "-rSf86FcBffU",
        "outputId": "1e55adb3-d5a8-4db0-8e0e-e7a7d137a83c",
        "colab": {
          "base_uri": "https://localhost:8080/"
        }
      },
      "outputs": [
        {
          "output_type": "execute_result",
          "data": {
            "text/plain": [
              "[2, 3, 4, 5, 6, 7, 8, 9]"
            ]
          },
          "metadata": {},
          "execution_count": 6
        }
      ],
      "source": [
        "list(range(2, 10))"
      ]
    },
    {
      "cell_type": "markdown",
      "metadata": {
        "id": "Cj9NfKcMBffU"
      },
      "source": [
        "我們還可以指定間隔，比如說列出1到15的奇數。"
      ]
    },
    {
      "cell_type": "code",
      "execution_count": 7,
      "metadata": {
        "id": "vjYKeM7SBffV",
        "outputId": "5d25449d-6a4e-4d77-c5de-22602def3a94",
        "colab": {
          "base_uri": "https://localhost:8080/"
        }
      },
      "outputs": [
        {
          "output_type": "execute_result",
          "data": {
            "text/plain": [
              "[1, 3, 5, 7, 9, 11, 13, 15]"
            ]
          },
          "metadata": {},
          "execution_count": 7
        }
      ],
      "source": [
        "list(range(1,16,2))"
      ]
    },
    {
      "cell_type": "markdown",
      "metadata": {
        "id": "ntNHToskBffV"
      },
      "source": [
        "串列中的資料型態可以走混搭風, 甚至串列中有串列也可以!"
      ]
    },
    {
      "cell_type": "code",
      "execution_count": 8,
      "metadata": {
        "id": "EAs_tscMBffV"
      },
      "outputs": [],
      "source": [
        "奇怪的串列 = [37, 85, [2, 3, 6], 'cat', 49]"
      ]
    },
    {
      "cell_type": "code",
      "execution_count": 9,
      "metadata": {
        "id": "kBQb_Xx5BffV",
        "outputId": "044fadc8-ce3b-410f-fe41-50d50906b5e4",
        "colab": {
          "base_uri": "https://localhost:8080/"
        }
      },
      "outputs": [
        {
          "output_type": "execute_result",
          "data": {
            "text/plain": [
              "[37, 85, [2, 3, 6], 'cat', 49]"
            ]
          },
          "metadata": {},
          "execution_count": 9
        }
      ],
      "source": [
        "奇怪的串列"
      ]
    },
    {
      "cell_type": "markdown",
      "metadata": {
        "id": "lMA8OrYsBffV"
      },
      "source": [
        "    range(n, m, step)\n",
        "    \n",
        "這是 `range` 做完整的指令格式。"
      ]
    },
    {
      "cell_type": "code",
      "execution_count": 10,
      "metadata": {
        "id": "q_Ue5Jf7BffV",
        "outputId": "8d816886-d18a-4967-ac04-3df4b9f20d2c",
        "colab": {
          "base_uri": "https://localhost:8080/"
        }
      },
      "outputs": [
        {
          "output_type": "execute_result",
          "data": {
            "text/plain": [
              "[1, 3, 5, 7, 9]"
            ]
          },
          "metadata": {},
          "execution_count": 10
        }
      ],
      "source": [
        "list(range(1, 10, 2))"
      ]
    },
    {
      "cell_type": "markdown",
      "metadata": {
        "id": "o3sE6DebBffV"
      },
      "source": [
        "還有字串快速生出一個串列的方法!"
      ]
    },
    {
      "cell_type": "code",
      "execution_count": 11,
      "metadata": {
        "id": "xwSHv8BWBffV"
      },
      "outputs": [],
      "source": [
        "ham = list(\"ABCDEFGHIJK\")"
      ]
    },
    {
      "cell_type": "code",
      "execution_count": 12,
      "metadata": {
        "id": "3CH2oo2sBffV",
        "outputId": "eb6ccf61-19db-4e0d-dd4d-89ecb62a413a",
        "colab": {
          "base_uri": "https://localhost:8080/"
        }
      },
      "outputs": [
        {
          "output_type": "execute_result",
          "data": {
            "text/plain": [
              "['A', 'B', 'C', 'D', 'E', 'F', 'G', 'H', 'I', 'J', 'K']"
            ]
          },
          "metadata": {},
          "execution_count": 12
        }
      ],
      "source": [
        "ham"
      ]
    },
    {
      "cell_type": "markdown",
      "metadata": {
        "id": "nGhv-oIsBffV"
      },
      "source": [
        "![index](https://github.com/yenlung/Python-Book/blob/master/images/index.png?raw=1)\n",
        "\n",
        "找出字串中特定字元的方式!"
      ]
    },
    {
      "cell_type": "code",
      "execution_count": 13,
      "metadata": {
        "id": "qgTKL5i0BffV",
        "outputId": "929d0bb1-a1c8-4eac-edb9-573f0e14d347",
        "colab": {
          "base_uri": "https://localhost:8080/",
          "height": 35
        }
      },
      "outputs": [
        {
          "output_type": "execute_result",
          "data": {
            "text/plain": [
              "'C'"
            ],
            "application/vnd.google.colaboratory.intrinsic+json": {
              "type": "string"
            }
          },
          "metadata": {},
          "execution_count": 13
        }
      ],
      "source": [
        "ham[2]"
      ]
    },
    {
      "cell_type": "code",
      "execution_count": 14,
      "metadata": {
        "id": "4-1nC11xBffV",
        "outputId": "45f70722-fe02-4dda-8e53-8526ea361f8c",
        "colab": {
          "base_uri": "https://localhost:8080/",
          "height": 35
        }
      },
      "outputs": [
        {
          "output_type": "execute_result",
          "data": {
            "text/plain": [
              "'K'"
            ],
            "application/vnd.google.colaboratory.intrinsic+json": {
              "type": "string"
            }
          },
          "metadata": {},
          "execution_count": 14
        }
      ],
      "source": [
        "ham[10]"
      ]
    },
    {
      "cell_type": "markdown",
      "metadata": {
        "id": "lZIwwsdoBffV"
      },
      "source": [
        "從後面算過來也可以!"
      ]
    },
    {
      "cell_type": "code",
      "execution_count": 15,
      "metadata": {
        "id": "XAgPnnWtBffV",
        "outputId": "f76d6309-ac69-4fcd-fb45-abae62c201d1",
        "colab": {
          "base_uri": "https://localhost:8080/",
          "height": 35
        }
      },
      "outputs": [
        {
          "output_type": "execute_result",
          "data": {
            "text/plain": [
              "'J'"
            ],
            "application/vnd.google.colaboratory.intrinsic+json": {
              "type": "string"
            }
          },
          "metadata": {},
          "execution_count": 15
        }
      ],
      "source": [
        "ham[-2]"
      ]
    },
    {
      "cell_type": "markdown",
      "metadata": {
        "id": "Nth-VO-kBffW"
      },
      "source": [
        "可以「切」出其中一部份。"
      ]
    },
    {
      "cell_type": "code",
      "execution_count": 16,
      "metadata": {
        "id": "BVqKLv2HBffW",
        "outputId": "25c6ab8e-b61b-4178-d359-0756986defb1",
        "colab": {
          "base_uri": "https://localhost:8080/"
        }
      },
      "outputs": [
        {
          "output_type": "execute_result",
          "data": {
            "text/plain": [
              "['D', 'E', 'F']"
            ]
          },
          "metadata": {},
          "execution_count": 16
        }
      ],
      "source": [
        "ham[3:6]"
      ]
    },
    {
      "cell_type": "markdown",
      "metadata": {
        "id": "LgiV67DBBffW"
      },
      "source": [
        "某個位置開始到最後。"
      ]
    },
    {
      "cell_type": "code",
      "execution_count": 17,
      "metadata": {
        "scrolled": true,
        "id": "JuQMQkGHBffW",
        "outputId": "2d59477d-09c1-4159-bf16-381df309183d",
        "colab": {
          "base_uri": "https://localhost:8080/"
        }
      },
      "outputs": [
        {
          "output_type": "execute_result",
          "data": {
            "text/plain": [
              "['F', 'G', 'H', 'I', 'J', 'K']"
            ]
          },
          "metadata": {},
          "execution_count": 17
        }
      ],
      "source": [
        "ham[5:]"
      ]
    },
    {
      "cell_type": "markdown",
      "metadata": {
        "id": "QhMohbrfBffW"
      },
      "source": [
        "同理, 切到某個位置。"
      ]
    },
    {
      "cell_type": "code",
      "execution_count": 18,
      "metadata": {
        "id": "xz5UpED1BffW",
        "outputId": "67fea680-0a46-45f2-8fce-11ebcd17c675",
        "colab": {
          "base_uri": "https://localhost:8080/"
        }
      },
      "outputs": [
        {
          "output_type": "execute_result",
          "data": {
            "text/plain": [
              "['A', 'B', 'C', 'D', 'E']"
            ]
          },
          "metadata": {},
          "execution_count": 18
        }
      ],
      "source": [
        "ham[:5]"
      ]
    },
    {
      "cell_type": "markdown",
      "metadata": {
        "id": "4nL0-AdeBffW"
      },
      "source": [
        "再一次, index 可以從後面來..."
      ]
    },
    {
      "cell_type": "code",
      "execution_count": 19,
      "metadata": {
        "id": "rj6321ZNBffW",
        "outputId": "d9a5aa95-6375-4aa5-8f3b-b233fe0256f8",
        "colab": {
          "base_uri": "https://localhost:8080/"
        }
      },
      "outputs": [
        {
          "output_type": "execute_result",
          "data": {
            "text/plain": [
              "['A', 'B', 'C', 'D', 'E']"
            ]
          },
          "metadata": {},
          "execution_count": 19
        }
      ],
      "source": [
        "ham[:-6]"
      ]
    },
    {
      "cell_type": "markdown",
      "metadata": {
        "id": "1ClxFho3BffW"
      },
      "source": [
        "字串基本上是一樣的方式!"
      ]
    },
    {
      "cell_type": "code",
      "execution_count": 20,
      "metadata": {
        "id": "opYhENi-BffW"
      },
      "outputs": [],
      "source": [
        "egg = 'ABCDEFGHIJK'"
      ]
    },
    {
      "cell_type": "code",
      "execution_count": 21,
      "metadata": {
        "id": "QhbUi1gwBffW",
        "outputId": "d83f3722-6c5e-4f0c-ab17-e9f2b69c3f06",
        "colab": {
          "base_uri": "https://localhost:8080/",
          "height": 35
        }
      },
      "outputs": [
        {
          "output_type": "execute_result",
          "data": {
            "text/plain": [
              "'ABCDE'"
            ],
            "application/vnd.google.colaboratory.intrinsic+json": {
              "type": "string"
            }
          },
          "metadata": {},
          "execution_count": 21
        }
      ],
      "source": [
        "egg[:-6]"
      ]
    },
    {
      "cell_type": "code",
      "execution_count": 22,
      "metadata": {
        "scrolled": true,
        "id": "4wQxLM7gBffW",
        "outputId": "fc74565f-809b-4c83-d5e0-4d12f4d7539b",
        "colab": {
          "base_uri": "https://localhost:8080/",
          "height": 35
        }
      },
      "outputs": [
        {
          "output_type": "execute_result",
          "data": {
            "text/plain": [
              "'ACEGIK'"
            ],
            "application/vnd.google.colaboratory.intrinsic+json": {
              "type": "string"
            }
          },
          "metadata": {},
          "execution_count": 22
        }
      ],
      "source": [
        "egg[::2]"
      ]
    },
    {
      "cell_type": "markdown",
      "metadata": {
        "id": "Tkr2mHWKBffW"
      },
      "source": [
        "倒過來取，就是每一個都取，但方向是負的。"
      ]
    },
    {
      "cell_type": "code",
      "execution_count": 23,
      "metadata": {
        "id": "3yAdbuzdBffW",
        "outputId": "cedec334-2321-4a82-f901-487c578d223a",
        "colab": {
          "base_uri": "https://localhost:8080/",
          "height": 35
        }
      },
      "outputs": [
        {
          "output_type": "execute_result",
          "data": {
            "text/plain": [
              "'KJIHGFEDCBA'"
            ],
            "application/vnd.google.colaboratory.intrinsic+json": {
              "type": "string"
            }
          },
          "metadata": {},
          "execution_count": 23
        }
      ],
      "source": [
        "egg[::-1]"
      ]
    },
    {
      "cell_type": "markdown",
      "metadata": {
        "id": "65tnDxBfBffW"
      },
      "source": [
        "類似這樣的「矩陣」 (以後會學怎麼變成真的矩陣)。\n",
        "\n",
        "$$A = \\begin{bmatrix}\n",
        "1 & 2 \\\\\n",
        "3 & 4\n",
        "\\end{bmatrix}$$"
      ]
    },
    {
      "cell_type": "code",
      "execution_count": 24,
      "metadata": {
        "id": "TrLq_1jOBffW"
      },
      "outputs": [],
      "source": [
        "A = [[1, 2], [3, 4]]"
      ]
    },
    {
      "cell_type": "markdown",
      "metadata": {
        "id": "yzUoFJImBffW"
      },
      "source": [
        "\"第 0 列, 第 1 行\" 的元素"
      ]
    },
    {
      "cell_type": "code",
      "execution_count": 25,
      "metadata": {
        "id": "sYyUGZeOBffW",
        "outputId": "2d6f5419-567c-463c-e85f-f8ca409ee870",
        "colab": {
          "base_uri": "https://localhost:8080/"
        }
      },
      "outputs": [
        {
          "output_type": "execute_result",
          "data": {
            "text/plain": [
              "[1, 2]"
            ]
          },
          "metadata": {},
          "execution_count": 25
        }
      ],
      "source": [
        "A[0]"
      ]
    },
    {
      "cell_type": "code",
      "execution_count": 26,
      "metadata": {
        "id": "mTp_V1xPBffW",
        "outputId": "d6d49608-0c17-467f-acc8-e565539f24ef",
        "colab": {
          "base_uri": "https://localhost:8080/"
        }
      },
      "outputs": [
        {
          "output_type": "execute_result",
          "data": {
            "text/plain": [
              "2"
            ]
          },
          "metadata": {},
          "execution_count": 26
        }
      ],
      "source": [
        "A[0][1]"
      ]
    }
  ],
  "metadata": {
    "kernelspec": {
      "display_name": "Python 3",
      "language": "python",
      "name": "python3"
    },
    "language_info": {
      "codemirror_mode": {
        "name": "ipython",
        "version": 3
      },
      "file_extension": ".py",
      "mimetype": "text/x-python",
      "name": "python",
      "nbconvert_exporter": "python",
      "pygments_lexer": "ipython3",
      "version": "3.7.3"
    },
    "colab": {
      "provenance": [],
      "include_colab_link": true
    }
  },
  "nbformat": 4,
  "nbformat_minor": 0
}
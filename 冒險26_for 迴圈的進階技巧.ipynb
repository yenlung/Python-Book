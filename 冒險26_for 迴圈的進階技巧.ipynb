{
  "cells": [
    {
      "cell_type": "markdown",
      "metadata": {
        "id": "view-in-github",
        "colab_type": "text"
      },
      "source": [
        "<a href=\"https://colab.research.google.com/github/yenlung/Python-Book/blob/master/%E5%86%92%E9%9A%AA26_for%20%E8%BF%B4%E5%9C%88%E7%9A%84%E9%80%B2%E9%9A%8E%E6%8A%80%E5%B7%A7.ipynb\" target=\"_parent\"><img src=\"https://colab.research.google.com/assets/colab-badge.svg\" alt=\"Open In Colab\"/></a>"
      ]
    },
    {
      "cell_type": "code",
      "execution_count": null,
      "metadata": {
        "id": "1jRfRIUGC2ip"
      },
      "outputs": [],
      "source": [
        "%matplotlib inline\n",
        "\n",
        "import numpy as np\n",
        "import matplotlib.pyplot as plt"
      ]
    },
    {
      "cell_type": "code",
      "execution_count": null,
      "metadata": {
        "id": "LyRZCCXNC2iq",
        "outputId": "2a2ce51a-99ac-47f4-c57a-a40840e60ced"
      },
      "outputs": [
        {
          "name": "stdout",
          "output_type": "stream",
          "text": [
            "a\n",
            "b\n",
            "c\n"
          ]
        }
      ],
      "source": [
        "egg = ['a', 'b', 'c']\n",
        "\n",
        "for item in egg:\n",
        "    print(item)"
      ]
    },
    {
      "cell_type": "code",
      "execution_count": null,
      "metadata": {
        "id": "s2figGYIC2iq",
        "outputId": "c2b40cca-9a64-4356-a6d2-7e370919c651"
      },
      "outputs": [
        {
          "name": "stdout",
          "output_type": "stream",
          "text": [
            "編號 0 的元素是 a。\n",
            "編號 1 的元素是 b。\n",
            "編號 2 的元素是 c。\n"
          ]
        }
      ],
      "source": [
        "for i in range(3):\n",
        "    print(f\"編號 {i} 的元素是 {egg[i]}。\")"
      ]
    },
    {
      "cell_type": "markdown",
      "metadata": {
        "id": "2JyQF1s5C2iq"
      },
      "source": [
        "### 更炫用 `enumerate`"
      ]
    },
    {
      "cell_type": "code",
      "execution_count": null,
      "metadata": {
        "id": "Ml0fpfIcC2iq",
        "outputId": "2eca110e-e5e2-42bb-9e7c-42f081dbe1b0"
      },
      "outputs": [
        {
          "data": {
            "text/plain": [
              "[(0, 'a'), (1, 'b'), (2, 'c')]"
            ]
          },
          "execution_count": 14,
          "metadata": {},
          "output_type": "execute_result"
        }
      ],
      "source": [
        "list(enumerate(egg))"
      ]
    },
    {
      "cell_type": "code",
      "execution_count": null,
      "metadata": {
        "id": "J8PKQ5laC2ir",
        "outputId": "11629b09-7f4c-49e0-e23b-c143e8595567"
      },
      "outputs": [
        {
          "name": "stdout",
          "output_type": "stream",
          "text": [
            "(0, 'a')\n",
            "(1, 'b')\n",
            "(2, 'c')\n"
          ]
        }
      ],
      "source": [
        "for pack in enumerate(egg):\n",
        "    print(pack)"
      ]
    },
    {
      "cell_type": "code",
      "execution_count": null,
      "metadata": {
        "id": "e0v-B8OKC2ir",
        "outputId": "c1f52fa7-c7f7-44c1-f944-26374dc9563f"
      },
      "outputs": [
        {
          "name": "stdout",
          "output_type": "stream",
          "text": [
            "編號 0 的元素是 a。\n",
            "編號 1 的元素是 b。\n",
            "編號 2 的元素是 c。\n"
          ]
        }
      ],
      "source": [
        "# 很遜的取出方式\n",
        "\n",
        "for pack in enumerate(egg):\n",
        "    print(f\"編號 {pack[0]} 的元素是 {pack[1]}。\")"
      ]
    },
    {
      "cell_type": "markdown",
      "metadata": {
        "id": "LYy9Go_NC2ir"
      },
      "source": [
        "### unpacking"
      ]
    },
    {
      "cell_type": "code",
      "execution_count": null,
      "metadata": {
        "id": "Gz14ctwlC2ir"
      },
      "outputs": [],
      "source": [
        "console, game = ('Switch', '健身環大冒險')"
      ]
    },
    {
      "cell_type": "code",
      "execution_count": null,
      "metadata": {
        "id": "kNCxMfESC2ir",
        "outputId": "6a323d96-a854-4a44-ac3f-6f618dd68cb4"
      },
      "outputs": [
        {
          "name": "stdout",
          "output_type": "stream",
          "text": [
            "遊戲機: Switch\n",
            "遊戲: 健身環大冒險\n"
          ]
        }
      ],
      "source": [
        "print(\"遊戲機:\", console)\n",
        "print(\"遊戲:\", game)"
      ]
    },
    {
      "cell_type": "code",
      "execution_count": null,
      "metadata": {
        "id": "fkyYJrHJC2ir",
        "outputId": "40739a95-f348-4d3a-a3f0-44fdf9cfc646"
      },
      "outputs": [
        {
          "name": "stdout",
          "output_type": "stream",
          "text": [
            "編號 0 的元素是 a。\n",
            "編號 1 的元素是 b。\n",
            "編號 2 的元素是 c。\n"
          ]
        }
      ],
      "source": [
        "for i, item in enumerate(egg):\n",
        "    print(f\"編號 {i} 的元素是 {item}。\")"
      ]
    },
    {
      "cell_type": "code",
      "execution_count": null,
      "metadata": {
        "id": "J2ZXVYoDC2ir"
      },
      "outputs": [],
      "source": []
    },
    {
      "cell_type": "markdown",
      "metadata": {
        "id": "Q7TQfBBYC2ir"
      },
      "source": [
        "### 需要編號時\n",
        "\n",
        "假設編號從 0　開始。"
      ]
    },
    {
      "cell_type": "code",
      "execution_count": null,
      "metadata": {
        "id": "xMGGOZi4C2ir"
      },
      "outputs": [],
      "source": [
        "for i in range(5):\n"
      ]
    },
    {
      "cell_type": "code",
      "execution_count": null,
      "metadata": {
        "id": "51RETt8uC2is"
      },
      "outputs": [],
      "source": [
        "weekdays = list(\"日一二三四五六\")"
      ]
    },
    {
      "cell_type": "code",
      "execution_count": null,
      "metadata": {
        "id": "mP_GlLocC2is",
        "outputId": "9b3ad5af-008f-4910-a26e-8f049ec18bd6"
      },
      "outputs": [
        {
          "data": {
            "text/plain": [
              "['日', '一', '二', '三', '四', '五', '六']"
            ]
          },
          "execution_count": 9,
          "metadata": {},
          "output_type": "execute_result"
        }
      ],
      "source": [
        "weekdays"
      ]
    },
    {
      "cell_type": "markdown",
      "metadata": {
        "id": "JhSlWSQZC2is"
      },
      "source": [
        "### 用 for 迴圈一一列出"
      ]
    },
    {
      "cell_type": "code",
      "execution_count": null,
      "metadata": {
        "id": "tBwT7IrhC2is"
      },
      "outputs": [],
      "source": []
    },
    {
      "cell_type": "code",
      "execution_count": null,
      "metadata": {
        "id": "-Uv8EkD3C2is",
        "outputId": "46c2a36a-0f47-41d0-a203-0c76c83f6a5c"
      },
      "outputs": [
        {
          "name": "stdout",
          "output_type": "stream",
          "text": [
            "日 一 二 三 四 五 六 "
          ]
        }
      ],
      "source": [
        "for d in weekdays:\n",
        "    print(d, end=' ')"
      ]
    },
    {
      "cell_type": "code",
      "execution_count": null,
      "metadata": {
        "id": "8aXi2SNrC2is"
      },
      "outputs": [],
      "source": []
    }
  ],
  "metadata": {
    "kernelspec": {
      "display_name": "Python 3",
      "language": "python",
      "name": "python3"
    },
    "language_info": {
      "codemirror_mode": {
        "name": "ipython",
        "version": 3
      },
      "file_extension": ".py",
      "mimetype": "text/x-python",
      "name": "python",
      "nbconvert_exporter": "python",
      "pygments_lexer": "ipython3",
      "version": "3.7.3"
    },
    "colab": {
      "provenance": [],
      "include_colab_link": true
    }
  },
  "nbformat": 4,
  "nbformat_minor": 0
}
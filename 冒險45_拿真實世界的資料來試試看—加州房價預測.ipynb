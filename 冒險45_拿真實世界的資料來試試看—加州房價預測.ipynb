{
  "cells": [
    {
      "cell_type": "markdown",
      "metadata": {
        "id": "view-in-github",
        "colab_type": "text"
      },
      "source": [
        "<a href=\"https://colab.research.google.com/github/yenlung/Python-Book/blob/master/%E5%86%92%E9%9A%AA_45_%E6%8B%BF%E7%9C%9F%E5%AF%A6%E4%B8%96%E7%95%8C%E7%9A%84%E8%B3%87%E6%96%99%E4%BE%86%E8%A9%A6%E8%A9%A6%E7%9C%8B%E2%80%94%E5%8A%A0%E5%B7%9E%E6%88%BF%E5%83%B9%E9%A0%90%E6%B8%AC.ipynb\" target=\"_parent\"><img src=\"https://colab.research.google.com/assets/colab-badge.svg\" alt=\"Open In Colab\"/></a>"
      ]
    },
    {
      "cell_type": "markdown",
      "metadata": {
        "id": "oizS3YbQEclq"
      },
      "source": [
        "照例先 `import` 我們標準套件。"
      ]
    },
    {
      "cell_type": "code",
      "execution_count": 1,
      "metadata": {
        "id": "Asvs_xvVEY18"
      },
      "outputs": [],
      "source": [
        "%matplotlib inline \n",
        "\n",
        "import numpy as np\n",
        "import pandas as pd\n",
        "import matplotlib.pyplot as plt "
      ]
    },
    {
      "cell_type": "markdown",
      "source": [
        "接著引入我們線性迴歸的模型, 還有分割訓練/測試資料的函式。"
      ],
      "metadata": {
        "id": "ibwB4RwL9lUa"
      }
    },
    {
      "cell_type": "code",
      "source": [
        "from sklearn.model_selection import train_test_split\n",
        "from sklearn.linear_model import LinearRegression"
      ],
      "metadata": {
        "id": "vja5wgGR9iOt"
      },
      "execution_count": 2,
      "outputs": []
    },
    {
      "cell_type": "markdown",
      "metadata": {
        "id": "wBham_wUEg2S"
      },
      "source": [
        "接著是今天的主角, 我們要讀入加州房價資料集。\n",
        "\n",
        "注: 之前我們都是用波士頓房價資料集, 但種種原因, 我們改用加州房價資料集。"
      ]
    },
    {
      "cell_type": "code",
      "execution_count": 3,
      "metadata": {
        "id": "t7lS5LWHEh5q"
      },
      "outputs": [],
      "source": [
        "from sklearn.datasets import fetch_california_housing\n",
        "cal = fetch_california_housing()"
      ]
    },
    {
      "cell_type": "markdown",
      "metadata": {
        "id": "hTlWI38_FEuk"
      },
      "source": [
        "看一下資料集的描述"
      ]
    },
    {
      "cell_type": "code",
      "execution_count": 4,
      "metadata": {
        "colab": {
          "base_uri": "https://localhost:8080/"
        },
        "id": "VUtlxpWVEow1",
        "outputId": "e22ca1e8-7add-472a-adab-218ff4be975f"
      },
      "outputs": [
        {
          "output_type": "stream",
          "name": "stdout",
          "text": [
            ".. _california_housing_dataset:\n",
            "\n",
            "California Housing dataset\n",
            "--------------------------\n",
            "\n",
            "**Data Set Characteristics:**\n",
            "\n",
            "    :Number of Instances: 20640\n",
            "\n",
            "    :Number of Attributes: 8 numeric, predictive attributes and the target\n",
            "\n",
            "    :Attribute Information:\n",
            "        - MedInc        median income in block group\n",
            "        - HouseAge      median house age in block group\n",
            "        - AveRooms      average number of rooms per household\n",
            "        - AveBedrms     average number of bedrooms per household\n",
            "        - Population    block group population\n",
            "        - AveOccup      average number of household members\n",
            "        - Latitude      block group latitude\n",
            "        - Longitude     block group longitude\n",
            "\n",
            "    :Missing Attribute Values: None\n",
            "\n",
            "This dataset was obtained from the StatLib repository.\n",
            "https://www.dcc.fc.up.pt/~ltorgo/Regression/cal_housing.html\n",
            "\n",
            "The target variable is the median house value for California districts,\n",
            "expressed in hundreds of thousands of dollars ($100,000).\n",
            "\n",
            "This dataset was derived from the 1990 U.S. census, using one row per census\n",
            "block group. A block group is the smallest geographical unit for which the U.S.\n",
            "Census Bureau publishes sample data (a block group typically has a population\n",
            "of 600 to 3,000 people).\n",
            "\n",
            "A household is a group of people residing within a home. Since the average\n",
            "number of rooms and bedrooms in this dataset are provided per household, these\n",
            "columns may take surprisingly large values for block groups with few households\n",
            "and many empty houses, such as vacation resorts.\n",
            "\n",
            "It can be downloaded/loaded using the\n",
            ":func:`sklearn.datasets.fetch_california_housing` function.\n",
            "\n",
            ".. topic:: References\n",
            "\n",
            "    - Pace, R. Kelley and Ronald Barry, Sparse Spatial Autoregressions,\n",
            "      Statistics and Probability Letters, 33 (1997) 291-297\n",
            "\n"
          ]
        }
      ],
      "source": [
        "print(cal.DESCR)"
      ]
    },
    {
      "cell_type": "markdown",
      "metadata": {
        "id": "f2vvtTtnFIiN"
      },
      "source": [
        "嗯，看起來有 8 個特徵跟 20,640 筆資料\n",
        "\n",
        "把資料的名字跟 shape 印出來確認一下"
      ]
    },
    {
      "cell_type": "code",
      "execution_count": 5,
      "metadata": {
        "colab": {
          "base_uri": "https://localhost:8080/"
        },
        "id": "oTJq6UakFHu8",
        "outputId": "bf7d31df-2e83-43a1-dc04-cb33e6ba664e"
      },
      "outputs": [
        {
          "output_type": "stream",
          "name": "stdout",
          "text": [
            "feature names: cal.feature_names\n",
            "data shape:  (20640, 8)\n",
            "target shape:  (20640,)\n"
          ]
        }
      ],
      "source": [
        "print(\"feature names: cal.feature_names\")\n",
        "print(\"data shape: \", cal.data.shape)\n",
        "print(\"target shape: \", cal.target.shape)"
      ]
    },
    {
      "cell_type": "markdown",
      "metadata": {
        "id": "womxPR5JF3S8"
      },
      "source": [
        "跟之前一樣，把「給模型當作參考的特徵」當成 X， 「要模型去學的答案」叫做 Y"
      ]
    },
    {
      "cell_type": "code",
      "execution_count": 6,
      "metadata": {
        "id": "6CCGfDgzFge0"
      },
      "outputs": [],
      "source": [
        "X = cal.data\n",
        "Y = cal.target"
      ]
    },
    {
      "cell_type": "markdown",
      "metadata": {
        "id": "SD0JzdktGLU2"
      },
      "source": [
        "為了怕模型 overfit，我們需要把資料分成訓練資料跟測試資料\n",
        "\n",
        "還要養成沒事查看 shape 以防手滑的好習慣"
      ]
    },
    {
      "cell_type": "code",
      "execution_count": 7,
      "metadata": {
        "colab": {
          "base_uri": "https://localhost:8080/"
        },
        "id": "xWrdkLYJGH5S",
        "outputId": "d6acc58d-5ed9-4cba-ff14-c09fa95c0779"
      },
      "outputs": [
        {
          "output_type": "stream",
          "name": "stdout",
          "text": [
            "x_train: (16512, 8)  x_test: (4128, 8)  y_train: (16512,)  y_test: (4128,)\n"
          ]
        }
      ],
      "source": [
        "x_train, x_test, y_train, y_test = train_test_split(X, Y, test_size=0.2, random_state=42)\n",
        "print(\"x_train:\", x_train.shape, \" x_test:\", x_test.shape, \" y_train:\", y_train.shape, \" y_test:\", y_test.shape, )"
      ]
    },
    {
      "cell_type": "markdown",
      "metadata": {
        "id": "Ul76pMQCG_c_"
      },
      "source": [
        "因為已經很熟了，所以「叫出函數學習機」，「訓練函數學習機」，「把函數學習機拿來用」\n",
        "可以一氣呵成！\n"
      ]
    },
    {
      "cell_type": "code",
      "execution_count": 8,
      "metadata": {
        "id": "AXnxdvdVGUFn"
      },
      "outputs": [],
      "source": [
        "regr = LinearRegression()\n",
        "regr.fit(x_train, y_train)\n",
        "y_predict = regr.predict(x_test)"
      ]
    },
    {
      "cell_type": "markdown",
      "metadata": {
        "id": "jPoBXOHGHTd5"
      },
      "source": [
        "為了看看模型是不是學的好棒棒，把「真實的結果」當作 x 座標，\n",
        "「預測的結果」當作 y 座標描點在圖上\n",
        "\n",
        "為了方便比較，再畫一條對角線當作比較基準！\n",
        "\n",
        "(學得好的話，所有的點應該都會在對角線上，表示結果一樣)\n"
      ]
    },
    {
      "cell_type": "code",
      "execution_count": 12,
      "metadata": {
        "colab": {
          "base_uri": "https://localhost:8080/",
          "height": 451
        },
        "id": "RrWH3utHG-HM",
        "outputId": "17191378-b89d-4435-d5a1-e47e4a1121a2"
      },
      "outputs": [
        {
          "output_type": "display_data",
          "data": {
            "text/plain": [
              "<Figure size 640x480 with 1 Axes>"
            ],
            "image/png": "[encoded data removed]"
          },
          "metadata": {}
        }
      ],
      "source": [
        "plt.scatter(y_test, y_predict)\n",
        "plt.plot([0, 5], [0, 5], 'r')\n",
        "plt.xlabel('True Price')\n",
        "plt.ylabel('Predicted Price')\n",
        "\n",
        "plt.show()"
      ]
    }
  ],
  "metadata": {
    "colab": {
      "provenance": [],
      "include_colab_link": true
    },
    "kernelspec": {
      "display_name": "Python 3",
      "language": "python",
      "name": "python3"
    },
    "language_info": {
      "codemirror_mode": {
        "name": "ipython",
        "version": 3
      },
      "file_extension": ".py",
      "mimetype": "text/x-python",
      "name": "python",
      "nbconvert_exporter": "python",
      "pygments_lexer": "ipython3",
      "version": "3.7.3"
    }
  },
  "nbformat": 4,
  "nbformat_minor": 0
}

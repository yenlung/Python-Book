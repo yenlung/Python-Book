{
  "cells": [
    {
      "cell_type": "markdown",
      "metadata": {
        "id": "view-in-github",
        "colab_type": "text"
      },
      "source": [
        "<a href=\"https://colab.research.google.com/github/yenlung/Python-Book/blob/master/%E5%86%92%E9%9A%AA14_%E7%94%A8%E4%B8%B2%E5%88%97%E6%8E%A7%E5%88%B6%E8%A6%81%E5%81%9A%E5%B9%BE%E6%AC%A1%E7%9A%84_for_%E8%BF%B4%E5%9C%88.ipynb\" target=\"_parent\"><img src=\"https://colab.research.google.com/assets/colab-badge.svg\" alt=\"Open In Colab\"/></a>"
      ]
    },
    {
      "cell_type": "code",
      "execution_count": 1,
      "metadata": {
        "id": "2cTRARXGCGz4"
      },
      "outputs": [],
      "source": [
        "%matplotlib inline\n",
        "\n",
        "import numpy as np\n",
        "import pandas as pd\n",
        "import matplotlib.pyplot"
      ]
    },
    {
      "cell_type": "markdown",
      "metadata": {
        "id": "l6TLqP0-CGz5"
      },
      "source": [
        "![for 迴圈](https://github.com/yenlung/Python-Book/blob/master/images/T_for.png?raw=1)"
      ]
    },
    {
      "cell_type": "markdown",
      "metadata": {
        "id": "tuaxyeCsCGz6"
      },
      "source": [
        "Python 的 `for` 迴圈基本上就是用 `list` 來做的: 把 `list` 中的元素一個一個拿出來, 執行我們要執行的動作。"
      ]
    },
    {
      "cell_type": "code",
      "execution_count": 2,
      "metadata": {
        "id": "jJNsxiaICGz6"
      },
      "outputs": [],
      "source": [
        "spam = ['豬', '狗', '牛']"
      ]
    },
    {
      "cell_type": "code",
      "execution_count": 3,
      "metadata": {
        "id": "OtKq8iaxCGz7",
        "outputId": "ab853459-04cc-41f0-93b9-46c910fba9bb",
        "colab": {
          "base_uri": "https://localhost:8080/"
        }
      },
      "outputs": [
        {
          "output_type": "stream",
          "name": "stdout",
          "text": [
            "豬\n",
            "狗\n",
            "牛\n"
          ]
        }
      ],
      "source": [
        "for i in spam:\n",
        "    print(i)"
      ]
    },
    {
      "cell_type": "markdown",
      "metadata": {
        "id": "v_x29Oc2CGz7"
      },
      "source": [
        "當然, `for` 迴圈最好的朋友就是 `range`。"
      ]
    },
    {
      "cell_type": "code",
      "execution_count": 4,
      "metadata": {
        "id": "zwUy-QPzCGz7",
        "outputId": "cf4be3bb-5694-4c05-8a36-436762d8531b",
        "colab": {
          "base_uri": "https://localhost:8080/"
        }
      },
      "outputs": [
        {
          "output_type": "stream",
          "name": "stdout",
          "text": [
            "0\n",
            "1\n",
            "2\n",
            "3\n",
            "4\n",
            "5\n",
            "6\n",
            "7\n",
            "8\n",
            "9\n"
          ]
        }
      ],
      "source": [
        "for i in range(10):\n",
        "    print(i)"
      ]
    },
    {
      "cell_type": "code",
      "execution_count": 5,
      "metadata": {
        "id": "A4zlCmbACGz8",
        "outputId": "00dad8d1-82f9-4df1-ada4-2e3c95fd2d3e",
        "colab": {
          "base_uri": "https://localhost:8080/"
        }
      },
      "outputs": [
        {
          "output_type": "stream",
          "name": "stdout",
          "text": [
            "0 1 2 3 4 5 6 7 8 9 "
          ]
        }
      ],
      "source": [
        "for i in range(10):\n",
        "    print(i, end=' ')"
      ]
    },
    {
      "cell_type": "code",
      "execution_count": 6,
      "metadata": {
        "id": "rvTFF6rkCGz8",
        "outputId": "385dfe61-e18c-4fa8-8dfc-89cfba9377e3",
        "colab": {
          "base_uri": "https://localhost:8080/"
        }
      },
      "outputs": [
        {
          "output_type": "stream",
          "name": "stdout",
          "text": [
            "0, 1, 2, 3, 4, 5, 6, 7, 8, 9, "
          ]
        }
      ],
      "source": [
        "for i in range(10):\n",
        "    print(i, end=', ')"
      ]
    },
    {
      "cell_type": "code",
      "execution_count": 7,
      "metadata": {
        "id": "lRuoON43CGz8",
        "outputId": "e9d44b8b-6bea-4de5-f2f4-ed8e328071fc",
        "colab": {
          "base_uri": "https://localhost:8080/"
        }
      },
      "outputs": [
        {
          "output_type": "stream",
          "name": "stdout",
          "text": [
            "(*´▽`*)\n",
            "(*´▽`*)(*´▽`*)\n",
            "(*´▽`*)(*´▽`*)(*´▽`*)\n",
            "(*´▽`*)(*´▽`*)(*´▽`*)(*´▽`*)\n",
            "(*´▽`*)(*´▽`*)(*´▽`*)(*´▽`*)(*´▽`*)\n"
          ]
        }
      ],
      "source": [
        "face = \"(*´▽`*)\"\n",
        "\n",
        "for i in range(1, 6):\n",
        "    print(face * i)"
      ]
    },
    {
      "cell_type": "markdown",
      "metadata": {
        "id": "b4Pe5uLACGz8"
      },
      "source": [
        "### 【練習】 用 `for` 迴圈寫個 1 加到 100 的程式"
      ]
    },
    {
      "cell_type": "code",
      "execution_count": 8,
      "metadata": {
        "id": "5p0A4bEPCGz8",
        "outputId": "9aa4225a-82c0-4865-e7c3-d6011dc68b10",
        "colab": {
          "base_uri": "https://localhost:8080/"
        }
      },
      "outputs": [
        {
          "output_type": "stream",
          "name": "stdout",
          "text": [
            "1 + 2 + ... + 100 = 5050\n"
          ]
        }
      ],
      "source": [
        "s = 0\n",
        "\n",
        "for i in range(1, 101):\n",
        "    s = s + i\n",
        "    \n",
        "print('1 + 2 + ... + 100 =', s)"
      ]
    }
  ],
  "metadata": {
    "kernelspec": {
      "display_name": "Python 3",
      "language": "python",
      "name": "python3"
    },
    "language_info": {
      "codemirror_mode": {
        "name": "ipython",
        "version": 3
      },
      "file_extension": ".py",
      "mimetype": "text/x-python",
      "name": "python",
      "nbconvert_exporter": "python",
      "pygments_lexer": "ipython3",
      "version": "3.7.3"
    },
    "colab": {
      "provenance": [],
      "include_colab_link": true
    }
  },
  "nbformat": 4,
  "nbformat_minor": 0
}
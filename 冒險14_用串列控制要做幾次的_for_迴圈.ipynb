{
  "cells": [
    {
      "cell_type": "markdown",
      "metadata": {
        "id": "view-in-github",
        "colab_type": "text"
      },
      "source": [
        "<a href=\"https://colab.research.google.com/github/yenlung/Python-Book/blob/master/%E5%86%92%E9%9A%AA14_%E7%94%A8%E4%B8%B2%E5%88%97%E6%8E%A7%E5%88%B6%E8%A6%81%E5%81%9A%E5%B9%BE%E6%AC%A1%E7%9A%84_for_%E8%BF%B4%E5%9C%88.ipynb\" target=\"_parent\"><img src=\"https://colab.research.google.com/assets/colab-badge.svg\" alt=\"Open In Colab\"/></a>"
      ]
    },
    {
      "cell_type": "code",
      "execution_count": null,
      "metadata": {
        "id": "T1U6qY7jH_w7"
      },
      "outputs": [],
      "source": [
        "%matplotlib inline\n",
        "\n",
        "import numpy as np\n",
        "import pandas as pd\n",
        "import matplotlib.pyplot"
      ]
    },
    {
      "cell_type": "markdown",
      "metadata": {
        "id": "2GxeNRi4H_w8"
      },
      "source": [
        "![for 迴圈](https://github.com/yenlung/Python-Book/blob/master/images/T_for.png?raw=1)"
      ]
    },
    {
      "cell_type": "markdown",
      "metadata": {
        "id": "VxVHJzfXH_w9"
      },
      "source": [
        "Python 的 `for` 迴圈基本上就是用 `list` 來做的: 把 `list` 中的元素一個一個拿出來, 執行我們要執行的動作。"
      ]
    },
    {
      "cell_type": "code",
      "execution_count": null,
      "metadata": {
        "id": "tupcVp4aH_w9"
      },
      "outputs": [],
      "source": [
        "spam = ['豬', '狗', '牛']"
      ]
    },
    {
      "cell_type": "code",
      "execution_count": null,
      "metadata": {
        "id": "aeogYa2vH_w9",
        "outputId": "fd65733d-8493-44f0-c65e-8c60af1d4503"
      },
      "outputs": [
        {
          "name": "stdout",
          "output_type": "stream",
          "text": [
            "豬\n",
            "狗\n",
            "牛\n"
          ]
        }
      ],
      "source": [
        "for i in spam:\n",
        "    print(i)"
      ]
    },
    {
      "cell_type": "markdown",
      "metadata": {
        "id": "vm77YmoZH_w9"
      },
      "source": [
        "當然, `for` 迴圈最好的朋友就是 `range`。"
      ]
    },
    {
      "cell_type": "code",
      "execution_count": null,
      "metadata": {
        "id": "IgDxMm3VH_w-",
        "outputId": "890b6f1a-710f-4fbe-9c23-c546ce727a39"
      },
      "outputs": [
        {
          "name": "stdout",
          "output_type": "stream",
          "text": [
            "0\n",
            "1\n",
            "2\n",
            "3\n",
            "4\n",
            "5\n",
            "6\n",
            "7\n",
            "8\n",
            "9\n"
          ]
        }
      ],
      "source": [
        "for i in range(10):\n",
        "    print(i)"
      ]
    },
    {
      "cell_type": "code",
      "execution_count": null,
      "metadata": {
        "id": "z1k-J4P-H_w-",
        "outputId": "fd274684-b8fc-4060-aa85-9bd8aec93283"
      },
      "outputs": [
        {
          "name": "stdout",
          "output_type": "stream",
          "text": [
            "0 1 2 3 4 5 6 7 8 9 "
          ]
        }
      ],
      "source": [
        "for i in range(10):\n",
        "    print(i, end=' ')"
      ]
    },
    {
      "cell_type": "code",
      "execution_count": null,
      "metadata": {
        "id": "k6qERU6JH_w-",
        "outputId": "a0855341-17b0-4c4e-f86f-c6de8e961829"
      },
      "outputs": [
        {
          "name": "stdout",
          "output_type": "stream",
          "text": [
            "0, 1, 2, 3, 4, 5, 6, 7, 8, 9, "
          ]
        }
      ],
      "source": [
        "for i in range(10):\n",
        "    print(i, end=', ')"
      ]
    },
    {
      "cell_type": "code",
      "execution_count": null,
      "metadata": {
        "id": "Ti9-AWbXH_w-",
        "outputId": "93d4eafa-b257-46ee-e358-efc048116677"
      },
      "outputs": [
        {
          "name": "stdout",
          "output_type": "stream",
          "text": [
            "(*´▽`*)\n",
            "(*´▽`*)(*´▽`*)\n",
            "(*´▽`*)(*´▽`*)(*´▽`*)\n",
            "(*´▽`*)(*´▽`*)(*´▽`*)(*´▽`*)\n",
            "(*´▽`*)(*´▽`*)(*´▽`*)(*´▽`*)(*´▽`*)\n"
          ]
        }
      ],
      "source": [
        "face = \"(*´▽`*)\"\n",
        "\n",
        "for i in range(1, 6):\n",
        "    print(face * i)"
      ]
    },
    {
      "cell_type": "markdown",
      "metadata": {
        "id": "lFtoWhnnH_w-"
      },
      "source": [
        "### 【練習】 用 `for` 迴圈寫個 1 加到 100 的程式"
      ]
    },
    {
      "cell_type": "code",
      "execution_count": null,
      "metadata": {
        "id": "1LZ3UIpIH_w-",
        "outputId": "36b818e9-645a-4a12-974c-6cb159b4c9ea"
      },
      "outputs": [
        {
          "name": "stdout",
          "output_type": "stream",
          "text": [
            "1 + 2 + ... + 100 = 5050\n"
          ]
        }
      ],
      "source": [
        "s = 0\n",
        "\n",
        "for i in range(1, 101):\n",
        "    s = s + i\n",
        "    \n",
        "print('1 + 2 + ... + 100 =', s)"
      ]
    }
  ],
  "metadata": {
    "kernelspec": {
      "display_name": "Python 3",
      "language": "python",
      "name": "python3"
    },
    "language_info": {
      "codemirror_mode": {
        "name": "ipython",
        "version": 3
      },
      "file_extension": ".py",
      "mimetype": "text/x-python",
      "name": "python",
      "nbconvert_exporter": "python",
      "pygments_lexer": "ipython3",
      "version": "3.7.3"
    },
    "colab": {
      "provenance": [],
      "include_colab_link": true
    }
  },
  "nbformat": 4,
  "nbformat_minor": 0
}
{
  "cells": [
    {
      "cell_type": "markdown",
      "metadata": {
        "id": "view-in-github",
        "colab_type": "text"
      },
      "source": [
        "<a href=\"https://colab.research.google.com/github/yenlung/Python-Book/blob/master/%E5%86%92%E9%9A%AA35_%E7%86%8A%E8%B2%93%E6%98%AF%20Python%20%E7%9A%84%20Excel.ipynb\" target=\"_parent\"><img src=\"https://colab.research.google.com/assets/colab-badge.svg\" alt=\"Open In Colab\"/></a>"
      ]
    },
    {
      "cell_type": "code",
      "execution_count": null,
      "metadata": {
        "id": "5CNeyBEoEgax"
      },
      "outputs": [],
      "source": [
        "%matplotlib inline\n",
        "\n",
        "import numpy as np\n",
        "import matplotlib.pyplot as plt\n",
        "import pandas as pd"
      ]
    },
    {
      "cell_type": "markdown",
      "metadata": {
        "id": "ydRBUz24Egay"
      },
      "source": [
        "用 pandas 來讀取資料。"
      ]
    },
    {
      "cell_type": "code",
      "execution_count": null,
      "metadata": {
        "id": "vuychd0bEgay"
      },
      "outputs": [],
      "source": [
        "df = pd.read_csv('grades.csv')"
      ]
    },
    {
      "cell_type": "markdown",
      "metadata": {
        "id": "H3Yh1MatEgay"
      },
      "source": [
        "看前幾筆資料。"
      ]
    },
    {
      "cell_type": "code",
      "execution_count": null,
      "metadata": {
        "id": "6q4uq2VsEgaz",
        "outputId": "8df8fdb7-a93f-41a3-ea1c-44fe434d6e3d"
      },
      "outputs": [
        {
          "data": {
            "text/html": [
              "<div>\n",
              "<style scoped>\n",
              "    .dataframe tbody tr th:only-of-type {\n",
              "        vertical-align: middle;\n",
              "    }\n",
              "\n",
              "    .dataframe tbody tr th {\n",
              "        vertical-align: top;\n",
              "    }\n",
              "\n",
              "    .dataframe thead th {\n",
              "        text-align: right;\n",
              "    }\n",
              "</style>\n",
              "<table border=\"1\" class=\"dataframe\">\n",
              "  <thead>\n",
              "    <tr style=\"text-align: right;\">\n",
              "      <th></th>\n",
              "      <th>姓名</th>\n",
              "      <th>國文</th>\n",
              "      <th>英文</th>\n",
              "      <th>數學</th>\n",
              "      <th>自然</th>\n",
              "      <th>社會</th>\n",
              "    </tr>\n",
              "  </thead>\n",
              "  <tbody>\n",
              "    <tr>\n",
              "      <th>0</th>\n",
              "      <td>劉俊安</td>\n",
              "      <td>9</td>\n",
              "      <td>10</td>\n",
              "      <td>15</td>\n",
              "      <td>10</td>\n",
              "      <td>13</td>\n",
              "    </tr>\n",
              "    <tr>\n",
              "      <th>1</th>\n",
              "      <td>胡玉華</td>\n",
              "      <td>10</td>\n",
              "      <td>10</td>\n",
              "      <td>10</td>\n",
              "      <td>8</td>\n",
              "      <td>9</td>\n",
              "    </tr>\n",
              "    <tr>\n",
              "      <th>2</th>\n",
              "      <td>黃淑婷</td>\n",
              "      <td>13</td>\n",
              "      <td>15</td>\n",
              "      <td>8</td>\n",
              "      <td>11</td>\n",
              "      <td>14</td>\n",
              "    </tr>\n",
              "    <tr>\n",
              "      <th>3</th>\n",
              "      <td>陳上紫</td>\n",
              "      <td>10</td>\n",
              "      <td>10</td>\n",
              "      <td>8</td>\n",
              "      <td>9</td>\n",
              "      <td>14</td>\n",
              "    </tr>\n",
              "    <tr>\n",
              "      <th>4</th>\n",
              "      <td>崔靜成</td>\n",
              "      <td>13</td>\n",
              "      <td>12</td>\n",
              "      <td>14</td>\n",
              "      <td>12</td>\n",
              "      <td>13</td>\n",
              "    </tr>\n",
              "  </tbody>\n",
              "</table>\n",
              "</div>"
            ],
            "text/plain": [
              "    姓名  國文  英文  數學  自然  社會\n",
              "0  劉俊安   9  10  15  10  13\n",
              "1  胡玉華  10  10  10   8   9\n",
              "2  黃淑婷  13  15   8  11  14\n",
              "3  陳上紫  10  10   8   9  14\n",
              "4  崔靜成  13  12  14  12  13"
            ]
          },
          "execution_count": 4,
          "metadata": {},
          "output_type": "execute_result"
        }
      ],
      "source": [
        "df.head()"
      ]
    },
    {
      "cell_type": "markdown",
      "metadata": {
        "id": "zymeCSEZEgaz"
      },
      "source": [
        "現在我們只要看國文的成績。"
      ]
    },
    {
      "cell_type": "code",
      "execution_count": null,
      "metadata": {
        "id": "3nhvMH-REgaz",
        "outputId": "fe061d03-5608-4694-d786-f2c3d365ca5f"
      },
      "outputs": [
        {
          "data": {
            "text/plain": [
              "0      9\n",
              "1     10\n",
              "2     13\n",
              "3     10\n",
              "4     13\n",
              "      ..\n",
              "95     9\n",
              "96     8\n",
              "97    14\n",
              "98    15\n",
              "99     9\n",
              "Name: 國文, Length: 100, dtype: int64"
            ]
          },
          "execution_count": 5,
          "metadata": {},
          "output_type": "execute_result"
        }
      ],
      "source": [
        "df['國文']"
      ]
    },
    {
      "cell_type": "code",
      "execution_count": null,
      "metadata": {
        "id": "Wr2TWro-Egaz",
        "outputId": "bf1694ac-2360-436b-d323-095456a917df"
      },
      "outputs": [
        {
          "data": {
            "text/plain": [
              "0      9\n",
              "1     10\n",
              "2     13\n",
              "3     10\n",
              "4     13\n",
              "      ..\n",
              "95     9\n",
              "96     8\n",
              "97    14\n",
              "98    15\n",
              "99     9\n",
              "Name: 國文, Length: 100, dtype: int64"
            ]
          },
          "execution_count": 6,
          "metadata": {},
          "output_type": "execute_result"
        }
      ],
      "source": [
        "df.國文"
      ]
    },
    {
      "cell_type": "markdown",
      "metadata": {
        "id": "wOEFfPUgEgaz"
      },
      "source": [
        "把資料轉換成一個array，可以做數據分析。"
      ]
    },
    {
      "cell_type": "code",
      "execution_count": null,
      "metadata": {
        "id": "EwxBMtF4Egaz"
      },
      "outputs": [],
      "source": [
        "cg = df.國文.values"
      ]
    },
    {
      "cell_type": "code",
      "execution_count": null,
      "metadata": {
        "id": "OBfwzbSDEgaz",
        "outputId": "cb89500a-d4b0-41df-9344-5d8c2f357181"
      },
      "outputs": [
        {
          "data": {
            "text/plain": [
              "array([ 9, 10, 13, 10, 13, 13, 11,  8,  9, 10, 14, 13, 11, 15,  8, 11, 14,\n",
              "       12,  9, 14, 13,  9, 12, 10, 10, 13, 13,  8, 15, 14,  8, 15,  9, 14,\n",
              "       13, 14, 12, 11,  8,  9, 12, 14, 14, 12, 13,  9, 14,  8, 15, 10, 12,\n",
              "       14, 12, 14, 15,  9, 11, 12, 10, 11, 14, 14,  8, 12,  9, 13, 10, 14,\n",
              "        8, 12,  9,  9, 10, 13, 14, 13,  9, 13, 12,  9, 13, 11, 11, 10, 10,\n",
              "       10, 11, 10, 11, 13,  8, 14,  8, 11, 10,  9,  8, 14, 15,  9])"
            ]
          },
          "execution_count": 8,
          "metadata": {},
          "output_type": "execute_result"
        }
      ],
      "source": [
        "cg"
      ]
    },
    {
      "cell_type": "markdown",
      "metadata": {
        "id": "7-IYrAS7Egaz"
      },
      "source": [
        "像是取平均。"
      ]
    },
    {
      "cell_type": "code",
      "execution_count": null,
      "metadata": {
        "id": "TsIpY_syEgaz",
        "outputId": "3d6caf06-9602-47db-f558-2c0996d29798"
      },
      "outputs": [
        {
          "data": {
            "text/plain": [
              "11.39"
            ]
          },
          "execution_count": 9,
          "metadata": {},
          "output_type": "execute_result"
        }
      ],
      "source": [
        "cg.mean()"
      ]
    },
    {
      "cell_type": "markdown",
      "metadata": {
        "id": "W4zwxxuqEga0"
      },
      "source": [
        "取標準差。"
      ]
    },
    {
      "cell_type": "code",
      "execution_count": null,
      "metadata": {
        "id": "DNIqrJmAEga0",
        "outputId": "0aaf884c-13bd-4b84-b604-258acc4db0c5"
      },
      "outputs": [
        {
          "data": {
            "text/plain": [
              "2.1858407993264284"
            ]
          },
          "execution_count": 10,
          "metadata": {},
          "output_type": "execute_result"
        }
      ],
      "source": [
        "cg.std()"
      ]
    }
  ],
  "metadata": {
    "kernelspec": {
      "display_name": "Python 3",
      "language": "python",
      "name": "python3"
    },
    "language_info": {
      "codemirror_mode": {
        "name": "ipython",
        "version": 3
      },
      "file_extension": ".py",
      "mimetype": "text/x-python",
      "name": "python",
      "nbconvert_exporter": "python",
      "pygments_lexer": "ipython3",
      "version": "3.7.3"
    },
    "colab": {
      "provenance": [],
      "include_colab_link": true
    }
  },
  "nbformat": 4,
  "nbformat_minor": 0
}
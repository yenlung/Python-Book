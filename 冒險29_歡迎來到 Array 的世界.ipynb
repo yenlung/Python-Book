{
  "cells": [
    {
      "cell_type": "markdown",
      "metadata": {
        "id": "view-in-github",
        "colab_type": "text"
      },
      "source": [
        "<a href=\"https://colab.research.google.com/github/yenlung/Python-Book/blob/master/%E5%86%92%E9%9A%AA29_%E6%AD%A1%E8%BF%8E%E4%BE%86%E5%88%B0%20Array%20%E7%9A%84%E4%B8%96%E7%95%8C.ipynb\" target=\"_parent\"><img src=\"https://colab.research.google.com/assets/colab-badge.svg\" alt=\"Open In Colab\"/></a>"
      ]
    },
    {
      "cell_type": "code",
      "execution_count": null,
      "metadata": {
        "id": "Do5AaB2KR4WJ"
      },
      "outputs": [],
      "source": [
        "%matplotlib inline\n",
        "\n",
        "import numpy as np\n",
        "import pandas as pd\n",
        "import matplotlib.pyplot as plt"
      ]
    },
    {
      "cell_type": "markdown",
      "metadata": {
        "id": "Y2KQapoHR4WJ"
      },
      "source": [
        "貓貓大學數學系剛結束期末考，微積分老師立刻把考卷改完，八位同學的成績是這樣的：\n",
        "\n",
        "A同學：35分、B同學：74分、C同學：43分、D同學：66分、\n",
        "E同學：87分、F同學：55分、G同學：71分、H同學：65分\n",
        "\n",
        "現在老師決定讓每位同學的成績都乘上1.1倍來調整分數，這時能怎麼做呢？"
      ]
    },
    {
      "cell_type": "markdown",
      "metadata": {
        "id": "acjwTjp6R4WK"
      },
      "source": [
        "用一個串列記錄八位同學的成績。"
      ]
    },
    {
      "cell_type": "code",
      "execution_count": null,
      "metadata": {
        "id": "B_miL18ER4WK"
      },
      "outputs": [],
      "source": [
        "grades = [35, 74, 43, 66, 87, 55, 71, 65]"
      ]
    },
    {
      "cell_type": "code",
      "execution_count": null,
      "metadata": {
        "id": "jAp73-MyR4WK",
        "outputId": "d533d164-88a2-4b55-e791-3db24f0c1e41"
      },
      "outputs": [
        {
          "ename": "TypeError",
          "evalue": "can't multiply sequence by non-int of type 'float'",
          "output_type": "error",
          "traceback": [
            "\u001b[1;31m---------------------------------------------------------------------------\u001b[0m",
            "\u001b[1;31mTypeError\u001b[0m                                 Traceback (most recent call last)",
            "\u001b[1;32m<ipython-input-3-0cabce8a3fcf>\u001b[0m in \u001b[0;36m<module>\u001b[1;34m\u001b[0m\n\u001b[1;32m----> 1\u001b[1;33m \u001b[0mgrades\u001b[0m\u001b[1;33m*\u001b[0m\u001b[1;36m1.1\u001b[0m\u001b[1;33m\u001b[0m\u001b[1;33m\u001b[0m\u001b[0m\n\u001b[0m",
            "\u001b[1;31mTypeError\u001b[0m: can't multiply sequence by non-int of type 'float'"
          ]
        }
      ],
      "source": [
        "grades*1.1"
      ]
    },
    {
      "cell_type": "markdown",
      "metadata": {
        "id": "szyIFVwkR4WK"
      },
      "source": [
        "出現Error了，就是說不能乘「非整數」1.1的意思，那試試看乘以2倍。"
      ]
    },
    {
      "cell_type": "code",
      "execution_count": null,
      "metadata": {
        "id": "qRN_OFOSR4WK",
        "outputId": "72696d1c-b7d8-40ec-bd19-51a93c1c41b2"
      },
      "outputs": [
        {
          "data": {
            "text/plain": [
              "[35, 74, 43, 66, 87, 55, 71, 65, 35, 74, 43, 66, 87, 55, 71, 65]"
            ]
          },
          "execution_count": 4,
          "metadata": {},
          "output_type": "execute_result"
        }
      ],
      "source": [
        "grades*2"
      ]
    },
    {
      "cell_type": "markdown",
      "metadata": {
        "id": "JDm7A_xwR4WK"
      },
      "source": [
        "哦…好像可以了？！但是串列的乘法不是真的在計算，而是讓串列中的東西重複出現。"
      ]
    },
    {
      "cell_type": "markdown",
      "metadata": {
        "id": "MeHj_ENbR4WL"
      },
      "source": [
        "換個方法就可以。"
      ]
    },
    {
      "cell_type": "code",
      "execution_count": null,
      "metadata": {
        "id": "CEMK5-MTR4WL"
      },
      "outputs": [],
      "source": [
        "new_grades = []\n",
        "\n",
        "for g in grades:\n",
        "    new_grades.append(g*1.1)"
      ]
    },
    {
      "cell_type": "code",
      "execution_count": null,
      "metadata": {
        "id": "k2pnntQmR4WL",
        "outputId": "169d68cd-3527-4434-8c5b-58b5ba422c3b"
      },
      "outputs": [
        {
          "data": {
            "text/plain": [
              "[38.5,\n",
              " 81.4,\n",
              " 47.300000000000004,\n",
              " 72.60000000000001,\n",
              " 95.7,\n",
              " 60.50000000000001,\n",
              " 78.10000000000001,\n",
              " 71.5]"
            ]
          },
          "execution_count": 6,
          "metadata": {},
          "output_type": "execute_result"
        }
      ],
      "source": [
        "new_grades"
      ]
    },
    {
      "cell_type": "markdown",
      "metadata": {
        "id": "pUBZn4pMR4WL"
      },
      "source": [
        "假設老師決定每位同學的成績再加4分，該怎麼做呢？"
      ]
    },
    {
      "cell_type": "code",
      "execution_count": null,
      "metadata": {
        "id": "Sh3st89WR4WL"
      },
      "outputs": [],
      "source": [
        "new_grades2 = []\n",
        "\n",
        "for g in new_grades:\n",
        "    new_grades2.append(g+4)"
      ]
    },
    {
      "cell_type": "code",
      "execution_count": null,
      "metadata": {
        "id": "HMLaElX5R4WL",
        "outputId": "e4316f0b-bb1d-4996-c9f9-023d37b2b912"
      },
      "outputs": [
        {
          "data": {
            "text/plain": [
              "[42.5,\n",
              " 85.4,\n",
              " 51.300000000000004,\n",
              " 76.60000000000001,\n",
              " 99.7,\n",
              " 64.5,\n",
              " 82.10000000000001,\n",
              " 75.5]"
            ]
          },
          "execution_count": 8,
          "metadata": {},
          "output_type": "execute_result"
        }
      ],
      "source": [
        "new_grades2"
      ]
    },
    {
      "cell_type": "markdown",
      "metadata": {
        "id": "nU3hehc1R4WL"
      },
      "source": [
        "有沒有更快的方法呢？"
      ]
    },
    {
      "cell_type": "code",
      "execution_count": null,
      "metadata": {
        "id": "9OOp1HbER4WL"
      },
      "outputs": [],
      "source": [
        "grad_arr = np.array(grades)"
      ]
    },
    {
      "cell_type": "code",
      "execution_count": null,
      "metadata": {
        "id": "O4IoVSBQR4WL",
        "outputId": "90b7607d-0312-4abe-9c36-57af13893679"
      },
      "outputs": [
        {
          "data": {
            "text/plain": [
              "array([35, 74, 43, 66, 87, 55, 71, 65])"
            ]
          },
          "execution_count": 10,
          "metadata": {},
          "output_type": "execute_result"
        }
      ],
      "source": [
        "grad_arr"
      ]
    },
    {
      "cell_type": "code",
      "execution_count": null,
      "metadata": {
        "id": "JsBC1mfSR4WL",
        "outputId": "26caebb6-fa5f-4dd9-dc7e-a929cc815250"
      },
      "outputs": [
        {
          "data": {
            "text/plain": [
              "array([38.5, 81.4, 47.3, 72.6, 95.7, 60.5, 78.1, 71.5])"
            ]
          },
          "execution_count": 11,
          "metadata": {},
          "output_type": "execute_result"
        }
      ],
      "source": [
        "grad_arr * 1.1"
      ]
    },
    {
      "cell_type": "code",
      "execution_count": null,
      "metadata": {
        "id": "5Tk9sNrhR4WL",
        "outputId": "354e89c8-9d6c-4a81-d54f-1a7f101eb8fb"
      },
      "outputs": [
        {
          "data": {
            "text/plain": [
              "array([42.5, 85.4, 51.3, 76.6, 99.7, 64.5, 82.1, 75.5])"
            ]
          },
          "execution_count": 12,
          "metadata": {},
          "output_type": "execute_result"
        }
      ],
      "source": [
        "grad_arr * 1.1 + 4"
      ]
    }
  ],
  "metadata": {
    "kernelspec": {
      "display_name": "Python 3",
      "language": "python",
      "name": "python3"
    },
    "language_info": {
      "codemirror_mode": {
        "name": "ipython",
        "version": 3
      },
      "file_extension": ".py",
      "mimetype": "text/x-python",
      "name": "python",
      "nbconvert_exporter": "python",
      "pygments_lexer": "ipython3",
      "version": "3.7.4"
    },
    "colab": {
      "provenance": [],
      "include_colab_link": true
    }
  },
  "nbformat": 4,
  "nbformat_minor": 0
}
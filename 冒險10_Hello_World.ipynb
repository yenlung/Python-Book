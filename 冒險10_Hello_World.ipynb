{
  "cells": [
    {
      "cell_type": "markdown",
      "metadata": {
        "id": "view-in-github",
        "colab_type": "text"
      },
      "source": [
        "<a href=\"https://colab.research.google.com/github/yenlung/Python-Book/blob/master/%E5%86%92%E9%9A%AA10_Hello_World.ipynb\" target=\"_parent\"><img src=\"https://colab.research.google.com/assets/colab-badge.svg\" alt=\"Open In Colab\"/></a>"
      ]
    },
    {
      "cell_type": "code",
      "execution_count": 1,
      "metadata": {
        "id": "Qd503LHm-Z0E"
      },
      "outputs": [],
      "source": [
        "%matplotlib inline\n",
        "\n",
        "import numpy as np\n",
        "import pandas as pd\n",
        "import matplotlib.pyplot"
      ]
    },
    {
      "cell_type": "markdown",
      "metadata": {
        "id": "O2pdfnrx-Z0E"
      },
      "source": [
        "![hello world](https://github.com/yenlung/Python-Book/blob/master/images/T_hello.png?raw=1)\n",
        "\n",
        "#### 【沒啥用的冷知識】\n",
        "\n",
        "現在的程式語言, 幾乎一開始都會為大家介紹, 怎麼印出一個\n",
        "\n",
        "    Hello, world!\n",
        "    \n",
        "的簡單程式。這開始是由有名的 C 語言聖經, 1978 年的 K&R \"The C Programming Language\" 讓大家廣為人知。雖然更早就在 1974 年 Bell 實驗室內部訓練文件出現過, 甚至有人舉證更早就有人寫過, 不過 K&R 那本 C 語言聖經還是讓它流行的原因。\n",
        "\n",
        "我們來個復古, 原始版本的 hello world。"
      ]
    },
    {
      "cell_type": "code",
      "execution_count": 2,
      "metadata": {
        "id": "OiwZ4hca-Z0F",
        "outputId": "feb80c44-6d40-44c9-e5df-103441e10bef",
        "colab": {
          "base_uri": "https://localhost:8080/"
        }
      },
      "outputs": [
        {
          "output_type": "stream",
          "name": "stdout",
          "text": [
            "hello world\n"
          ]
        }
      ],
      "source": [
        "print(\"hello world\")"
      ]
    },
    {
      "cell_type": "markdown",
      "metadata": {
        "id": "V6-oV-6q-Z0G"
      },
      "source": [
        "讓 Python 親切的 (?) 和我們打招呼。"
      ]
    },
    {
      "cell_type": "code",
      "execution_count": 3,
      "metadata": {
        "id": "GMGsgZwU-Z0G",
        "outputId": "1630696f-a1f8-41f7-95a1-aae9c9a0422a",
        "colab": {
          "base_uri": "https://localhost:8080/"
        }
      },
      "outputs": [
        {
          "output_type": "stream",
          "name": "stdout",
          "text": [
            "你好，炎龍！\n"
          ]
        }
      ],
      "source": [
        "name = \"炎龍\"\n",
        "print(\"你好，\" + name + \"！\")"
      ]
    },
    {
      "cell_type": "markdown",
      "metadata": {
        "id": "n24F1GB_-Z0G"
      },
      "source": [
        "Python 還有很炫的「三引號」字串! 可以在字串中直接換行哦。"
      ]
    },
    {
      "cell_type": "code",
      "execution_count": 4,
      "metadata": {
        "id": "LZkFRRtE-Z0G"
      },
      "outputs": [],
      "source": [
        "message = '''於是 我\n",
        "發現\n",
        "\n",
        "妳\n",
        "忘記 我的\n",
        "思念'''"
      ]
    },
    {
      "cell_type": "markdown",
      "metadata": {
        "id": "GWPJTDPF-Z0G"
      },
      "source": [
        "內容看來這樣, 有點可怕 (大概就愛 C 的人覺得親切)"
      ]
    },
    {
      "cell_type": "code",
      "execution_count": 10,
      "metadata": {
        "id": "N-Ux5reo-Z0G",
        "outputId": "e9bccd3b-60c9-4805-ed4b-666a1ffca115",
        "colab": {
          "base_uri": "https://localhost:8080/",
          "height": 35
        }
      },
      "outputs": [
        {
          "output_type": "execute_result",
          "data": {
            "text/plain": [
              "'於是 我\\n發現\\n\\n妳\\n忘記 我的\\n思念'"
            ],
            "application/vnd.google.colaboratory.intrinsic+json": {
              "type": "string"
            }
          },
          "metadata": {},
          "execution_count": 10
        }
      ],
      "source": [
        "message"
      ]
    },
    {
      "cell_type": "markdown",
      "metadata": {
        "id": "AjVu7eV0-Z0G"
      },
      "source": [
        "還是印出來好了..."
      ]
    },
    {
      "cell_type": "code",
      "execution_count": 11,
      "metadata": {
        "id": "ai1oOo4g-Z0G",
        "outputId": "00e20161-a030-4f9f-9d2a-19ea15f1d6b7",
        "colab": {
          "base_uri": "https://localhost:8080/"
        }
      },
      "outputs": [
        {
          "output_type": "stream",
          "name": "stdout",
          "text": [
            "於是 我\n",
            "發現\n",
            "\n",
            "妳\n",
            "忘記 我的\n",
            "思念\n"
          ]
        }
      ],
      "source": [
        "print(message)"
      ]
    },
    {
      "cell_type": "markdown",
      "metadata": {
        "id": "v2umSoIL-Z0G"
      },
      "source": [
        "耍寶時間"
      ]
    },
    {
      "cell_type": "code",
      "execution_count": 12,
      "metadata": {
        "id": "_k1XYv5b-Z0G"
      },
      "outputs": [],
      "source": [
        "face = \"(*´∀`)~♥\""
      ]
    },
    {
      "cell_type": "code",
      "execution_count": 13,
      "metadata": {
        "id": "v_ZHSelp-Z0H",
        "outputId": "fa3ed2db-5b41-4b7b-91ae-e19c5f5a631e",
        "colab": {
          "base_uri": "https://localhost:8080/"
        }
      },
      "outputs": [
        {
          "output_type": "stream",
          "name": "stdout",
          "text": [
            "(*´∀`)~♥\n"
          ]
        }
      ],
      "source": [
        "print(face)"
      ]
    },
    {
      "cell_type": "code",
      "execution_count": 14,
      "metadata": {
        "id": "25fAXIYA-Z0H",
        "outputId": "c6caf2de-2e6a-4500-8d12-d2c79c75340c",
        "colab": {
          "base_uri": "https://localhost:8080/"
        }
      },
      "outputs": [
        {
          "output_type": "stream",
          "name": "stdout",
          "text": [
            "(*´∀`)~♥(*´∀`)~♥(*´∀`)~♥(*´∀`)~♥(*´∀`)~♥\n"
          ]
        }
      ],
      "source": [
        "print(face * 5)"
      ]
    },
    {
      "cell_type": "markdown",
      "metadata": {
        "id": "-uYO5rYx-Z0H"
      },
      "source": [
        "### [練習]\n",
        "\n",
        "亂數決定重覆印幾次 face 這個字串。\n",
        "\n",
        "    face = \"(*´∀`)~♥\""
      ]
    }
  ],
  "metadata": {
    "kernelspec": {
      "display_name": "Python 3",
      "language": "python",
      "name": "python3"
    },
    "language_info": {
      "codemirror_mode": {
        "name": "ipython",
        "version": 3
      },
      "file_extension": ".py",
      "mimetype": "text/x-python",
      "name": "python",
      "nbconvert_exporter": "python",
      "pygments_lexer": "ipython3",
      "version": "3.7.3"
    },
    "colab": {
      "provenance": [],
      "include_colab_link": true
    }
  },
  "nbformat": 4,
  "nbformat_minor": 0
}
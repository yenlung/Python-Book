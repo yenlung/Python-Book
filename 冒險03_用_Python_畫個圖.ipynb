{
  "cells": [
    {
      "cell_type": "markdown",
      "metadata": {
        "id": "view-in-github",
        "colab_type": "text"
      },
      "source": [
        "<a href=\"https://colab.research.google.com/github/yenlung/Python-Book/blob/master/%E5%86%92%E9%9A%AA03_%E7%94%A8_Python_%E7%95%AB%E5%80%8B%E5%9C%96.ipynb\" target=\"_parent\"><img src=\"https://colab.research.google.com/assets/colab-badge.svg\" alt=\"Open In Colab\"/></a>"
      ]
    },
    {
      "cell_type": "markdown",
      "metadata": {
        "id": "gng57jl844s0"
      },
      "source": [
        "我們現在來畫圖! 這裡我們需要引入套件 (函式庫), 開始的時候我們先不用那麼在意這些指令是什麼意思。大概知道就是要引入兩個套件:\n",
        "\n",
        "* `numpy`: 做 (數值型的) 數學運算\n",
        "* `pandas`: Python 的 Excel! 數據分析必備!\n",
        "* `matplotlib`: 畫圖用的標準套件"
      ]
    },
    {
      "cell_type": "code",
      "execution_count": null,
      "metadata": {
        "id": "9m7tQBYY44s1"
      },
      "outputs": [],
      "source": [
        "%matplotlib inline\n",
        "\n",
        "import numpy as np\n",
        "import pandas as pd\n",
        "import matplotlib.pyplot as plt"
      ]
    },
    {
      "cell_type": "markdown",
      "metadata": {
        "id": "BbMJ3Icr44s2"
      },
      "source": [
        "![matplotlib inline](https://github.com/yenlung/Python-Book/blob/master/images/matplotlib_inline.png?raw=1)\n",
        "\n",
        "我們要學的畫圖方式主要只有兩種:\n",
        "    \n",
        "* `plt.plot`: 畫折線圖\n",
        "* `plt.scatter`: 畫散佈圖\n",
        "\n",
        "首先是最重要、最常用的 `plt.plot`。"
      ]
    },
    {
      "cell_type": "code",
      "execution_count": null,
      "metadata": {
        "id": "96zrwL9h44s2",
        "outputId": "e92474f3-d886-4c62-af72-77a5eefc1b45",
        "colab": {
          "base_uri": "https://localhost:8080/",
          "height": 283
        }
      },
      "outputs": [
        {
          "output_type": "execute_result",
          "data": {
            "text/plain": [
              "[<matplotlib.lines.Line2D at 0x7fb8f42214c0>]"
            ]
          },
          "metadata": {},
          "execution_count": 2
        },
        {
          "output_type": "display_data",
          "data": {
            "text/plain": [
              "<Figure size 432x288 with 1 Axes>"
            ],
            "image/png": "[encoded data removed]"
          },
          "metadata": {
            "needs_background": "light"
          }
        }
      ],
      "source": [
        "plt.plot([2, -5, 3, 8, -2])"
      ]
    },
    {
      "cell_type": "markdown",
      "metadata": {
        "id": "9e-o1cuB44s3"
      },
      "source": [
        "我們把 `plt.plot` 引入一個串列 (list) 的數字, 串列都是用中括號。這裡輸入的是:\n",
        "\n",
        "    [2, -5, 3, 8, -2]\n",
        "\n",
        "其實是點的 Y 座標。標準的 `plt.plot` 指令是\n",
        "\n",
        "    plt.plot(X, Y)\n",
        "\n",
        "其中 X 是點的 X 座標的串列, Y 是點的 Y 座標的串列。\n",
        "\n",
        "如果我們沒有給 X 座標, X 座標會自動以 0, 1, 2, ... 補上。然後 `plt.plot(X, Y)` 就是把這些點點出來, 再用線段連接起來, 成為折線圖。"
      ]
    },
    {
      "cell_type": "code",
      "execution_count": null,
      "metadata": {
        "id": "o1FGs6H444s3"
      },
      "outputs": [],
      "source": [
        "# Python 的註解就是像這樣先用井字號\n",
        "# 這樣 Python 就不會理會我們打什麼\n",
        "# 接下來我們想把 (0, 2.1), (1.1, 3.4), (2.5, 1), (3.2, 5), (4.8, 7) 這幾個點連起來!\n",
        "# 之後我們會學更美的呈現法!"
      ]
    },
    {
      "cell_type": "code",
      "execution_count": null,
      "metadata": {
        "id": "zgOwD5yR44s3"
      },
      "outputs": [],
      "source": [
        "X = [0, 1.1, 2.5, 3.2, 4.8]\n",
        "Y = [2.1, 3.4, 1, 5, 7]"
      ]
    },
    {
      "cell_type": "code",
      "execution_count": null,
      "metadata": {
        "id": "U6dKF70l44s3",
        "outputId": "73a852bd-0110-4b90-e90d-0452c37e21ee",
        "colab": {
          "base_uri": "https://localhost:8080/",
          "height": 283
        }
      },
      "outputs": [
        {
          "output_type": "execute_result",
          "data": {
            "text/plain": [
              "[<matplotlib.lines.Line2D at 0x7fb8f40bf1f0>]"
            ]
          },
          "metadata": {},
          "execution_count": 5
        },
        {
          "output_type": "display_data",
          "data": {
            "text/plain": [
              "<Figure size 432x288 with 1 Axes>"
            ],
            "image/png": "[encoded data removed]"
          },
          "metadata": {
            "needs_background": "light"
          }
        }
      ],
      "source": [
        "plt.plot(X, Y)"
      ]
    }
  ],
  "metadata": {
    "anaconda-cloud": {},
    "kernelspec": {
      "display_name": "Python 3",
      "language": "python",
      "name": "python3"
    },
    "language_info": {
      "codemirror_mode": {
        "name": "ipython",
        "version": 3
      },
      "file_extension": ".py",
      "mimetype": "text/x-python",
      "name": "python",
      "nbconvert_exporter": "python",
      "pygments_lexer": "ipython3",
      "version": "3.7.3"
    },
    "colab": {
      "provenance": [],
      "include_colab_link": true
    }
  },
  "nbformat": 4,
  "nbformat_minor": 0
}
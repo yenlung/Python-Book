{
  "cells": [
    {
      "cell_type": "markdown",
      "metadata": {
        "id": "view-in-github",
        "colab_type": "text"
      },
      "source": [
        "<a href=\"https://colab.research.google.com/github/yenlung/Python-Book/blob/master/%E5%86%92%E9%9A%AA43_%E9%81%8E%E5%BA%A6%E6%93%AC%E5%90%88%EF%BC%88Overfitting%EF%BC%89.ipynb\" target=\"_parent\"><img src=\"https://colab.research.google.com/assets/colab-badge.svg\" alt=\"Open In Colab\"/></a>"
      ]
    },
    {
      "cell_type": "code",
      "execution_count": null,
      "metadata": {
        "id": "pxUr4xhD4zDu"
      },
      "outputs": [],
      "source": [
        "%matplotlib inline\n",
        "import numpy as np\n",
        "import matplotlib.pyplot as plt"
      ]
    },
    {
      "cell_type": "markdown",
      "metadata": {
        "id": "xBOryllA55ae"
      },
      "source": [
        "我們再度模擬看來就一副「線性樣的數據」。"
      ]
    },
    {
      "cell_type": "code",
      "execution_count": null,
      "metadata": {
        "id": "pQJqeyFT5qeH",
        "outputId": "5be9156f-6d22-456f-b878-b420fb519def"
      },
      "outputs": [
        {
          "data": {
            "text/plain": [
              "[<matplotlib.lines.Line2D at 0x7fe2292c4b38>]"
            ]
          },
          "execution_count": 2,
          "metadata": {},
          "output_type": "execute_result"
        },
        {
          "data": {
            "image/png": "[encoded data removed]",
            "text/plain": [
              "<Figure size 432x288 with 1 Axes>"
            ]
          },
          "metadata": {
            "needs_background": "light"
          },
          "output_type": "display_data"
        }
      ],
      "source": [
        "x = np.linspace(0, 5, 50)\n",
        "y = 1.2*x + 0.8 + 0.5*np.random.randn(50)\n",
        "\n",
        "plt.scatter(x, y)\n",
        "plt.plot(x, 1.2*x + 0.8, 'b')"
      ]
    },
    {
      "cell_type": "markdown",
      "metadata": {
        "id": "iDIJnCyn6LGu"
      },
      "source": [
        "我們再試試可不可以用其它函數去擬合這筆數據。比如說, 我們天外飛來一筆, 想用\n",
        "\n",
        "$$f(x) = 4\\sin(n\\cdot x) + 4$$\n",
        "\n",
        "來學這些數據, 需要調的參數自然是 $n$。"
      ]
    },
    {
      "cell_type": "code",
      "execution_count": null,
      "metadata": {
        "id": "muiAF2mx5qvR"
      },
      "outputs": [],
      "source": [
        "X = np.linspace(0, 5, 1000)\n",
        "\n",
        "def my_fit(n):\n",
        "    Y = 4*np.sin(n*X) + 4\n",
        "    plt.scatter(x, y)\n",
        "    plt.plot(X, Y, 'r')\n",
        "    plt.show()"
      ]
    },
    {
      "cell_type": "markdown",
      "metadata": {
        "id": "XnNxqCnm6eyQ"
      },
      "source": [
        "試用一下, 設 $n=5$。"
      ]
    },
    {
      "cell_type": "code",
      "execution_count": null,
      "metadata": {
        "colab": {
          "base_uri": "https://localhost:8080/",
          "height": 282
        },
        "id": "gNnk60OK6d3e",
        "outputId": "abdf5b0d-c0b8-48eb-b972-d133b5e33c91"
      },
      "outputs": [
        {
          "data": {
            "image/png": "[encoded data removed]",
            "text/plain": [
              "<Figure size 432x288 with 1 Axes>"
            ]
          },
          "metadata": {
            "needs_background": "light"
          },
          "output_type": "display_data"
        }
      ],
      "source": [
        "my_fit(5)"
      ]
    },
    {
      "cell_type": "markdown",
      "metadata": {
        "id": "jW-08ze-7HqE"
      },
      "source": [
        "這可以看出效果非常差! 不過我們如果讓 $n$ 越來越大呢?"
      ]
    },
    {
      "cell_type": "code",
      "execution_count": null,
      "metadata": {
        "colab": {
          "referenced_widgets": [
            "4c1eac8a38814da29fc92823eaa9af93"
          ]
        },
        "id": "QFnWJDta7Gc7",
        "outputId": "c1fdb974-c7f8-4ba3-ef0a-fbda7b8c2f31"
      },
      "outputs": [
        {
          "data": {
            "application/vnd.jupyter.widget-view+json": {
              "model_id": "4c1eac8a38814da29fc92823eaa9af93",
              "version_major": 2,
              "version_minor": 0
            },
            "text/plain": [
              "interactive(children=(IntSlider(value=50, description='n'), Output()), _dom_classes=('widget-interact',))"
            ]
          },
          "metadata": {},
          "output_type": "display_data"
        },
        {
          "data": {
            "text/plain": [
              "<function __main__.my_fit(n)>"
            ]
          },
          "execution_count": 6,
          "metadata": {},
          "output_type": "execute_result"
        }
      ],
      "source": [
        "from ipywidgets import interact\n",
        "\n",
        "interact(my_fit, n = (0, 100))"
      ]
    },
    {
      "cell_type": "markdown",
      "metadata": {
        "id": "QRIse26ZFe46"
      },
      "source": [
        "我們可以發現, 最終每一點都會通過! 也就是會完全命中! 不過相信大家都不敢用這個去「預測」沒有看過的情況。因為這種叫 overfitting, 也就是電腦在「背答案」。"
      ]
    }
  ],
  "metadata": {
    "colab": {
      "name": "冒險 42_模擬線性迴歸的數據.ipynb",
      "provenance": [],
      "include_colab_link": true
    },
    "kernelspec": {
      "display_name": "Python 3",
      "language": "python",
      "name": "python3"
    },
    "language_info": {
      "codemirror_mode": {
        "name": "ipython",
        "version": 3
      },
      "file_extension": ".py",
      "mimetype": "text/x-python",
      "name": "python",
      "nbconvert_exporter": "python",
      "pygments_lexer": "ipython3",
      "version": "3.7.3"
    }
  },
  "nbformat": 4,
  "nbformat_minor": 0
}
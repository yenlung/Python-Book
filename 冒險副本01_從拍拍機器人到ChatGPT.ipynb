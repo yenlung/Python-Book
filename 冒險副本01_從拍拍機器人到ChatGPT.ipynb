{
  "nbformat": 4,
  "nbformat_minor": 0,
  "metadata": {
    "colab": {
      "provenance": [],
      "authorship_tag": "ABX9TyOWRDA2RDyBR/gD+PTi8u38",
      "include_colab_link": true
    },
    "kernelspec": {
      "name": "python3",
      "display_name": "Python 3"
    },
    "language_info": {
      "name": "python"
    }
  },
  "cells": [
    {
      "cell_type": "markdown",
      "metadata": {
        "id": "view-in-github",
        "colab_type": "text"
      },
      "source": [
        "<a href=\"https://colab.research.google.com/github/yenlung/Python-Book/blob/master/%E5%86%92%E9%9A%AA%E5%89%AF%E6%9C%AC01_%E5%BE%9E%E6%8B%8D%E6%8B%8D%E6%A9%9F%E5%99%A8%E4%BA%BA%E5%88%B0ChatGPT.ipynb\" target=\"_parent\"><img src=\"https://colab.research.google.com/assets/colab-badge.svg\" alt=\"Open In Colab\"/></a>"
      ]
    },
    {
      "cell_type": "code",
      "execution_count": 1,
      "metadata": {
        "id": "RREGOTtaxjt3"
      },
      "outputs": [],
      "source": [
        "%matplotlib inline\n",
        "\n",
        "import numpy as np\n",
        "import pandas as pd\n",
        "import matplotlib.pyplot as plt"
      ]
    },
    {
      "cell_type": "markdown",
      "source": [
        "### 1. 回顧拍拍機器人\n",
        "\n",
        "這次我們介紹怎麼用 OpenAI 的 API 打造一個自己的 ChatGPT。首先我們回憶原來的拍拍機器人。\n",
        "\n",
        "這次我們定義 `chatbot` 為我們對話機器人代表的 icon。你可以選個 emoji 表情符號:\n",
        "\n",
        "[Emojipedia](https://emojipedia.org/)\n",
        "\n",
        "或是找個顏文字:\n",
        "\n",
        "[顏文字卡](https://facemood.grtimed.com/)"
      ],
      "metadata": {
        "id": "-gsrloFvofvw"
      }
    },
    {
      "cell_type": "code",
      "source": [
        "# chatbot = \"(◍•ᴗ•◍)\" + \": \"\n",
        "\n",
        "chatbot = '🐶' + \": \""
      ],
      "metadata": {
        "id": "Apg38YUnEh-I"
      },
      "execution_count": 2,
      "outputs": []
    },
    {
      "cell_type": "code",
      "source": [
        "while True:\n",
        "    prompt = input('> ')\n",
        "    if 'bye' in prompt:\n",
        "        print(chatbot + '再見, 下次再聊!')\n",
        "        break\n",
        "    print(chatbot + \"拍拍\")\n",
        "    print()"
      ],
      "metadata": {
        "colab": {
          "base_uri": "https://localhost:8080/"
        },
        "id": "HdrJE7CC6Fud",
        "outputId": "3287f104-56c3-4c94-d9e2-229598259267"
      },
      "execution_count": null,
      "outputs": [
        {
          "output_type": "stream",
          "name": "stdout",
          "text": [
            "> 我很難過\n",
            "🐶: 拍拍\n",
            "\n",
            "> 同學作業都不借我抄\n",
            "🐶: 拍拍\n",
            "\n",
            "> bye\n",
            "🐶: 再見, 下次再聊!\n"
          ]
        }
      ]
    },
    {
      "cell_type": "markdown",
      "source": [
        "### 2. 使用 OpenAI 的 API\n",
        "\n",
        "API 就是我們可以用特別指定的方式, 去呼叫外面的服務。這次我們準備使用 OpenAI 的 API, 首先請安裝 `openai` 套件。"
      ],
      "metadata": {
        "id": "HOGLih1N15GE"
      }
    },
    {
      "cell_type": "code",
      "source": [
        "!pip install openai"
      ],
      "metadata": {
        "colab": {
          "base_uri": "https://localhost:8080/"
        },
        "id": "fO4Uxe2Oxsxa",
        "outputId": "96f508de-826c-4a3e-8d55-7a0e298f7798"
      },
      "execution_count": 3,
      "outputs": [
        {
          "output_type": "stream",
          "name": "stdout",
          "text": [
            "Looking in indexes: https://pypi.org/simple, https://us-python.pkg.dev/colab-wheels/public/simple/\n",
            "Collecting openai\n",
            "  Downloading openai-0.27.8-py3-none-any.whl (73 kB)\n",
            "\u001b[2K     \u001b[90m━━━━━━━━━━━━━━━━━━━━━━━━━━━━━━━━━━━━━━━━\u001b[0m \u001b[32m73.6/73.6 kB\u001b[0m \u001b[31m2.8 MB/s\u001b[0m eta \u001b[36m0:00:00\u001b[0m\n",
            "\u001b[?25hRequirement already satisfied: requests>=2.20 in /usr/local/lib/python3.10/dist-packages (from openai) (2.27.1)\n",
            "Requirement already satisfied: tqdm in /usr/local/lib/python3.10/dist-packages (from openai) (4.65.0)\n",
            "Collecting aiohttp (from openai)\n",
            "  Downloading aiohttp-3.8.4-cp310-cp310-manylinux_2_17_x86_64.manylinux2014_x86_64.whl (1.0 MB)\n",
            "\u001b[2K     \u001b[90m━━━━━━━━━━━━━━━━━━━━━━━━━━━━━━━━━━━━━━━━\u001b[0m \u001b[32m1.0/1.0 MB\u001b[0m \u001b[31m19.2 MB/s\u001b[0m eta \u001b[36m0:00:00\u001b[0m\n",
            "\u001b[?25hRequirement already satisfied: urllib3<1.27,>=1.21.1 in /usr/local/lib/python3.10/dist-packages (from requests>=2.20->openai) (1.26.15)\n",
            "Requirement already satisfied: certifi>=2017.4.17 in /usr/local/lib/python3.10/dist-packages (from requests>=2.20->openai) (2022.12.7)\n",
            "Requirement already satisfied: charset-normalizer~=2.0.0 in /usr/local/lib/python3.10/dist-packages (from requests>=2.20->openai) (2.0.12)\n",
            "Requirement already satisfied: idna<4,>=2.5 in /usr/local/lib/python3.10/dist-packages (from requests>=2.20->openai) (3.4)\n",
            "Requirement already satisfied: attrs>=17.3.0 in /usr/local/lib/python3.10/dist-packages (from aiohttp->openai) (23.1.0)\n",
            "Collecting multidict<7.0,>=4.5 (from aiohttp->openai)\n",
            "  Downloading multidict-6.0.4-cp310-cp310-manylinux_2_17_x86_64.manylinux2014_x86_64.whl (114 kB)\n",
            "\u001b[2K     \u001b[90m━━━━━━━━━━━━━━━━━━━━━━━━━━━━━━━━━━━━━━\u001b[0m \u001b[32m114.5/114.5 kB\u001b[0m \u001b[31m12.4 MB/s\u001b[0m eta \u001b[36m0:00:00\u001b[0m\n",
            "\u001b[?25hCollecting async-timeout<5.0,>=4.0.0a3 (from aiohttp->openai)\n",
            "  Downloading async_timeout-4.0.2-py3-none-any.whl (5.8 kB)\n",
            "Collecting yarl<2.0,>=1.0 (from aiohttp->openai)\n",
            "  Downloading yarl-1.9.2-cp310-cp310-manylinux_2_17_x86_64.manylinux2014_x86_64.whl (268 kB)\n",
            "\u001b[2K     \u001b[90m━━━━━━━━━━━━━━━━━━━━━━━━━━━━━━━━━━━━━━\u001b[0m \u001b[32m268.8/268.8 kB\u001b[0m \u001b[31m20.5 MB/s\u001b[0m eta \u001b[36m0:00:00\u001b[0m\n",
            "\u001b[?25hCollecting frozenlist>=1.1.1 (from aiohttp->openai)\n",
            "  Downloading frozenlist-1.3.3-cp310-cp310-manylinux_2_5_x86_64.manylinux1_x86_64.manylinux_2_17_x86_64.manylinux2014_x86_64.whl (149 kB)\n",
            "\u001b[2K     \u001b[90m━━━━━━━━━━━━━━━━━━━━━━━━━━━━━━━━━━━━━━\u001b[0m \u001b[32m149.6/149.6 kB\u001b[0m \u001b[31m12.1 MB/s\u001b[0m eta \u001b[36m0:00:00\u001b[0m\n",
            "\u001b[?25hCollecting aiosignal>=1.1.2 (from aiohttp->openai)\n",
            "  Downloading aiosignal-1.3.1-py3-none-any.whl (7.6 kB)\n",
            "Installing collected packages: multidict, frozenlist, async-timeout, yarl, aiosignal, aiohttp, openai\n",
            "Successfully installed aiohttp-3.8.4 aiosignal-1.3.1 async-timeout-4.0.2 frozenlist-1.3.3 multidict-6.0.4 openai-0.27.8 yarl-1.9.2\n"
          ]
        }
      ]
    },
    {
      "cell_type": "markdown",
      "source": [
        "最重要的是要取得 OpenAI 的金鑰, 請由以下連結登入 OpenAI 網站:\n",
        "\n",
        "[https://platform.openai.com](https://platform.openai.com)\n",
        "\n",
        "如果還沒有帳號, 請取申請一個帳號 (可以用 Gmail 登入的方式)。注意這是要手機認證的, 如果認證通過就會有 18 美金的運用額度。這些錢做等一下 ChatGPT API 練習是完全足夠的!\n",
        "\n",
        "接著你會看到右上角有你的 \"Personal\" 的部份, 點下去會發現 \"View API Keys\"。這就是你要申請專屬 OpenAI API 金鑰的部份。\n",
        "\n",
        "接著你會看到 \"Create new secrec key\" 裡, 點下去會有一個彈跳式視窗出來。一定要注意你必需自己保存你的 API Key 是什麼, 因為 OpenAI 沒有任何地方會幫你做這件事!\n",
        "\n",
        "做到這些, 你使用 OpenAI API 的準備工作就完成了。現在我們就引入 `openai` 套件。"
      ],
      "metadata": {
        "id": "fDoiig7BT3Tv"
      }
    },
    {
      "cell_type": "code",
      "source": [
        "import openai"
      ],
      "metadata": {
        "id": "6fm0bOSz09gd"
      },
      "execution_count": 4,
      "outputs": []
    },
    {
      "cell_type": "markdown",
      "source": [
        "請在兩個引號中, 插入你的 OpenAI API 金鑰。"
      ],
      "metadata": {
        "id": "4E2EmoyJfMOi"
      }
    },
    {
      "cell_type": "code",
      "source": [
        "openai.api_key = \"你的 OpenAI API 金鑰\""
      ],
      "metadata": {
        "id": "GlBg7KX30QXq"
      },
      "execution_count": 5,
      "outputs": []
    },
    {
      "cell_type": "markdown",
      "source": [
        "做 ChatGPT 方式非常簡單, 就是要用 `ChatCompletion`, 其中 `create` 就是正式送給某一個模型。這裡有兩個重點, 一個是 `model` 我們要選用的模型, 這裡用的是 `gpt-3.5-turbo`, 事實上就是 ChatGPT 一開始的標準版本。\n",
        "\n",
        "然後就是 `messages` 部份, 這裡就是這次聊天的過程中, 包括我們使用者輸入的, 還有之前 ChatGPT 的回應。可以看以下內容。後面的 `content` 比較容易理解, 那 `role` (角色) 是什麼意思呢? 我們來說明一下:\n",
        "\n",
        "* `system`: 給 ChatGPT 的「人設」。\n",
        "* `user`: 使用者輸入的東西。\n",
        "* `assistant`: ChatGPT 的回應。"
      ],
      "metadata": {
        "id": "R-fVd4PlfflR"
      }
    },
    {
      "cell_type": "code",
      "source": [
        "response = openai.ChatCompletion.create(\n",
        "  model=\"gpt-3.5-turbo\",\n",
        "  messages=[\n",
        "        {\"role\": \"system\", \"content\": \"你是一個非常溫暖的對話機器人，回應都簡短，儘量不要超過二十個字，而且有同理心。\"},\n",
        "        {\"role\": \"user\", \"content\": \"我很難過\"},\n",
        "        {\"role\": \"assistant\", \"content\": \"很抱歉聽到你感到難過，可以跟我說說你正在遭遇什麼困難嗎？我們可以一起找尋解決問題的方式。\"},\n",
        "        {\"role\": \"user\", \"content\": \"Python程式都不會寫\"}\n",
        "    ]\n",
        ")"
      ],
      "metadata": {
        "id": "B7ghPbN208NN"
      },
      "execution_count": 10,
      "outputs": []
    },
    {
      "cell_type": "markdown",
      "source": [
        "再來就是看我們怎麼讀出 ChatGPT 的回應。"
      ],
      "metadata": {
        "id": "CKolwiXhhrsh"
      }
    },
    {
      "cell_type": "code",
      "source": [
        "print(response[\"choices\"][0][\"message\"][\"content\"])"
      ],
      "metadata": {
        "colab": {
          "base_uri": "https://localhost:8080/"
        },
        "id": "9wq7dXOe1yQH",
        "outputId": "f40d260a-4b65-492c-9878-edf1866dacf7"
      },
      "execution_count": 11,
      "outputs": [
        {
          "output_type": "stream",
          "name": "stdout",
          "text": [
            "學習新事物都需要時間和耐心，寫程式也不例外。如果你想學習Python，我可以推薦一些學習資源，例如在線課程、教科書和網上教學資源等。要開始學習Python，重要的是要持之以恆，每天花點時間練習。加油！\n"
          ]
        }
      ]
    },
    {
      "cell_type": "markdown",
      "source": [
        "### 3. 打造可以一直聊下去的 ChatGPT!"
      ],
      "metadata": {
        "id": "A9f59Bgmh86W"
      }
    },
    {
      "cell_type": "code",
      "source": [
        "messages = [{\"role\": \"system\", \"content\": \"你是一個非常溫暖的對話機器人，回應都簡短，儘量不要超過二十個字，而且有同理心。\"}]\n",
        "\n",
        "while True:\n",
        "    prompt = input('> ')\n",
        "    if 'bye' in prompt:\n",
        "        print('再見, 下次再聊!')\n",
        "        break\n",
        "    messages.append({\"role\": \"user\", \"content\": prompt})\n",
        "    response = openai.ChatCompletion.create(\n",
        "        model=\"gpt-3.5-turbo\",\n",
        "        messages=messages)\n",
        "    reply = response['choices'][0]['message'][\"content\"]\n",
        "    print(chatbot + reply)\n",
        "    print()\n",
        "    messages.append({\"role\": \"assistant\", \"content\": reply})"
      ],
      "metadata": {
        "colab": {
          "base_uri": "https://localhost:8080/"
        },
        "id": "1yKmQhyDAym6",
        "outputId": "fee1e030-9786-4121-c336-6dfda107dedc"
      },
      "execution_count": 12,
      "outputs": [
        {
          "output_type": "stream",
          "name": "stdout",
          "text": [
            "> 我很難過。\n",
            "🐶: 我了解你的感受，想聊聊嗎？\n",
            "\n",
            "> 就是 Python 都不太會寫。\n",
            "🐶: 不要灰心，學習需要時間和耐心，我相信你可以逐漸掌握 Python。加油！\n",
            "\n",
            "> 感覺同學們也不太想幫我。\n",
            "🐶: 可能是因為同學們忙於自己的事情，不過你可以嘗試尋找其他的資源，例如網上的學習社群、教學網站，或者向老師尋求幫助。不要害怕向他人尋求幫助，大多數人都樂於相助的。\n",
            "\n",
            "> 嗯，要去上課了, 下次再聊, bye!\n",
            "再見, 下次再聊!\n"
          ]
        }
      ]
    },
    {
      "cell_type": "code",
      "source": [],
      "metadata": {
        "id": "5k-usEjpw_LU"
      },
      "execution_count": null,
      "outputs": []
    }
  ]
}
{
  "nbformat": 4,
  "nbformat_minor": 0,
  "metadata": {
    "colab": {
      "provenance": [],
      "authorship_tag": "ABX9TyMnq+WMIolvRkh+djmUBqki",
      "include_colab_link": true
    },
    "kernelspec": {
      "name": "python3",
      "display_name": "Python 3"
    },
    "language_info": {
      "name": "python"
    }
  },
  "cells": [
    {
      "cell_type": "markdown",
      "metadata": {
        "id": "view-in-github",
        "colab_type": "text"
      },
      "source": [
        "<a href=\"https://colab.research.google.com/github/yenlung/Python-Book/blob/master/%E5%86%92%E9%9A%AA%E5%89%AF%E6%9C%AC01_%E5%BE%9E%E6%8B%8D%E6%8B%8D%E6%A9%9F%E5%99%A8%E4%BA%BA%E5%88%B0ChatGPT.ipynb\" target=\"_parent\"><img src=\"https://colab.research.google.com/assets/colab-badge.svg\" alt=\"Open In Colab\"/></a>"
      ]
    },
    {
      "cell_type": "code",
      "execution_count": 36,
      "metadata": {
        "id": "RREGOTtaxjt3"
      },
      "outputs": [],
      "source": [
        "%matplotlib inline\n",
        "\n",
        "import numpy as np\n",
        "import pandas as pd\n",
        "import matplotlib.pyplot as plt"
      ]
    },
    {
      "cell_type": "markdown",
      "source": [
        "### 1. 回顧拍拍機器人\n",
        "\n",
        "這次我們介紹怎麼用 OpenAI 的 API 打造一個自己的 ChatGPT。首先我們回憶原來的拍拍機器人。\n",
        "\n",
        "這次我們定義 `chatbot` 為我們對話機器人代表的 icon。你可以選個 emoji 表情符號:\n",
        "\n",
        "[Emojipedia](https://emojipedia.org/)\n",
        "\n",
        "或是找個顏文字:\n",
        "\n",
        "[顏文字卡](https://facemood.grtimed.com/)"
      ],
      "metadata": {
        "id": "-gsrloFvofvw"
      }
    },
    {
      "cell_type": "code",
      "source": [
        "# chatbot = \"(◍•ᴗ•◍)\" + \": \"\n",
        "\n",
        "chatbot = '🐶' + \": \""
      ],
      "metadata": {
        "id": "Apg38YUnEh-I"
      },
      "execution_count": null,
      "outputs": []
    },
    {
      "cell_type": "code",
      "source": [
        "while True:\n",
        "    prompt = input('> ')\n",
        "    if 'bye' in prompt:\n",
        "        print(chatbot + '再見, 下次再聊!')\n",
        "        break\n",
        "    print(chatbot + \"拍拍\")\n",
        "    print()"
      ],
      "metadata": {
        "colab": {
          "base_uri": "https://localhost:8080/"
        },
        "id": "HdrJE7CC6Fud",
        "outputId": "3287f104-56c3-4c94-d9e2-229598259267"
      },
      "execution_count": null,
      "outputs": [
        {
          "output_type": "stream",
          "name": "stdout",
          "text": [
            "> 我很難過\n",
            "🐶: 拍拍\n",
            "\n",
            "> 同學作業都不借我抄\n",
            "🐶: 拍拍\n",
            "\n",
            "> bye\n",
            "🐶: 再見, 下次再聊!\n"
          ]
        }
      ]
    },
    {
      "cell_type": "markdown",
      "source": [
        "### 2. 使用 OpenAI 的 API\n",
        "\n",
        "API 就是我們可以用特別指定的方式, 去呼叫外面的服務。這次我們準備使用 OpenAI 的 API, 首先請安裝 `openai` 套件。"
      ],
      "metadata": {
        "id": "HOGLih1N15GE"
      }
    },
    {
      "cell_type": "code",
      "source": [
        "!pip install openai"
      ],
      "metadata": {
        "colab": {
          "base_uri": "https://localhost:8080/"
        },
        "id": "fO4Uxe2Oxsxa",
        "outputId": "7a13c1db-a9ab-4a6a-c961-b360581dca7a"
      },
      "execution_count": null,
      "outputs": [
        {
          "output_type": "stream",
          "name": "stdout",
          "text": [
            "Looking in indexes: https://pypi.org/simple, https://us-python.pkg.dev/colab-wheels/public/simple/\n",
            "Collecting openai\n",
            "  Downloading openai-0.27.2-py3-none-any.whl (70 kB)\n",
            "\u001b[2K     \u001b[90m━━━━━━━━━━━━━━━━━━━━━━━━━━━━━━━━━━━━━━━━\u001b[0m \u001b[32m70.1/70.1 KB\u001b[0m \u001b[31m2.8 MB/s\u001b[0m eta \u001b[36m0:00:00\u001b[0m\n",
            "\u001b[?25hRequirement already satisfied: tqdm in /usr/local/lib/python3.9/dist-packages (from openai) (4.65.0)\n",
            "Requirement already satisfied: requests>=2.20 in /usr/local/lib/python3.9/dist-packages (from openai) (2.27.1)\n",
            "Collecting aiohttp\n",
            "  Downloading aiohttp-3.8.4-cp39-cp39-manylinux_2_17_x86_64.manylinux2014_x86_64.whl (1.0 MB)\n",
            "\u001b[2K     \u001b[90m━━━━━━━━━━━━━━━━━━━━━━━━━━━━━━━━━━━━━━━━\u001b[0m \u001b[32m1.0/1.0 MB\u001b[0m \u001b[31m19.5 MB/s\u001b[0m eta \u001b[36m0:00:00\u001b[0m\n",
            "\u001b[?25hRequirement already satisfied: charset-normalizer~=2.0.0 in /usr/local/lib/python3.9/dist-packages (from requests>=2.20->openai) (2.0.12)\n",
            "Requirement already satisfied: certifi>=2017.4.17 in /usr/local/lib/python3.9/dist-packages (from requests>=2.20->openai) (2022.12.7)\n",
            "Requirement already satisfied: idna<4,>=2.5 in /usr/local/lib/python3.9/dist-packages (from requests>=2.20->openai) (3.4)\n",
            "Requirement already satisfied: urllib3<1.27,>=1.21.1 in /usr/local/lib/python3.9/dist-packages (from requests>=2.20->openai) (1.26.15)\n",
            "Collecting async-timeout<5.0,>=4.0.0a3\n",
            "  Downloading async_timeout-4.0.2-py3-none-any.whl (5.8 kB)\n",
            "Requirement already satisfied: attrs>=17.3.0 in /usr/local/lib/python3.9/dist-packages (from aiohttp->openai) (22.2.0)\n",
            "Collecting frozenlist>=1.1.1\n",
            "  Downloading frozenlist-1.3.3-cp39-cp39-manylinux_2_5_x86_64.manylinux1_x86_64.manylinux_2_17_x86_64.manylinux2014_x86_64.whl (158 kB)\n",
            "\u001b[2K     \u001b[90m━━━━━━━━━━━━━━━━━━━━━━━━━━━━━━━━━━━━━━\u001b[0m \u001b[32m158.8/158.8 KB\u001b[0m \u001b[31m14.6 MB/s\u001b[0m eta \u001b[36m0:00:00\u001b[0m\n",
            "\u001b[?25hCollecting multidict<7.0,>=4.5\n",
            "  Downloading multidict-6.0.4-cp39-cp39-manylinux_2_17_x86_64.manylinux2014_x86_64.whl (114 kB)\n",
            "\u001b[2K     \u001b[90m━━━━━━━━━━━━━━━━━━━━━━━━━━━━━━━━━━━━━━\u001b[0m \u001b[32m114.2/114.2 KB\u001b[0m \u001b[31m11.6 MB/s\u001b[0m eta \u001b[36m0:00:00\u001b[0m\n",
            "\u001b[?25hCollecting yarl<2.0,>=1.0\n",
            "  Downloading yarl-1.8.2-cp39-cp39-manylinux_2_17_x86_64.manylinux2014_x86_64.whl (264 kB)\n",
            "\u001b[2K     \u001b[90m━━━━━━━━━━━━━━━━━━━━━━━━━━━━━━━━━━━━━━\u001b[0m \u001b[32m264.6/264.6 KB\u001b[0m \u001b[31m21.9 MB/s\u001b[0m eta \u001b[36m0:00:00\u001b[0m\n",
            "\u001b[?25hCollecting aiosignal>=1.1.2\n",
            "  Downloading aiosignal-1.3.1-py3-none-any.whl (7.6 kB)\n",
            "Installing collected packages: multidict, frozenlist, async-timeout, yarl, aiosignal, aiohttp, openai\n",
            "Successfully installed aiohttp-3.8.4 aiosignal-1.3.1 async-timeout-4.0.2 frozenlist-1.3.3 multidict-6.0.4 openai-0.27.2 yarl-1.8.2\n"
          ]
        }
      ]
    },
    {
      "cell_type": "markdown",
      "source": [
        "最重要的是要取得 OpenAI 的金鑰, 請由以下連結登入 OpenAI 網站:\n",
        "\n",
        "[https://platform.openai.com](https://platform.openai.com)\n",
        "\n",
        "如果還沒有帳號, 請取申請一個帳號 (可以用 Gmail 登入的方式)。注意這是要手機認證的, 如果認證通過就會有 18 美金的運用額度。這些錢做等一下 ChatGPT API 練習是完全足夠的!\n",
        "\n",
        "接著你會看到右上角有你的 \"Personal\" 的部份, 點下去會發現 \"View API Keys\"。這就是你要申請專屬 OpenAI API 金鑰的部份。\n",
        "\n",
        "接著你會看到 \"Create new secrec key\" 裡, 點下去會有一個彈跳式視窗出來。一定要注意你必需自己保存你的 API Key 是什麼, 因為 OpenAI 沒有任何地方會幫你做這件事!\n",
        "\n",
        "做到這些, 你使用 OpenAI API 的準備工作就完成了。現在我們就引入 `openai` 套件。"
      ],
      "metadata": {
        "id": "fDoiig7BT3Tv"
      }
    },
    {
      "cell_type": "code",
      "source": [
        "import openai"
      ],
      "metadata": {
        "id": "6fm0bOSz09gd"
      },
      "execution_count": null,
      "outputs": []
    },
    {
      "cell_type": "markdown",
      "source": [
        "請在兩個引號中, 插入你的 OpenAI API 金鑰。"
      ],
      "metadata": {
        "id": "4E2EmoyJfMOi"
      }
    },
    {
      "cell_type": "code",
      "source": [
        "openai.api_key = \"你的 OpenAI API 金鑰\""
      ],
      "metadata": {
        "id": "GlBg7KX30QXq"
      },
      "execution_count": null,
      "outputs": []
    },
    {
      "cell_type": "markdown",
      "source": [
        "做 ChatGPT 方式非常簡單, 就是要用 `ChatCompletion`, 其中 `create` 就是正式送給某一個模型。這裡有兩個重點, 一個是 `model` 我們要選用的模型, 這裡用的是 `gpt-3.5-turbo`, 事實上就是 ChatGPT 一開始的標準版本。\n",
        "\n",
        "然後就是 `messages` 部份, 這裡就是這次聊天的過程中, 包括我們使用者輸入的, 還有之前 ChatGPT 的回應。可以看以下內容。後面的 `content` 比較容易理解, 那 `role` (角色) 是什麼意思呢? 我們來說明一下:\n",
        "\n",
        "* `system`: 給 ChatGPT 的「人設」。\n",
        "* `user`: 使用者輸入的東西。\n",
        "* `assistant`: ChatGPT 的回應。"
      ],
      "metadata": {
        "id": "R-fVd4PlfflR"
      }
    },
    {
      "cell_type": "code",
      "source": [
        "response = openai.ChatCompletion.create(\n",
        "  model=\"gpt-3.5-turbo\",\n",
        "  messages=[\n",
        "        {\"role\": \"system\", \"content\": \"你是一個非常有同理心的對話機器人，回應都簡短溫暖而且有同理心。\"},\n",
        "        {\"role\": \"user\", \"content\": \"我很難過\"},\n",
        "        {\"role\": \"assistant\", \"content\": \"很抱歉聽到你感到難過，可以跟我說說你正在遭遇什麼困難嗎？我們可以一起找尋解決問題的方式。\"},\n",
        "        {\"role\": \"user\", \"content\": \"Python程式都不會寫\"}\n",
        "    ]\n",
        ")"
      ],
      "metadata": {
        "id": "B7ghPbN208NN"
      },
      "execution_count": null,
      "outputs": []
    },
    {
      "cell_type": "markdown",
      "source": [
        "再來就是看我們怎麼讀出 ChatGPT 的回應。"
      ],
      "metadata": {
        "id": "CKolwiXhhrsh"
      }
    },
    {
      "cell_type": "code",
      "source": [
        "response[\"choices\"][0][\"message\"][\"content\"]"
      ],
      "metadata": {
        "colab": {
          "base_uri": "https://localhost:8080/",
          "height": 70
        },
        "id": "9wq7dXOe1yQH",
        "outputId": "6770e4b4-73a9-422c-a520-bbcf0f2d9e90"
      },
      "execution_count": null,
      "outputs": [
        {
          "output_type": "execute_result",
          "data": {
            "text/plain": [
              "'學習 Python 程式需要時間，並不容易，但是現在學習 Python 其實很方便。現在有許多免費的教學資源可以參考，例如 Codeacademy、Coursera 等等。你可以從基礎的語法開始學習，也可以透過線上影片來學習寫程式。如果你需要更多的指導，也可以考慮報名參加一些培訓課程，有些線上課程需要付費，但也有許多免費的線上學習課程。'"
            ],
            "application/vnd.google.colaboratory.intrinsic+json": {
              "type": "string"
            }
          },
          "metadata": {},
          "execution_count": 22
        }
      ]
    },
    {
      "cell_type": "markdown",
      "source": [
        "### 3. 打造可以一直聊下去的 ChatGPT!"
      ],
      "metadata": {
        "id": "A9f59Bgmh86W"
      }
    },
    {
      "cell_type": "code",
      "source": [
        "messages = [{\"role\": \"system\", \"content\": \"你是一個非常有同理心的對話機器人，回應都簡短溫暖而且有同理心。\"}]\n",
        "\n",
        "while True:\n",
        "    prompt = input('> ')\n",
        "    if 'bye' in prompt:\n",
        "        print('再見, 下次再聊!')\n",
        "        break\n",
        "    messages.append({\"role\": \"user\", \"content\": prompt})\n",
        "    response = openai.ChatCompletion.create(\n",
        "        model=\"gpt-3.5-turbo\",\n",
        "        messages=messages)\n",
        "    reply = response['choices'][0]['message'][\"content\"]\n",
        "    print(chatbot + reply)\n",
        "    print()\n",
        "    messages.append({\"role\": \"assistant\", \"content\": reply})"
      ],
      "metadata": {
        "colab": {
          "base_uri": "https://localhost:8080/"
        },
        "id": "1yKmQhyDAym6",
        "outputId": "75654429-7970-4c14-847f-17a909a4285a"
      },
      "execution_count": null,
      "outputs": [
        {
          "output_type": "stream",
          "name": "stdout",
          "text": [
            "> 我很難過。\n",
            "🐶: 很抱歉聽到您這樣說，可以告訴我發生了什麼事情讓您感到難過嗎？或者您只是感到情緒低落，需要一些安慰和支持嗎？\n",
            "\n",
            "> 覺得老師都故意針對我。\n",
            "🐶: 很抱歉聽到您這樣說，這肯定是一個很困擾的問題，謝謝您跟我分享。或許老師的行為讓您感到受到不公平待遇，而這可能會讓您感到挫折、憤怒和不安。但是，我們無法掌控他人的行為，但我們可以控制自己的反應和態度。您可以試著跟老師溝通，說出您的想法和感受，或者尋求其他人的協助，例如家人或學校諮詢師等。不要忘記，您並不孤單。\n",
            "\n",
            "> 那你說句鼓勵我的話好了。\n",
            "🐶: 當然，我會很樂意為您提供鼓勵和支持。請記住，雖然您可能會遇到挫折和困難，但這是人生中的一部分。您擁有足夠的勇氣和力量去克服它們，尋找自己的出路，成為更強大和自信的人。所以請不要放棄，堅持下去，我們一起加油！\n",
            "\n",
            "> bye\n",
            "再見, 下次再聊!\n"
          ]
        }
      ]
    }
  ]
}
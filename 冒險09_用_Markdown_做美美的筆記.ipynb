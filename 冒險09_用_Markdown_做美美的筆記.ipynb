{
  "cells": [
    {
      "cell_type": "markdown",
      "metadata": {
        "id": "view-in-github",
        "colab_type": "text"
      },
      "source": [
        "<a href=\"https://colab.research.google.com/github/yenlung/Python-Book/blob/master/%E5%86%92%E9%9A%AA09_%E7%94%A8_Markdown_%E5%81%9A%E7%BE%8E%E7%BE%8E%E7%9A%84%E7%AD%86%E8%A8%98.ipynb\" target=\"_parent\"><img src=\"https://colab.research.google.com/assets/colab-badge.svg\" alt=\"Open In Colab\"/></a>"
      ]
    },
    {
      "cell_type": "code",
      "execution_count": 1,
      "metadata": {
        "id": "XM6ln35a80jT"
      },
      "outputs": [],
      "source": [
        "%matplotlib inline\n",
        "\n",
        "import numpy as np\n",
        "import pandas as pd\n",
        "import matplotlib.pyplot"
      ]
    },
    {
      "cell_type": "markdown",
      "metadata": {
        "id": "QBRvXrLQ80jU"
      },
      "source": [
        "### 為程式加上註解\n",
        "\n",
        "加上 `#` 字符號是註解的意思, Python 就不會理會那一行！"
      ]
    },
    {
      "cell_type": "code",
      "execution_count": 2,
      "metadata": {
        "id": "KIW3DoBt80jV"
      },
      "outputs": [],
      "source": [
        "# 我的夢幻鏡頭列表\n",
        "\n",
        "lenses = {'12-100mm f4':32927,\n",
        "          '300mm f4':78191,\n",
        "          '40-150mm f2.8':30581}"
      ]
    },
    {
      "cell_type": "markdown",
      "metadata": {
        "id": "ZErlDmj580jV"
      },
      "source": [
        "也可以在後面加上註解。"
      ]
    },
    {
      "cell_type": "code",
      "execution_count": 3,
      "metadata": {
        "id": "7aGpSq8n80jV"
      },
      "outputs": [],
      "source": [
        "usd = 29.94 # 美金對台幣匯率\n",
        "jpy = 0.27 # 日圓對台幣匯率"
      ]
    },
    {
      "cell_type": "markdown",
      "metadata": {
        "id": "kPPMNw9I80jV"
      },
      "source": [
        "這還是會執行的!"
      ]
    },
    {
      "cell_type": "code",
      "execution_count": 4,
      "metadata": {
        "id": "m7sce_gZ80jV",
        "outputId": "5c2a7b89-0202-463c-fc5f-e4669a9c28eb",
        "colab": {
          "base_uri": "https://localhost:8080/"
        }
      },
      "outputs": [
        {
          "output_type": "execute_result",
          "data": {
            "text/plain": [
              "29.94"
            ]
          },
          "metadata": {},
          "execution_count": 4
        }
      ],
      "source": [
        "usd"
      ]
    },
    {
      "cell_type": "markdown",
      "metadata": {
        "id": "CYQHKqRz80jW"
      },
      "source": [
        "![markdown](https://github.com/yenlung/Python-Book/blob/master/images/markdown.png?raw=1)\n",
        "\n",
        "Markdown 是一種標準語法, 很方便快速的可以做簡單排版。非常多的 app 都有支援, 可以參考\n",
        "\n",
        "[Markdown 語法簡介](https://markdown.tw)"
      ]
    },
    {
      "cell_type": "markdown",
      "metadata": {
        "id": "ZjGtOTOK80jW"
      },
      "source": [
        "# 我們來學 Markdown"
      ]
    },
    {
      "cell_type": "markdown",
      "metadata": {
        "id": "loC5qo1K80jW"
      },
      "source": [
        "### 標題\n",
        "\n",
        "Cell 可以選 `Markdown` 模式, 就可以用 `Markdown` 語法做筆記。\n",
        "\n",
        "### 【重點】標題\n",
        "\n",
        "`# 我們來學 Markdown`\n",
        "# 我們來學 Markdown\n",
        "\n",
        "`## 副標題`\n",
        "## 副標題"
      ]
    },
    {
      "cell_type": "markdown",
      "metadata": {
        "id": "6Rr4pxLb80jW"
      },
      "source": [
        "## 第二大的標題\n",
        "### 第三大的標題\n",
        "\n",
        "正常的內文會像，呃，正常的內文顯示出來。"
      ]
    },
    {
      "cell_type": "markdown",
      "metadata": {
        "id": "pzuNatzf80jW"
      },
      "source": [
        "### 【重點】分點說明\n",
        "\n",
        "我們要學以下幾個套件:\n",
        "\n",
        "* `matplotlib`\n",
        "* `numpy`\n",
        "* `pandas`\n",
        "* `scikit-learn`"
      ]
    },
    {
      "cell_type": "markdown",
      "metadata": {
        "id": "CfObJXq_80jX"
      },
      "source": [
        "### 【重點】分點說明 (有編號)\n",
        "\n",
        "我們要學以下幾個套件:\n",
        "\n",
        "1. `matplotlib`\n",
        "2. `numpy`\n",
        "3. `pandas`\n",
        "4. `scikit-learn`"
      ]
    },
    {
      "cell_type": "markdown",
      "metadata": {
        "id": "7W6Eppk980jX"
      },
      "source": [
        "### 【重點】插入網頁\n",
        "\n",
        "格式如下\n",
        "\n",
        "    [網頁名稱](URL)\n",
        "    \n",
        "例如\n",
        "\n",
        "    [炎龍老師的 Blog](https://yenlung.blog)\n",
        "    \n",
        "結果: [炎龍老師的 Blog](https://yenlung.blog)"
      ]
    },
    {
      "cell_type": "markdown",
      "metadata": {
        "id": "2PguW9cY80jX"
      },
      "source": [
        "### 【重點】程式碼\n",
        "\n",
        "顯示程式碼有幾種方式。\n",
        "\n",
        "#### [1] 前面有若干空白\n",
        "\n",
        "    for i in range(10):\n",
        "        print(i)\n",
        "        \n",
        "#### [2] 內文可以用斜引號\n",
        "\n",
        "    `matplotlib`\n",
        "    \n",
        "#### [3] 還可以用 3 個引號外加語言\n",
        "\n",
        "    ```python\n",
        "    for i in range(10):\n",
        "        print(i)\n",
        "    ```\n",
        "\n",
        "```python\n",
        "for i in range(10):\n",
        "    print(i)\n",
        "```"
      ]
    },
    {
      "cell_type": "markdown",
      "metadata": {
        "id": "XJqANrMB80jX"
      },
      "source": [
        "### 【重點】插入圖片\n",
        "\n",
        "    ![圖片名稱](圖片路徑)\n",
        "    \n",
        "例如\n",
        "\n",
        "    ![可愛小豬](https://github.com/yenlung/Python-Book/blob/master/images/pig.png?raw=1)\n",
        "    \n",
        "![Happy Python](https://github.com/yenlung/Python-Book/blob/master/images/pig.png?raw=1)"
      ]
    },
    {
      "cell_type": "markdown",
      "metadata": {
        "id": "u0a9Qkxv80jX"
      },
      "source": [
        "魔術指令 | 功能\n",
        "--------|-----\n",
        "cd      | 變換目前工作資料夾\n",
        "ls      | 列出當前資料夾下的檔案\n",
        "save    | 儲存檔案"
      ]
    },
    {
      "cell_type": "markdown",
      "metadata": {
        "id": "sD_94oeN80jX"
      },
      "source": [
        "魔術指令 | 功能\n",
        ":--------:|:-----\n",
        "cd      | 變換目前工作資料夾\n",
        "ls      | 列出當前資料夾下的檔案\n",
        "save    | 儲存檔案"
      ]
    },
    {
      "cell_type": "markdown",
      "metadata": {
        "id": "2FyikRZA80jX"
      },
      "source": [
        "### 【重點】輸入數學符號\n",
        "\n",
        "支援 LaTeX 指令。\n",
        "\n",
        "#### 隨文模式\n",
        "\n",
        "例如\n",
        "\n",
        "    設我們有函數 $f(x) = x^3 - 2x + 5$。\n",
        "    \n",
        "[結果] 設我們有函數 $f(x) = x^3 - 2x + 5$。\n",
        "\n",
        "#### 展式模式\n",
        "\n",
        "例如\n",
        "\n",
        "    我們來算個積分：$$\\int_a^b f(x) \\, dx$$\n",
        "\n",
        "我們來算個積分：$$\\int_a^b f(x) \\, dx$$"
      ]
    },
    {
      "cell_type": "markdown",
      "metadata": {
        "id": "kZlkrhce80jX"
      },
      "source": [
        "![hello world](https://github.com/yenlung/Python-Book/blob/master/images/T_hello.png?raw=1)\n",
        "\n",
        "#### 【沒啥用的冷知識】\n",
        "\n",
        "現在的程式語言, 幾乎一開始都會為大家介紹, 怎麼印出一個\n",
        "\n",
        "    Hello, world!\n",
        "    \n",
        "的簡單程式。這開始是由有名的 C 語言聖經, 1978 年的 K&R \"The C Programming Language\" 讓大家廣為人知。雖然更早就在 1974 年 Bell 實驗室內部訓練文件出現過, 甚至有人舉證更早就有人寫過, 不過 K&R 那本 C 語言聖經還是讓它流行的原因。\n",
        "\n",
        "我們來個復古, 原始版本的 hello world。"
      ]
    },
    {
      "cell_type": "code",
      "execution_count": 5,
      "metadata": {
        "id": "f7Azjibb80jX",
        "outputId": "37898f28-c93c-4f8c-8db6-70d7f184a244",
        "colab": {
          "base_uri": "https://localhost:8080/"
        }
      },
      "outputs": [
        {
          "output_type": "stream",
          "name": "stdout",
          "text": [
            "hello world\n"
          ]
        }
      ],
      "source": [
        "print(\"hello world\")"
      ]
    },
    {
      "cell_type": "markdown",
      "metadata": {
        "id": "pTvztMLF80jX"
      },
      "source": [
        "讓 Python 親切的 (?) 和我們打招呼。"
      ]
    },
    {
      "cell_type": "code",
      "execution_count": 6,
      "metadata": {
        "collapsed": true,
        "id": "KSN0nDkt80jY"
      },
      "outputs": [],
      "source": [
        "name = \"yenlung\""
      ]
    },
    {
      "cell_type": "code",
      "execution_count": 7,
      "metadata": {
        "id": "LN9KHqmg80jY",
        "outputId": "a862836f-18d9-4b80-e939-e2d1156d9bac",
        "colab": {
          "base_uri": "https://localhost:8080/"
        }
      },
      "outputs": [
        {
          "output_type": "stream",
          "name": "stdout",
          "text": [
            "Hi! yenlung\n"
          ]
        }
      ],
      "source": [
        "print(\"Hi! \" + name )"
      ]
    },
    {
      "cell_type": "code",
      "execution_count": 8,
      "metadata": {
        "collapsed": true,
        "id": "M5xxu4Zz80jY"
      },
      "outputs": [],
      "source": [
        "st = 'yenlung'"
      ]
    },
    {
      "cell_type": "markdown",
      "metadata": {
        "id": "vuAhFedu80jY"
      },
      "source": [
        "Python 還有很炫的「三引號」字串! 可以在字串中直接換行哦。"
      ]
    },
    {
      "cell_type": "code",
      "execution_count": 9,
      "metadata": {
        "collapsed": true,
        "id": "Nro4wmT880jY"
      },
      "outputs": [],
      "source": [
        "message = '''隨便啦\n",
        "今天天氣很好\n",
        "\n",
        "就這樣\n",
        "'''"
      ]
    },
    {
      "cell_type": "markdown",
      "metadata": {
        "id": "Wi0OeDtj80jY"
      },
      "source": [
        "內容看來這樣, 有點可怕 (大概就愛 C 的人覺得親切)"
      ]
    },
    {
      "cell_type": "code",
      "execution_count": 10,
      "metadata": {
        "id": "5RhtQ-NT80jZ",
        "outputId": "5f9ff1f8-dc40-4f56-da4f-448beefcc99c",
        "colab": {
          "base_uri": "https://localhost:8080/",
          "height": 35
        }
      },
      "outputs": [
        {
          "output_type": "execute_result",
          "data": {
            "text/plain": [
              "'隨便啦\\n今天天氣很好\\n\\n就這樣\\n'"
            ],
            "application/vnd.google.colaboratory.intrinsic+json": {
              "type": "string"
            }
          },
          "metadata": {},
          "execution_count": 10
        }
      ],
      "source": [
        "message"
      ]
    },
    {
      "cell_type": "markdown",
      "metadata": {
        "id": "pFiS5teN80jZ"
      },
      "source": [
        "還是印出來好了..."
      ]
    },
    {
      "cell_type": "code",
      "execution_count": 11,
      "metadata": {
        "id": "hRJxn3iF80jZ",
        "outputId": "e7b63802-783d-4e29-9c73-9741da63304b",
        "colab": {
          "base_uri": "https://localhost:8080/"
        }
      },
      "outputs": [
        {
          "output_type": "stream",
          "name": "stdout",
          "text": [
            "隨便啦\n",
            "今天天氣很好\n",
            "\n",
            "就這樣\n",
            "\n"
          ]
        }
      ],
      "source": [
        "print(message)"
      ]
    },
    {
      "cell_type": "markdown",
      "metadata": {
        "id": "Lcb7a-1s80jZ"
      },
      "source": [
        "耍寶時間"
      ]
    },
    {
      "cell_type": "code",
      "execution_count": 12,
      "metadata": {
        "id": "WVEqI0mF80jZ"
      },
      "outputs": [],
      "source": [
        "face = \"(*´∀`)~♥\""
      ]
    },
    {
      "cell_type": "code",
      "execution_count": 13,
      "metadata": {
        "id": "WX6UCJeO80jZ",
        "outputId": "32758cf7-0723-44c6-e935-c33437e6fb2a",
        "colab": {
          "base_uri": "https://localhost:8080/"
        }
      },
      "outputs": [
        {
          "output_type": "stream",
          "name": "stdout",
          "text": [
            "(*´∀`)~♥\n"
          ]
        }
      ],
      "source": [
        "print(face)"
      ]
    },
    {
      "cell_type": "code",
      "execution_count": 14,
      "metadata": {
        "id": "S6IJ-bZF80jZ",
        "outputId": "bdb09910-5103-40cb-f5ac-f02e42e43b84",
        "colab": {
          "base_uri": "https://localhost:8080/"
        }
      },
      "outputs": [
        {
          "output_type": "stream",
          "name": "stdout",
          "text": [
            "(*´∀`)~♥(*´∀`)~♥(*´∀`)~♥(*´∀`)~♥(*´∀`)~♥\n"
          ]
        }
      ],
      "source": [
        "print(face * 5)"
      ]
    },
    {
      "cell_type": "markdown",
      "metadata": {
        "id": "gw8mv4CI80jZ"
      },
      "source": [
        "### [練習]\n",
        "\n",
        "亂數決定重覆印幾次 face 這個字串。\n",
        "\n",
        "    face = \"(*´∀`)~♥\""
      ]
    },
    {
      "cell_type": "markdown",
      "metadata": {
        "id": "383tA0od80jZ"
      },
      "source": [
        "![input](https://github.com/yenlung/Python-Book/blob/master/images/input.png?raw=1)"
      ]
    },
    {
      "cell_type": "code",
      "execution_count": 15,
      "metadata": {
        "id": "H1TeP_Ym80jZ",
        "outputId": "fdcfa53f-3aa2-4c59-88dc-7dcc067a6c50",
        "colab": {
          "base_uri": "https://localhost:8080/"
        }
      },
      "outputs": [
        {
          "name": "stdout",
          "output_type": "stream",
          "text": [
            "請輸入你的名字: 炎龍\n"
          ]
        }
      ],
      "source": [
        "name = input(\"請輸入你的名字: \")"
      ]
    },
    {
      "cell_type": "code",
      "execution_count": 16,
      "metadata": {
        "id": "gUJhIAmx80jZ",
        "outputId": "ae4571fb-8bea-4988-8cd4-9095da1f8f5f",
        "colab": {
          "base_uri": "https://localhost:8080/",
          "height": 35
        }
      },
      "outputs": [
        {
          "output_type": "execute_result",
          "data": {
            "text/plain": [
              "'炎龍'"
            ],
            "application/vnd.google.colaboratory.intrinsic+json": {
              "type": "string"
            }
          },
          "metadata": {},
          "execution_count": 16
        }
      ],
      "source": [
        "name"
      ]
    },
    {
      "cell_type": "markdown",
      "metadata": {
        "id": "bTjUI0FO80jZ"
      },
      "source": [
        "來個簡單的互動!"
      ]
    },
    {
      "cell_type": "code",
      "execution_count": 17,
      "metadata": {
        "id": "yyCy7X1D80jZ",
        "outputId": "9ab413ee-3686-4b30-f54c-dd518e0382e9",
        "colab": {
          "base_uri": "https://localhost:8080/"
        }
      },
      "outputs": [
        {
          "output_type": "stream",
          "name": "stdout",
          "text": [
            "請問你名字叫什麼? 炎龍\n",
            "炎龍, 你好!\n"
          ]
        }
      ],
      "source": [
        "name = input(\"請問你名字叫什麼? \")\n",
        "print(name + \", 你好!\")"
      ]
    },
    {
      "cell_type": "markdown",
      "metadata": {
        "id": "a6VgDQv-80ja"
      },
      "source": [
        "注意輸入永遠是「字串」格式。比方說以下的匯率換算會出問題!"
      ]
    },
    {
      "cell_type": "code",
      "execution_count": 18,
      "metadata": {
        "id": "4qiympXt80ja",
        "outputId": "880baa73-dccc-4499-b73a-7a611d2cf1b8",
        "colab": {
          "base_uri": "https://localhost:8080/",
          "height": 226
        }
      },
      "outputs": [
        {
          "name": "stdout",
          "output_type": "stream",
          "text": [
            "請輸入日元金額: 999\n"
          ]
        },
        {
          "output_type": "error",
          "ename": "TypeError",
          "evalue": "ignored",
          "traceback": [
            "\u001b[0;31m---------------------------------------------------------------------------\u001b[0m",
            "\u001b[0;31mTypeError\u001b[0m                                 Traceback (most recent call last)",
            "\u001b[0;32m<ipython-input-18-8a1ab77b1d3c>\u001b[0m in \u001b[0;36m<module>\u001b[0;34m\u001b[0m\n\u001b[1;32m      1\u001b[0m \u001b[0mc\u001b[0m \u001b[0;34m=\u001b[0m \u001b[0;36m0.287284242\u001b[0m\u001b[0;34m\u001b[0m\u001b[0;34m\u001b[0m\u001b[0m\n\u001b[1;32m      2\u001b[0m \u001b[0mjpy\u001b[0m \u001b[0;34m=\u001b[0m \u001b[0minput\u001b[0m\u001b[0;34m(\u001b[0m\u001b[0;34m\"請輸入日元金額: \"\u001b[0m\u001b[0;34m)\u001b[0m\u001b[0;34m\u001b[0m\u001b[0;34m\u001b[0m\u001b[0m\n\u001b[0;32m----> 3\u001b[0;31m \u001b[0mprint\u001b[0m\u001b[0;34m(\u001b[0m\u001b[0;34m'換算成台幣為'\u001b[0m\u001b[0;34m,\u001b[0m \u001b[0mjpy\u001b[0m\u001b[0;34m*\u001b[0m\u001b[0mc\u001b[0m\u001b[0;34m)\u001b[0m\u001b[0;34m\u001b[0m\u001b[0;34m\u001b[0m\u001b[0m\n\u001b[0m",
            "\u001b[0;31mTypeError\u001b[0m: can't multiply sequence by non-int of type 'float'"
          ]
        }
      ],
      "source": [
        "c = 0.287284242\n",
        "jpy = input(\"請輸入日元金額: \")\n",
        "print('換算成台幣為', jpy*c)"
      ]
    },
    {
      "cell_type": "code",
      "execution_count": 19,
      "metadata": {
        "id": "utn1sxb080ja",
        "outputId": "f03a8f15-4021-439a-b17a-227cadd3de51",
        "colab": {
          "base_uri": "https://localhost:8080/",
          "height": 35
        }
      },
      "outputs": [
        {
          "output_type": "execute_result",
          "data": {
            "text/plain": [
              "'999'"
            ],
            "application/vnd.google.colaboratory.intrinsic+json": {
              "type": "string"
            }
          },
          "metadata": {},
          "execution_count": 19
        }
      ],
      "source": [
        "jpy"
      ]
    },
    {
      "cell_type": "markdown",
      "metadata": {
        "id": "Fs4i86Z680ja"
      },
      "source": [
        "在 Python 中, 資料型態很容易可以轉變!"
      ]
    },
    {
      "cell_type": "code",
      "execution_count": 20,
      "metadata": {
        "id": "1ptCeLY680ja",
        "outputId": "99ddfc6d-0700-47f5-b812-32c7e0c4d8a3",
        "colab": {
          "base_uri": "https://localhost:8080/"
        }
      },
      "outputs": [
        {
          "output_type": "execute_result",
          "data": {
            "text/plain": [
              "999.0"
            ]
          },
          "metadata": {},
          "execution_count": 20
        }
      ],
      "source": [
        "float(jpy)"
      ]
    },
    {
      "cell_type": "markdown",
      "metadata": {
        "id": "j5LNox0m80ja"
      },
      "source": [
        "變成整數。"
      ]
    },
    {
      "cell_type": "code",
      "execution_count": 21,
      "metadata": {
        "id": "1EBn3Jjq80ja",
        "outputId": "0b8e3309-b5ff-4cbb-80da-10c8e88455bd",
        "colab": {
          "base_uri": "https://localhost:8080/"
        }
      },
      "outputs": [
        {
          "output_type": "execute_result",
          "data": {
            "text/plain": [
              "999"
            ]
          },
          "metadata": {},
          "execution_count": 21
        }
      ],
      "source": [
        "int(jpy) "
      ]
    },
    {
      "cell_type": "markdown",
      "metadata": {
        "id": "dDbzIk_u80ja"
      },
      "source": [
        "修改程式碼。"
      ]
    },
    {
      "cell_type": "code",
      "execution_count": 22,
      "metadata": {
        "id": "t3KT9Wxr80ja",
        "outputId": "102a2665-0df1-4350-f433-2e61ffa03802",
        "colab": {
          "base_uri": "https://localhost:8080/"
        }
      },
      "outputs": [
        {
          "output_type": "stream",
          "name": "stdout",
          "text": [
            "請輸入日元金額: 999\n",
            "換算成台幣為 286.996957758\n"
          ]
        }
      ],
      "source": [
        "c = 0.287284242\n",
        "jpy = float(input(\"請輸入日元金額: \"))\n",
        "print('換算成台幣為', jpy*c)"
      ]
    },
    {
      "cell_type": "markdown",
      "metadata": {
        "id": "fLIirfx080ja"
      },
      "source": [
        "數字換成字串。"
      ]
    },
    {
      "cell_type": "code",
      "execution_count": 23,
      "metadata": {
        "id": "NXut2E9O80ja",
        "outputId": "1546dd1f-f9c3-4f66-b5ea-4fa2c01d0037",
        "colab": {
          "base_uri": "https://localhost:8080/",
          "height": 35
        }
      },
      "outputs": [
        {
          "output_type": "execute_result",
          "data": {
            "text/plain": [
              "'87'"
            ],
            "application/vnd.google.colaboratory.intrinsic+json": {
              "type": "string"
            }
          },
          "metadata": {},
          "execution_count": 23
        }
      ],
      "source": [
        "str(87)"
      ]
    },
    {
      "cell_type": "markdown",
      "metadata": {
        "id": "dpQa2qr-80ja"
      },
      "source": [
        "###  【練習】拍拍機器人\n",
        "\n",
        "不管輸入什麼, 都回應「拍拍」的療癒系對話機器人。"
      ]
    },
    {
      "cell_type": "code",
      "execution_count": 24,
      "metadata": {
        "id": "49Vbd35s80ja",
        "outputId": "414aca04-3638-41b7-87c3-eea2d2ed31da",
        "colab": {
          "base_uri": "https://localhost:8080/"
        }
      },
      "outputs": [
        {
          "output_type": "stream",
          "name": "stdout",
          "text": [
            "> 我很難過。\n",
            "拍拍\n"
          ]
        }
      ],
      "source": [
        "message = input(\"> \")\n",
        "print(\"拍拍\")"
      ]
    },
    {
      "cell_type": "markdown",
      "metadata": {
        "id": "4QupHVeD80ja"
      },
      "source": [
        "是不是真的做出最最最簡單的拍拍機器人了? 不過只能說一句話也實在很不足。我們之後再來改寫。"
      ]
    },
    {
      "cell_type": "markdown",
      "metadata": {
        "id": "mFqJb4_x80jb"
      },
      "source": [
        "![條件判斷](https://github.com/yenlung/Python-Book/blob/master/images/if.png?raw=1)"
      ]
    },
    {
      "cell_type": "code",
      "execution_count": 25,
      "metadata": {
        "id": "Bxhazzsh80jb",
        "outputId": "edcebc95-aa51-4067-c273-bbb5b5846e56",
        "colab": {
          "base_uri": "https://localhost:8080/"
        }
      },
      "outputs": [
        {
          "output_type": "execute_result",
          "data": {
            "text/plain": [
              "True"
            ]
          },
          "metadata": {},
          "execution_count": 25
        }
      ],
      "source": [
        "2 < 3"
      ]
    },
    {
      "cell_type": "code",
      "execution_count": 26,
      "metadata": {
        "id": "cVuQ3rMX80jb",
        "outputId": "65631029-5622-45c2-935e-7c997e38c12b",
        "colab": {
          "base_uri": "https://localhost:8080/"
        }
      },
      "outputs": [
        {
          "output_type": "execute_result",
          "data": {
            "text/plain": [
              "False"
            ]
          },
          "metadata": {},
          "execution_count": 26
        }
      ],
      "source": [
        "3 < 2"
      ]
    },
    {
      "cell_type": "markdown",
      "metadata": {
        "id": "SKQMDxe080jb"
      },
      "source": [
        "記得 `True` 和 `False` 都是 Python 的保留常數, 代表, 嗯, true 和 false。請注意保留字的大小寫。"
      ]
    },
    {
      "cell_type": "markdown",
      "metadata": {
        "id": "i9BhUyNw80jb"
      },
      "source": [
        "另外要注意的是, 要把一個變數設定成某個數字, 和要判斷某個變數的值是不是某個數字方式是不一樣的!"
      ]
    },
    {
      "cell_type": "code",
      "execution_count": 27,
      "metadata": {
        "id": "xkIA3IVt80jb"
      },
      "outputs": [],
      "source": [
        "a = 7"
      ]
    },
    {
      "cell_type": "code",
      "execution_count": 28,
      "metadata": {
        "id": "QZaYzk4R80jb",
        "outputId": "06cb86ec-c221-492f-d31b-3dcd13ac5666",
        "colab": {
          "base_uri": "https://localhost:8080/"
        }
      },
      "outputs": [
        {
          "output_type": "execute_result",
          "data": {
            "text/plain": [
              "False"
            ]
          },
          "metadata": {},
          "execution_count": 28
        }
      ],
      "source": [
        "a == 8"
      ]
    },
    {
      "cell_type": "markdown",
      "metadata": {
        "id": "xJp-UwrX80jb"
      },
      "source": [
        "再來是不等於的表示法。"
      ]
    },
    {
      "cell_type": "code",
      "execution_count": 29,
      "metadata": {
        "id": "5p6-esDH80jb",
        "outputId": "ee0220c2-8d45-4814-ca46-3d482440e808",
        "colab": {
          "base_uri": "https://localhost:8080/"
        }
      },
      "outputs": [
        {
          "output_type": "execute_result",
          "data": {
            "text/plain": [
              "True"
            ]
          },
          "metadata": {},
          "execution_count": 29
        }
      ],
      "source": [
        "a != 8"
      ]
    },
    {
      "cell_type": "markdown",
      "metadata": {
        "id": "Hb3FgfD580jb"
      },
      "source": [
        "大於等於。"
      ]
    },
    {
      "cell_type": "code",
      "execution_count": 30,
      "metadata": {
        "id": "CjiZxFLD80jb",
        "outputId": "98573e1d-ef8c-41d5-95c9-d7137bac3bb7",
        "colab": {
          "base_uri": "https://localhost:8080/"
        }
      },
      "outputs": [
        {
          "output_type": "execute_result",
          "data": {
            "text/plain": [
              "True"
            ]
          },
          "metadata": {},
          "execution_count": 30
        }
      ],
      "source": [
        "a >= 6"
      ]
    },
    {
      "cell_type": "code",
      "execution_count": 31,
      "metadata": {
        "id": "zn3rIZSN80jb",
        "outputId": "f76271a9-756d-4532-fef3-018f4ec0179b",
        "colab": {
          "base_uri": "https://localhost:8080/"
        }
      },
      "outputs": [
        {
          "output_type": "execute_result",
          "data": {
            "text/plain": [
              "False"
            ]
          },
          "metadata": {},
          "execution_count": 31
        }
      ],
      "source": [
        "a <= 6"
      ]
    },
    {
      "cell_type": "markdown",
      "metadata": {
        "id": "F-PW1Q4Q80jb"
      },
      "source": [
        "接著我們寫入程式。"
      ]
    },
    {
      "cell_type": "code",
      "execution_count": 32,
      "metadata": {
        "id": "GvFG0wug80jb",
        "outputId": "f53428ef-a4d8-4d7b-eecc-62593ce738ff",
        "colab": {
          "base_uri": "https://localhost:8080/"
        }
      },
      "outputs": [
        {
          "output_type": "stream",
          "name": "stdout",
          "text": [
            "及格了!\n"
          ]
        }
      ],
      "source": [
        "grade = 66\n",
        "\n",
        "if grade > 80:\n",
        "    print('太神了!!')\n",
        "elif grade > 60:\n",
        "    print('及格了!')\n",
        "elif grade > 30:\n",
        "    print('還不錯, 再加油!')\n",
        "    print('我開玩笑的')\n",
        "else:\n",
        "    print('不要灰心, 再努力一點!')"
      ]
    },
    {
      "cell_type": "markdown",
      "metadata": {
        "id": "OqODi-PR80jb"
      },
      "source": [
        "![串列的生成](https://github.com/yenlung/Python-Book/blob/master/images/T_range.png?raw=1)"
      ]
    },
    {
      "cell_type": "markdown",
      "metadata": {
        "id": "5lEGRgPm80jb"
      },
      "source": [
        "不久之後, 你會發現串列在 Python 中可以說是非常重要的資料型態。於是有很多「快速生串列」的方法。這之中 `range` 是最常用來快速生成串列的指令。"
      ]
    },
    {
      "cell_type": "code",
      "execution_count": 33,
      "metadata": {
        "id": "0BqUd-vG80jc",
        "outputId": "ef8be7ff-9070-4d74-afd9-71bf1b5cc15c",
        "colab": {
          "base_uri": "https://localhost:8080/"
        }
      },
      "outputs": [
        {
          "output_type": "execute_result",
          "data": {
            "text/plain": [
              "range(0, 10)"
            ]
          },
          "metadata": {},
          "execution_count": 33
        }
      ],
      "source": [
        "range(10)"
      ]
    },
    {
      "cell_type": "markdown",
      "metadata": {
        "id": "j2wPM21B80jc"
      },
      "source": [
        "加上 list 指令更清楚。"
      ]
    },
    {
      "cell_type": "code",
      "execution_count": 34,
      "metadata": {
        "id": "I4V7qivK80jc",
        "outputId": "1f2106b1-fc3e-41a0-a7e4-43bd741fd04f",
        "colab": {
          "base_uri": "https://localhost:8080/"
        }
      },
      "outputs": [
        {
          "output_type": "execute_result",
          "data": {
            "text/plain": [
              "[0, 1, 2, 3, 4, 5, 6, 7, 8, 9]"
            ]
          },
          "metadata": {},
          "execution_count": 34
        }
      ],
      "source": [
        "list(range(10))"
      ]
    },
    {
      "cell_type": "markdown",
      "metadata": {
        "id": "4hSifYvC80jc"
      },
      "source": [
        "也可放到一個變數當中。"
      ]
    },
    {
      "cell_type": "code",
      "execution_count": 35,
      "metadata": {
        "id": "p2VnzvvS80jc"
      },
      "outputs": [],
      "source": [
        "L = list(range(10))"
      ]
    },
    {
      "cell_type": "code",
      "execution_count": 36,
      "metadata": {
        "id": "1iedleS180jc",
        "outputId": "22a0f04a-2116-474b-982a-837d1a6f1e3e",
        "colab": {
          "base_uri": "https://localhost:8080/"
        }
      },
      "outputs": [
        {
          "output_type": "execute_result",
          "data": {
            "text/plain": [
              "[0, 1, 2, 3, 4, 5, 6, 7, 8, 9]"
            ]
          },
          "metadata": {},
          "execution_count": 36
        }
      ],
      "source": [
        "L"
      ]
    },
    {
      "cell_type": "markdown",
      "metadata": {
        "id": "JP4J6ubq80jc"
      },
      "source": [
        "    range(n, m)\n",
        "    \n",
        "會產成一串的數字 x, 這些數字符合\n",
        "\n",
        "$$n \\leq x < m$$"
      ]
    },
    {
      "cell_type": "code",
      "execution_count": 37,
      "metadata": {
        "id": "QZgkBS8E80jc",
        "outputId": "b480f7c7-282b-455f-cb94-88a58d2477a6",
        "colab": {
          "base_uri": "https://localhost:8080/"
        }
      },
      "outputs": [
        {
          "output_type": "execute_result",
          "data": {
            "text/plain": [
              "[2, 3, 4, 5, 6, 7, 8, 9]"
            ]
          },
          "metadata": {},
          "execution_count": 37
        }
      ],
      "source": [
        "list(range(2, 10))"
      ]
    },
    {
      "cell_type": "markdown",
      "metadata": {
        "id": "fmND1qc680jc"
      },
      "source": [
        "串列中的資料型態可以走混搭風, 甚至串列中有串列也可以!"
      ]
    },
    {
      "cell_type": "code",
      "execution_count": 38,
      "metadata": {
        "id": "sUmLq2BE80jc"
      },
      "outputs": [],
      "source": [
        "奇怪的串列 = [37, 85, [2, 3, 6], 'cat', 49]"
      ]
    },
    {
      "cell_type": "code",
      "execution_count": 39,
      "metadata": {
        "id": "-6lkQgcA80jc",
        "outputId": "472f1a95-aded-4270-b46e-0a15d31d9856",
        "colab": {
          "base_uri": "https://localhost:8080/"
        }
      },
      "outputs": [
        {
          "output_type": "execute_result",
          "data": {
            "text/plain": [
              "[37, 85, [2, 3, 6], 'cat', 49]"
            ]
          },
          "metadata": {},
          "execution_count": 39
        }
      ],
      "source": [
        "奇怪的串列"
      ]
    },
    {
      "cell_type": "markdown",
      "metadata": {
        "id": "4WRU7nus80jc"
      },
      "source": [
        "    range(n, m, step)\n",
        "    \n",
        "這是 `range` 做完整的指令格式。"
      ]
    },
    {
      "cell_type": "code",
      "execution_count": 40,
      "metadata": {
        "id": "OURLLUqM80jc",
        "outputId": "8c985c09-d5a9-492a-a5c7-3e65a8ebf792",
        "colab": {
          "base_uri": "https://localhost:8080/"
        }
      },
      "outputs": [
        {
          "output_type": "execute_result",
          "data": {
            "text/plain": [
              "[1, 3, 5, 7, 9]"
            ]
          },
          "metadata": {},
          "execution_count": 40
        }
      ],
      "source": [
        "list(range(1, 10, 2))"
      ]
    },
    {
      "cell_type": "markdown",
      "metadata": {
        "id": "2KIPWZfy80jc"
      },
      "source": [
        "還有字串快速生出一個串列的方法!"
      ]
    },
    {
      "cell_type": "code",
      "execution_count": 41,
      "metadata": {
        "id": "9eYt0WPA80jc"
      },
      "outputs": [],
      "source": [
        "L = list(\"ABCDEFGHIJK\")"
      ]
    },
    {
      "cell_type": "code",
      "execution_count": 42,
      "metadata": {
        "id": "HHTFohmF80jc",
        "outputId": "7745b4e6-61cf-4db1-b88b-6c98167b6e1a",
        "colab": {
          "base_uri": "https://localhost:8080/"
        }
      },
      "outputs": [
        {
          "output_type": "execute_result",
          "data": {
            "text/plain": [
              "['A', 'B', 'C', 'D', 'E', 'F', 'G', 'H', 'I', 'J', 'K']"
            ]
          },
          "metadata": {},
          "execution_count": 42
        }
      ],
      "source": [
        "L"
      ]
    },
    {
      "cell_type": "markdown",
      "metadata": {
        "id": "iTN4kj0u80jc"
      },
      "source": [
        "![index](https://github.com/yenlung/Python-Book/blob/master/images/index.png?raw=1)\n",
        "\n",
        "找出字串中特定字元的方式!"
      ]
    },
    {
      "cell_type": "code",
      "execution_count": 43,
      "metadata": {
        "id": "vY34D7ep80jd",
        "outputId": "c2dbf84d-617c-4158-c3aa-381a8cc9bba3",
        "colab": {
          "base_uri": "https://localhost:8080/",
          "height": 35
        }
      },
      "outputs": [
        {
          "output_type": "execute_result",
          "data": {
            "text/plain": [
              "'C'"
            ],
            "application/vnd.google.colaboratory.intrinsic+json": {
              "type": "string"
            }
          },
          "metadata": {},
          "execution_count": 43
        }
      ],
      "source": [
        "L[2]"
      ]
    },
    {
      "cell_type": "code",
      "execution_count": 44,
      "metadata": {
        "id": "CT2pMWfO80jd",
        "outputId": "2d5f437f-d7e8-4060-9389-44d2700a7582",
        "colab": {
          "base_uri": "https://localhost:8080/",
          "height": 35
        }
      },
      "outputs": [
        {
          "output_type": "execute_result",
          "data": {
            "text/plain": [
              "'K'"
            ],
            "application/vnd.google.colaboratory.intrinsic+json": {
              "type": "string"
            }
          },
          "metadata": {},
          "execution_count": 44
        }
      ],
      "source": [
        "L[10]"
      ]
    },
    {
      "cell_type": "markdown",
      "metadata": {
        "id": "qizFDSnI80jd"
      },
      "source": [
        "從後面算過來也可以!"
      ]
    },
    {
      "cell_type": "code",
      "execution_count": 45,
      "metadata": {
        "id": "kchzfL8g80jd",
        "outputId": "629098da-7f5c-4c7d-998f-1943eff68023",
        "colab": {
          "base_uri": "https://localhost:8080/",
          "height": 35
        }
      },
      "outputs": [
        {
          "output_type": "execute_result",
          "data": {
            "text/plain": [
              "'K'"
            ],
            "application/vnd.google.colaboratory.intrinsic+json": {
              "type": "string"
            }
          },
          "metadata": {},
          "execution_count": 45
        }
      ],
      "source": [
        "L[-1]"
      ]
    },
    {
      "cell_type": "markdown",
      "metadata": {
        "id": "wyBthPfq80jd"
      },
      "source": [
        "可以「切」出其中一部份。"
      ]
    },
    {
      "cell_type": "code",
      "execution_count": 46,
      "metadata": {
        "id": "om496cbM80jd",
        "outputId": "88d3a7f6-dd65-470b-8912-fa2fb9843480",
        "colab": {
          "base_uri": "https://localhost:8080/"
        }
      },
      "outputs": [
        {
          "output_type": "execute_result",
          "data": {
            "text/plain": [
              "['D', 'E', 'F']"
            ]
          },
          "metadata": {},
          "execution_count": 46
        }
      ],
      "source": [
        "L[3:6]"
      ]
    },
    {
      "cell_type": "markdown",
      "metadata": {
        "id": "RbybTLI380jd"
      },
      "source": [
        "某個位置開始到最後。"
      ]
    },
    {
      "cell_type": "code",
      "execution_count": 47,
      "metadata": {
        "id": "nAeKAzaD80jd",
        "outputId": "a665802e-d417-4fe7-bcdc-4f0a945dfd8e",
        "colab": {
          "base_uri": "https://localhost:8080/"
        }
      },
      "outputs": [
        {
          "output_type": "execute_result",
          "data": {
            "text/plain": [
              "['F', 'G', 'H', 'I', 'J', 'K']"
            ]
          },
          "metadata": {},
          "execution_count": 47
        }
      ],
      "source": [
        "L[5:]"
      ]
    },
    {
      "cell_type": "markdown",
      "metadata": {
        "id": "Z6NtHo1b80jd"
      },
      "source": [
        "同理, 切到某個位置。"
      ]
    },
    {
      "cell_type": "code",
      "execution_count": 48,
      "metadata": {
        "id": "wm-zSK0Z80jd",
        "outputId": "f3d36d98-09fd-4a6b-a9d8-0fa32326a954",
        "colab": {
          "base_uri": "https://localhost:8080/"
        }
      },
      "outputs": [
        {
          "output_type": "execute_result",
          "data": {
            "text/plain": [
              "['A', 'B', 'C', 'D', 'E']"
            ]
          },
          "metadata": {},
          "execution_count": 48
        }
      ],
      "source": [
        "L[:5]"
      ]
    },
    {
      "cell_type": "markdown",
      "metadata": {
        "id": "8wg1l8JA80jd"
      },
      "source": [
        "再一次, index 可以從後面來..."
      ]
    },
    {
      "cell_type": "code",
      "execution_count": 49,
      "metadata": {
        "id": "tXaStyo180jd",
        "outputId": "caa05bce-f8a8-4e4a-a9f3-383535f5c71d",
        "colab": {
          "base_uri": "https://localhost:8080/"
        }
      },
      "outputs": [
        {
          "output_type": "execute_result",
          "data": {
            "text/plain": [
              "['A', 'B', 'C', 'D', 'E', 'F', 'G', 'H', 'I']"
            ]
          },
          "metadata": {},
          "execution_count": 49
        }
      ],
      "source": [
        "L[:-2]"
      ]
    },
    {
      "cell_type": "markdown",
      "metadata": {
        "id": "H3-ZQxVj80jd"
      },
      "source": [
        "字串基本上是一樣的方式!"
      ]
    },
    {
      "cell_type": "code",
      "execution_count": 50,
      "metadata": {
        "id": "DgoEzC6K80jd"
      },
      "outputs": [],
      "source": [
        "egg = 'ABCDEFGHIJK'"
      ]
    },
    {
      "cell_type": "code",
      "execution_count": 51,
      "metadata": {
        "id": "HuymIfKU80jd",
        "outputId": "ab1d2105-16bd-4edf-f8bd-c3cc7e988a08",
        "colab": {
          "base_uri": "https://localhost:8080/",
          "height": 35
        }
      },
      "outputs": [
        {
          "output_type": "execute_result",
          "data": {
            "text/plain": [
              "'ABCDEFGHI'"
            ],
            "application/vnd.google.colaboratory.intrinsic+json": {
              "type": "string"
            }
          },
          "metadata": {},
          "execution_count": 51
        }
      ],
      "source": [
        "egg[:-2]"
      ]
    },
    {
      "cell_type": "markdown",
      "metadata": {
        "id": "BFCBIhmM80jd"
      },
      "source": [
        "類似這樣的「矩陣」 (以後會學怎麼變成真的矩陣)。\n",
        "\n",
        "$$A = \\begin{bmatrix}\n",
        "1 & 2 \\\\\n",
        "3 & 4\n",
        "\\end{bmatrix}$$"
      ]
    },
    {
      "cell_type": "code",
      "execution_count": 52,
      "metadata": {
        "id": "MgTbK0vD80jd"
      },
      "outputs": [],
      "source": [
        "A = [[1, 2], [3, 4]]"
      ]
    },
    {
      "cell_type": "markdown",
      "metadata": {
        "id": "p4IgaCpm80jd"
      },
      "source": [
        "\"第 0 列, 第 1 行\" 的元素"
      ]
    },
    {
      "cell_type": "code",
      "execution_count": 53,
      "metadata": {
        "id": "P3BEO1l180jd",
        "outputId": "8004812a-1deb-43ee-c4bf-1e4d489a549f",
        "colab": {
          "base_uri": "https://localhost:8080/"
        }
      },
      "outputs": [
        {
          "output_type": "execute_result",
          "data": {
            "text/plain": [
              "2"
            ]
          },
          "metadata": {},
          "execution_count": 53
        }
      ],
      "source": [
        "A[0][1]"
      ]
    },
    {
      "cell_type": "markdown",
      "metadata": {
        "id": "G4tY9SI580je"
      },
      "source": [
        "![for 迴圈](https://github.com/yenlung/Python-Book/blob/master/images/T_for.png?raw=1)"
      ]
    },
    {
      "cell_type": "markdown",
      "metadata": {
        "id": "c4v0pUK_80je"
      },
      "source": [
        "Python 的 `for` 迴圈基本上就是用 `list` 來做的: 把 `list` 中的元素一個一個拿出來, 執行我們要執行的動作。"
      ]
    },
    {
      "cell_type": "code",
      "execution_count": 54,
      "metadata": {
        "id": "Y9pJMzP880je"
      },
      "outputs": [],
      "source": [
        "spam = ['豬', '狗', '牛']"
      ]
    },
    {
      "cell_type": "code",
      "execution_count": 55,
      "metadata": {
        "id": "qiutwCmQ80je",
        "outputId": "0c02e39a-21a8-4e42-b34a-92bca5121894",
        "colab": {
          "base_uri": "https://localhost:8080/"
        }
      },
      "outputs": [
        {
          "output_type": "stream",
          "name": "stdout",
          "text": [
            "豬\n",
            "狗\n",
            "牛\n"
          ]
        }
      ],
      "source": [
        "for i in spam:\n",
        "    print(i)"
      ]
    },
    {
      "cell_type": "markdown",
      "metadata": {
        "id": "Rh75QQas80je"
      },
      "source": [
        "當然, `for` 迴圈最好的朋友就是 `range`。"
      ]
    },
    {
      "cell_type": "code",
      "execution_count": 56,
      "metadata": {
        "id": "fwuPV2Op80je",
        "outputId": "1927ede7-c2f0-431d-cc1c-2363360aa234",
        "colab": {
          "base_uri": "https://localhost:8080/"
        }
      },
      "outputs": [
        {
          "output_type": "stream",
          "name": "stdout",
          "text": [
            "0\n",
            "1\n",
            "2\n",
            "3\n",
            "4\n",
            "5\n",
            "6\n",
            "7\n",
            "8\n",
            "9\n"
          ]
        }
      ],
      "source": [
        "for i in range(10):\n",
        "    print(i)"
      ]
    },
    {
      "cell_type": "markdown",
      "metadata": {
        "id": "MXdcw3wH80je"
      },
      "source": [
        "### 【練習】 用 `for` 迴圈寫個 1 加到 100 的程式"
      ]
    },
    {
      "cell_type": "code",
      "execution_count": 57,
      "metadata": {
        "id": "iBY50CUD80je",
        "outputId": "bf3504b6-b1a8-4523-f444-db3d7778e6f8",
        "colab": {
          "base_uri": "https://localhost:8080/"
        }
      },
      "outputs": [
        {
          "output_type": "stream",
          "name": "stdout",
          "text": [
            "1 + 2 + ... + 100 = 5050\n"
          ]
        }
      ],
      "source": [
        "s = 0\n",
        "\n",
        "for i in range(1, 101):\n",
        "    s = s + i\n",
        "    \n",
        "print('1 + 2 + ... + 100 =', s)"
      ]
    },
    {
      "cell_type": "markdown",
      "metadata": {
        "id": "m5fCLEWV80je"
      },
      "source": [
        "![while 迴圈](https://github.com/yenlung/Python-Book/blob/master/images/T_while.png?raw=1)\n",
        "\n",
        "        while 條件式:\n",
        "            條件符合就執行\n",
        "            \n",
        "要小心不要讓這個迴圈無窮執行。"
      ]
    },
    {
      "cell_type": "code",
      "execution_count": 58,
      "metadata": {
        "id": "EQ4eSHVe80je",
        "outputId": "b54c667b-162d-46e6-d5bf-139ff0bb69df",
        "colab": {
          "base_uri": "https://localhost:8080/"
        }
      },
      "outputs": [
        {
          "output_type": "stream",
          "name": "stdout",
          "text": [
            "*\n",
            "**\n",
            "***\n",
            "****\n",
            "*****\n",
            "******\n",
            "*******\n",
            "********\n",
            "*********\n"
          ]
        }
      ],
      "source": [
        "n = 1\n",
        "\n",
        "while n < 10:\n",
        "    print(\"*\" * n)\n",
        "    n = n +1"
      ]
    },
    {
      "cell_type": "markdown",
      "metadata": {
        "id": "47XrOmaA80je"
      },
      "source": [
        "### 【練習】拍拍機器人正式版\n",
        "\n",
        "一直和你對話, 直到你說再見..."
      ]
    },
    {
      "cell_type": "code",
      "execution_count": 59,
      "metadata": {
        "id": "_uYUk4QZ80je",
        "outputId": "467cbef5-69e9-42aa-9151-2e3d09a5f2e4",
        "colab": {
          "base_uri": "https://localhost:8080/"
        }
      },
      "outputs": [
        {
          "output_type": "stream",
          "name": "stdout",
          "text": [
            "> 我很難過\n",
            "( ´∀｀)つ: 拍拍\n",
            "\n",
            "> 作業都不會寫。\n",
            "( ´∀｀)つ: 拍拍\n",
            "\n",
            "> 同學也不借我抄。\n",
            "( ´∀｀)つ: 拍拍\n",
            "\n",
            "> Bye\n",
            "( ´∀｀)つ: 拍拍\n",
            "\n"
          ]
        }
      ],
      "source": [
        "message = \"\"\n",
        "\n",
        "while message!=\"Bye\":\n",
        "    message = input(\"> \")\n",
        "    print(\"( ´∀｀)つ: 拍拍\")\n",
        "    print()"
      ]
    }
  ],
  "metadata": {
    "kernelspec": {
      "display_name": "Python 3",
      "language": "python",
      "name": "python3"
    },
    "language_info": {
      "codemirror_mode": {
        "name": "ipython",
        "version": 3
      },
      "file_extension": ".py",
      "mimetype": "text/x-python",
      "name": "python",
      "nbconvert_exporter": "python",
      "pygments_lexer": "ipython3",
      "version": "3.7.3"
    },
    "colab": {
      "provenance": [],
      "include_colab_link": true
    }
  },
  "nbformat": 4,
  "nbformat_minor": 0
}
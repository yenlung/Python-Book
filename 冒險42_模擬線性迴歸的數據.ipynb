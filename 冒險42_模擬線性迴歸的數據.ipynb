{
  "nbformat": 4,
  "nbformat_minor": 0,
  "metadata": {
    "colab": {
      "name": "冒險 42_模擬線性迴歸的數據.ipynb",
      "provenance": [],
      "include_colab_link": true
    },
    "kernelspec": {
      "name": "python3",
      "display_name": "Python 3"
    }
  },
  "cells": [
    {
      "cell_type": "markdown",
      "metadata": {
        "id": "view-in-github",
        "colab_type": "text"
      },
      "source": [
        "<a href=\"https://colab.research.google.com/github/yenlung/Python-Book/blob/master/%E5%86%92%E9%9A%AA42_%E6%A8%A1%E6%93%AC%E7%B7%9A%E6%80%A7%E8%BF%B4%E6%AD%B8%E7%9A%84%E6%95%B8%E6%93%9A.ipynb\" target=\"_parent\"><img src=\"https://colab.research.google.com/assets/colab-badge.svg\" alt=\"Open In Colab\"/></a>"
      ]
    },
    {
      "cell_type": "code",
      "metadata": {
        "id": "pxUr4xhD4zDu"
      },
      "source": [
        "%matplotlib inline\n",
        "import numpy as np\n",
        "import matplotlib.pyplot as plt"
      ],
      "execution_count": null,
      "outputs": []
    },
    {
      "cell_type": "markdown",
      "metadata": {
        "id": "LD79Rv8f5Xgl"
      },
      "source": [
        "開開心心的引進需要的套件，順便打開一個線性迴歸的函數學習機"
      ]
    },
    {
      "cell_type": "code",
      "metadata": {
        "id": "J_3rSbcc5O4W"
      },
      "source": [
        "from sklearn.linear_model import LinearRegression\n",
        "regr = LinearRegression()"
      ],
      "execution_count": null,
      "outputs": []
    },
    {
      "cell_type": "markdown",
      "metadata": {
        "id": "xBOryllA55ae"
      },
      "source": [
        "製造一份假......，模擬的資料，為了方便起見，調整成 sklearn 會接受的形狀"
      ]
    },
    {
      "cell_type": "code",
      "metadata": {
        "id": "pQJqeyFT5qeH"
      },
      "source": [
        "x = np.linspace(0, 5, 100)\n",
        "y = 1.9*x + 0.8 + 0.5*np.random.randn(100)\n",
        "X = x.reshape(len(x), 1)"
      ],
      "execution_count": null,
      "outputs": []
    },
    {
      "cell_type": "markdown",
      "metadata": {
        "id": "iDIJnCyn6LGu"
      },
      "source": [
        "把資料放進函數學習機，開始它的訓練"
      ]
    },
    {
      "cell_type": "code",
      "metadata": {
        "id": "muiAF2mx5qvR",
        "colab": {
          "base_uri": "https://localhost:8080/",
          "height": 34
        },
        "outputId": "e6260779-6bfe-4633-accf-d28594cc2b42"
      },
      "source": [
        "regr.fit(X, y)"
      ],
      "execution_count": null,
      "outputs": [
        {
          "output_type": "execute_result",
          "data": {
            "text/plain": [
              "LinearRegression(copy_X=True, fit_intercept=True, n_jobs=None, normalize=False)"
            ]
          },
          "metadata": {
            "tags": []
          },
          "execution_count": 6
        }
      ]
    },
    {
      "cell_type": "markdown",
      "metadata": {
        "id": "XnNxqCnm6eyQ"
      },
      "source": [
        "用 predict 看一下訓練的成果，順便畫個圖"
      ]
    },
    {
      "cell_type": "code",
      "metadata": {
        "id": "gNnk60OK6d3e",
        "colab": {
          "base_uri": "https://localhost:8080/",
          "height": 282
        },
        "outputId": "abdf5b0d-c0b8-48eb-b972-d133b5e33c91"
      },
      "source": [
        "Y = regr.predict(X)\n",
        "plt.scatter(x, y)\n",
        "plt.plot(x, Y, 'r' )"
      ],
      "execution_count": null,
      "outputs": [
        {
          "output_type": "execute_result",
          "data": {
            "text/plain": [
              "[<matplotlib.lines.Line2D at 0x7f13cf6b2898>]"
            ]
          },
          "metadata": {
            "tags": []
          },
          "execution_count": 7
        },
        {
          "output_type": "display_data",
          "data": {
            "image/png": "[encoded data removed]",
            "text/plain": [
              "<Figure size 432x288 with 1 Axes>"
            ]
          },
          "metadata": {
            "tags": []
          }
        }
      ]
    },
    {
      "cell_type": "markdown",
      "metadata": {
        "id": "jW-08ze-7HqE"
      },
      "source": [
        "結果看起來不錯，會有微小誤差的原因，則是因為真實世界的資料有不可避免的雜訊"
      ]
    },
    {
      "cell_type": "code",
      "metadata": {
        "id": "QFnWJDta7Gc7"
      },
      "source": [],
      "execution_count": null,
      "outputs": []
    }
  ]
}
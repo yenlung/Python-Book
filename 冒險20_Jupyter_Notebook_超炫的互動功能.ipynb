{
  "cells": [
    {
      "cell_type": "markdown",
      "metadata": {
        "id": "view-in-github",
        "colab_type": "text"
      },
      "source": [
        "<a href=\"https://colab.research.google.com/github/yenlung/Python-Book/blob/master/%E5%86%92%E9%9A%AA20_Jupyter_Notebook_%E8%B6%85%E7%82%AB%E7%9A%84%E4%BA%92%E5%8B%95%E5%8A%9F%E8%83%BD.ipynb\" target=\"_parent\"><img src=\"https://colab.research.google.com/assets/colab-badge.svg\" alt=\"Open In Colab\"/></a>"
      ]
    },
    {
      "cell_type": "code",
      "source": [
        "%matplotlib inline\n",
        "\n",
        "import numpy as np\n",
        "import pandas as pd\n",
        "import matplotlib.pyplot as plt"
      ],
      "metadata": {
        "id": "A0HRFcyUPk-9"
      },
      "execution_count": null,
      "outputs": []
    },
    {
      "cell_type": "markdown",
      "metadata": {
        "id": "2o3z8gb3Pc2o"
      },
      "source": [
        "![Jupyter Notebook 的互動功能](https://github.com/yenlung/Python-Book/blob/master/images/T_interact.png?raw=1)"
      ]
    },
    {
      "cell_type": "markdown",
      "metadata": {
        "id": "nxD3H4SJPc2o"
      },
      "source": [
        "Jupyter Notebook 有個很酷的互動功能, 基本上任何有帶參數的式函都可以互動! 我們要用到的是\n",
        "\n",
        "    ipywidgets\n",
        "    \n",
        "中的 `interact` 函式。"
      ]
    },
    {
      "cell_type": "code",
      "execution_count": null,
      "metadata": {
        "id": "d0ml5CGHPc2p"
      },
      "outputs": [],
      "source": [
        "%matplotlib inline\n",
        "\n",
        "import numpy as np\n",
        "import matplotlib.pyplot as plt"
      ]
    },
    {
      "cell_type": "code",
      "execution_count": null,
      "metadata": {
        "id": "1Gi2me1GPc2p"
      },
      "outputs": [],
      "source": [
        "from ipywidgets import interact"
      ]
    },
    {
      "cell_type": "markdown",
      "metadata": {
        "id": "X9szzy5BPc2p"
      },
      "source": [
        "### 有函數就有互動\n",
        "\n",
        "我們來定義個超級簡單的函數。"
      ]
    },
    {
      "cell_type": "code",
      "execution_count": null,
      "metadata": {
        "id": "ZSaMfsQ-Pc2p"
      },
      "outputs": [],
      "source": [
        "def f(x):\n",
        "    print(x)"
      ]
    },
    {
      "cell_type": "markdown",
      "metadata": {
        "id": "ux0X9UYTPc2p"
      },
      "source": [
        "### 數值滑桿"
      ]
    },
    {
      "cell_type": "code",
      "execution_count": null,
      "metadata": {
        "id": "us3tQIvPPc2p",
        "outputId": "80f80df7-e1a1-423a-f002-bc3344b4e7c0",
        "colab": {
          "referenced_widgets": [
            "70bc9351a98543ceb60b0966f3d81811"
          ]
        }
      },
      "outputs": [
        {
          "data": {
            "application/vnd.jupyter.widget-view+json": {
              "model_id": "70bc9351a98543ceb60b0966f3d81811",
              "version_major": 2,
              "version_minor": 0
            },
            "text/plain": [
              "interactive(children=(IntSlider(value=3, description='x', max=9, min=-3), Output()), _dom_classes=('widget-int…"
            ]
          },
          "metadata": {},
          "output_type": "display_data"
        },
        {
          "data": {
            "text/plain": [
              "<function __main__.f(x)>"
            ]
          },
          "execution_count": 4,
          "metadata": {},
          "output_type": "execute_result"
        }
      ],
      "source": [
        "interact(f, x=3)"
      ]
    },
    {
      "cell_type": "markdown",
      "metadata": {
        "id": "axCWIjRwPc2q"
      },
      "source": [
        "這樣數值滑桿就出現了!! 這樣不是浮點數, 有可能變成浮點數數值滑桿嗎?"
      ]
    },
    {
      "cell_type": "code",
      "execution_count": null,
      "metadata": {
        "id": "lIYY6JfsPc2q",
        "outputId": "1285ae9e-f1d1-4786-fbbb-39d936090906",
        "colab": {
          "referenced_widgets": [
            "172830aa2cef437fa6089d9362d9fb80"
          ]
        }
      },
      "outputs": [
        {
          "data": {
            "application/vnd.jupyter.widget-view+json": {
              "model_id": "172830aa2cef437fa6089d9362d9fb80",
              "version_major": 2,
              "version_minor": 0
            },
            "text/plain": [
              "interactive(children=(FloatSlider(value=3.0, description='x', max=9.0, min=-3.0), Output()), _dom_classes=('wi…"
            ]
          },
          "metadata": {},
          "output_type": "display_data"
        },
        {
          "data": {
            "text/plain": [
              "<function __main__.f(x)>"
            ]
          },
          "execution_count": 5,
          "metadata": {},
          "output_type": "execute_result"
        }
      ],
      "source": [
        "interact(f, x=3.0)"
      ]
    },
    {
      "cell_type": "markdown",
      "metadata": {
        "id": "lBpx9leuPc2q"
      },
      "source": [
        "指定範圍。"
      ]
    },
    {
      "cell_type": "code",
      "execution_count": null,
      "metadata": {
        "id": "V_RpWOzHPc2q",
        "outputId": "8faebbcf-0f9f-47ff-d67c-fe74fdb07118",
        "colab": {
          "referenced_widgets": [
            "4fbb29f748b1476e9e18b7981fa6908e"
          ]
        }
      },
      "outputs": [
        {
          "data": {
            "application/vnd.jupyter.widget-view+json": {
              "model_id": "4fbb29f748b1476e9e18b7981fa6908e",
              "version_major": 2,
              "version_minor": 0
            },
            "text/plain": [
              "interactive(children=(IntSlider(value=5, description='x', max=10, min=1), Output()), _dom_classes=('widget-int…"
            ]
          },
          "metadata": {},
          "output_type": "display_data"
        },
        {
          "data": {
            "text/plain": [
              "<function __main__.f(x)>"
            ]
          },
          "execution_count": 6,
          "metadata": {},
          "output_type": "execute_result"
        }
      ],
      "source": [
        "interact(f, x=(1, 10))"
      ]
    },
    {
      "cell_type": "markdown",
      "metadata": {
        "id": "5SxrzJtfPc2q"
      },
      "source": [
        "### 文字框"
      ]
    },
    {
      "cell_type": "code",
      "execution_count": null,
      "metadata": {
        "id": "GWf02coBPc2q",
        "outputId": "cc726be7-8181-4713-c0a9-89c87595d54e",
        "colab": {
          "referenced_widgets": [
            "b4f5efe48d0947f591736a03ef3afcce"
          ]
        }
      },
      "outputs": [
        {
          "data": {
            "application/vnd.jupyter.widget-view+json": {
              "model_id": "b4f5efe48d0947f591736a03ef3afcce",
              "version_major": 2,
              "version_minor": 0
            },
            "text/plain": [
              "interactive(children=(Text(value='輸入你的姓名', description='x'), Output()), _dom_classes=('widget-interact',))"
            ]
          },
          "metadata": {},
          "output_type": "display_data"
        },
        {
          "data": {
            "text/plain": [
              "<function __main__.f(x)>"
            ]
          },
          "execution_count": 7,
          "metadata": {},
          "output_type": "execute_result"
        }
      ],
      "source": [
        "interact(f, x = \"輸入你的姓名\")"
      ]
    },
    {
      "cell_type": "markdown",
      "metadata": {
        "id": "o9FQh6oiPc2q"
      },
      "source": [
        "### 下拉式選單 (串列篇)"
      ]
    },
    {
      "cell_type": "code",
      "execution_count": null,
      "metadata": {
        "id": "-XsLiO_ePc2q",
        "outputId": "897d04c2-ba8b-4166-84e4-5c0e1ac8f438",
        "colab": {
          "referenced_widgets": [
            "455d0e6b63064f709437f5c54dd9c3b0"
          ]
        }
      },
      "outputs": [
        {
          "data": {
            "application/vnd.jupyter.widget-view+json": {
              "model_id": "455d0e6b63064f709437f5c54dd9c3b0",
              "version_major": 2,
              "version_minor": 0
            },
            "text/plain": [
              "interactive(children=(Dropdown(description='x', options=('台北', '台中', '高雄'), value='台北'), Output()), _dom_class…"
            ]
          },
          "metadata": {},
          "output_type": "display_data"
        },
        {
          "data": {
            "text/plain": [
              "<function __main__.f(x)>"
            ]
          },
          "execution_count": 8,
          "metadata": {},
          "output_type": "execute_result"
        }
      ],
      "source": [
        "interact(f, x = [\"台北\", \"台中\", \"高雄\"])"
      ]
    },
    {
      "cell_type": "markdown",
      "metadata": {
        "id": "SYJicIu9Pc2q"
      },
      "source": [
        "### 下拉式選單 (字典篇)"
      ]
    },
    {
      "cell_type": "code",
      "execution_count": null,
      "metadata": {
        "id": "ggpRqOzWPc2q",
        "outputId": "3e8a81ee-4550-44ab-e0a5-42faa948c4f3",
        "colab": {
          "referenced_widgets": [
            "40bacad84a3b46379a37ede948eebe10"
          ]
        }
      },
      "outputs": [
        {
          "data": {
            "application/vnd.jupyter.widget-view+json": {
              "model_id": "40bacad84a3b46379a37ede948eebe10",
              "version_major": 2,
              "version_minor": 0
            },
            "text/plain": [
              "interactive(children=(Dropdown(description='x', options={'台北': 1, '台中': 2, '高雄': 3}, value=1), Output()), _dom…"
            ]
          },
          "metadata": {},
          "output_type": "display_data"
        },
        {
          "data": {
            "text/plain": [
              "<function __main__.f(x)>"
            ]
          },
          "execution_count": 9,
          "metadata": {},
          "output_type": "execute_result"
        }
      ],
      "source": [
        "interact(f, x = {\"台北\":1, \"台中\":2, \"高雄\":3})"
      ]
    },
    {
      "cell_type": "markdown",
      "metadata": {
        "id": "5aMC02KIPc2r"
      },
      "source": [
        "### 範例"
      ]
    },
    {
      "cell_type": "code",
      "execution_count": null,
      "metadata": {
        "id": "ov57-ipEPc2r"
      },
      "outputs": [],
      "source": [
        "def move(n=1):\n",
        "    print(\" \"*n + \"⸜(* ॑꒳ ॑* )⸝\")"
      ]
    },
    {
      "cell_type": "markdown",
      "metadata": {
        "id": "kfnNb_uWPc2r"
      },
      "source": [
        "注意 Python 的函式怎麼給預設值。"
      ]
    },
    {
      "cell_type": "code",
      "execution_count": null,
      "metadata": {
        "id": "KalRWnG1Pc2r",
        "outputId": "7214d2ea-b2d0-4165-fc41-3b96f6650344"
      },
      "outputs": [
        {
          "name": "stdout",
          "output_type": "stream",
          "text": [
            "          ⸜(* ॑꒳ ॑* )⸝\n"
          ]
        }
      ],
      "source": [
        "move(10)"
      ]
    },
    {
      "cell_type": "code",
      "execution_count": null,
      "metadata": {
        "id": "6x7y-KGvPc2r",
        "outputId": "7ee59e46-d819-47cd-b43c-2f1804a661e2",
        "colab": {
          "referenced_widgets": [
            "0dc1d1d0e637442b828c750cdc56ad9a"
          ]
        }
      },
      "outputs": [
        {
          "data": {
            "application/vnd.jupyter.widget-view+json": {
              "model_id": "0dc1d1d0e637442b828c750cdc56ad9a",
              "version_major": 2,
              "version_minor": 0
            },
            "text/plain": [
              "interactive(children=(IntSlider(value=1, description='n', max=80, min=1), Output()), _dom_classes=('widget-int…"
            ]
          },
          "metadata": {},
          "output_type": "display_data"
        }
      ],
      "source": [
        "interact(move, n=(1, 80));"
      ]
    },
    {
      "cell_type": "markdown",
      "metadata": {
        "id": "F7jGUnDUPc2r"
      },
      "source": [
        "### 畫圖的範例"
      ]
    },
    {
      "cell_type": "code",
      "execution_count": null,
      "metadata": {
        "id": "Q9hYhYKWPc2r"
      },
      "outputs": [],
      "source": [
        "x = np.linspace(-10, 10, 500)\n",
        "\n",
        "def myplot(n=1):\n",
        "    y = np.sinc(n*x)\n",
        "    plt.plot(x, y)"
      ]
    },
    {
      "cell_type": "code",
      "execution_count": null,
      "metadata": {
        "id": "xdFW2420Pc2r",
        "outputId": "52ecee1a-6509-4036-ab7c-75b008331c88",
        "colab": {
          "referenced_widgets": [
            "a9363de17432467087f2580a0a8585ef"
          ]
        }
      },
      "outputs": [
        {
          "data": {
            "application/vnd.jupyter.widget-view+json": {
              "model_id": "a9363de17432467087f2580a0a8585ef",
              "version_major": 2,
              "version_minor": 0
            },
            "text/plain": [
              "interactive(children=(FloatSlider(value=1.0, description='n', max=10.0, min=1.0), Output()), _dom_classes=('wi…"
            ]
          },
          "metadata": {},
          "output_type": "display_data"
        },
        {
          "data": {
            "text/plain": [
              "<function __main__.myplot(n=1)>"
            ]
          },
          "execution_count": 14,
          "metadata": {},
          "output_type": "execute_result"
        }
      ],
      "source": [
        "interact(myplot, n=(1., 10.))"
      ]
    },
    {
      "cell_type": "markdown",
      "metadata": {
        "id": "8fdk6hY9Pc2r"
      },
      "source": [
        "### 按鈕之後才互動\n",
        "\n",
        "我們也可以不要那麼及時, 而是「按鈕之後」才執行。這時可以用 `interact_manual`, 用法基本上和 `interact` 一樣!"
      ]
    },
    {
      "cell_type": "code",
      "execution_count": null,
      "metadata": {
        "id": "9MN1XWd-Pc2r"
      },
      "outputs": [],
      "source": [
        "def pipi(message):\n",
        "    print(\"拍拍\")"
      ]
    },
    {
      "cell_type": "code",
      "execution_count": null,
      "metadata": {
        "id": "sbUYqlEOPc2r",
        "outputId": "6abb4a52-3f0a-4bed-b5bc-90c6481e8251",
        "colab": {
          "referenced_widgets": [
            "a2bd8f587634424e98f9fa7ba88df4ca"
          ]
        }
      },
      "outputs": [
        {
          "data": {
            "application/vnd.jupyter.widget-view+json": {
              "model_id": "a2bd8f587634424e98f9fa7ba88df4ca",
              "version_major": 2,
              "version_minor": 0
            },
            "text/plain": [
              "interactive(children=(Text(value='輸入你要說的話', description='message'), Output()), _dom_classes=('widget-interact'…"
            ]
          },
          "metadata": {},
          "output_type": "display_data"
        }
      ],
      "source": [
        "interact(pipi, message=\"輸入你要說的話\");"
      ]
    },
    {
      "cell_type": "code",
      "execution_count": null,
      "metadata": {
        "id": "CmvodueFPc2r"
      },
      "outputs": [],
      "source": [
        "from ipywidgets import interact_manual"
      ]
    },
    {
      "cell_type": "code",
      "execution_count": null,
      "metadata": {
        "id": "5L5l_k7HPc2s"
      },
      "outputs": [],
      "source": [
        "from time import sleep\n",
        "from IPython.display import clear_output"
      ]
    },
    {
      "cell_type": "markdown",
      "metadata": {
        "id": "dkoGH5jiPc2s"
      },
      "source": [
        "這裡我們用了兩個套件中的兩個函式, 其中:\n",
        "    \n",
        "* `sleep(n)`: 要 Python 暫停 n 秒。\n",
        "* `clear_output()`: 清除 Jupyter Notebook 當前 cell 的東西。"
      ]
    },
    {
      "cell_type": "code",
      "execution_count": null,
      "metadata": {
        "id": "IariZpbePc2s"
      },
      "outputs": [],
      "source": [
        "def pipi(message):\n",
        "    print(\"ヾ(･∀･`): 拍拍\")\n",
        "    sleep(20)\n",
        "    clear_output()"
      ]
    },
    {
      "cell_type": "code",
      "execution_count": null,
      "metadata": {
        "id": "j0c9sL44Pc2s",
        "outputId": "f0da3342-4123-45ce-8b4a-e3b3c80f4e33",
        "colab": {
          "referenced_widgets": [
            "c418c50be9cb4649a4240c1dba4e1f8e"
          ]
        }
      },
      "outputs": [
        {
          "data": {
            "application/vnd.jupyter.widget-view+json": {
              "model_id": "c418c50be9cb4649a4240c1dba4e1f8e",
              "version_major": 2,
              "version_minor": 0
            },
            "text/plain": [
              "interactive(children=(Text(value='請輸入你要說的話', description='message'), Button(description='Run Interact', style=…"
            ]
          },
          "metadata": {},
          "output_type": "display_data"
        }
      ],
      "source": [
        "interact_manual(pipi, message=\"請輸入你要說的話\");"
      ]
    },
    {
      "cell_type": "markdown",
      "metadata": {
        "id": "vzQbPen3Pc2s"
      },
      "source": [
        "![map 和 filter](https://github.com/yenlung/Python-Book/blob/master/images/T_map_and_filter.png?raw=1)"
      ]
    },
    {
      "cell_type": "markdown",
      "metadata": {
        "id": "A6tBEOYaPc2s"
      },
      "source": [
        "## `map` 篇\n",
        "\n",
        "還記得之前我們要把一個串列裡的法郎, 一次全換算成台幣, 需要用迴圈一個個做嗎? 現在我們學會函式的寫法, 可以先寫一個「匯率換算」的程式, 然後用 `map` 一次把串列中所有的錢換算好!"
      ]
    },
    {
      "cell_type": "markdown",
      "metadata": {
        "id": "kSguN_KtPc2w"
      },
      "source": [
        "### 問題\n",
        "\n",
        "這次我們到了澳洲, 又是要買三件物品, 價格分別是\n",
        "\n",
        "    200, 450, 35\n",
        "    \n",
        "澳幣。我們又 Google 了一下, 發現 1 澳幣合台幣 21.8686884 元, 於是我們寫個函數來換算一下。"
      ]
    },
    {
      "cell_type": "code",
      "execution_count": null,
      "metadata": {
        "id": "xngC4kKfPc2w"
      },
      "outputs": [],
      "source": [
        "c = 21.8686884\n",
        "\n",
        "def aud2twd(m):\n",
        "    return c*m"
      ]
    },
    {
      "cell_type": "markdown",
      "metadata": {
        "id": "a41puTfdPc2x"
      },
      "source": [
        "我們來試用一下, 假設我們想知道 100 澳幣合台幣多少。"
      ]
    },
    {
      "cell_type": "code",
      "execution_count": null,
      "metadata": {
        "id": "HM6Egx4wPc2x",
        "outputId": "60ece2b2-a55c-437c-f4ad-e60c6ea83ba4"
      },
      "outputs": [
        {
          "data": {
            "text/plain": [
              "2186.86884"
            ]
          },
          "execution_count": 4,
          "metadata": {},
          "output_type": "execute_result"
        }
      ],
      "source": [
        "aud2twd(100)"
      ]
    },
    {
      "cell_type": "markdown",
      "metadata": {
        "id": "r5v3LTbIPc2x"
      },
      "source": [
        "現在來換算我們三個物品合台幣多少。"
      ]
    },
    {
      "cell_type": "code",
      "execution_count": null,
      "metadata": {
        "id": "6wVPLs4IPc2x"
      },
      "outputs": [],
      "source": [
        "price = [200, 450, 35]"
      ]
    },
    {
      "cell_type": "markdown",
      "metadata": {
        "id": "yHyninUPPc2x"
      },
      "source": [
        "![map 使用方式](https://github.com/yenlung/Python-Book/blob/master/images/map.png?raw=1)"
      ]
    },
    {
      "cell_type": "code",
      "execution_count": null,
      "metadata": {
        "id": "SnEcTT_5Pc2x",
        "outputId": "3c5daa9d-4685-4561-b611-08be1b3237df"
      },
      "outputs": [
        {
          "data": {
            "text/plain": [
              "<map at 0x7ff5484a6a58>"
            ]
          },
          "execution_count": 6,
          "metadata": {},
          "output_type": "execute_result"
        }
      ],
      "source": [
        "map(aud2twd, price)"
      ]
    },
    {
      "cell_type": "markdown",
      "metadata": {
        "id": "gS5HVtq6Pc2x"
      },
      "source": [
        "耶? 這什麼意思? 原來我們真的要「看到」, 需要把這個 `map` 用串列表現出來。"
      ]
    },
    {
      "cell_type": "code",
      "execution_count": null,
      "metadata": {
        "id": "rubUJEITPc2x",
        "outputId": "8e857804-8919-4a8c-8619-13061ad244cf"
      },
      "outputs": [
        {
          "data": {
            "text/plain": [
              "[4373.73768, 9840.90978, 765.404094]"
            ]
          },
          "execution_count": 7,
          "metadata": {},
          "output_type": "execute_result"
        }
      ],
      "source": [
        "list(map(aud2twd, price))"
      ]
    },
    {
      "cell_type": "markdown",
      "metadata": {
        "id": "oE1WWiwuPc2x"
      },
      "source": [
        "## `lambda`: 臨時要使用的函數\n",
        "\n",
        "`map` 看來挺方便的, 不過還是有一個問題, 需要特別去定義一個函數。這麼簡單的函數, 難道不能臨時定義一個嗎? 答案是肯定的, `lambda` 就是為臨時要用的函數而生。定義方式非常簡單:\n",
        "\n",
        "![lambda 的使用](https://github.com/yenlung/Python-Book/blob/master/images/lambda.png?raw=1)\n",
        "\n",
        "\n"
      ]
    },
    {
      "cell_type": "code",
      "execution_count": null,
      "metadata": {
        "id": "LddEXK6DPc2x",
        "outputId": "6dfe92a4-9ca3-48e8-a4a0-aeb203b1d1e8"
      },
      "outputs": [
        {
          "data": {
            "text/plain": [
              "[4373.73768, 9840.90978, 765.404094]"
            ]
          },
          "execution_count": 8,
          "metadata": {},
          "output_type": "execute_result"
        }
      ],
      "source": [
        "list(map(lambda x:c*x, price))"
      ]
    },
    {
      "cell_type": "markdown",
      "metadata": {
        "id": "pE0MV9YsPc2x"
      },
      "source": [
        "果然一次成功!"
      ]
    },
    {
      "cell_type": "markdown",
      "metadata": {
        "id": "T2wqa0vZPc2x"
      },
      "source": [
        "## `filter` 篇\n",
        "\n",
        "現在我們來討論 `filter`。要使用 `filter`, 我們需要定義一個輸出為布林值 (Ture/Flase) 的函數。然後用 filter 過濾, 如果一個串列中符合這個要求 (True) 的就留下來, 否則就去掉。\n",
        "\n",
        "![filter](https://github.com/yenlung/Python-Book/blob/master/images/filter.png?raw=1)"
      ]
    },
    {
      "cell_type": "markdown",
      "metadata": {
        "id": "o6pbTURpPc2x"
      },
      "source": [
        "### 問題\n",
        "\n",
        "在一個 1-20 的串列中, 我們想找出其中為偶數的數字。"
      ]
    },
    {
      "cell_type": "code",
      "execution_count": null,
      "metadata": {
        "id": "TVpUSOt6Pc2y"
      },
      "outputs": [],
      "source": [
        "def isEven(n):\n",
        "    if n%2 == 0:\n",
        "        return True\n",
        "    else:\n",
        "        return False"
      ]
    },
    {
      "cell_type": "markdown",
      "metadata": {
        "id": "xXtsCYSzPc2y"
      },
      "source": [
        "這樣可以檢查是不是偶數, 我們來試試!"
      ]
    },
    {
      "cell_type": "code",
      "execution_count": null,
      "metadata": {
        "id": "YiazTcz2Pc2y",
        "outputId": "783c590c-707a-4aa9-9ef2-cd3ae382c3b3"
      },
      "outputs": [
        {
          "data": {
            "text/plain": [
              "True"
            ]
          },
          "execution_count": 11,
          "metadata": {},
          "output_type": "execute_result"
        }
      ],
      "source": [
        "isEven(94)"
      ]
    },
    {
      "cell_type": "code",
      "execution_count": null,
      "metadata": {
        "id": "jAEodslNPc2y",
        "outputId": "7dd7d83e-8180-441e-dcc6-86ac357966be"
      },
      "outputs": [
        {
          "data": {
            "text/plain": [
              "False"
            ]
          },
          "execution_count": 12,
          "metadata": {},
          "output_type": "execute_result"
        }
      ],
      "source": [
        "isEven(87)"
      ]
    },
    {
      "cell_type": "markdown",
      "metadata": {
        "id": "tAlcwwUWPc2y"
      },
      "source": [
        "濾出偶數!"
      ]
    },
    {
      "cell_type": "code",
      "execution_count": null,
      "metadata": {
        "id": "CMjW559GPc2y"
      },
      "outputs": [],
      "source": [
        "L = range(1, 21)"
      ]
    },
    {
      "cell_type": "code",
      "execution_count": null,
      "metadata": {
        "id": "wX4dAjxBPc2y",
        "outputId": "bcde32d4-9065-4ef5-f8e1-e775ffadd79f"
      },
      "outputs": [
        {
          "data": {
            "text/plain": [
              "range(1, 21)"
            ]
          },
          "execution_count": 14,
          "metadata": {},
          "output_type": "execute_result"
        }
      ],
      "source": [
        "L"
      ]
    },
    {
      "cell_type": "code",
      "execution_count": null,
      "metadata": {
        "id": "57SgNxdVPc2y",
        "outputId": "977c6587-96a0-4acd-d901-6764ec32cf7d"
      },
      "outputs": [
        {
          "data": {
            "text/plain": [
              "[2, 4, 6, 8, 10, 12, 14, 16, 18, 20]"
            ]
          },
          "execution_count": 15,
          "metadata": {},
          "output_type": "execute_result"
        }
      ],
      "source": [
        "list(filter(isEven, L))"
      ]
    },
    {
      "cell_type": "markdown",
      "metadata": {
        "id": "M3Q44q3JPc2y"
      },
      "source": [
        "果然成功了!\n",
        "\n",
        "我們可能用 `lambda` 做這件事嗎?"
      ]
    },
    {
      "cell_type": "code",
      "execution_count": null,
      "metadata": {
        "id": "PxP8R2YePc2y",
        "outputId": "2f1aeb3d-ceff-453f-f151-fc29222b109f"
      },
      "outputs": [
        {
          "data": {
            "text/plain": [
              "[2, 4, 6, 8, 10, 12, 14, 16, 18, 20]"
            ]
          },
          "execution_count": 16,
          "metadata": {},
          "output_type": "execute_result"
        }
      ],
      "source": [
        "list(filter(lambda x:x%2==0, L))"
      ]
    },
    {
      "cell_type": "markdown",
      "metadata": {
        "id": "YSNWAPeCPc2y"
      },
      "source": [
        "一樣可以!!"
      ]
    }
  ],
  "metadata": {
    "kernelspec": {
      "display_name": "Python 3",
      "language": "python",
      "name": "python3"
    },
    "language_info": {
      "codemirror_mode": {
        "name": "ipython",
        "version": 3
      },
      "file_extension": ".py",
      "mimetype": "text/x-python",
      "name": "python",
      "nbconvert_exporter": "python",
      "pygments_lexer": "ipython3",
      "version": "3.7.3"
    },
    "colab": {
      "provenance": [],
      "include_colab_link": true
    }
  },
  "nbformat": 4,
  "nbformat_minor": 0
}
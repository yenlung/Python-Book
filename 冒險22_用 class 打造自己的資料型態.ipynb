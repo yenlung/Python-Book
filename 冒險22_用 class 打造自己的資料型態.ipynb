{
  "cells": [
    {
      "cell_type": "markdown",
      "metadata": {
        "id": "view-in-github",
        "colab_type": "text"
      },
      "source": [
        "<a href=\"https://colab.research.google.com/github/yenlung/Python-Book/blob/master/%E5%86%92%E9%9A%AA22_%E7%94%A8%20class%20%E6%89%93%E9%80%A0%E8%87%AA%E5%B7%B1%E7%9A%84%E8%B3%87%E6%96%99%E5%9E%8B%E6%85%8B.ipynb\" target=\"_parent\"><img src=\"https://colab.research.google.com/assets/colab-badge.svg\" alt=\"Open In Colab\"/></a>"
      ]
    },
    {
      "cell_type": "code",
      "source": [
        "%matplotlib inline\n",
        "\n",
        "import numpy as np\n",
        "import pandas as pd\n",
        "import matplotlib.pyplot as plt"
      ],
      "metadata": {
        "id": "sMdjYhWvQk3W"
      },
      "execution_count": null,
      "outputs": []
    },
    {
      "cell_type": "markdown",
      "metadata": {
        "id": "IUuFydOdQj6u"
      },
      "source": [
        "很粗略的說, 我們可以把 `Class` 想成一個「自訂資料型態」的方法。Python 什麼東西都是「物件」, 而在我們定義一個字串時, 其實是定義了一個「字串這個類別 (class)」的「實例 (instance)」。"
      ]
    },
    {
      "cell_type": "code",
      "execution_count": null,
      "metadata": {
        "id": "Y1RXeMpnQj6u"
      },
      "outputs": [],
      "source": [
        "st = \"hello world\""
      ]
    },
    {
      "cell_type": "markdown",
      "metadata": {
        "id": "MuMf4ddjQj6v"
      },
      "source": [
        "這裡 `st` 是「字串」這個類別的一個實例。\n",
        "\n",
        "![檢查有什麼可用的 method](https://github.com/yenlung/Python-Book/blob/master/images/method.png?raw=1)"
      ]
    },
    {
      "cell_type": "markdown",
      "metadata": {
        "id": "VUIAebkHQj6v"
      },
      "source": [
        "所謂的方法 (method), 就是一個類別 (如字串) 中定義, 可以作用在這個實例 (變數) 身上的函式。\n",
        "\n",
        "再一次, 我們可以把定一個 `Class` 看成自己定義新的資料型態的方法。比如說, 我們想定義一個「樸克牌 Class」, 也許可以這樣做..."
      ]
    },
    {
      "cell_type": "code",
      "execution_count": null,
      "metadata": {
        "id": "p5QRKQZgQj6v"
      },
      "outputs": [],
      "source": [
        "class Card:\n",
        "    suit = 3\n",
        "    rank = 5"
      ]
    },
    {
      "cell_type": "markdown",
      "metadata": {
        "id": "ORUZYIoJQj6v"
      },
      "source": [
        "我們來定義一張牌 `card01`。"
      ]
    },
    {
      "cell_type": "code",
      "execution_count": null,
      "metadata": {
        "id": "z2Yvye6_Qj6v"
      },
      "outputs": [],
      "source": [
        "card01 = Card()"
      ]
    },
    {
      "cell_type": "code",
      "execution_count": null,
      "metadata": {
        "id": "I_i4yE4dQj6v"
      },
      "outputs": [],
      "source": [
        "card01.suit = 2\n",
        "card01.rank = 5"
      ]
    },
    {
      "cell_type": "code",
      "execution_count": null,
      "metadata": {
        "id": "1bRo_NCRQj6v",
        "outputId": "2dae389c-4efe-4fc6-a00a-5e34c3734bbd"
      },
      "outputs": [
        {
          "data": {
            "text/plain": [
              "2"
            ]
          },
          "execution_count": 5,
          "metadata": {},
          "output_type": "execute_result"
        }
      ],
      "source": [
        "card01.suit"
      ]
    },
    {
      "cell_type": "code",
      "execution_count": null,
      "metadata": {
        "id": "3ZSEBPP6Qj6w",
        "outputId": "c1fb62c6-ee54-48d1-cc8d-630ba58bdc12"
      },
      "outputs": [
        {
          "data": {
            "text/plain": [
              "5"
            ]
          },
          "execution_count": 6,
          "metadata": {},
          "output_type": "execute_result"
        }
      ],
      "source": [
        "card01.rank"
      ]
    },
    {
      "cell_type": "markdown",
      "metadata": {
        "id": "C-xagcR9Qj6w"
      },
      "source": [
        "我們甚至可以檢查 `card01` 的資料型態。"
      ]
    },
    {
      "cell_type": "code",
      "execution_count": null,
      "metadata": {
        "id": "45uTyfpCQj6w",
        "outputId": "cfffdd57-6c86-430f-bb26-36beceb8b888"
      },
      "outputs": [
        {
          "data": {
            "text/plain": [
              "__main__.Card"
            ]
          },
          "execution_count": 7,
          "metadata": {},
          "output_type": "execute_result"
        }
      ],
      "source": [
        "type(card01)"
      ]
    },
    {
      "cell_type": "markdown",
      "metadata": {
        "id": "m-L9JnpBQj6w"
      },
      "source": [
        "我們可以再定義新的牌。"
      ]
    },
    {
      "cell_type": "code",
      "execution_count": null,
      "metadata": {
        "id": "3zoEdVxDQj6w"
      },
      "outputs": [],
      "source": [
        "card02 = Card()\n",
        "\n",
        "card02.suit = 3\n",
        "card02.rank = 10"
      ]
    },
    {
      "cell_type": "markdown",
      "metadata": {
        "id": "opLM3spRQj6w"
      },
      "source": [
        "但這樣子也太麻煩了, 難道不能這樣:\n",
        "    \n",
        "    card02 = Card(3, 10)\n",
        "    \n",
        "就定義一張牌? 答案當然是肯定的! 這時要動用 Python 的「特殊方法」, 這些在 Class 中使用的特殊方法, 都有一個特殊的命名方式, 那就是...\n",
        "\n",
        "![special method](https://github.com/yenlung/Python-Book/blob/master/images/special_method.png?raw=1)\n",
        "\n",
        "每個特殊方法都有特定使用場合, 比如說 `__init__` 就是在定義一個 class 的實例時會呼叫的函式。"
      ]
    },
    {
      "cell_type": "code",
      "execution_count": null,
      "metadata": {
        "id": "CmvhbJlgQj6w"
      },
      "outputs": [],
      "source": [
        "class Card:\n",
        "\n",
        "    def __init__(self, s, r):\n",
        "        self.suit = s\n",
        "        self.rank = r"
      ]
    },
    {
      "cell_type": "markdown",
      "metadata": {
        "id": "enAaZqYfQj6w"
      },
      "source": [
        "這裡要解釋的是, 所有在類別定義的方法 (函式), 一定要引用實例自己本身。這也是初學者最弄不清楚的地方。\n",
        "\n",
        "而實例在定義 class 時根本也還沒有定義, 我們怎知該叫什麼呢? 於是一般都很聰明的稱為 `self`。這其實不一定非叫 `self`, 只是高手們大家都這樣叫, 我們也這樣叫看起來就好像很有涵養的樣子。\n",
        "\n",
        "這樣子定義好, 我們就可以快速的定義一張樸克牌!"
      ]
    },
    {
      "cell_type": "code",
      "execution_count": null,
      "metadata": {
        "id": "axrsJgGbQj6w"
      },
      "outputs": [],
      "source": [
        "card01 = Card(2, 3)\n",
        "card02 = Card(3, 10)"
      ]
    },
    {
      "cell_type": "code",
      "execution_count": null,
      "metadata": {
        "id": "WdbH4XyoQj6x",
        "outputId": "4de83102-66ed-486e-f6d3-61ea3255fdec"
      },
      "outputs": [
        {
          "data": {
            "text/plain": [
              "2"
            ]
          },
          "execution_count": 11,
          "metadata": {},
          "output_type": "execute_result"
        }
      ],
      "source": [
        "card01.suit"
      ]
    },
    {
      "cell_type": "code",
      "execution_count": null,
      "metadata": {
        "id": "QvdkBmxlQj6x",
        "outputId": "225ce7b9-fbb5-43dd-f6a0-1842f44425f1"
      },
      "outputs": [
        {
          "data": {
            "text/plain": [
              "3"
            ]
          },
          "execution_count": 12,
          "metadata": {},
          "output_type": "execute_result"
        }
      ],
      "source": [
        "card01.rank"
      ]
    },
    {
      "cell_type": "markdown",
      "metadata": {
        "id": "J0rPMV-6Qj6x"
      },
      "source": [
        "我們自己可能知道, suit 代表花色, 有四種所以是 0, 1, 2, 3。可是一般人怎麼知道這是什麼呢? 我們就來第一個自己寫的 class 方法, 用途就是印出花色、牌面點數。"
      ]
    },
    {
      "cell_type": "code",
      "execution_count": null,
      "metadata": {
        "id": "lSvNFVHTQj6x"
      },
      "outputs": [],
      "source": [
        "class Card:\n",
        "    SUITS = [\"♣\", \"♦\", \"♥\", \"♠\"]\n",
        "    RANKS = ['A', '2', '3', '4', '5', '6', '7', '8', '9', '10', 'J', 'Q', 'K']\n",
        "    \n",
        "    def __init__(self, s, r):\n",
        "        self.suit = s\n",
        "        self.rank = r\n",
        "        \n",
        "    def show(self):\n",
        "        print(self.SUITS[self.suit] + self.RANKS[self.rank])"
      ]
    },
    {
      "cell_type": "code",
      "execution_count": null,
      "metadata": {
        "id": "bonSHTc0Qj6x"
      },
      "outputs": [],
      "source": [
        "card01 = Card(2, 3)"
      ]
    },
    {
      "cell_type": "code",
      "execution_count": null,
      "metadata": {
        "id": "fgXlenCoQj6x",
        "outputId": "55032452-e727-4b2b-c988-2fed3b938736"
      },
      "outputs": [
        {
          "name": "stdout",
          "output_type": "stream",
          "text": [
            "♥4\n"
          ]
        }
      ],
      "source": [
        "card01.show()"
      ]
    },
    {
      "cell_type": "markdown",
      "metadata": {
        "id": "NBgxhDbZQj6x"
      },
      "source": [
        "這是不是看來順眼多了? 不過當我們想看 `card01` 內容..."
      ]
    },
    {
      "cell_type": "code",
      "execution_count": null,
      "metadata": {
        "id": "f9VnAUt0Qj6x",
        "outputId": "fbc6d511-aaa0-42ee-faf4-210b8f43ed10"
      },
      "outputs": [
        {
          "data": {
            "text/plain": [
              "<__main__.Card at 0x7ffe881b2550>"
            ]
          },
          "execution_count": 16,
          "metadata": {},
          "output_type": "execute_result"
        }
      ],
      "source": [
        "card01"
      ]
    },
    {
      "cell_type": "markdown",
      "metadata": {
        "id": "Gs-RTDRBQj6x"
      },
      "source": [
        "甚至印出 `card01` 內容..."
      ]
    },
    {
      "cell_type": "code",
      "execution_count": null,
      "metadata": {
        "id": "vlDqrT0PQj6x",
        "outputId": "74f84c65-dcd0-4cdd-a1ec-ef09573dd9a6"
      },
      "outputs": [
        {
          "name": "stdout",
          "output_type": "stream",
          "text": [
            "<__main__.Card object at 0x7ffe881b2550>\n"
          ]
        }
      ],
      "source": [
        "print(card01)"
      ]
    },
    {
      "cell_type": "markdown",
      "metadata": {
        "id": "soFlNUOnQj6x"
      },
      "source": [
        "為什麼會這樣呢? 因為我們根本沒有定義該怎麼表示 Card 這個類別裡的東西。要做到這件事, 要用另一個特殊方法:\n",
        "\n",
        "    __repr__"
      ]
    },
    {
      "cell_type": "code",
      "execution_count": null,
      "metadata": {
        "id": "ZQ4CWii6Qj6x"
      },
      "outputs": [],
      "source": [
        "class Card:\n",
        "    SUITS = [\"♣\", \"♦\", \"♥\", \"♠\"]\n",
        "    RANKS = ['A', '2', '3', '4', '5', '6', '7', '8', '9', '10', 'J', 'Q', 'K']\n",
        "    \n",
        "    def __init__(self, s, r):\n",
        "        self.suit = s\n",
        "        self.rank = r\n",
        "    \n",
        "    def __repr__(self):\n",
        "        return self.SUITS[self.suit] + self.RANKS[self.rank]"
      ]
    },
    {
      "cell_type": "code",
      "execution_count": null,
      "metadata": {
        "id": "1ZHcL98LQj6x"
      },
      "outputs": [],
      "source": [
        "card01 = Card(2, 3)"
      ]
    },
    {
      "cell_type": "code",
      "execution_count": null,
      "metadata": {
        "id": "HHZY_vEbQj6x",
        "outputId": "0208ee3a-8a85-4c5c-9256-8bf48c7cad33"
      },
      "outputs": [
        {
          "data": {
            "text/plain": [
              "♥4"
            ]
          },
          "execution_count": 20,
          "metadata": {},
          "output_type": "execute_result"
        }
      ],
      "source": [
        "card01"
      ]
    },
    {
      "cell_type": "code",
      "execution_count": null,
      "metadata": {
        "id": "rUdKkxdQQj6y",
        "outputId": "16ca5480-ce92-4b4f-f5cc-fc6a6b7d6dce"
      },
      "outputs": [
        {
          "name": "stdout",
          "output_type": "stream",
          "text": [
            "♥4\n"
          ]
        }
      ],
      "source": [
        "print(card01)"
      ]
    },
    {
      "cell_type": "markdown",
      "metadata": {
        "id": "-ymS9sgcQj6y"
      },
      "source": [
        "傑克, 這真的太神奇了!\n",
        "\n",
        "不過這裡要說明一點, 其實很多時候你不一定非要把程式寫成 Class, 可以用一個或多個函式來做到你想做的事。\n",
        "\n",
        "我們這裡介紹 Class, 最重要的其實是讓大家看懂別人用 Class 寫的程式。"
      ]
    }
  ],
  "metadata": {
    "kernelspec": {
      "display_name": "Python 3",
      "language": "python",
      "name": "python3"
    },
    "language_info": {
      "codemirror_mode": {
        "name": "ipython",
        "version": 3
      },
      "file_extension": ".py",
      "mimetype": "text/x-python",
      "name": "python",
      "nbconvert_exporter": "python",
      "pygments_lexer": "ipython3",
      "version": "3.7.3"
    },
    "colab": {
      "provenance": [],
      "include_colab_link": true
    }
  },
  "nbformat": 4,
  "nbformat_minor": 0
}
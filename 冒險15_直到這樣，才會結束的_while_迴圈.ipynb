{
  "cells": [
    {
      "cell_type": "markdown",
      "metadata": {
        "id": "view-in-github",
        "colab_type": "text"
      },
      "source": [
        "<a href=\"https://colab.research.google.com/github/yenlung/Python-Book/blob/master/%E5%86%92%E9%9A%AA15_%E7%9B%B4%E5%88%B0%E9%80%99%E6%A8%A3%EF%BC%8C%E6%89%8D%E6%9C%83%E7%B5%90%E6%9D%9F%E7%9A%84_while_%E8%BF%B4%E5%9C%88.ipynb\" target=\"_parent\"><img src=\"https://colab.research.google.com/assets/colab-badge.svg\" alt=\"Open In Colab\"/></a>"
      ]
    },
    {
      "cell_type": "code",
      "execution_count": 1,
      "metadata": {
        "id": "e_h-iidkCxqD"
      },
      "outputs": [],
      "source": [
        "%matplotlib inline\n",
        "\n",
        "import numpy as np\n",
        "import pandas as pd\n",
        "import matplotlib.pyplot"
      ]
    },
    {
      "cell_type": "markdown",
      "metadata": {
        "id": "XncFROkdCxqE"
      },
      "source": [
        "![while 迴圈](https://github.com/yenlung/Python-Book/blob/master/images/T_while.png?raw=1)\n",
        "\n",
        "        while 條件式:\n",
        "            條件符合就執行\n",
        "            \n",
        "要小心不要讓這個迴圈無窮執行。"
      ]
    },
    {
      "cell_type": "code",
      "execution_count": 2,
      "metadata": {
        "id": "VbSVMokYCxqE",
        "outputId": "7843281c-1268-4021-bd4d-1930a24f6d5b",
        "colab": {
          "base_uri": "https://localhost:8080/"
        }
      },
      "outputs": [
        {
          "output_type": "stream",
          "name": "stdout",
          "text": [
            "(*´▽`*)\n",
            "(*´▽`*)(*´▽`*)\n",
            "(*´▽`*)(*´▽`*)(*´▽`*)\n",
            "(*´▽`*)(*´▽`*)(*´▽`*)(*´▽`*)\n",
            "(*´▽`*)(*´▽`*)(*´▽`*)(*´▽`*)(*´▽`*)\n"
          ]
        }
      ],
      "source": [
        "i = 1\n",
        "face = \"(*´▽`*)\"\n",
        "\n",
        "while i <= 5:\n",
        "    print(face * i)\n",
        "    i = i + 1"
      ]
    },
    {
      "cell_type": "markdown",
      "metadata": {
        "id": "Z8bEcmIaCxqF"
      },
      "source": [
        "### 【練習】拍拍機器人正式版\n",
        "\n",
        "一直和你對話, 直到你說再見..."
      ]
    },
    {
      "cell_type": "code",
      "execution_count": 3,
      "metadata": {
        "id": "3lSSqoBoCxqF",
        "outputId": "f4aa70eb-7786-492d-e4c1-5fdf496745c4",
        "colab": {
          "base_uri": "https://localhost:8080/"
        }
      },
      "outputs": [
        {
          "output_type": "stream",
          "name": "stdout",
          "text": [
            "> 我覺得很難過。\n",
            "ヾ(･∀･`): 拍拍\n",
            "\n",
            "> 程式都不會寫。\n",
            "ヾ(･∀･`): 拍拍\n",
            "\n",
            "> 同學也不借我抄。\n",
            "ヾ(･∀･`): 拍拍\n",
            "\n",
            "> Bye\n",
            "ヾ(･∀･`): 拍拍\n",
            "\n"
          ]
        }
      ],
      "source": [
        "message = \"\"\n",
        "\n",
        "while message!=\"Bye\":\n",
        "    message = input(\"> \")\n",
        "    print(\"ヾ(･∀･`): 拍拍\")\n",
        "    print()"
      ]
    }
  ],
  "metadata": {
    "kernelspec": {
      "display_name": "Python 3",
      "language": "python",
      "name": "python3"
    },
    "language_info": {
      "codemirror_mode": {
        "name": "ipython",
        "version": 3
      },
      "file_extension": ".py",
      "mimetype": "text/x-python",
      "name": "python",
      "nbconvert_exporter": "python",
      "pygments_lexer": "ipython3",
      "version": "3.7.3"
    },
    "colab": {
      "provenance": [],
      "include_colab_link": true
    }
  },
  "nbformat": 4,
  "nbformat_minor": 0
}
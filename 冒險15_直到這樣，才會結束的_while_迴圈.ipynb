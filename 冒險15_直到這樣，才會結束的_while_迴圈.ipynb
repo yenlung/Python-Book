{
  "cells": [
    {
      "cell_type": "markdown",
      "metadata": {
        "id": "view-in-github",
        "colab_type": "text"
      },
      "source": [
        "<a href=\"https://colab.research.google.com/github/yenlung/Python-Book/blob/master/%E5%86%92%E9%9A%AA15_%E7%9B%B4%E5%88%B0%E9%80%99%E6%A8%A3%EF%BC%8C%E6%89%8D%E6%9C%83%E7%B5%90%E6%9D%9F%E7%9A%84_while_%E8%BF%B4%E5%9C%88.ipynb\" target=\"_parent\"><img src=\"https://colab.research.google.com/assets/colab-badge.svg\" alt=\"Open In Colab\"/></a>"
      ]
    },
    {
      "cell_type": "code",
      "execution_count": null,
      "metadata": {
        "id": "1gxXy_ucJOSw"
      },
      "outputs": [],
      "source": [
        "%matplotlib inline\n",
        "\n",
        "import numpy as np\n",
        "import pandas as pd\n",
        "import matplotlib.pyplot"
      ]
    },
    {
      "cell_type": "markdown",
      "metadata": {
        "id": "60elXLx8JOSx"
      },
      "source": [
        "![while 迴圈](https://github.com/yenlung/Python-Book/blob/master/images/T_while.png?raw=1)\n",
        "\n",
        "        while 條件式:\n",
        "            條件符合就執行\n",
        "            \n",
        "要小心不要讓這個迴圈無窮執行。"
      ]
    },
    {
      "cell_type": "code",
      "execution_count": null,
      "metadata": {
        "id": "czxLSs-HJOSx",
        "outputId": "90781f93-6150-4080-8c3a-fa78386a6957"
      },
      "outputs": [
        {
          "name": "stdout",
          "output_type": "stream",
          "text": [
            "(*´▽`*)\n",
            "(*´▽`*)(*´▽`*)\n",
            "(*´▽`*)(*´▽`*)(*´▽`*)\n",
            "(*´▽`*)(*´▽`*)(*´▽`*)(*´▽`*)\n",
            "(*´▽`*)(*´▽`*)(*´▽`*)(*´▽`*)(*´▽`*)\n"
          ]
        }
      ],
      "source": [
        "i = 1\n",
        "face = \"(*´▽`*)\"\n",
        "\n",
        "while i <= 5:\n",
        "    print(face * i)\n",
        "    i = i + 1"
      ]
    },
    {
      "cell_type": "markdown",
      "metadata": {
        "id": "spDHp4nDJOSy"
      },
      "source": [
        "### 【練習】拍拍機器人正式版\n",
        "\n",
        "一直和你對話, 直到你說再見..."
      ]
    },
    {
      "cell_type": "code",
      "execution_count": null,
      "metadata": {
        "id": "9vwbxbtTJOSy",
        "outputId": "9789b6b2-67f4-483d-faea-31ae12058111"
      },
      "outputs": [
        {
          "name": "stdout",
          "output_type": "stream",
          "text": [
            "> 我覺得很難過。\n",
            "ヾ(･∀･`): 拍拍\n",
            "\n",
            "> Python 都不太會寫。\n",
            "ヾ(･∀･`): 拍拍\n",
            "\n",
            "> 一起學的朋友也不教我。\n",
            "ヾ(･∀･`): 拍拍\n",
            "\n",
            "> Bye\n",
            "ヾ(･∀･`): 拍拍\n",
            "\n"
          ]
        }
      ],
      "source": [
        "message = \"\"\n",
        "\n",
        "while message!=\"Bye\":\n",
        "    message = input(\"> \")\n",
        "    print(\"ヾ(･∀･`): 拍拍\")\n",
        "    print()"
      ]
    }
  ],
  "metadata": {
    "kernelspec": {
      "display_name": "Python 3",
      "language": "python",
      "name": "python3"
    },
    "language_info": {
      "codemirror_mode": {
        "name": "ipython",
        "version": 3
      },
      "file_extension": ".py",
      "mimetype": "text/x-python",
      "name": "python",
      "nbconvert_exporter": "python",
      "pygments_lexer": "ipython3",
      "version": "3.7.3"
    },
    "colab": {
      "provenance": [],
      "include_colab_link": true
    }
  },
  "nbformat": 4,
  "nbformat_minor": 0
}
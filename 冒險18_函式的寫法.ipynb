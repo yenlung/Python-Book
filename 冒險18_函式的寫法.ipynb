{
  "cells": [
    {
      "cell_type": "markdown",
      "metadata": {
        "id": "view-in-github",
        "colab_type": "text"
      },
      "source": [
        "<a href=\"https://colab.research.google.com/github/yenlung/Python-Book/blob/master/%E5%86%92%E9%9A%AA18_%E5%87%BD%E5%BC%8F%E7%9A%84%E5%AF%AB%E6%B3%95.ipynb\" target=\"_parent\"><img src=\"https://colab.research.google.com/assets/colab-badge.svg\" alt=\"Open In Colab\"/></a>"
      ]
    },
    {
      "cell_type": "code",
      "execution_count": null,
      "metadata": {
        "id": "qii2sXZjNN90"
      },
      "outputs": [],
      "source": [
        "%matplotlib inline\n",
        "\n",
        "import numpy as np\n",
        "import pandas as pd\n",
        "import matplotlib.pyplot as plt"
      ]
    },
    {
      "cell_type": "markdown",
      "metadata": {
        "id": "cJkL4L2ZNN91"
      },
      "source": [
        "![函式的寫法](https://github.com/yenlung/Python-Book/blob/master/images/function.png?raw=1)"
      ]
    },
    {
      "cell_type": "markdown",
      "metadata": {
        "id": "1gWaOX6jNN91"
      },
      "source": [
        "我們現在要進入 Python 基礎篇最後一個、也是相當重要的主題, 就是函式的寫法。"
      ]
    },
    {
      "cell_type": "markdown",
      "metadata": {
        "id": "Sad9BF9PNN92"
      },
      "source": [
        "![函式結構](https://github.com/yenlung/Python-Book/blob/master/images/function_str.png?raw=1)"
      ]
    },
    {
      "cell_type": "markdown",
      "metadata": {
        "id": "RS3pesiPNN92"
      },
      "source": [
        "假設我們要做一個簡單的函數, 輸入 $x$, 輸出 $x^2$。"
      ]
    },
    {
      "cell_type": "code",
      "execution_count": null,
      "metadata": {
        "id": "FekcgjFVNN92"
      },
      "outputs": [],
      "source": [
        "def square(x):\n",
        "    return x**2"
      ]
    },
    {
      "cell_type": "code",
      "execution_count": null,
      "metadata": {
        "id": "rCfU9orQNN92",
        "outputId": "9c676d53-5e19-4e49-f5be-607a02e273f5"
      },
      "outputs": [
        {
          "data": {
            "text/plain": [
              "9"
            ]
          },
          "execution_count": 24,
          "metadata": {},
          "output_type": "execute_result"
        }
      ],
      "source": [
        "square(3)"
      ]
    },
    {
      "cell_type": "markdown",
      "metadata": {
        "id": "I2jTwGA6NN92"
      },
      "source": [
        "寫成函式的好處是可以一直重覆使用! 剛開始大家的疑問可能是 `return` 是什麼意思, 我們再用另一個幾乎一樣的函式來說明。"
      ]
    },
    {
      "cell_type": "code",
      "execution_count": null,
      "metadata": {
        "id": "xeGttz0BNN92"
      },
      "outputs": [],
      "source": [
        "def 平方(x):\n",
        "    print(x**2)"
      ]
    },
    {
      "cell_type": "code",
      "execution_count": null,
      "metadata": {
        "id": "0RMfBCzsNN93",
        "outputId": "5e918ceb-f41d-455b-b935-3d005e8eb55d"
      },
      "outputs": [
        {
          "name": "stdout",
          "output_type": "stream",
          "text": [
            "9\n"
          ]
        }
      ],
      "source": [
        "平方(3)"
      ]
    },
    {
      "cell_type": "markdown",
      "metadata": {
        "id": "6w1vguhENN93"
      },
      "source": [
        "耶, 這看起來一模一樣! 有什麼差別呢? 答案是有 `return` 函式會回傳一個值回來, 沒有的話, 函式不會回傳任何東西。我們看個例子就更明白。"
      ]
    },
    {
      "cell_type": "code",
      "execution_count": null,
      "metadata": {
        "id": "wdpOQXs-NN93",
        "outputId": "84fb3b09-6f4c-45c4-d2e5-f50070d9b112"
      },
      "outputs": [
        {
          "name": "stdout",
          "output_type": "stream",
          "text": [
            "7569\n"
          ]
        }
      ],
      "source": [
        "a = square(87)\n",
        "b = 平方(87)"
      ]
    },
    {
      "cell_type": "markdown",
      "metadata": {
        "id": "7b2xzzfvNN93"
      },
      "source": [
        "看來 a 和 b 應該是一樣?"
      ]
    },
    {
      "cell_type": "code",
      "execution_count": null,
      "metadata": {
        "id": "7R65ipDQNN93",
        "outputId": "a5f26a2f-06f6-4bc7-d073-a71fa86f0006"
      },
      "outputs": [
        {
          "data": {
            "text/plain": [
              "7569"
            ]
          },
          "execution_count": 29,
          "metadata": {},
          "output_type": "execute_result"
        }
      ],
      "source": [
        "a"
      ]
    },
    {
      "cell_type": "code",
      "execution_count": null,
      "metadata": {
        "id": "qlVWmXDBNN93"
      },
      "outputs": [],
      "source": [
        "b"
      ]
    },
    {
      "cell_type": "markdown",
      "metadata": {
        "id": "Bj_tDuAnNN93"
      },
      "source": [
        "結果是 a 真的會變成 87 的平方, 但 b 沒有任何值! 因為 \"平方\" 這個函數沒有任何值..."
      ]
    },
    {
      "cell_type": "markdown",
      "metadata": {
        "id": "tQSWQT_jNN93"
      },
      "source": [
        "接著我們用新學會的反轉字串 (串列), 做成一個函數。"
      ]
    },
    {
      "cell_type": "code",
      "execution_count": null,
      "metadata": {
        "id": "AoAh7_Y6NN93"
      },
      "outputs": [],
      "source": [
        "def reverse(s):\n",
        "    return s[::-1]"
      ]
    },
    {
      "cell_type": "code",
      "execution_count": null,
      "metadata": {
        "scrolled": false,
        "id": "dgcd24aRNN93",
        "outputId": "6e848439-a61b-4f2e-8e4f-dc7005a00c1b"
      },
      "outputs": [
        {
          "data": {
            "text/plain": [
              "'elppa'"
            ]
          },
          "execution_count": 32,
          "metadata": {},
          "output_type": "execute_result"
        }
      ],
      "source": [
        "reverse('apple')"
      ]
    },
    {
      "cell_type": "code",
      "execution_count": null,
      "metadata": {
        "scrolled": true,
        "id": "WkXEHUb-NN93",
        "outputId": "a4fc3b6d-ba5a-4510-c915-c9d16b0ac94e"
      },
      "outputs": [
        {
          "data": {
            "text/plain": [
              "['d', 'c', 'b', 'a']"
            ]
          },
          "execution_count": 33,
          "metadata": {},
          "output_type": "execute_result"
        }
      ],
      "source": [
        "reverse(['a', 'b', 'c', 'd'])"
      ]
    },
    {
      "cell_type": "markdown",
      "metadata": {
        "id": "yesa_kbuNN93"
      },
      "source": [
        "很神奇的是, 這個函數不管是對串列或是對字串都是一體適用的! 中文當然也可以!"
      ]
    },
    {
      "cell_type": "code",
      "execution_count": null,
      "metadata": {
        "id": "zUKOra6HNN94",
        "outputId": "13e31a92-d2d5-46d4-b6fd-5552261100a8"
      },
      "outputs": [
        {
          "data": {
            "text/plain": [
              "'花蓮噴水池水噴蓮花'"
            ]
          },
          "execution_count": 4,
          "metadata": {},
          "output_type": "execute_result"
        }
      ],
      "source": [
        "reverse('花蓮噴水池水噴蓮花')"
      ]
    },
    {
      "cell_type": "markdown",
      "metadata": {
        "id": "FOhgPCOhNN94"
      },
      "source": [
        "這讓我們想到了從前做過一個「迴文」的例子，也就是順著、倒著都是一様的字或句子。函數其實也可以回傳 True 或是 False。"
      ]
    },
    {
      "cell_type": "code",
      "execution_count": null,
      "metadata": {
        "id": "faCS--nINN94"
      },
      "outputs": [],
      "source": [
        "def isPalindrome(s):\n",
        "    return s == reverse(s)"
      ]
    },
    {
      "cell_type": "code",
      "execution_count": null,
      "metadata": {
        "id": "lM0b3weoNN94",
        "outputId": "abf69bc6-069a-4553-ffd1-b9333319422e"
      },
      "outputs": [
        {
          "data": {
            "text/plain": [
              "False"
            ]
          },
          "execution_count": 9,
          "metadata": {},
          "output_type": "execute_result"
        }
      ],
      "source": [
        "isPalindrome('Python')"
      ]
    },
    {
      "cell_type": "code",
      "execution_count": null,
      "metadata": {
        "id": "QfbEAeO-NN94",
        "outputId": "e77b5a8b-8b10-49e6-beb5-a41e428297fe"
      },
      "outputs": [
        {
          "data": {
            "text/plain": [
              "True"
            ]
          },
          "execution_count": 7,
          "metadata": {},
          "output_type": "execute_result"
        }
      ],
      "source": [
        "isPalindrome('abba')"
      ]
    },
    {
      "cell_type": "code",
      "execution_count": null,
      "metadata": {
        "id": "uIHVtMG2NN94",
        "outputId": "4183cefd-8c09-4cbd-c8ec-391832baad66"
      },
      "outputs": [
        {
          "data": {
            "text/plain": [
              "True"
            ]
          },
          "execution_count": 8,
          "metadata": {},
          "output_type": "execute_result"
        }
      ],
      "source": [
        "isPalindrome('花蓮噴水池水噴蓮花')"
      ]
    },
    {
      "cell_type": "code",
      "execution_count": null,
      "metadata": {
        "id": "s2GadLU_NN94",
        "outputId": "7513c061-4bf1-42eb-ed90-98c4dddcdf4c"
      },
      "outputs": [
        {
          "name": "stdout",
          "output_type": "stream",
          "text": [
            "請輸入一個英文單字或是中文句子: 上海自來水來自海上\n",
            "這是迴文！\n"
          ]
        }
      ],
      "source": [
        "s = input('請輸入一個英文單字或是中文句子: ')\n",
        "\n",
        "if isPalindrome(s):\n",
        "    print('這是迴文！')\n",
        "else:\n",
        "    print('這不是迴文!')"
      ]
    },
    {
      "cell_type": "code",
      "execution_count": null,
      "metadata": {
        "id": "iUs7iOCrNN94"
      },
      "outputs": [],
      "source": []
    },
    {
      "cell_type": "markdown",
      "metadata": {
        "id": "HxZQea8RNN94"
      },
      "source": [
        "接著我們想做一個猜數字遊戲, 並且把它設計成一個函數。為了這個, 我們介紹從 `random` 套件庫來的 `randint` 指令。"
      ]
    },
    {
      "cell_type": "markdown",
      "metadata": {
        "id": "nV0pCjAVNN94"
      },
      "source": [
        "![randint](https://github.com/yenlung/Python-Book/blob/master/images/randint.png?raw=1)"
      ]
    },
    {
      "cell_type": "markdown",
      "metadata": {
        "id": "Cafb2ILANN94"
      },
      "source": [
        "### 問題: 猜數字遊戲\n",
        "\n",
        "電腦從 1-100 之間「想」一個數字。玩家開始猜電腦的數字, 電腦回饋「太大」或「太小」, 直到猜對為止。"
      ]
    },
    {
      "cell_type": "code",
      "execution_count": null,
      "metadata": {
        "id": "IxDlCO56NN94"
      },
      "outputs": [],
      "source": [
        "from random import randint"
      ]
    },
    {
      "cell_type": "code",
      "execution_count": null,
      "metadata": {
        "id": "7szuKu4ONN94"
      },
      "outputs": [],
      "source": [
        "def game():\n",
        "    ans = randint(1, 100)\n",
        "    guess = -1\n",
        "\n",
        "    while guess != ans:\n",
        "        guess = int(input(\"請輸入一個數字: \"))\n",
        "\n",
        "        if guess>ans:\n",
        "            print(\"太大了!\")\n",
        "        elif guess<ans:\n",
        "            print(\"太小了!\")\n",
        "        else:\n",
        "            print(\"太神了!\")"
      ]
    },
    {
      "cell_type": "code",
      "execution_count": null,
      "metadata": {
        "id": "opbJLggRNN94",
        "outputId": "f3a4a0ce-368f-4179-8760-18bebec6e959"
      },
      "outputs": [
        {
          "name": "stdout",
          "output_type": "stream",
          "text": [
            "請輸入一個數字: 50\n",
            "太大了!\n",
            "請輸入一個數字: 30\n",
            "太大了!\n",
            "請輸入一個數字: 15\n",
            "太小了!\n",
            "請輸入一個數字: 20\n",
            "太小了!\n",
            "請輸入一個數字: 25\n",
            "太大了!\n",
            "請輸入一個數字: 23\n",
            "太小了!\n",
            "請輸入一個數字: 24\n",
            "太神了!\n"
          ]
        }
      ],
      "source": [
        "game()"
      ]
    },
    {
      "cell_type": "markdown",
      "metadata": {
        "id": "TJIkdLqaNN95"
      },
      "source": [
        "現在我們想要玩了一盤之後, 能問要不要再玩一次。這時可以發現, 我們把遊戲寫成一個函數就很方便!"
      ]
    },
    {
      "cell_type": "code",
      "execution_count": null,
      "metadata": {
        "id": "jPX-4KFNNN95",
        "outputId": "48fcc5e7-f3ab-4aa1-b6e3-033448e87777"
      },
      "outputs": [
        {
          "name": "stdout",
          "output_type": "stream",
          "text": [
            "請輸入一個數字: 80\n",
            "太大了!\n",
            "請輸入一個數字: 40\n",
            "太大了!\n",
            "請輸入一個數字: 20\n",
            "太大了!\n",
            "請輸入一個數字: 10\n",
            "太大了!\n",
            "請輸入一個數字: 5\n",
            "太小了!\n",
            "請輸入一個數字: 7\n",
            "太神了!\n",
            "ヽ(∀ﾟ )人(ﾟ∀ﾟ)人( ﾟ∀)人(∀ﾟ )ﾉ\n",
            "再玩一次?yes\n",
            "請輸入一個數字: 50\n",
            "太小了!\n",
            "請輸入一個數字: 70\n",
            "太小了!\n",
            "請輸入一個數字: 80\n",
            "太小了!\n",
            "請輸入一個數字: 90\n",
            "太小了!\n",
            "請輸入一個數字: 99\n",
            "太小了!\n",
            "請輸入一個數字: 100\n",
            "太神了!\n",
            "ヽ(∀ﾟ )人(ﾟ∀ﾟ)人( ﾟ∀)人(∀ﾟ )ﾉ\n",
            "再玩一次?no\n"
          ]
        }
      ],
      "source": [
        "play = True\n",
        "\n",
        "while play:\n",
        "    game()\n",
        "    print(\"ヽ(∀ﾟ )人(ﾟ∀ﾟ)人( ﾟ∀)人(∀ﾟ )ﾉ\")\n",
        "    again = input(\"再玩一次?\")\n",
        "    if again == 'no':\n",
        "        play = False"
      ]
    },
    {
      "cell_type": "markdown",
      "metadata": {
        "id": "ATKlQlv0NN95"
      },
      "source": [
        "我們現在準備存成一個 Python 檔案。Python 檔一般以 `.py` 結尾, 要執行在終端機 (Anaconda Prompt) 打入\n",
        "\n",
        "    python 檔名.py\n",
        "    \n",
        "就可以!"
      ]
    },
    {
      "cell_type": "markdown",
      "metadata": {
        "id": "1zwsK1N6NN95"
      },
      "source": [
        "![Python 檔案](https://github.com/yenlung/Python-Book/blob/master/images/python_file.png?raw=1)"
      ]
    },
    {
      "cell_type": "markdown",
      "metadata": {
        "id": "fh0e2yS_NN99"
      },
      "source": [
        "看了一下, 我們這次需要存的輸入格有 35, 36, 39 三行。可以用魔術指令 `%save` 來儲存。"
      ]
    },
    {
      "cell_type": "code",
      "execution_count": null,
      "metadata": {
        "id": "YVYbR5YNNN99",
        "outputId": "51093541-294b-4268-e419-e5d3267a3687"
      },
      "outputs": [
        {
          "name": "stdout",
          "output_type": "stream",
          "text": [
            "The following commands were written to file `guessing_game.py`:\n",
            "from random import randint\n",
            "def game():\n",
            "    ans = randint(1, 100)\n",
            "    guess = -1\n",
            "\n",
            "    while guess != ans:\n",
            "        guess = int(input(\"請輸入一個數字: \"))\n",
            "\n",
            "        if guess>ans:\n",
            "            print(\"太大了!\")\n",
            "        elif guess<ans:\n",
            "            print(\"太小了!\")\n",
            "        else:\n",
            "            print(\"太神了!\")\n",
            "play = True\n",
            "\n",
            "while play:\n",
            "    game()\n",
            "    print(\"ヽ(∀ﾟ )人(ﾟ∀ﾟ)人( ﾟ∀)人(∀ﾟ )ﾉ\")\n",
            "    again = input(\"再玩一次?\")\n",
            "    if again == 'no':\n",
            "        play = False\n"
          ]
        }
      ],
      "source": [
        "%save \"guessing_game.py\" 35-36 39"
      ]
    },
    {
      "cell_type": "markdown",
      "metadata": {
        "id": "At0vMXjWNN99"
      },
      "source": [
        "於是我們就可以在終端機 (或 Windows 下的 Anaconda Prompt), 確定是在這個 `guessing_game.py' 這個資料夾下, 打入\n",
        "\n",
        "    python guessing_game.py\n",
        "    \n",
        "就可以執行了!\n",
        "\n",
        "![在終端機執行猜數字遊戲](https://github.com/yenlung/Python-Book/blob/master/images/game_terminal.png?raw=1)"
      ]
    }
  ],
  "metadata": {
    "kernelspec": {
      "display_name": "Python 3",
      "language": "python",
      "name": "python3"
    },
    "language_info": {
      "codemirror_mode": {
        "name": "ipython",
        "version": 3
      },
      "file_extension": ".py",
      "mimetype": "text/x-python",
      "name": "python",
      "nbconvert_exporter": "python",
      "pygments_lexer": "ipython3",
      "version": "3.7.3"
    },
    "colab": {
      "provenance": [],
      "include_colab_link": true
    }
  },
  "nbformat": 4,
  "nbformat_minor": 0
}
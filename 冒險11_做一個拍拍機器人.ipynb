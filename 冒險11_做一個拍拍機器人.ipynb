{
  "cells": [
    {
      "cell_type": "markdown",
      "metadata": {
        "id": "view-in-github",
        "colab_type": "text"
      },
      "source": [
        "<a href=\"https://colab.research.google.com/github/yenlung/Python-Book/blob/master/%E5%86%92%E9%9A%AA11_%E5%81%9A%E4%B8%80%E5%80%8B%E6%8B%8D%E6%8B%8D%E6%A9%9F%E5%99%A8%E4%BA%BA.ipynb\" target=\"_parent\"><img src=\"https://colab.research.google.com/assets/colab-badge.svg\" alt=\"Open In Colab\"/></a>"
      ]
    },
    {
      "cell_type": "code",
      "execution_count": 1,
      "metadata": {
        "id": "5NrNDaIn_0Fe"
      },
      "outputs": [],
      "source": [
        "%matplotlib inline\n",
        "\n",
        "import numpy as np\n",
        "import pandas as pd\n",
        "import matplotlib.pyplot"
      ]
    },
    {
      "cell_type": "markdown",
      "metadata": {
        "id": "srR-7Ito_0Ff"
      },
      "source": [
        "![input](https://github.com/yenlung/Python-Book/blob/master/images/input.png?raw=1)"
      ]
    },
    {
      "cell_type": "code",
      "execution_count": 2,
      "metadata": {
        "scrolled": true,
        "id": "vtwMHSqt_0Fh",
        "outputId": "b04bd32e-483f-44ef-9347-d7224836cbb9",
        "colab": {
          "base_uri": "https://localhost:8080/"
        }
      },
      "outputs": [
        {
          "name": "stdout",
          "output_type": "stream",
          "text": [
            "請輸入你的名字: 炎龍\n"
          ]
        }
      ],
      "source": [
        "name = input(\"請輸入你的名字: \")"
      ]
    },
    {
      "cell_type": "code",
      "execution_count": 3,
      "metadata": {
        "id": "jcV5G_A2_0Fi",
        "outputId": "8af9bf64-fe6e-4d03-e653-178e7e734212",
        "colab": {
          "base_uri": "https://localhost:8080/",
          "height": 35
        }
      },
      "outputs": [
        {
          "output_type": "execute_result",
          "data": {
            "text/plain": [
              "'炎龍'"
            ],
            "application/vnd.google.colaboratory.intrinsic+json": {
              "type": "string"
            }
          },
          "metadata": {},
          "execution_count": 3
        }
      ],
      "source": [
        "name"
      ]
    },
    {
      "cell_type": "markdown",
      "metadata": {
        "id": "CDJexI6f_0Fj"
      },
      "source": [
        "來個簡單的互動!"
      ]
    },
    {
      "cell_type": "code",
      "execution_count": 4,
      "metadata": {
        "id": "hY6gA_nJ_0Fj",
        "outputId": "e386efb8-7921-4d6f-d465-82a6e2b8a5fc",
        "colab": {
          "base_uri": "https://localhost:8080/"
        }
      },
      "outputs": [
        {
          "output_type": "stream",
          "name": "stdout",
          "text": [
            "請問你名字叫什麼? 炎龍\n",
            "炎龍, 你好!\n"
          ]
        }
      ],
      "source": [
        "name = input(\"請問你名字叫什麼? \")\n",
        "print(name + \", 你好!\")"
      ]
    },
    {
      "cell_type": "markdown",
      "metadata": {
        "id": "vUalhV0R_0Fj"
      },
      "source": [
        "注意輸入永遠是「字串」格式。比方說以下的匯率換算會出問題!"
      ]
    },
    {
      "cell_type": "code",
      "execution_count": 7,
      "metadata": {
        "id": "NWT-ZIqh_0Fj",
        "outputId": "bdff3fec-d037-41a8-8c96-3a86e97cc2b3",
        "colab": {
          "base_uri": "https://localhost:8080/",
          "height": 226
        }
      },
      "outputs": [
        {
          "name": "stdout",
          "output_type": "stream",
          "text": [
            "請輸入日圓金額: 999\n"
          ]
        },
        {
          "output_type": "error",
          "ename": "TypeError",
          "evalue": "ignored",
          "traceback": [
            "\u001b[0;31m---------------------------------------------------------------------------\u001b[0m",
            "\u001b[0;31mTypeError\u001b[0m                                 Traceback (most recent call last)",
            "\u001b[0;32m<ipython-input-7-489f2ea369c2>\u001b[0m in \u001b[0;36m<module>\u001b[0;34m\u001b[0m\n\u001b[1;32m      1\u001b[0m \u001b[0mc\u001b[0m \u001b[0;34m=\u001b[0m \u001b[0;36m0.272174\u001b[0m\u001b[0;34m\u001b[0m\u001b[0;34m\u001b[0m\u001b[0m\n\u001b[1;32m      2\u001b[0m \u001b[0mjpy\u001b[0m \u001b[0;34m=\u001b[0m \u001b[0minput\u001b[0m\u001b[0;34m(\u001b[0m\u001b[0;34m\"請輸入日圓金額: \"\u001b[0m\u001b[0;34m)\u001b[0m\u001b[0;34m\u001b[0m\u001b[0;34m\u001b[0m\u001b[0m\n\u001b[0;32m----> 3\u001b[0;31m \u001b[0mprint\u001b[0m\u001b[0;34m(\u001b[0m\u001b[0;34m'換算成台幣為'\u001b[0m\u001b[0;34m,\u001b[0m \u001b[0mjpy\u001b[0m\u001b[0;34m*\u001b[0m\u001b[0mc\u001b[0m\u001b[0;34m)\u001b[0m\u001b[0;34m\u001b[0m\u001b[0;34m\u001b[0m\u001b[0m\n\u001b[0m",
            "\u001b[0;31mTypeError\u001b[0m: can't multiply sequence by non-int of type 'float'"
          ]
        }
      ],
      "source": [
        "c = 0.272174\n",
        "jpy = input(\"請輸入日圓金額: \")\n",
        "print('換算成台幣為', jpy*c)"
      ]
    },
    {
      "cell_type": "code",
      "execution_count": 8,
      "metadata": {
        "id": "jHl-NIWt_0Fk",
        "outputId": "bb37275b-e897-45bf-895c-94d284bc4d36",
        "colab": {
          "base_uri": "https://localhost:8080/",
          "height": 35
        }
      },
      "outputs": [
        {
          "output_type": "execute_result",
          "data": {
            "text/plain": [
              "'999'"
            ],
            "application/vnd.google.colaboratory.intrinsic+json": {
              "type": "string"
            }
          },
          "metadata": {},
          "execution_count": 8
        }
      ],
      "source": [
        "jpy"
      ]
    },
    {
      "cell_type": "markdown",
      "metadata": {
        "id": "Y_ZkfxGO_0Fk"
      },
      "source": [
        "在 Python 中, 資料型態很容易可以轉變!"
      ]
    },
    {
      "cell_type": "code",
      "execution_count": 9,
      "metadata": {
        "id": "lQ0RjkZM_0Fk",
        "outputId": "eca6b121-e867-40ae-a25c-f0154c0c3766",
        "colab": {
          "base_uri": "https://localhost:8080/"
        }
      },
      "outputs": [
        {
          "output_type": "execute_result",
          "data": {
            "text/plain": [
              "999.0"
            ]
          },
          "metadata": {},
          "execution_count": 9
        }
      ],
      "source": [
        "float(jpy)"
      ]
    },
    {
      "cell_type": "markdown",
      "metadata": {
        "id": "BZKE6Ryv_0Fk"
      },
      "source": [
        "變成整數。"
      ]
    },
    {
      "cell_type": "code",
      "execution_count": 10,
      "metadata": {
        "id": "oBjG6ydB_0Fl",
        "outputId": "9122d473-2eb0-4ac1-8048-8f0abcfb3abe",
        "colab": {
          "base_uri": "https://localhost:8080/"
        }
      },
      "outputs": [
        {
          "output_type": "execute_result",
          "data": {
            "text/plain": [
              "999"
            ]
          },
          "metadata": {},
          "execution_count": 10
        }
      ],
      "source": [
        "int(jpy) "
      ]
    },
    {
      "cell_type": "markdown",
      "metadata": {
        "id": "5iES-Q7V_0Fl"
      },
      "source": [
        "修改程式碼。"
      ]
    },
    {
      "cell_type": "code",
      "execution_count": 11,
      "metadata": {
        "id": "jP3J23a__0Fl",
        "outputId": "fc751529-49ff-4fa4-bae9-081fcb757e85",
        "colab": {
          "base_uri": "https://localhost:8080/"
        }
      },
      "outputs": [
        {
          "output_type": "stream",
          "name": "stdout",
          "text": [
            "請輸入日圓金額: 999\n",
            "換算成台幣為 271.901826\n"
          ]
        }
      ],
      "source": [
        "c = 0.272174\n",
        "jpy = input(\"請輸入日圓金額: \")\n",
        "print('換算成台幣為', float(jpy) * c)"
      ]
    },
    {
      "cell_type": "markdown",
      "metadata": {
        "id": "jN0ZlXgd_0Fl"
      },
      "source": [
        "我們也可以先把 `jpy` 轉成浮點數的型式。"
      ]
    },
    {
      "cell_type": "code",
      "execution_count": 13,
      "metadata": {
        "id": "pTXZT3mp_0Fl",
        "outputId": "bc592aa7-0e6d-42e9-e1f8-aa3fb3b9eddb",
        "colab": {
          "base_uri": "https://localhost:8080/"
        }
      },
      "outputs": [
        {
          "output_type": "stream",
          "name": "stdout",
          "text": [
            "請輸入日圓金額: 999\n",
            "換算成台幣為 271.901826\n"
          ]
        }
      ],
      "source": [
        "c = 0.272174\n",
        "jpy = input(\"請輸入日圓金額: \")\n",
        "jpy = float(jpy)\n",
        "print('換算成台幣為', jpy*c)"
      ]
    },
    {
      "cell_type": "markdown",
      "metadata": {
        "id": "ZyhEq-_Y_0Fm"
      },
      "source": [
        "甚至在 `input` 時就決定 `jpy` 是浮點數！"
      ]
    },
    {
      "cell_type": "code",
      "execution_count": 14,
      "metadata": {
        "id": "ddE5y62H_0Fm",
        "outputId": "93cc4420-1710-4a6a-8099-1e8f4072ee24",
        "colab": {
          "base_uri": "https://localhost:8080/"
        }
      },
      "outputs": [
        {
          "output_type": "stream",
          "name": "stdout",
          "text": [
            "請輸入日圓金額: 999\n",
            "換算成台幣為 271.901826\n"
          ]
        }
      ],
      "source": [
        "c = 0.272174\n",
        "jpy = float(input(\"請輸入日圓金額: \"))\n",
        "print('換算成台幣為', jpy*c)"
      ]
    },
    {
      "cell_type": "markdown",
      "metadata": {
        "id": "fSEha4L5_0Fm"
      },
      "source": [
        "如果需要，用相同的方式可以把數字換成字串。"
      ]
    },
    {
      "cell_type": "code",
      "execution_count": 15,
      "metadata": {
        "id": "GFLxza4w_0Fm",
        "outputId": "e2e61975-059b-482e-f3f0-73368c8d5b6e",
        "colab": {
          "base_uri": "https://localhost:8080/",
          "height": 35
        }
      },
      "outputs": [
        {
          "output_type": "execute_result",
          "data": {
            "text/plain": [
              "'87'"
            ],
            "application/vnd.google.colaboratory.intrinsic+json": {
              "type": "string"
            }
          },
          "metadata": {},
          "execution_count": 15
        }
      ],
      "source": [
        "str(87)"
      ]
    },
    {
      "cell_type": "markdown",
      "metadata": {
        "id": "JuHbZKKY_0Fm"
      },
      "source": [
        "###  【練習】拍拍機器人\n",
        "\n",
        "不管輸入什麼, 都回應「拍拍」的療癒系對話機器人。"
      ]
    },
    {
      "cell_type": "code",
      "execution_count": 16,
      "metadata": {
        "id": "Z3WL1VSW_0Fm",
        "outputId": "bbc6f46a-91c0-41ea-8d5d-2531644b7532",
        "colab": {
          "base_uri": "https://localhost:8080/"
        }
      },
      "outputs": [
        {
          "output_type": "stream",
          "name": "stdout",
          "text": [
            "> 我很難過。\n",
            "ヾ(･∀･`): 拍拍\n"
          ]
        }
      ],
      "source": [
        "message = input(\"> \")\n",
        "print(\"ヾ(･∀･`): 拍拍\")"
      ]
    }
  ],
  "metadata": {
    "kernelspec": {
      "display_name": "Python 3",
      "language": "python",
      "name": "python3"
    },
    "language_info": {
      "codemirror_mode": {
        "name": "ipython",
        "version": 3
      },
      "file_extension": ".py",
      "mimetype": "text/x-python",
      "name": "python",
      "nbconvert_exporter": "python",
      "pygments_lexer": "ipython3",
      "version": "3.7.3"
    },
    "colab": {
      "provenance": [],
      "include_colab_link": true
    }
  },
  "nbformat": 4,
  "nbformat_minor": 0
}
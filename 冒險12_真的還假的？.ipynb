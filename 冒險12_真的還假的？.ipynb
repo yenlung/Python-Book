{
  "cells": [
    {
      "cell_type": "markdown",
      "metadata": {
        "id": "view-in-github",
        "colab_type": "text"
      },
      "source": [
        "<a href=\"https://colab.research.google.com/github/yenlung/Python-Book/blob/master/%E5%86%92%E9%9A%AA12_%E7%9C%9F%E7%9A%84%E9%82%84%E5%81%87%E7%9A%84%EF%BC%9F.ipynb\" target=\"_parent\"><img src=\"https://colab.research.google.com/assets/colab-badge.svg\" alt=\"Open In Colab\"/></a>"
      ]
    },
    {
      "cell_type": "code",
      "execution_count": 1,
      "metadata": {
        "id": "fpVatG5hAuGZ"
      },
      "outputs": [],
      "source": [
        "%matplotlib inline\n",
        "\n",
        "import numpy as np\n",
        "import pandas as pd\n",
        "import matplotlib.pyplot"
      ]
    },
    {
      "cell_type": "markdown",
      "metadata": {
        "id": "pdLXqeMIAuGa"
      },
      "source": [
        "![條件判斷](https://github.com/yenlung/Python-Book/blob/master/images/if.png?raw=1)"
      ]
    },
    {
      "cell_type": "code",
      "execution_count": 2,
      "metadata": {
        "id": "fBDu996kAuGa",
        "outputId": "20eb910e-1c8a-497c-d308-0a7c3fa1c0e3",
        "colab": {
          "base_uri": "https://localhost:8080/"
        }
      },
      "outputs": [
        {
          "output_type": "execute_result",
          "data": {
            "text/plain": [
              "True"
            ]
          },
          "metadata": {},
          "execution_count": 2
        }
      ],
      "source": [
        "2 < 3"
      ]
    },
    {
      "cell_type": "code",
      "execution_count": 3,
      "metadata": {
        "id": "-vhcdAU-AuGb",
        "outputId": "61f8ff16-0d17-4bd6-966c-f1a6c8830b1c",
        "colab": {
          "base_uri": "https://localhost:8080/"
        }
      },
      "outputs": [
        {
          "output_type": "execute_result",
          "data": {
            "text/plain": [
              "False"
            ]
          },
          "metadata": {},
          "execution_count": 3
        }
      ],
      "source": [
        "3 < 2"
      ]
    },
    {
      "cell_type": "markdown",
      "metadata": {
        "id": "TABel_DaAuGb"
      },
      "source": [
        "記得 `True` 和 `False` 都是 Python 的保留常數, 代表, 嗯, true 和 false。請注意保留字的大小寫。"
      ]
    },
    {
      "cell_type": "markdown",
      "metadata": {
        "id": "7IgPdWGJAuGb"
      },
      "source": [
        "另外要注意的是, 要把一個變數設定成某個數字, 和要判斷某個變數的值是不是某個數字方式是不一樣的!"
      ]
    },
    {
      "cell_type": "code",
      "execution_count": 4,
      "metadata": {
        "id": "pvYM_4rfAuGb"
      },
      "outputs": [],
      "source": [
        "a = 7"
      ]
    },
    {
      "cell_type": "code",
      "execution_count": 5,
      "metadata": {
        "id": "16sjJCkAAuGb",
        "outputId": "258f4ee4-cbfa-409d-8014-2a89ce67cde9",
        "colab": {
          "base_uri": "https://localhost:8080/"
        }
      },
      "outputs": [
        {
          "output_type": "execute_result",
          "data": {
            "text/plain": [
              "False"
            ]
          },
          "metadata": {},
          "execution_count": 5
        }
      ],
      "source": [
        "a == 8"
      ]
    },
    {
      "cell_type": "markdown",
      "metadata": {
        "id": "2_f3i5feAuGb"
      },
      "source": [
        "再來是不等於的表示法。"
      ]
    },
    {
      "cell_type": "code",
      "execution_count": 6,
      "metadata": {
        "id": "jUQIhRTsAuGb",
        "outputId": "d3bee871-6c6d-4db9-9401-ceb9dc3d547e",
        "colab": {
          "base_uri": "https://localhost:8080/"
        }
      },
      "outputs": [
        {
          "output_type": "execute_result",
          "data": {
            "text/plain": [
              "True"
            ]
          },
          "metadata": {},
          "execution_count": 6
        }
      ],
      "source": [
        "a != 8"
      ]
    },
    {
      "cell_type": "markdown",
      "metadata": {
        "id": "xuYZdZ_fAuGb"
      },
      "source": [
        "大於等於。"
      ]
    },
    {
      "cell_type": "code",
      "execution_count": 7,
      "metadata": {
        "id": "o1a0UzLXAuGc",
        "outputId": "b73920c9-4f77-4e3b-8215-efd32464772d",
        "colab": {
          "base_uri": "https://localhost:8080/"
        }
      },
      "outputs": [
        {
          "output_type": "execute_result",
          "data": {
            "text/plain": [
              "True"
            ]
          },
          "metadata": {},
          "execution_count": 7
        }
      ],
      "source": [
        "a >= 6"
      ]
    },
    {
      "cell_type": "code",
      "execution_count": 8,
      "metadata": {
        "id": "xWjV6EJTAuGc",
        "outputId": "c1a43f1b-1445-4f45-e02e-69caf8fb1a47",
        "colab": {
          "base_uri": "https://localhost:8080/"
        }
      },
      "outputs": [
        {
          "output_type": "execute_result",
          "data": {
            "text/plain": [
              "False"
            ]
          },
          "metadata": {},
          "execution_count": 8
        }
      ],
      "source": [
        "a <= 6"
      ]
    },
    {
      "cell_type": "markdown",
      "metadata": {
        "id": "uDGQsXvMAuGc"
      },
      "source": [
        "接著我們寫入程式。"
      ]
    },
    {
      "cell_type": "code",
      "execution_count": 9,
      "metadata": {
        "id": "APTVZp4_AuGc",
        "outputId": "f1be160c-dc3e-477b-9a19-df157f2caf06",
        "colab": {
          "base_uri": "https://localhost:8080/"
        }
      },
      "outputs": [
        {
          "output_type": "stream",
          "name": "stdout",
          "text": [
            "及格了！\n",
            "再繼續加油！\n"
          ]
        }
      ],
      "source": [
        "grade = 87\n",
        "\n",
        "if grade >= 60:\n",
        "    print(\"及格了！\")\n",
        "    print(\"再繼續加油！\")"
      ]
    },
    {
      "cell_type": "code",
      "execution_count": 10,
      "metadata": {
        "id": "CjFEjYvNAuGc",
        "outputId": "823a537d-dc96-4c74-97cb-b30cd8e3bc03",
        "colab": {
          "base_uri": "https://localhost:8080/"
        }
      },
      "outputs": [
        {
          "output_type": "stream",
          "name": "stdout",
          "text": [
            "太棒了，及格了！\n"
          ]
        }
      ],
      "source": [
        "grade = 87\n",
        "\n",
        "if grade >= 60:\n",
        "    print(\"太棒了，及格了！\")\n",
        "else:\n",
        "    print(\"不要灰心，再加油！\")"
      ]
    },
    {
      "cell_type": "code",
      "execution_count": 11,
      "metadata": {
        "id": "v6YM3ZmSAuGc",
        "outputId": "9a095177-f289-4b14-aaef-7789eb9ee7d7",
        "colab": {
          "base_uri": "https://localhost:8080/"
        }
      },
      "outputs": [
        {
          "output_type": "stream",
          "name": "stdout",
          "text": [
            "及格了!\n"
          ]
        }
      ],
      "source": [
        "grade = 66\n",
        "\n",
        "if grade >= 80:\n",
        "    print('太神了!!')\n",
        "elif grade >= 60:\n",
        "    print('及格了!')\n",
        "elif grade > 50:\n",
        "    print('差一點點，再加油!')\n",
        "else:\n",
        "    print('不要灰心, 再努力一點!')"
      ]
    },
    {
      "cell_type": "markdown",
      "metadata": {
        "id": "9Q46_o5IAuGc"
      },
      "source": [
        "Python對字串也是可以比大小的！比如說："
      ]
    },
    {
      "cell_type": "code",
      "execution_count": 12,
      "metadata": {
        "id": "t3muujEVAuGc",
        "outputId": "d60738e7-fd15-4c20-8eda-3bc77379d2bb",
        "colab": {
          "base_uri": "https://localhost:8080/"
        }
      },
      "outputs": [
        {
          "output_type": "execute_result",
          "data": {
            "text/plain": [
              "True"
            ]
          },
          "metadata": {},
          "execution_count": 12
        }
      ],
      "source": [
        "'Z' > 'B'"
      ]
    },
    {
      "cell_type": "code",
      "execution_count": 13,
      "metadata": {
        "id": "rkAXZWH3AuGc",
        "outputId": "7a6311bf-6346-4039-dd56-bba6a7153be4",
        "colab": {
          "base_uri": "https://localhost:8080/"
        }
      },
      "outputs": [
        {
          "output_type": "execute_result",
          "data": {
            "text/plain": [
              "True"
            ]
          },
          "metadata": {},
          "execution_count": 13
        }
      ],
      "source": [
        "'zoo' > 'zip'"
      ]
    },
    {
      "cell_type": "markdown",
      "metadata": {
        "id": "hVyxFCfrAuGd"
      },
      "source": [
        "還有Python很容易判斷一個字串是不是包含在另一個字串中，比方說："
      ]
    },
    {
      "cell_type": "code",
      "execution_count": 14,
      "metadata": {
        "id": "vtg67LskAuGd",
        "outputId": "5355ebad-52bb-4af1-94ee-4c2795f25eec",
        "colab": {
          "base_uri": "https://localhost:8080/"
        }
      },
      "outputs": [
        {
          "output_type": "execute_result",
          "data": {
            "text/plain": [
              "True"
            ]
          },
          "metadata": {},
          "execution_count": 14
        }
      ],
      "source": [
        "'悲傷' in '我今天很悲傷'"
      ]
    }
  ],
  "metadata": {
    "kernelspec": {
      "display_name": "Python 3",
      "language": "python",
      "name": "python3"
    },
    "language_info": {
      "codemirror_mode": {
        "name": "ipython",
        "version": 3
      },
      "file_extension": ".py",
      "mimetype": "text/x-python",
      "name": "python",
      "nbconvert_exporter": "python",
      "pygments_lexer": "ipython3",
      "version": "3.7.3"
    },
    "colab": {
      "provenance": [],
      "include_colab_link": true
    }
  },
  "nbformat": 4,
  "nbformat_minor": 0
}
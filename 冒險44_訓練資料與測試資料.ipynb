{
  "nbformat": 4,
  "nbformat_minor": 0,
  "metadata": {
    "colab": {
      "name": "冒險 44_訓練資料與測試資料.ipynb",
      "provenance": [],
      "include_colab_link": true
    },
    "kernelspec": {
      "name": "python3",
      "display_name": "Python 3"
    }
  },
  "cells": [
    {
      "cell_type": "markdown",
      "metadata": {
        "id": "view-in-github",
        "colab_type": "text"
      },
      "source": [
        "<a href=\"https://colab.research.google.com/github/yenlung/Python-Book/blob/master/%E5%86%92%E9%9A%AA44_%E8%A8%93%E7%B7%B4%E8%B3%87%E6%96%99%E8%88%87%E6%B8%AC%E8%A9%A6%E8%B3%87%E6%96%99.ipynb\" target=\"_parent\"><img src=\"https://colab.research.google.com/assets/colab-badge.svg\" alt=\"Open In Colab\"/></a>"
      ]
    },
    {
      "cell_type": "markdown",
      "metadata": {
        "id": "BZ0lQDXz7cgn"
      },
      "source": [
        "一次引進所有必要的套件跟函式"
      ]
    },
    {
      "cell_type": "code",
      "metadata": {
        "id": "gkMcCDeu7RSu"
      },
      "source": [
        "%matplotlib inline\n",
        "import numpy as np\n",
        "import matplotlib.pyplot as plt\n",
        "from sklearn.model_selection import train_test_split\n",
        "from sklearn.linear_model import LinearRegression"
      ],
      "execution_count": null,
      "outputs": []
    },
    {
      "cell_type": "markdown",
      "metadata": {
        "id": "0wImU94G7m1j"
      },
      "source": [
        "均勻地在 0 到 5 之間取一百個點，再隨便決定一個函數，叫做 y = f(x) = 1.9x + 0.8 好了\n",
        "\n",
        "為了增加真實感，加上一點雜訊\n"
      ]
    },
    {
      "cell_type": "code",
      "metadata": {
        "id": "4sORZkfC7hjR"
      },
      "source": [
        "x = np.linspace(0, 5, 100)\n",
        "y = 1.9*x + 0.8 + 0.5*np.random.randn(100)"
      ],
      "execution_count": null,
      "outputs": []
    },
    {
      "cell_type": "markdown",
      "metadata": {
        "id": "cZUo1JVm8D7a"
      },
      "source": [
        "開開心心地讓 sklearn 幫我們分離出訓練資料跟測試資料，測試資料的比例是 0.3 的話，\n",
        "\n",
        "訓練資料就會自動是 0.7 了呢，真是方便！\n",
        "\n",
        "random_state 可以是耍寶用的 87 ，要選其他數字也當然可以"
      ]
    },
    {
      "cell_type": "code",
      "metadata": {
        "id": "owBtyVcH8DHx"
      },
      "source": [
        "x_train, x_test, y_train, y_test = train_test_split(x, y, test_size=0.3, random_state=87)\n",
        "x_train = x_train.reshape(len(x_train), 1)\n",
        "x_test = x_test.reshape(len(x_test), 1)"
      ],
      "execution_count": null,
      "outputs": []
    },
    {
      "cell_type": "markdown",
      "metadata": {
        "id": "IEJ5O9w-8pMj"
      },
      "source": [
        "一樣叫出一個線性迴歸的函數學習機，再放進「訓練資料」讓它開始訓練"
      ]
    },
    {
      "cell_type": "code",
      "metadata": {
        "id": "gNZQhGfL8nOV",
        "colab": {
          "base_uri": "https://localhost:8080/",
          "height": 34
        },
        "outputId": "565bb8a8-a04f-4527-eafd-39418557bb6f"
      },
      "source": [
        "regr = LinearRegression()\n",
        "regr.fit(x_train, y_train)"
      ],
      "execution_count": null,
      "outputs": [
        {
          "output_type": "execute_result",
          "data": {
            "text/plain": [
              "LinearRegression(copy_X=True, fit_intercept=True, n_jobs=None, normalize=False)"
            ]
          },
          "metadata": {
            "tags": []
          },
          "execution_count": 4
        }
      ]
    },
    {
      "cell_type": "markdown",
      "metadata": {
        "id": "oXabp5qX88SV"
      },
      "source": [
        "用 plot 把「訓練資料」的正確答案畫成一條線，再把模型 predict 出來的結果描點畫在同一張圖上\n",
        "\n",
        "可以清楚的看到結果"
      ]
    },
    {
      "cell_type": "code",
      "metadata": {
        "id": "RB_uPaxS81cm",
        "colab": {
          "base_uri": "https://localhost:8080/",
          "height": 282
        },
        "outputId": "6dbd4ea4-8e32-4f1e-e23f-a24405edf2cf"
      },
      "source": [
        "plt.scatter(x_train, y_train)\n",
        "plt.plot(x_train, regr.predict(x_train), 'r')"
      ],
      "execution_count": null,
      "outputs": [
        {
          "output_type": "execute_result",
          "data": {
            "text/plain": [
              "[<matplotlib.lines.Line2D at 0x7f36f0cb4eb8>]"
            ]
          },
          "metadata": {
            "tags": []
          },
          "execution_count": 5
        },
        {
          "output_type": "display_data",
          "data": {
            "image/png": "[encoded data removed]",
            "text/plain": [
              "<Figure size 432x288 with 1 Axes>"
            ]
          },
          "metadata": {
            "tags": []
          }
        }
      ]
    },
    {
      "cell_type": "markdown",
      "metadata": {
        "id": "I2XlRxRH9OaG"
      },
      "source": [
        "跟上面一樣的做法，只是這次對象換成「測試資料」"
      ]
    },
    {
      "cell_type": "code",
      "metadata": {
        "id": "ozhmXcRN9IYW",
        "colab": {
          "base_uri": "https://localhost:8080/",
          "height": 282
        },
        "outputId": "7306c2ac-1e8c-4d11-8b03-2f202385ce41"
      },
      "source": [
        "plt.scatter(x_test, y_test)\n",
        "plt.plot(x_test, regr.predict(x_test), 'r')"
      ],
      "execution_count": null,
      "outputs": [
        {
          "output_type": "execute_result",
          "data": {
            "text/plain": [
              "[<matplotlib.lines.Line2D at 0x7f36f05719e8>]"
            ]
          },
          "metadata": {
            "tags": []
          },
          "execution_count": 6
        },
        {
          "output_type": "display_data",
          "data": {
            "image/png": "[encoded data removed]",
            "text/plain": [
              "<Figure size 432x288 with 1 Axes>"
            ]
          },
          "metadata": {
            "tags": []
          }
        }
      ]
    },
    {
      "cell_type": "code",
      "metadata": {
        "id": "g6KPEh_D9Pak"
      },
      "source": [],
      "execution_count": null,
      "outputs": []
    }
  ]
}